{
 "cells": [
  {
   "cell_type": "markdown",
   "metadata": {
    "id": "FEGV_1XrhMpG"
   },
   "source": [
    "# Aula 3 - listas e loop for\n",
    "\n",
    "Na aula de hoje, vamos explorar os seguintes tópicos em Python:\n",
    "\n",
    "- 1) Listas\n",
    "- 2) Funções de listas\n",
    "- 3) Laços de repetição (for)\n",
    "    - 3.1) Compreensão de listas\n",
    "\n",
    "_____________\n",
    "\n",
    "### Problema gerador: calcular a média de um aluno, a partir das notas informadas por ele.\n",
    "\n",
    "O aluno deve informar a quantidade de notas, depois informar as notas uma a uma, e então a média é calculada e exibida."
   ]
  },
  {
   "cell_type": "markdown",
   "metadata": {
    "id": "2BvgJhMchMpJ"
   },
   "source": [
    "____\n",
    "____\n",
    "____"
   ]
  },
  {
   "cell_type": "markdown",
   "metadata": {
    "id": "ltW1R3JthMpL"
   },
   "source": [
    "## 1) Listas\n",
    "\n",
    "Imagine que você quer armazenar várias variáveis relacionadas, como, por exemplo, todas suas notas em provas.\n",
    "\n",
    "Se houver muitas notas, não é muito prático criar uma variável para cada uma. Seria muito mais conveniente armazenar todas as notas em uma **lista**, não é mesmo? \n",
    "\n",
    "Em python, temos uma estrutura de dados que é exatamente isso: uma lista! Listas são indicadas por colchete `[]`.\n",
    "\n",
    "Uma lista nada mais é que um **conjunto de objetos**, que podem ser de diversos tipos:"
   ]
  },
  {
   "cell_type": "markdown",
   "metadata": {
    "id": "1IGjZ6XLhMpM"
   },
   "source": [
    "Lista de números (int e float)"
   ]
  },
  {
   "cell_type": "code",
   "execution_count": 2,
   "metadata": {
    "executionInfo": {
     "elapsed": 3,
     "status": "ok",
     "timestamp": 1673536402398,
     "user": {
      "displayName": "Andre Juan",
      "userId": "08529802346316693602"
     },
     "user_tz": 180
    },
    "id": "Qmypn4Lqif2G"
   },
   "outputs": [],
   "source": [
    "lista_numeros = [2, 5, 4.2, -6]"
   ]
  },
  {
   "cell_type": "code",
   "execution_count": 3,
   "metadata": {
    "colab": {
     "base_uri": "https://localhost:8080/"
    },
    "executionInfo": {
     "elapsed": 4,
     "status": "ok",
     "timestamp": 1673536417480,
     "user": {
      "displayName": "Andre Juan",
      "userId": "08529802346316693602"
     },
     "user_tz": 180
    },
    "id": "zdwg1CFmixHt",
    "outputId": "650f7d8f-8020-47ed-d7d1-d88fd1df17c4"
   },
   "outputs": [
    {
     "name": "stdout",
     "output_type": "stream",
     "text": [
      "[2, 5, 4.2, -6]\n"
     ]
    }
   ],
   "source": [
    "print(lista_numeros)"
   ]
  },
  {
   "cell_type": "code",
   "execution_count": 4,
   "metadata": {
    "colab": {
     "base_uri": "https://localhost:8080/"
    },
    "executionInfo": {
     "elapsed": 11,
     "status": "ok",
     "timestamp": 1673536423942,
     "user": {
      "displayName": "Andre Juan",
      "userId": "08529802346316693602"
     },
     "user_tz": 180
    },
    "id": "AlanpYudizUa",
    "outputId": "effe6598-7d72-4951-da1d-f68c27efd68c"
   },
   "outputs": [
    {
     "data": {
      "text/plain": [
       "[2, 5, 4.2, -6]"
      ]
     },
     "execution_count": 4,
     "metadata": {},
     "output_type": "execute_result"
    }
   ],
   "source": [
    "lista_numeros"
   ]
  },
  {
   "cell_type": "code",
   "execution_count": 5,
   "metadata": {
    "colab": {
     "base_uri": "https://localhost:8080/"
    },
    "executionInfo": {
     "elapsed": 238,
     "status": "ok",
     "timestamp": 1673536435781,
     "user": {
      "displayName": "Andre Juan",
      "userId": "08529802346316693602"
     },
     "user_tz": 180
    },
    "id": "31KK4eoVi01b",
    "outputId": "ce260412-543b-4c4b-e30d-7db21aecc5fb"
   },
   "outputs": [
    {
     "data": {
      "text/plain": [
       "list"
      ]
     },
     "execution_count": 5,
     "metadata": {},
     "output_type": "execute_result"
    }
   ],
   "source": [
    "type(lista_numeros)"
   ]
  },
  {
   "cell_type": "markdown",
   "metadata": {
    "id": "KAYHgzwqhMpP"
   },
   "source": [
    "Lista de strings"
   ]
  },
  {
   "cell_type": "code",
   "execution_count": 6,
   "metadata": {
    "colab": {
     "base_uri": "https://localhost:8080/"
    },
    "executionInfo": {
     "elapsed": 451,
     "status": "ok",
     "timestamp": 1673536496865,
     "user": {
      "displayName": "Andre Juan",
      "userId": "08529802346316693602"
     },
     "user_tz": 180
    },
    "id": "VHVUYhtXhMpQ",
    "outputId": "1e51c88f-17f3-4702-e502-f6fd3a67bfae"
   },
   "outputs": [
    {
     "data": {
      "text/plain": [
       "['andré', 'ada', 'python']"
      ]
     },
     "execution_count": 6,
     "metadata": {},
     "output_type": "execute_result"
    }
   ],
   "source": [
    "[\"andré\", \"ada\", \"python\"]"
   ]
  },
  {
   "cell_type": "markdown",
   "metadata": {
    "id": "PF0m4taghMpQ"
   },
   "source": [
    "Lista de números e strings"
   ]
  },
  {
   "cell_type": "code",
   "execution_count": 7,
   "metadata": {
    "colab": {
     "base_uri": "https://localhost:8080/"
    },
    "executionInfo": {
     "elapsed": 5,
     "status": "ok",
     "timestamp": 1673536507921,
     "user": {
      "displayName": "Andre Juan",
      "userId": "08529802346316693602"
     },
     "user_tz": 180
    },
    "id": "zz-dmSzzhMpR",
    "outputId": "0c1024cc-e81e-4704-9540-a24316ee1066"
   },
   "outputs": [
    {
     "data": {
      "text/plain": [
       "['ada', 10, -4.5]"
      ]
     },
     "execution_count": 7,
     "metadata": {},
     "output_type": "execute_result"
    }
   ],
   "source": [
    "[\"ada\", 10, -4.5]"
   ]
  },
  {
   "cell_type": "markdown",
   "metadata": {
    "id": "NuqCSmm1hMpS"
   },
   "source": [
    "Lista de listas"
   ]
  },
  {
   "cell_type": "code",
   "execution_count": 8,
   "metadata": {
    "colab": {
     "base_uri": "https://localhost:8080/"
    },
    "executionInfo": {
     "elapsed": 257,
     "status": "ok",
     "timestamp": 1673536531663,
     "user": {
      "displayName": "Andre Juan",
      "userId": "08529802346316693602"
     },
     "user_tz": 180
    },
    "id": "rHEPpLN-hMpT",
    "outputId": "e6e5cde2-8847-4130-e6e5-8c5afc9e0db5"
   },
   "outputs": [
    {
     "data": {
      "text/plain": [
       "[10, ['ada', 'python'], True]"
      ]
     },
     "execution_count": 8,
     "metadata": {},
     "output_type": "execute_result"
    }
   ],
   "source": [
    "[10, [\"ada\", \"python\"], True]"
   ]
  },
  {
   "cell_type": "markdown",
   "metadata": {
    "id": "xCRjOFTzhMpT"
   },
   "source": [
    "Tudo junto"
   ]
  },
  {
   "cell_type": "code",
   "execution_count": 9,
   "metadata": {
    "colab": {
     "base_uri": "https://localhost:8080/"
    },
    "executionInfo": {
     "elapsed": 267,
     "status": "ok",
     "timestamp": 1673536593049,
     "user": {
      "displayName": "Andre Juan",
      "userId": "08529802346316693602"
     },
     "user_tz": 180
    },
    "id": "IF2HrBUThMpU",
    "outputId": "03305160-ce35-4171-aaed-aa47b0ba70e5"
   },
   "outputs": [
    {
     "data": {
      "text/plain": [
       "[10, ['ada', 'python'], True, 4.2, ['abc', 4.2, 42, False]]"
      ]
     },
     "execution_count": 9,
     "metadata": {},
     "output_type": "execute_result"
    }
   ],
   "source": [
    "[10, [\"ada\", \"python\"], True, 4.2, [\"abc\", 4.2, 42, False]]"
   ]
  },
  {
   "cell_type": "markdown",
   "metadata": {
    "id": "5GWHU9TuhMpU"
   },
   "source": [
    "Muitas vezes, queremos **acessar elementos individuais** da lista. \n",
    "\n",
    "Para fazer isso, devemos indicar qual é o **índice** respectivo ao elemento, isto é, qual é a **posição** do elemento dentro da lista. \n",
    "\n",
    "> Por isso, este procedimento é conhecido como **indexação**."
   ]
  },
  {
   "cell_type": "code",
   "execution_count": 2,
   "metadata": {
    "executionInfo": {
     "elapsed": 542,
     "status": "ok",
     "timestamp": 1673536629764,
     "user": {
      "displayName": "Andre Juan",
      "userId": "08529802346316693602"
     },
     "user_tz": 180
    },
    "id": "OiAvXfQ6jize"
   },
   "outputs": [],
   "source": [
    "minha_lista = [\"a\", \"b\", \"c\"]"
   ]
  },
  {
   "cell_type": "markdown",
   "metadata": {
    "id": "dvW387i3hMpU"
   },
   "source": [
    "Para acessar o elemento na **posição i** da lista \"minha_lista\", fazemos:\n",
    "\n",
    "```python\n",
    "minha_lista[i]\n",
    "```"
   ]
  },
  {
   "cell_type": "markdown",
   "metadata": {
    "id": "s0J4K8h_hMpU"
   },
   "source": [
    "**MUITO IMPORTANTE: a numeração de índice começa em zero!**\n",
    "\n",
    "Ou seja:\n",
    "\n",
    "- O primeiro elemento tem índice 0: ```minha_lista[0]```,\n",
    "- O segundo tem índice 1: ```minha_lista[1]```,\n",
    "\n",
    "E assim por diante!"
   ]
  },
  {
   "cell_type": "markdown",
   "metadata": {
    "id": "OXdibf9shMpW"
   },
   "source": [
    "Também podemos acessar os últimos elementos, usando índices negativos:\n",
    "\n",
    "- O último elemento tem índice -1: ```minha_lista[-1]```,\n",
    "- O penúltimo tem índice -2: ```minha_lista[-2]```,\n",
    "\n",
    "E assim por diante!"
   ]
  },
  {
   "cell_type": "code",
   "execution_count": 12,
   "metadata": {
    "colab": {
     "base_uri": "https://localhost:8080/"
    },
    "executionInfo": {
     "elapsed": 12,
     "status": "ok",
     "timestamp": 1673536764729,
     "user": {
      "displayName": "Andre Juan",
      "userId": "08529802346316693602"
     },
     "user_tz": 180
    },
    "id": "n-P2jbhbkGVS",
    "outputId": "8e2cfec8-790c-47b9-e40a-c78c7199e88b"
   },
   "outputs": [
    {
     "data": {
      "text/plain": [
       "['a', 'b', 'c']"
      ]
     },
     "execution_count": 12,
     "metadata": {},
     "output_type": "execute_result"
    }
   ],
   "source": [
    "minha_lista"
   ]
  },
  {
   "cell_type": "code",
   "execution_count": 11,
   "metadata": {
    "colab": {
     "base_uri": "https://localhost:8080/",
     "height": 35
    },
    "executionInfo": {
     "elapsed": 280,
     "status": "ok",
     "timestamp": 1673536757925,
     "user": {
      "displayName": "Andre Juan",
      "userId": "08529802346316693602"
     },
     "user_tz": 180
    },
    "id": "yNKqmr-vhMpW",
    "outputId": "5ce33c2f-3edf-4a9d-ed31-3bacbb5e4d81"
   },
   "outputs": [
    {
     "data": {
      "application/vnd.google.colaboratory.intrinsic+json": {
       "type": "string"
      },
      "text/plain": [
       "'a'"
      ]
     },
     "execution_count": 11,
     "metadata": {},
     "output_type": "execute_result"
    }
   ],
   "source": [
    "minha_lista[0]"
   ]
  },
  {
   "cell_type": "code",
   "execution_count": 13,
   "metadata": {
    "colab": {
     "base_uri": "https://localhost:8080/",
     "height": 35
    },
    "executionInfo": {
     "elapsed": 20,
     "status": "ok",
     "timestamp": 1673536783054,
     "user": {
      "displayName": "Andre Juan",
      "userId": "08529802346316693602"
     },
     "user_tz": 180
    },
    "id": "UnknGwTEkJ6j",
    "outputId": "38fcf189-2bc8-40c5-853e-09cc3b174fe5"
   },
   "outputs": [
    {
     "data": {
      "application/vnd.google.colaboratory.intrinsic+json": {
       "type": "string"
      },
      "text/plain": [
       "'c'"
      ]
     },
     "execution_count": 13,
     "metadata": {},
     "output_type": "execute_result"
    }
   ],
   "source": [
    "minha_lista[2]"
   ]
  },
  {
   "cell_type": "code",
   "execution_count": 17,
   "metadata": {
    "colab": {
     "base_uri": "https://localhost:8080/",
     "height": 35
    },
    "executionInfo": {
     "elapsed": 7,
     "status": "ok",
     "timestamp": 1673536862077,
     "user": {
      "displayName": "Andre Juan",
      "userId": "08529802346316693602"
     },
     "user_tz": 180
    },
    "id": "yunaGU3ukTyr",
    "outputId": "27eab8eb-331d-433e-e623-36eeb0ffc1cf"
   },
   "outputs": [
    {
     "data": {
      "application/vnd.google.colaboratory.intrinsic+json": {
       "type": "string"
      },
      "text/plain": [
       "'a'"
      ]
     },
     "execution_count": 17,
     "metadata": {},
     "output_type": "execute_result"
    }
   ],
   "source": [
    "minha_lista[-3]"
   ]
  },
  {
   "cell_type": "markdown",
   "metadata": {
    "id": "kteGl3tXhMpW"
   },
   "source": [
    "Também podemos **acessar pedaços da lista**, indicando o intervalo de índices que queremos, separados por \":\",  **com intervalo superior aberto**:\n",
    "\n",
    "- ```minha_lista[1:3]```: seleciona os elementos de indice 1 até indice 2\n",
    "- ```minha_lista[:4]```: seleciona do primeiro elemento até o de índice 3\n",
    "- ```minha_lista[3:]```: seleciona do elemento de índice 3 até o final\n",
    "- ```minha_lista[:]```: seleciona a lista inteira\n",
    "\n",
    "Este conceito é chamado de \"slicing\" em Python, pois você está pegando \"fatias\" da lista!"
   ]
  },
  {
   "cell_type": "code",
   "execution_count": 6,
   "metadata": {
    "executionInfo": {
     "elapsed": 7,
     "status": "ok",
     "timestamp": 1673536914726,
     "user": {
      "displayName": "Andre Juan",
      "userId": "08529802346316693602"
     },
     "user_tz": 180
    },
    "id": "1Fd9WPnHhMpX"
   },
   "outputs": [],
   "source": [
    "minha_lista = [\"a\", \"b\", \"c\", 42, 5, 7, [True, \"Ada\"], 3.14]"
   ]
  },
  {
   "cell_type": "code",
   "execution_count": 19,
   "metadata": {
    "colab": {
     "base_uri": "https://localhost:8080/"
    },
    "executionInfo": {
     "elapsed": 6,
     "status": "ok",
     "timestamp": 1673536927987,
     "user": {
      "displayName": "Andre Juan",
      "userId": "08529802346316693602"
     },
     "user_tz": 180
    },
    "id": "jriHdCoGksvz",
    "outputId": "9777c5d8-0606-4f71-cea6-9faca1a723e4"
   },
   "outputs": [
    {
     "data": {
      "text/plain": [
       "42"
      ]
     },
     "execution_count": 19,
     "metadata": {},
     "output_type": "execute_result"
    }
   ],
   "source": [
    "minha_lista[3]"
   ]
  },
  {
   "cell_type": "code",
   "execution_count": 20,
   "metadata": {
    "colab": {
     "base_uri": "https://localhost:8080/"
    },
    "executionInfo": {
     "elapsed": 259,
     "status": "ok",
     "timestamp": 1673536991212,
     "user": {
      "displayName": "Andre Juan",
      "userId": "08529802346316693602"
     },
     "user_tz": 180
    },
    "id": "vNAlerqKkzG0",
    "outputId": "b0aae53a-cdd8-4cbb-e446-34e53f22b3fa"
   },
   "outputs": [
    {
     "data": {
      "text/plain": [
       "['b', 'c', 42]"
      ]
     },
     "execution_count": 20,
     "metadata": {},
     "output_type": "execute_result"
    }
   ],
   "source": [
    "minha_lista[1:4]"
   ]
  },
  {
   "cell_type": "code",
   "execution_count": 22,
   "metadata": {
    "colab": {
     "base_uri": "https://localhost:8080/"
    },
    "executionInfo": {
     "elapsed": 10,
     "status": "ok",
     "timestamp": 1673537089677,
     "user": {
      "displayName": "Andre Juan",
      "userId": "08529802346316693602"
     },
     "user_tz": 180
    },
    "id": "eQvqBixxlD4E",
    "outputId": "ccb08bfe-2f08-47f1-ca34-657a1f619b32"
   },
   "outputs": [
    {
     "data": {
      "text/plain": [
       "['a', 'b', 'c', 42]"
      ]
     },
     "execution_count": 22,
     "metadata": {},
     "output_type": "execute_result"
    }
   ],
   "source": [
    "minha_lista[0:4]"
   ]
  },
  {
   "cell_type": "code",
   "execution_count": 23,
   "metadata": {
    "colab": {
     "base_uri": "https://localhost:8080/"
    },
    "executionInfo": {
     "elapsed": 11,
     "status": "ok",
     "timestamp": 1673537109314,
     "user": {
      "displayName": "Andre Juan",
      "userId": "08529802346316693602"
     },
     "user_tz": 180
    },
    "id": "JB5ms1KClaye",
    "outputId": "48d692c7-5c7d-401d-8c3d-d266945db2a7"
   },
   "outputs": [
    {
     "data": {
      "text/plain": [
       "['a', 'b', 'c', 42]"
      ]
     },
     "execution_count": 23,
     "metadata": {},
     "output_type": "execute_result"
    }
   ],
   "source": [
    "minha_lista[:4]"
   ]
  },
  {
   "cell_type": "code",
   "execution_count": 24,
   "metadata": {
    "colab": {
     "base_uri": "https://localhost:8080/"
    },
    "executionInfo": {
     "elapsed": 256,
     "status": "ok",
     "timestamp": 1673537136561,
     "user": {
      "displayName": "Andre Juan",
      "userId": "08529802346316693602"
     },
     "user_tz": 180
    },
    "id": "7j1AYb0clcy1",
    "outputId": "c1966946-a10d-45cb-936e-d307da0883c4"
   },
   "outputs": [
    {
     "data": {
      "text/plain": [
       "[5, 7, [True, 'Ada'], 3.14]"
      ]
     },
     "execution_count": 24,
     "metadata": {},
     "output_type": "execute_result"
    }
   ],
   "source": [
    "minha_lista[4:]"
   ]
  },
  {
   "cell_type": "code",
   "execution_count": 8,
   "metadata": {
    "colab": {
     "base_uri": "https://localhost:8080/"
    },
    "executionInfo": {
     "elapsed": 9,
     "status": "ok",
     "timestamp": 1673537196008,
     "user": {
      "displayName": "Andre Juan",
      "userId": "08529802346316693602"
     },
     "user_tz": 180
    },
    "id": "Pp2PC5Vklwhg",
    "outputId": "aad7101f-0baa-4e63-8a5f-8e54c55f60eb"
   },
   "outputs": [
    {
     "data": {
      "text/plain": [
       "['a', 'b', 'c', 42, 5, 7, [True, 'Ada'], 3.14]"
      ]
     },
     "execution_count": 8,
     "metadata": {},
     "output_type": "execute_result"
    }
   ],
   "source": [
    "minha_lista"
   ]
  },
  {
   "cell_type": "code",
   "execution_count": 7,
   "metadata": {
    "colab": {
     "base_uri": "https://localhost:8080/",
     "height": 35
    },
    "executionInfo": {
     "elapsed": 489,
     "status": "ok",
     "timestamp": 1673537254642,
     "user": {
      "displayName": "Andre Juan",
      "userId": "08529802346316693602"
     },
     "user_tz": 180
    },
    "id": "ZHqxfTtKlq5L",
    "outputId": "4b6d00d0-c3cc-4ba1-9a23-d7d640f66383"
   },
   "outputs": [
    {
     "data": {
      "text/plain": [
       "'Ada'"
      ]
     },
     "execution_count": 7,
     "metadata": {},
     "output_type": "execute_result"
    }
   ],
   "source": [
    "minha_lista[-2][1]"
   ]
  },
  {
   "cell_type": "markdown",
   "metadata": {},
   "source": [
    "Ou podemos fazer dessa maneira abaixo"
   ]
  },
  {
   "cell_type": "code",
   "execution_count": 9,
   "metadata": {},
   "outputs": [
    {
     "data": {
      "text/plain": [
       "'Ada'"
      ]
     },
     "execution_count": 9,
     "metadata": {},
     "output_type": "execute_result"
    }
   ],
   "source": [
    "(minha_lista[-2])[1]"
   ]
  },
  {
   "cell_type": "markdown",
   "metadata": {
    "id": "VM1JM1PmhMpX"
   },
   "source": [
    "Podemos também fazer algumas **operações com listas**"
   ]
  },
  {
   "cell_type": "markdown",
   "metadata": {
    "id": "5CDgtEOihMpY"
   },
   "source": [
    "Soma de listas: ao **somar listas**, os elementos são **concatenados**, na ordem dada, para formar uma lista maior:"
   ]
  },
  {
   "cell_type": "code",
   "execution_count": 33,
   "metadata": {
    "colab": {
     "base_uri": "https://localhost:8080/"
    },
    "executionInfo": {
     "elapsed": 292,
     "status": "ok",
     "timestamp": 1673544643367,
     "user": {
      "displayName": "Andre Juan",
      "userId": "08529802346316693602"
     },
     "user_tz": 180
    },
    "id": "5659Lym6hMpY",
    "outputId": "ad4f9ce4-de61-47b2-bd85-5ea809d27bcd"
   },
   "outputs": [
    {
     "data": {
      "text/plain": [
       "[1, 2, 3, '4', 5, '6']"
      ]
     },
     "execution_count": 33,
     "metadata": {},
     "output_type": "execute_result"
    }
   ],
   "source": [
    "l1 = [1, 2, 3]\n",
    "l2 = [\"4\", 5, \"6\"]\n",
    "\n",
    "l3 = l1 + l2\n",
    "\n",
    "l3"
   ]
  },
  {
   "cell_type": "markdown",
   "metadata": {
    "id": "x7cHaUw-hMpY"
   },
   "source": [
    "Ao **multiplicar listas por um inteiro**, os elementos são repetidos, na ordem que aparecem:"
   ]
  },
  {
   "cell_type": "code",
   "execution_count": 35,
   "metadata": {
    "colab": {
     "base_uri": "https://localhost:8080/"
    },
    "executionInfo": {
     "elapsed": 272,
     "status": "ok",
     "timestamp": 1673544675444,
     "user": {
      "displayName": "Andre Juan",
      "userId": "08529802346316693602"
     },
     "user_tz": 180
    },
    "id": "qBZcSHvRhMpZ",
    "outputId": "6d8a98a9-e576-4ea3-fb02-c23bddb21ef7"
   },
   "outputs": [
    {
     "data": {
      "text/plain": [
       "[1, 2, 3, 1, 2, 3, 1, 2, 3, 1, 2, 3]"
      ]
     },
     "execution_count": 35,
     "metadata": {},
     "output_type": "execute_result"
    }
   ],
   "source": [
    "l1*4"
   ]
  },
  {
   "cell_type": "code",
   "execution_count": 36,
   "metadata": {
    "colab": {
     "base_uri": "https://localhost:8080/"
    },
    "executionInfo": {
     "elapsed": 246,
     "status": "ok",
     "timestamp": 1673544699045,
     "user": {
      "displayName": "Andre Juan",
      "userId": "08529802346316693602"
     },
     "user_tz": 180
    },
    "id": "MSOcZm65CVfP",
    "outputId": "93e81cce-81a0-443d-974b-e1fb2f4d9a03"
   },
   "outputs": [
    {
     "data": {
      "text/plain": [
       "['ada', 'ada', 'ada', 'ada', 'ada']"
      ]
     },
     "execution_count": 36,
     "metadata": {},
     "output_type": "execute_result"
    }
   ],
   "source": [
    "[\"ada\"]*5"
   ]
  },
  {
   "cell_type": "markdown",
   "metadata": {
    "id": "z2pZr2BbhMpZ"
   },
   "source": [
    "Se quisermos somar os elementos de duas listas, ou multiplicá-los por algum número, temos que usar um **laço**, como veremos logo mais!"
   ]
  },
  {
   "cell_type": "markdown",
   "metadata": {
    "id": "yFnYJal-hMpZ"
   },
   "source": [
    "É possível transformar strings em uma **lista de caracteres**:"
   ]
  },
  {
   "cell_type": "code",
   "execution_count": 37,
   "metadata": {
    "colab": {
     "base_uri": "https://localhost:8080/"
    },
    "executionInfo": {
     "elapsed": 253,
     "status": "ok",
     "timestamp": 1673544773395,
     "user": {
      "displayName": "Andre Juan",
      "userId": "08529802346316693602"
     },
     "user_tz": 180
    },
    "id": "dUS-wdnDhMpa",
    "outputId": "3e11822f-9b25-4671-ebbf-2ccce731033d"
   },
   "outputs": [
    {
     "data": {
      "text/plain": [
       "['A', 'n', 'd', 'r', 'é']"
      ]
     },
     "execution_count": 37,
     "metadata": {},
     "output_type": "execute_result"
    }
   ],
   "source": [
    "list(\"André\")"
   ]
  },
  {
   "cell_type": "markdown",
   "metadata": {
    "id": "CTkdwUf5hMpa"
   },
   "source": [
    "__________\n",
    "__________\n",
    "__________"
   ]
  },
  {
   "cell_type": "markdown",
   "metadata": {
    "id": "TjiEUkaIhMpb"
   },
   "source": [
    "## 2) Funções de listas"
   ]
  },
  {
   "cell_type": "markdown",
   "metadata": {
    "id": "Yfu1ZiCJhMpb"
   },
   "source": [
    "Podemos começar com uma lista vazia, e preenchê-la aos poucos.\n",
    "\n",
    "Para **criar uma lista vazia**, fazemos:"
   ]
  },
  {
   "cell_type": "code",
   "execution_count": 11,
   "metadata": {
    "colab": {
     "base_uri": "https://localhost:8080/"
    },
    "executionInfo": {
     "elapsed": 299,
     "status": "ok",
     "timestamp": 1673544904414,
     "user": {
      "displayName": "Andre Juan",
      "userId": "08529802346316693602"
     },
     "user_tz": 180
    },
    "id": "gkWzEBfnhMpb",
    "outputId": "101a2785-0d77-4e77-ea74-c8bcab62a791"
   },
   "outputs": [
    {
     "data": {
      "text/plain": [
       "[]"
      ]
     },
     "execution_count": 11,
     "metadata": {},
     "output_type": "execute_result"
    }
   ],
   "source": [
    "lista = []\n",
    "\n",
    "lista"
   ]
  },
  {
   "cell_type": "markdown",
   "metadata": {
    "id": "7KIqujAXhMpc"
   },
   "source": [
    "Para adicionar um elemento **ao fim da lista**, usamos a função \"append()\".\n",
    "\n",
    "**OBS.: só podemos apendar um único elemento por vez!**"
   ]
  },
  {
   "cell_type": "code",
   "execution_count": 39,
   "metadata": {
    "executionInfo": {
     "elapsed": 251,
     "status": "ok",
     "timestamp": 1673544921192,
     "user": {
      "displayName": "Andre Juan",
      "userId": "08529802346316693602"
     },
     "user_tz": 180
    },
    "id": "AdOsZ4_EhMpc"
   },
   "outputs": [],
   "source": [
    "lista.append(5)"
   ]
  },
  {
   "cell_type": "code",
   "execution_count": 40,
   "metadata": {
    "colab": {
     "base_uri": "https://localhost:8080/"
    },
    "executionInfo": {
     "elapsed": 263,
     "status": "ok",
     "timestamp": 1673544924997,
     "user": {
      "displayName": "Andre Juan",
      "userId": "08529802346316693602"
     },
     "user_tz": 180
    },
    "id": "4SpdnmATDPVr",
    "outputId": "fd31024d-8a38-4319-ad76-6f0fce8c7241"
   },
   "outputs": [
    {
     "data": {
      "text/plain": [
       "[5]"
      ]
     },
     "execution_count": 40,
     "metadata": {},
     "output_type": "execute_result"
    }
   ],
   "source": [
    "lista"
   ]
  },
  {
   "cell_type": "code",
   "execution_count": 41,
   "metadata": {
    "colab": {
     "base_uri": "https://localhost:8080/"
    },
    "executionInfo": {
     "elapsed": 253,
     "status": "ok",
     "timestamp": 1673545014664,
     "user": {
      "displayName": "Andre Juan",
      "userId": "08529802346316693602"
     },
     "user_tz": 180
    },
    "id": "vBZZhhYxDigR",
    "outputId": "8b26dbe7-34b7-453c-f4e7-9d7f73adf13c"
   },
   "outputs": [
    {
     "data": {
      "text/plain": [
       "[5, 10, 'ada']"
      ]
     },
     "execution_count": 41,
     "metadata": {},
     "output_type": "execute_result"
    }
   ],
   "source": [
    "lista.append(10)\n",
    "lista.append(\"ada\")\n",
    "\n",
    "lista"
   ]
  },
  {
   "cell_type": "code",
   "execution_count": 43,
   "metadata": {
    "executionInfo": {
     "elapsed": 249,
     "status": "ok",
     "timestamp": 1673545045971,
     "user": {
      "displayName": "Andre Juan",
      "userId": "08529802346316693602"
     },
     "user_tz": 180
    },
    "id": "9YpAAWNkDohx"
   },
   "outputs": [],
   "source": [
    "lista.append(2)"
   ]
  },
  {
   "cell_type": "code",
   "execution_count": 44,
   "metadata": {
    "colab": {
     "base_uri": "https://localhost:8080/"
    },
    "executionInfo": {
     "elapsed": 267,
     "status": "ok",
     "timestamp": 1673545052459,
     "user": {
      "displayName": "Andre Juan",
      "userId": "08529802346316693602"
     },
     "user_tz": 180
    },
    "id": "WYPX5AHMDuRO",
    "outputId": "ef42cced-b4c6-4fef-d182-73d27a8480e3"
   },
   "outputs": [
    {
     "data": {
      "text/plain": [
       "[5, 10, 'ada', 2]"
      ]
     },
     "execution_count": 44,
     "metadata": {},
     "output_type": "execute_result"
    }
   ],
   "source": [
    "lista"
   ]
  },
  {
   "cell_type": "markdown",
   "metadata": {
    "id": "E8Lk_ZqWhMpc"
   },
   "source": [
    "Se você quiser adicionar um elemento numa **posição específica**, use a função \"insert()\", onde o primeiro argumento é a posição, e o segundo é o elemento:\n",
    "\n",
    "**OBS.: só podemos inserir um único elemento por vez!**"
   ]
  },
  {
   "cell_type": "code",
   "execution_count": 45,
   "metadata": {
    "executionInfo": {
     "elapsed": 265,
     "status": "ok",
     "timestamp": 1673545115577,
     "user": {
      "displayName": "Andre Juan",
      "userId": "08529802346316693602"
     },
     "user_tz": 180
    },
    "id": "JlZYXkexhMpd"
   },
   "outputs": [],
   "source": [
    "lista.insert(2, True)"
   ]
  },
  {
   "cell_type": "code",
   "execution_count": 47,
   "metadata": {
    "colab": {
     "base_uri": "https://localhost:8080/"
    },
    "executionInfo": {
     "elapsed": 263,
     "status": "ok",
     "timestamp": 1673545126105,
     "user": {
      "displayName": "Andre Juan",
      "userId": "08529802346316693602"
     },
     "user_tz": 180
    },
    "id": "9sSNGF53D_E7",
    "outputId": "84771655-1333-496b-ef31-ac3b00839923"
   },
   "outputs": [
    {
     "data": {
      "text/plain": [
       "[5, 10, True, 'ada', 2]"
      ]
     },
     "execution_count": 47,
     "metadata": {},
     "output_type": "execute_result"
    }
   ],
   "source": [
    "lista"
   ]
  },
  {
   "cell_type": "markdown",
   "metadata": {
    "id": "n95ZKKx_hMpd"
   },
   "source": [
    "Podemos, também, **redefinir um elemento da lista individualmente**. Para isso, basta selecionarmos este elemento, e redefiní-lo:"
   ]
  },
  {
   "cell_type": "code",
   "execution_count": 49,
   "metadata": {
    "executionInfo": {
     "elapsed": 261,
     "status": "ok",
     "timestamp": 1673545207822,
     "user": {
      "displayName": "Andre Juan",
      "userId": "08529802346316693602"
     },
     "user_tz": 180
    },
    "id": "jAWsirLzhMpd"
   },
   "outputs": [],
   "source": [
    "lista[3] = \"andré\""
   ]
  },
  {
   "cell_type": "code",
   "execution_count": 51,
   "metadata": {
    "colab": {
     "base_uri": "https://localhost:8080/"
    },
    "executionInfo": {
     "elapsed": 266,
     "status": "ok",
     "timestamp": 1673545213577,
     "user": {
      "displayName": "Andre Juan",
      "userId": "08529802346316693602"
     },
     "user_tz": 180
    },
    "id": "j0Tu4NQgELXe",
    "outputId": "58ef0fed-06ac-472c-d688-4e60d67ab752"
   },
   "outputs": [
    {
     "data": {
      "text/plain": [
       "[5, 10, True, 'andré', 2]"
      ]
     },
     "execution_count": 51,
     "metadata": {},
     "output_type": "execute_result"
    }
   ],
   "source": [
    "lista"
   ]
  },
  {
   "cell_type": "code",
   "execution_count": 55,
   "metadata": {
    "executionInfo": {
     "elapsed": 250,
     "status": "ok",
     "timestamp": 1673545263437,
     "user": {
      "displayName": "Andre Juan",
      "userId": "08529802346316693602"
     },
     "user_tz": 180
    },
    "id": "0ZG1Kee4EYpb"
   },
   "outputs": [],
   "source": [
    "lista[1] = lista[1] + 5"
   ]
  },
  {
   "cell_type": "code",
   "execution_count": 56,
   "metadata": {
    "colab": {
     "base_uri": "https://localhost:8080/"
    },
    "executionInfo": {
     "elapsed": 279,
     "status": "ok",
     "timestamp": 1673545264843,
     "user": {
      "displayName": "Andre Juan",
      "userId": "08529802346316693602"
     },
     "user_tz": 180
    },
    "id": "YOZjGwBXEc6B",
    "outputId": "582ee3f1-c0f6-414b-9324-d43a8bb5a401"
   },
   "outputs": [
    {
     "data": {
      "text/plain": [
       "[5, 15, True, 'andré', 2]"
      ]
     },
     "execution_count": 56,
     "metadata": {},
     "output_type": "execute_result"
    }
   ],
   "source": [
    "lista"
   ]
  },
  {
   "cell_type": "markdown",
   "metadata": {
    "id": "g8CeKLnKhMpe"
   },
   "source": [
    "Para **remover um elemento da lista**, use a função \"remove()\". \n",
    "\n",
    "**OBS.: Essa função remove apenas a primeira aparição do elemento**:"
   ]
  },
  {
   "cell_type": "code",
   "execution_count": 57,
   "metadata": {
    "executionInfo": {
     "elapsed": 268,
     "status": "ok",
     "timestamp": 1673545311334,
     "user": {
      "displayName": "Andre Juan",
      "userId": "08529802346316693602"
     },
     "user_tz": 180
    },
    "id": "WFIUROf5hMpe"
   },
   "outputs": [],
   "source": [
    "lista.remove(15)"
   ]
  },
  {
   "cell_type": "code",
   "execution_count": 58,
   "metadata": {
    "colab": {
     "base_uri": "https://localhost:8080/"
    },
    "executionInfo": {
     "elapsed": 284,
     "status": "ok",
     "timestamp": 1673545315791,
     "user": {
      "displayName": "Andre Juan",
      "userId": "08529802346316693602"
     },
     "user_tz": 180
    },
    "id": "O2W5NnRwEui0",
    "outputId": "d028bdd5-3dd9-4f66-f4ee-bbe9f2fd9dae"
   },
   "outputs": [
    {
     "data": {
      "text/plain": [
       "[5, True, 'andré', 2]"
      ]
     },
     "execution_count": 58,
     "metadata": {},
     "output_type": "execute_result"
    }
   ],
   "source": [
    "lista"
   ]
  },
  {
   "cell_type": "code",
   "execution_count": 59,
   "metadata": {
    "executionInfo": {
     "elapsed": 269,
     "status": "ok",
     "timestamp": 1673545334663,
     "user": {
      "displayName": "Andre Juan",
      "userId": "08529802346316693602"
     },
     "user_tz": 180
    },
    "id": "k9MYr2LhEwuu"
   },
   "outputs": [],
   "source": [
    "lista.append(15)\n",
    "lista.append(7)\n",
    "lista.append(15)"
   ]
  },
  {
   "cell_type": "code",
   "execution_count": 60,
   "metadata": {
    "colab": {
     "base_uri": "https://localhost:8080/"
    },
    "executionInfo": {
     "elapsed": 256,
     "status": "ok",
     "timestamp": 1673545339415,
     "user": {
      "displayName": "Andre Juan",
      "userId": "08529802346316693602"
     },
     "user_tz": 180
    },
    "id": "RxJ0pXobE0QE",
    "outputId": "9e5ba8a6-7699-4cdc-ff31-5b7f76d6d022"
   },
   "outputs": [
    {
     "data": {
      "text/plain": [
       "[5, True, 'andré', 2, 15, 7, 15]"
      ]
     },
     "execution_count": 60,
     "metadata": {},
     "output_type": "execute_result"
    }
   ],
   "source": [
    "lista"
   ]
  },
  {
   "cell_type": "code",
   "execution_count": 61,
   "metadata": {
    "executionInfo": {
     "elapsed": 240,
     "status": "ok",
     "timestamp": 1673545358397,
     "user": {
      "displayName": "Andre Juan",
      "userId": "08529802346316693602"
     },
     "user_tz": 180
    },
    "id": "93In__mVE20B"
   },
   "outputs": [],
   "source": [
    "lista.remove(15)"
   ]
  },
  {
   "cell_type": "code",
   "execution_count": 62,
   "metadata": {
    "colab": {
     "base_uri": "https://localhost:8080/"
    },
    "executionInfo": {
     "elapsed": 264,
     "status": "ok",
     "timestamp": 1673545362682,
     "user": {
      "displayName": "Andre Juan",
      "userId": "08529802346316693602"
     },
     "user_tz": 180
    },
    "id": "SvJRi_qyE6Am",
    "outputId": "c7541f35-9848-43e9-a065-3746557bab75"
   },
   "outputs": [
    {
     "data": {
      "text/plain": [
       "[5, True, 'andré', 2, 7, 15]"
      ]
     },
     "execution_count": 62,
     "metadata": {},
     "output_type": "execute_result"
    }
   ],
   "source": [
    "lista"
   ]
  },
  {
   "cell_type": "markdown",
   "metadata": {
    "id": "pJtmqUzChMpe"
   },
   "source": [
    "Se você quiser remover um elemento de determinado índice, use a função \"pop()\":"
   ]
  },
  {
   "cell_type": "code",
   "execution_count": 63,
   "metadata": {
    "colab": {
     "base_uri": "https://localhost:8080/",
     "height": 35
    },
    "executionInfo": {
     "elapsed": 289,
     "status": "ok",
     "timestamp": 1673545440918,
     "user": {
      "displayName": "Andre Juan",
      "userId": "08529802346316693602"
     },
     "user_tz": 180
    },
    "id": "2kW5L_JIhMpf",
    "outputId": "09680d7f-446d-4044-f385-ab13303ec3fa"
   },
   "outputs": [
    {
     "data": {
      "application/vnd.google.colaboratory.intrinsic+json": {
       "type": "string"
      },
      "text/plain": [
       "'andré'"
      ]
     },
     "execution_count": 63,
     "metadata": {},
     "output_type": "execute_result"
    }
   ],
   "source": [
    "lista.pop(2)"
   ]
  },
  {
   "cell_type": "code",
   "execution_count": 64,
   "metadata": {
    "colab": {
     "base_uri": "https://localhost:8080/"
    },
    "executionInfo": {
     "elapsed": 551,
     "status": "ok",
     "timestamp": 1673545448752,
     "user": {
      "displayName": "Andre Juan",
      "userId": "08529802346316693602"
     },
     "user_tz": 180
    },
    "id": "6hOET87zFObY",
    "outputId": "241cedf8-13f2-45c3-d48a-a261d57cff1a"
   },
   "outputs": [
    {
     "data": {
      "text/plain": [
       "[5, True, 2, 7, 15]"
      ]
     },
     "execution_count": 64,
     "metadata": {},
     "output_type": "execute_result"
    }
   ],
   "source": [
    "lista"
   ]
  },
  {
   "cell_type": "markdown",
   "metadata": {
    "id": "-Sv8zlNyhMpf"
   },
   "source": [
    "Muitas vezes é interessante **ordenar a lista**. Pra fazer isso, usamos a função \"sorted\".\n",
    "\n",
    "**OBS: essa função só funciona para listas com o mesmo tipo de dado!**"
   ]
  },
  {
   "cell_type": "code",
   "execution_count": 66,
   "metadata": {
    "executionInfo": {
     "elapsed": 332,
     "status": "ok",
     "timestamp": 1673545504688,
     "user": {
      "displayName": "Andre Juan",
      "userId": "08529802346316693602"
     },
     "user_tz": 180
    },
    "id": "hI6cQ1p-hMpf"
   },
   "outputs": [],
   "source": [
    "lista.append(4.2)\n",
    "lista.append(\"ada\")"
   ]
  },
  {
   "cell_type": "code",
   "execution_count": 12,
   "metadata": {
    "colab": {
     "base_uri": "https://localhost:8080/"
    },
    "executionInfo": {
     "elapsed": 399,
     "status": "ok",
     "timestamp": 1673545510172,
     "user": {
      "displayName": "Andre Juan",
      "userId": "08529802346316693602"
     },
     "user_tz": 180
    },
    "id": "oetTR6cXFd6v",
    "outputId": "aac565e9-af5f-4371-fe53-c0d63ef99c64"
   },
   "outputs": [
    {
     "data": {
      "text/plain": [
       "[]"
      ]
     },
     "execution_count": 12,
     "metadata": {},
     "output_type": "execute_result"
    }
   ],
   "source": [
    "lista"
   ]
  },
  {
   "cell_type": "code",
   "execution_count": 68,
   "metadata": {
    "colab": {
     "base_uri": "https://localhost:8080/",
     "height": 167
    },
    "executionInfo": {
     "elapsed": 259,
     "status": "error",
     "timestamp": 1673545567725,
     "user": {
      "displayName": "Andre Juan",
      "userId": "08529802346316693602"
     },
     "user_tz": 180
    },
    "id": "biyLzGo6Fqb6",
    "outputId": "f177f89c-6327-4bcf-ebdf-cb47661dc30b"
   },
   "outputs": [
    {
     "ename": "TypeError",
     "evalue": "ignored",
     "output_type": "error",
     "traceback": [
      "\u001b[0;31m---------------------------------------------------------------------------\u001b[0m",
      "\u001b[0;31mTypeError\u001b[0m                                 Traceback (most recent call last)",
      "\u001b[0;32m<ipython-input-68-06c3f264dc7a>\u001b[0m in \u001b[0;36m<module>\u001b[0;34m\u001b[0m\n\u001b[0;32m----> 1\u001b[0;31m \u001b[0msorted\u001b[0m\u001b[0;34m(\u001b[0m\u001b[0mlista\u001b[0m\u001b[0;34m)\u001b[0m\u001b[0;34m\u001b[0m\u001b[0;34m\u001b[0m\u001b[0m\n\u001b[0m",
      "\u001b[0;31mTypeError\u001b[0m: '<' not supported between instances of 'str' and 'int'"
     ]
    }
   ],
   "source": [
    "sorted(lista)"
   ]
  },
  {
   "cell_type": "code",
   "execution_count": 70,
   "metadata": {
    "colab": {
     "base_uri": "https://localhost:8080/"
    },
    "executionInfo": {
     "elapsed": 486,
     "status": "ok",
     "timestamp": 1673545667218,
     "user": {
      "displayName": "Andre Juan",
      "userId": "08529802346316693602"
     },
     "user_tz": 180
    },
    "id": "r-BJ5BcuF8Pz",
    "outputId": "a3e1fb10-d12b-4246-a604-1022885ffc55"
   },
   "outputs": [
    {
     "data": {
      "text/plain": [
       "[-6, 2, 3.14, 4.2, 8, 10]"
      ]
     },
     "execution_count": 70,
     "metadata": {},
     "output_type": "execute_result"
    }
   ],
   "source": [
    "lista_num = [10, 2, -6, 4.2, 8, 3.14]\n",
    "\n",
    "sorted(lista_num)"
   ]
  },
  {
   "cell_type": "code",
   "execution_count": 73,
   "metadata": {
    "colab": {
     "base_uri": "https://localhost:8080/"
    },
    "executionInfo": {
     "elapsed": 310,
     "status": "ok",
     "timestamp": 1673545736905,
     "user": {
      "displayName": "Andre Juan",
      "userId": "08529802346316693602"
     },
     "user_tz": 180
    },
    "id": "qEwrk7caGTIE",
    "outputId": "a9e20069-9ca8-49cc-8b91-8cbf25c2630f"
   },
   "outputs": [
    {
     "data": {
      "text/plain": [
       "True"
      ]
     },
     "execution_count": 73,
     "metadata": {},
     "output_type": "execute_result"
    }
   ],
   "source": [
    "'abacate' < \"biscoito\""
   ]
  },
  {
   "cell_type": "code",
   "execution_count": 75,
   "metadata": {
    "colab": {
     "base_uri": "https://localhost:8080/"
    },
    "executionInfo": {
     "elapsed": 253,
     "status": "ok",
     "timestamp": 1673545795063,
     "user": {
      "displayName": "Andre Juan",
      "userId": "08529802346316693602"
     },
     "user_tz": 180
    },
    "id": "CeijEQjhGIvj",
    "outputId": "b6b9ddf5-d49a-4300-bcce-79ede6e64900"
   },
   "outputs": [
    {
     "data": {
      "text/plain": [
       "['Urso', 'abacate', 'biscoito', 'camarão', 'dado', 'urso', 'zebra']"
      ]
     },
     "execution_count": 75,
     "metadata": {},
     "output_type": "execute_result"
    }
   ],
   "source": [
    "lista_str = [\"abacate\", \"zebra\", \"urso\", \"biscoito\", \"Urso\", \"dado\", \"camarão\"]\n",
    "\n",
    "sorted(lista_str)"
   ]
  },
  {
   "cell_type": "markdown",
   "metadata": {
    "id": "WBYvqIAXhMpf"
   },
   "source": [
    "Para **inverter a ordem dos elementos**, adicione ao final da lista [::-1]:"
   ]
  },
  {
   "cell_type": "code",
   "execution_count": 76,
   "metadata": {
    "colab": {
     "base_uri": "https://localhost:8080/"
    },
    "executionInfo": {
     "elapsed": 294,
     "status": "ok",
     "timestamp": 1673545854244,
     "user": {
      "displayName": "Andre Juan",
      "userId": "08529802346316693602"
     },
     "user_tz": 180
    },
    "id": "YRtAKxvohMpf",
    "outputId": "694244fa-2e11-4e8f-a4b4-9f0090a34849"
   },
   "outputs": [
    {
     "data": {
      "text/plain": [
       "[10, 2, -6, 4.2, 8, 3.14]"
      ]
     },
     "execution_count": 76,
     "metadata": {},
     "output_type": "execute_result"
    }
   ],
   "source": [
    "lista_num"
   ]
  },
  {
   "cell_type": "code",
   "execution_count": 78,
   "metadata": {
    "colab": {
     "base_uri": "https://localhost:8080/"
    },
    "executionInfo": {
     "elapsed": 249,
     "status": "ok",
     "timestamp": 1673545878604,
     "user": {
      "displayName": "Andre Juan",
      "userId": "08529802346316693602"
     },
     "user_tz": 180
    },
    "id": "3d6bwb1JG2BY",
    "outputId": "4fa3117d-3c9b-4c4a-f49b-93024de852ed"
   },
   "outputs": [
    {
     "data": {
      "text/plain": [
       "[3.14, 8, 4.2, -6, 2, 10]"
      ]
     },
     "execution_count": 78,
     "metadata": {},
     "output_type": "execute_result"
    }
   ],
   "source": [
    "lista_num[::-1]"
   ]
  },
  {
   "cell_type": "markdown",
   "metadata": {
    "id": "kYRY9cxPhMpf"
   },
   "source": [
    "Isso pode ser usado para ordenar uma lista na ordem inversa (maior pro menor):"
   ]
  },
  {
   "cell_type": "code",
   "execution_count": 77,
   "metadata": {
    "colab": {
     "base_uri": "https://localhost:8080/"
    },
    "executionInfo": {
     "elapsed": 285,
     "status": "ok",
     "timestamp": 1673545859462,
     "user": {
      "displayName": "Andre Juan",
      "userId": "08529802346316693602"
     },
     "user_tz": 180
    },
    "id": "ilqK1TxhGzku",
    "outputId": "7c3a3089-32bb-4a08-b5b9-0a8a7c3ac79a"
   },
   "outputs": [
    {
     "data": {
      "text/plain": [
       "[-6, 2, 3.14, 4.2, 8, 10]"
      ]
     },
     "execution_count": 77,
     "metadata": {},
     "output_type": "execute_result"
    }
   ],
   "source": [
    "sorted(lista_num)"
   ]
  },
  {
   "cell_type": "code",
   "execution_count": 79,
   "metadata": {
    "colab": {
     "base_uri": "https://localhost:8080/"
    },
    "executionInfo": {
     "elapsed": 280,
     "status": "ok",
     "timestamp": 1673545928204,
     "user": {
      "displayName": "Andre Juan",
      "userId": "08529802346316693602"
     },
     "user_tz": 180
    },
    "id": "yEDin0PmhMpg",
    "outputId": "4aed70b4-9201-49ea-f6ba-0462184948bf"
   },
   "outputs": [
    {
     "data": {
      "text/plain": [
       "[10, 8, 4.2, 3.14, 2, -6]"
      ]
     },
     "execution_count": 79,
     "metadata": {},
     "output_type": "execute_result"
    }
   ],
   "source": [
    "sorted(lista_num)[::-1]"
   ]
  },
  {
   "cell_type": "markdown",
   "metadata": {
    "id": "7n1GbO5ihMpg"
   },
   "source": [
    "Se quisermos saber **qual é a posição (índice) de determinado elemento**, usamos o método \".index()\".\n",
    "\n",
    "Este método retorna apenas a **primeira aparição** do elemento:"
   ]
  },
  {
   "cell_type": "code",
   "execution_count": 80,
   "metadata": {
    "colab": {
     "base_uri": "https://localhost:8080/"
    },
    "executionInfo": {
     "elapsed": 501,
     "status": "ok",
     "timestamp": 1673545970771,
     "user": {
      "displayName": "Andre Juan",
      "userId": "08529802346316693602"
     },
     "user_tz": 180
    },
    "id": "xG6LjVS-hMpg",
    "outputId": "c1f2055a-ce35-46bd-c9aa-a2826920cfb8"
   },
   "outputs": [
    {
     "data": {
      "text/plain": [
       "[10, 2, -6, 4.2, 8, 3.14]"
      ]
     },
     "execution_count": 80,
     "metadata": {},
     "output_type": "execute_result"
    }
   ],
   "source": [
    "lista_num"
   ]
  },
  {
   "cell_type": "code",
   "execution_count": 81,
   "metadata": {
    "colab": {
     "base_uri": "https://localhost:8080/"
    },
    "executionInfo": {
     "elapsed": 261,
     "status": "ok",
     "timestamp": 1673545999320,
     "user": {
      "displayName": "Andre Juan",
      "userId": "08529802346316693602"
     },
     "user_tz": 180
    },
    "id": "syq_HlUpHSqs",
    "outputId": "b2cd5adb-52e9-4bdc-f3e4-f0078466bc58"
   },
   "outputs": [
    {
     "data": {
      "text/plain": [
       "3"
      ]
     },
     "execution_count": 81,
     "metadata": {},
     "output_type": "execute_result"
    }
   ],
   "source": [
    "lista_num.index(4.2)"
   ]
  },
  {
   "cell_type": "code",
   "execution_count": 82,
   "metadata": {
    "executionInfo": {
     "elapsed": 233,
     "status": "ok",
     "timestamp": 1673546028603,
     "user": {
      "displayName": "Andre Juan",
      "userId": "08529802346316693602"
     },
     "user_tz": 180
    },
    "id": "8A7VIW_pHaps"
   },
   "outputs": [],
   "source": [
    "lista_num.append(-6)"
   ]
  },
  {
   "cell_type": "code",
   "execution_count": 83,
   "metadata": {
    "colab": {
     "base_uri": "https://localhost:8080/"
    },
    "executionInfo": {
     "elapsed": 264,
     "status": "ok",
     "timestamp": 1673546034120,
     "user": {
      "displayName": "Andre Juan",
      "userId": "08529802346316693602"
     },
     "user_tz": 180
    },
    "id": "bm65dOKIHdn4",
    "outputId": "84ffb5e6-e939-4cb6-9a32-c4c200d8360a"
   },
   "outputs": [
    {
     "data": {
      "text/plain": [
       "[10, 2, -6, 4.2, 8, 3.14, -6]"
      ]
     },
     "execution_count": 83,
     "metadata": {},
     "output_type": "execute_result"
    }
   ],
   "source": [
    "lista_num"
   ]
  },
  {
   "cell_type": "code",
   "execution_count": 84,
   "metadata": {
    "colab": {
     "base_uri": "https://localhost:8080/"
    },
    "executionInfo": {
     "elapsed": 256,
     "status": "ok",
     "timestamp": 1673546042991,
     "user": {
      "displayName": "Andre Juan",
      "userId": "08529802346316693602"
     },
     "user_tz": 180
    },
    "id": "wbxNV1ZnHfOy",
    "outputId": "09403e4b-3dae-440e-b1e2-a3e47b997929"
   },
   "outputs": [
    {
     "data": {
      "text/plain": [
       "2"
      ]
     },
     "execution_count": 84,
     "metadata": {},
     "output_type": "execute_result"
    }
   ],
   "source": [
    "lista_num.index(-6)"
   ]
  },
  {
   "cell_type": "markdown",
   "metadata": {
    "id": "CvGjeqyLhMph"
   },
   "source": [
    "Por fim, podemos encontrar algumas **propriedades dos elementos da lista:**"
   ]
  },
  {
   "cell_type": "code",
   "execution_count": 85,
   "metadata": {
    "colab": {
     "base_uri": "https://localhost:8080/"
    },
    "executionInfo": {
     "elapsed": 257,
     "status": "ok",
     "timestamp": 1673546166861,
     "user": {
      "displayName": "Andre Juan",
      "userId": "08529802346316693602"
     },
     "user_tz": 180
    },
    "id": "lwBiRg9dhMph",
    "outputId": "018c1641-79ac-494d-89f9-e20646aa72a8"
   },
   "outputs": [
    {
     "data": {
      "text/plain": [
       "[10, 2, -6, 4.2, 8, 3.14, -6]"
      ]
     },
     "execution_count": 85,
     "metadata": {},
     "output_type": "execute_result"
    }
   ],
   "source": [
    "lista_num"
   ]
  },
  {
   "cell_type": "markdown",
   "metadata": {
    "id": "zJaewY3ShMph"
   },
   "source": [
    "Para encontrar o maior elemento, use \"max()\":"
   ]
  },
  {
   "cell_type": "code",
   "execution_count": 86,
   "metadata": {
    "colab": {
     "base_uri": "https://localhost:8080/"
    },
    "executionInfo": {
     "elapsed": 229,
     "status": "ok",
     "timestamp": 1673546183271,
     "user": {
      "displayName": "Andre Juan",
      "userId": "08529802346316693602"
     },
     "user_tz": 180
    },
    "id": "4kKycnVrhMph",
    "outputId": "68a2acaa-ee01-41f1-efd7-688d8f355a2f"
   },
   "outputs": [
    {
     "data": {
      "text/plain": [
       "10"
      ]
     },
     "execution_count": 86,
     "metadata": {},
     "output_type": "execute_result"
    }
   ],
   "source": [
    "max(lista_num)"
   ]
  },
  {
   "cell_type": "markdown",
   "metadata": {
    "id": "t6du6vtrhMph"
   },
   "source": [
    "Para encontrar o menor elemento, use \"min()\":"
   ]
  },
  {
   "cell_type": "code",
   "execution_count": 87,
   "metadata": {
    "colab": {
     "base_uri": "https://localhost:8080/"
    },
    "executionInfo": {
     "elapsed": 347,
     "status": "ok",
     "timestamp": 1673546201613,
     "user": {
      "displayName": "Andre Juan",
      "userId": "08529802346316693602"
     },
     "user_tz": 180
    },
    "id": "ZuxAYrPBhMpi",
    "outputId": "ff7ecffa-0f75-4422-afdf-8416643659ce"
   },
   "outputs": [
    {
     "data": {
      "text/plain": [
       "-6"
      ]
     },
     "execution_count": 87,
     "metadata": {},
     "output_type": "execute_result"
    }
   ],
   "source": [
    "min(lista_num)"
   ]
  },
  {
   "cell_type": "markdown",
   "metadata": {
    "id": "L-LFWr9yhMpi"
   },
   "source": [
    "Para encontrar o número de elementos (ou seja, qual é o \"tamanho\" da lista), use \"len()\":"
   ]
  },
  {
   "cell_type": "code",
   "execution_count": 88,
   "metadata": {
    "colab": {
     "base_uri": "https://localhost:8080/"
    },
    "executionInfo": {
     "elapsed": 254,
     "status": "ok",
     "timestamp": 1673546242823,
     "user": {
      "displayName": "Andre Juan",
      "userId": "08529802346316693602"
     },
     "user_tz": 180
    },
    "id": "gCcUGH8QhMpi",
    "outputId": "22b57aa6-b6bd-4843-e4b2-81e8416366ba"
   },
   "outputs": [
    {
     "data": {
      "text/plain": [
       "7"
      ]
     },
     "execution_count": 88,
     "metadata": {},
     "output_type": "execute_result"
    }
   ],
   "source": [
    "len(lista_num)"
   ]
  },
  {
   "cell_type": "markdown",
   "metadata": {
    "id": "Mw9jZedzhMpi"
   },
   "source": [
    "Para somar os elementos da lista, use \"sum()\":"
   ]
  },
  {
   "cell_type": "code",
   "execution_count": 89,
   "metadata": {
    "colab": {
     "base_uri": "https://localhost:8080/"
    },
    "executionInfo": {
     "elapsed": 299,
     "status": "ok",
     "timestamp": 1673546278871,
     "user": {
      "displayName": "Andre Juan",
      "userId": "08529802346316693602"
     },
     "user_tz": 180
    },
    "id": "qyzX8XFfhMpj",
    "outputId": "9f623f2a-96a9-4b58-83f7-9d1d954ad894"
   },
   "outputs": [
    {
     "data": {
      "text/plain": [
       "15.34"
      ]
     },
     "execution_count": 89,
     "metadata": {},
     "output_type": "execute_result"
    }
   ],
   "source": [
    "sum(lista_num)"
   ]
  },
  {
   "cell_type": "markdown",
   "metadata": {
    "id": "1cw4Rz5ahMpk"
   },
   "source": [
    "Agora fica bem fácil encontrar a média dos números em uma lista:"
   ]
  },
  {
   "cell_type": "code",
   "execution_count": 91,
   "metadata": {
    "colab": {
     "base_uri": "https://localhost:8080/"
    },
    "executionInfo": {
     "elapsed": 246,
     "status": "ok",
     "timestamp": 1673546349181,
     "user": {
      "displayName": "Andre Juan",
      "userId": "08529802346316693602"
     },
     "user_tz": 180
    },
    "id": "RV2gNZJJhMpk",
    "outputId": "fa5c1912-4234-4141-d3ed-a27d50e2eeb3"
   },
   "outputs": [
    {
     "data": {
      "text/plain": [
       "2.1914285714285713"
      ]
     },
     "execution_count": 91,
     "metadata": {},
     "output_type": "execute_result"
    }
   ],
   "source": [
    "# media: soma_elementos/numero_de_elementos\n",
    "\n",
    "sum(lista_num)/len(lista_num)"
   ]
  },
  {
   "cell_type": "markdown",
   "metadata": {
    "id": "dJHuRUHWhMpk"
   },
   "source": [
    "__Um exemplo para o cálculo de média dos valores em uma lista...__\n",
    "\n",
    "Mas fazemos o usuário digitar os elementos da lista, um a um!"
   ]
  },
  {
   "cell_type": "code",
   "execution_count": 92,
   "metadata": {
    "colab": {
     "base_uri": "https://localhost:8080/"
    },
    "executionInfo": {
     "elapsed": 261,
     "status": "ok",
     "timestamp": 1673546427456,
     "user": {
      "displayName": "Andre Juan",
      "userId": "08529802346316693602"
     },
     "user_tz": 180
    },
    "id": "--NIzz7XhMpl",
    "outputId": "fdf09009-c22f-4ba7-c826-1e4e5f4ddfcd"
   },
   "outputs": [
    {
     "data": {
      "text/plain": [
       "7.375"
      ]
     },
     "execution_count": 92,
     "metadata": {},
     "output_type": "execute_result"
    }
   ],
   "source": [
    "n1 = 8\n",
    "n2 = 10\n",
    "n3 = 6.5\n",
    "n4 = 5\n",
    "\n",
    "media = (n1+n2+n3+n4)/4\n",
    "\n",
    "media"
   ]
  },
  {
   "cell_type": "code",
   "execution_count": 93,
   "metadata": {
    "colab": {
     "base_uri": "https://localhost:8080/"
    },
    "executionInfo": {
     "elapsed": 257,
     "status": "ok",
     "timestamp": 1673546484509,
     "user": {
      "displayName": "Andre Juan",
      "userId": "08529802346316693602"
     },
     "user_tz": 180
    },
    "id": "2_P13hegJE1F",
    "outputId": "d138cc1a-77a9-47b0-ea04-6c61d297cc0b"
   },
   "outputs": [
    {
     "data": {
      "text/plain": [
       "7.375"
      ]
     },
     "execution_count": 93,
     "metadata": {},
     "output_type": "execute_result"
    }
   ],
   "source": [
    "n1, n2, n3, n4 = 8, 10, 6.5, 5\n",
    "\n",
    "media = (n1+n2+n3+n4)/4\n",
    "\n",
    "media"
   ]
  },
  {
   "cell_type": "code",
   "execution_count": 94,
   "metadata": {
    "colab": {
     "base_uri": "https://localhost:8080/"
    },
    "executionInfo": {
     "elapsed": 437,
     "status": "ok",
     "timestamp": 1673546537184,
     "user": {
      "displayName": "Andre Juan",
      "userId": "08529802346316693602"
     },
     "user_tz": 180
    },
    "id": "A_kKbUXIJO5R",
    "outputId": "2263ed68-1f1c-4f2b-c98d-9012b5d705e7"
   },
   "outputs": [
    {
     "data": {
      "text/plain": [
       "7.375"
      ]
     },
     "execution_count": 94,
     "metadata": {},
     "output_type": "execute_result"
    }
   ],
   "source": [
    "notas = [8, 10, 6.5, 5]\n",
    "\n",
    "media = sum(notas)/len(notas)\n",
    "\n",
    "media"
   ]
  },
  {
   "cell_type": "code",
   "execution_count": 99,
   "metadata": {
    "colab": {
     "base_uri": "https://localhost:8080/"
    },
    "executionInfo": {
     "elapsed": 15854,
     "status": "ok",
     "timestamp": 1673546911635,
     "user": {
      "displayName": "Andre Juan",
      "userId": "08529802346316693602"
     },
     "user_tz": 180
    },
    "id": "EJZ0aIhbJkuj",
    "outputId": "7df6b6da-6645-4ad3-c2ff-ae60ce8ebfe2"
   },
   "outputs": [
    {
     "name": "stdout",
     "output_type": "stream",
     "text": [
      "Digite o número de notas: 4\n",
      "Digite a nota: 10\n",
      "Digite a nota: 6.5\n",
      "Digite a nota: 7\n",
      "Digite a nota: 9\n",
      "\n",
      "A média é: 8.125\n"
     ]
    }
   ],
   "source": [
    "# captando do usuário a quantidade de notas\n",
    "num_notas = int(input(\"Digite o número de notas: \"))\n",
    "\n",
    "# lista com as notas, inicializada como vazia\n",
    "notas = []\n",
    "\n",
    "cont = 1\n",
    "while cont <= num_notas:\n",
    "\n",
    "  # capta do usuário uma nota\n",
    "  nota_atual = float(input(\"Digite a nota: \"))\n",
    "\n",
    "  notas.append(nota_atual)\n",
    "\n",
    "  cont += 1\n",
    "\n",
    "media = sum(notas)/len(notas)\n",
    "\n",
    "print(\"\\nA média é:\", media)"
   ]
  },
  {
   "cell_type": "markdown",
   "metadata": {
    "id": "XaN9n0T6hMpl"
   },
   "source": [
    "__________\n",
    "__________\n",
    "__________"
   ]
  },
  {
   "cell_type": "markdown",
   "metadata": {
    "id": "BMLg3XXOhMpl"
   },
   "source": [
    "## 3) Iterador (for)\n",
    "\n",
    "Na última aula, vimos como usar o laço de repetição \"while\" para repetir operações em Python.\n",
    "\n",
    "Agora, veremos um outro laço, o **for**.\n",
    "\n",
    "Mas, antes de vermos como este laço pode ser utilizado para **repetir operações**, é interessante entender o `for` como sendo, na realidade, um operador utilizado para **percorrer elementos de uma lista** (na verdade, de qualquer objeto **iterável**. Conheceremos outros objetos assim mais pra frente...). \n",
    "\n",
    "> Por isso, o for, mais que um \"laço de repetição\", é, na verdade, uma **função iteradora** em Python.\n",
    "\n",
    "A estrutura do for é:\n",
    "\n",
    "```python\n",
    "for item in lista:\n",
    "    operacao_feita_pra_cada_item\n",
    "```"
   ]
  },
  {
   "cell_type": "code",
   "execution_count": 100,
   "metadata": {
    "colab": {
     "base_uri": "https://localhost:8080/"
    },
    "executionInfo": {
     "elapsed": 316,
     "status": "ok",
     "timestamp": 1673547053732,
     "user": {
      "displayName": "Andre Juan",
      "userId": "08529802346316693602"
     },
     "user_tz": 180
    },
    "id": "qWgIzrXXhMpl",
    "outputId": "17909cfe-c725-4fee-e528-110ca6266b15"
   },
   "outputs": [
    {
     "data": {
      "text/plain": [
       "[10, 2, -6, 4.2, 8, 3.14, -6]"
      ]
     },
     "execution_count": 100,
     "metadata": {},
     "output_type": "execute_result"
    }
   ],
   "source": [
    "lista_num"
   ]
  },
  {
   "cell_type": "code",
   "execution_count": 105,
   "metadata": {
    "colab": {
     "base_uri": "https://localhost:8080/"
    },
    "executionInfo": {
     "elapsed": 267,
     "status": "ok",
     "timestamp": 1673547232075,
     "user": {
      "displayName": "Andre Juan",
      "userId": "08529802346316693602"
     },
     "user_tz": 180
    },
    "id": "738s7N24LYTs",
    "outputId": "3d7b6149-6e65-40d0-e5a0-c37c1b2d9366"
   },
   "outputs": [
    {
     "name": "stdout",
     "output_type": "stream",
     "text": [
      "10\n",
      "2\n",
      "-6\n",
      "4.2\n",
      "8\n",
      "3.14\n",
      "-6\n"
     ]
    }
   ],
   "source": [
    "for item in lista_num:\n",
    "  print(item)"
   ]
  },
  {
   "cell_type": "markdown",
   "metadata": {
    "id": "t1xMo2I1hMpm"
   },
   "source": [
    "O código acima é equivalente a:"
   ]
  },
  {
   "cell_type": "code",
   "execution_count": 107,
   "metadata": {
    "colab": {
     "base_uri": "https://localhost:8080/"
    },
    "executionInfo": {
     "elapsed": 244,
     "status": "ok",
     "timestamp": 1673547266043,
     "user": {
      "displayName": "Andre Juan",
      "userId": "08529802346316693602"
     },
     "user_tz": 180
    },
    "id": "J14PUU8IhMpm",
    "outputId": "0c080824-bdee-4564-c1e0-b8c022cd41d8"
   },
   "outputs": [
    {
     "name": "stdout",
     "output_type": "stream",
     "text": [
      "10\n",
      "2\n",
      "-6\n",
      "4.2\n",
      "8\n",
      "3.14\n",
      "-6\n"
     ]
    }
   ],
   "source": [
    "print(lista_num[0])\n",
    "print(lista_num[1])\n",
    "print(lista_num[2])\n",
    "print(lista_num[3])\n",
    "print(lista_num[4])\n",
    "print(lista_num[5])\n",
    "print(lista_num[6])\n"
   ]
  },
  {
   "cell_type": "markdown",
   "metadata": {
    "id": "LPyMNckLhMpm"
   },
   "source": [
    "__Um exemplo de uso...__\n",
    "\n",
    "Separando números positivos e negativos de uma lista de números"
   ]
  },
  {
   "cell_type": "code",
   "execution_count": 111,
   "metadata": {
    "executionInfo": {
     "elapsed": 14,
     "status": "ok",
     "timestamp": 1673547458995,
     "user": {
      "displayName": "Andre Juan",
      "userId": "08529802346316693602"
     },
     "user_tz": 180
    },
    "id": "wJQi_ij6hMpm"
   },
   "outputs": [],
   "source": [
    "lista_num = [-10, 2, -6, 4.2, -8, 3.14, -6, 0]"
   ]
  },
  {
   "cell_type": "code",
   "execution_count": 113,
   "metadata": {
    "colab": {
     "base_uri": "https://localhost:8080/"
    },
    "executionInfo": {
     "elapsed": 256,
     "status": "ok",
     "timestamp": 1673547514478,
     "user": {
      "displayName": "Andre Juan",
      "userId": "08529802346316693602"
     },
     "user_tz": 180
    },
    "id": "4qyiov06Mcg5",
    "outputId": "df60a809-e613-4d35-b7b1-4d9058d48173"
   },
   "outputs": [
    {
     "name": "stdout",
     "output_type": "stream",
     "text": [
      "[2, 4.2, 3.14]\n",
      "[-10, -6, -8, -6]\n",
      "[0]\n"
     ]
    }
   ],
   "source": [
    "lista_num_pos = []\n",
    "lista_num_neg = []\n",
    "lista_num_neutro = []\n",
    "\n",
    "for elemento in lista_num:\n",
    "  if elemento < 0:\n",
    "    lista_num_neg.append(elemento)\n",
    "  elif elemento > 0:\n",
    "    lista_num_pos.append(elemento)\n",
    "  else:\n",
    "    lista_num_neutro.append(elemento)\n",
    "\n",
    "print(lista_num_pos)\n",
    "print(lista_num_neg)\n",
    "print(lista_num_neutro)"
   ]
  },
  {
   "cell_type": "markdown",
   "metadata": {
    "id": "_0j8JSQihMpn"
   },
   "source": [
    "O \"for\" percorre todos os elementos de uma lista, a não ser que o \"break\" seja utilizado -- esse comando quebra o for, ou seja, os elementos param de ser percorridos:"
   ]
  },
  {
   "cell_type": "code",
   "execution_count": 116,
   "metadata": {
    "executionInfo": {
     "elapsed": 267,
     "status": "ok",
     "timestamp": 1673547700387,
     "user": {
      "displayName": "Andre Juan",
      "userId": "08529802346316693602"
     },
     "user_tz": 180
    },
    "id": "30B5ntbpNz5U"
   },
   "outputs": [],
   "source": [
    "lista_num = [-10, -2, -6, 4.2, -8, 3.14, -6, 0]"
   ]
  },
  {
   "cell_type": "code",
   "execution_count": 117,
   "metadata": {
    "colab": {
     "base_uri": "https://localhost:8080/"
    },
    "executionInfo": {
     "elapsed": 347,
     "status": "ok",
     "timestamp": 1673547703128,
     "user": {
      "displayName": "Andre Juan",
      "userId": "08529802346316693602"
     },
     "user_tz": 180
    },
    "id": "b53joyTYhMpn",
    "outputId": "3c187b99-0725-4ab1-d45f-ab464130ebc7"
   },
   "outputs": [
    {
     "name": "stdout",
     "output_type": "stream",
     "text": [
      "-10\n",
      "-2\n",
      "-6\n"
     ]
    }
   ],
   "source": [
    "for elemento in lista_num:\n",
    "  if elemento > 0:\n",
    "    break\n",
    "  print(elemento)"
   ]
  },
  {
   "cell_type": "markdown",
   "metadata": {
    "id": "FBavLvWZhMpn"
   },
   "source": [
    "Podemos fazer operações com os elementos de umas lista e usá-los pra preencher outra lista:"
   ]
  },
  {
   "cell_type": "code",
   "execution_count": 129,
   "metadata": {
    "colab": {
     "base_uri": "https://localhost:8080/"
    },
    "executionInfo": {
     "elapsed": 247,
     "status": "ok",
     "timestamp": 1673547991130,
     "user": {
      "displayName": "Andre Juan",
      "userId": "08529802346316693602"
     },
     "user_tz": 180
    },
    "id": "iDbjIlITO7qt",
    "outputId": "77488060-4650-4d4b-9b14-06bd7b546d68"
   },
   "outputs": [
    {
     "data": {
      "text/plain": [
       "[-10, -2, -6, 4.2, -8, 3.14, -6, 0, -10, -2, -6, 4.2, -8, 3.14, -6, 0]"
      ]
     },
     "execution_count": 129,
     "metadata": {},
     "output_type": "execute_result"
    }
   ],
   "source": [
    "lista_num*2"
   ]
  },
  {
   "cell_type": "code",
   "execution_count": 122,
   "metadata": {
    "colab": {
     "base_uri": "https://localhost:8080/"
    },
    "executionInfo": {
     "elapsed": 248,
     "status": "ok",
     "timestamp": 1673547815049,
     "user": {
      "displayName": "Andre Juan",
      "userId": "08529802346316693602"
     },
     "user_tz": 180
    },
    "id": "ejIn1QrfhMpn",
    "outputId": "3727b6cb-2658-4265-eeec-5a93426d04c2"
   },
   "outputs": [
    {
     "data": {
      "text/plain": [
       "[-20, -4, -12, 8.4, -16, 6.28, -12, 0]"
      ]
     },
     "execution_count": 122,
     "metadata": {},
     "output_type": "execute_result"
    }
   ],
   "source": [
    "lista_num_dobro = []\n",
    "\n",
    "for elemento in lista_num:\n",
    "  lista_num_dobro.append(2*elemento)\n",
    "\n",
    "lista_num_dobro"
   ]
  },
  {
   "cell_type": "code",
   "execution_count": 123,
   "metadata": {
    "colab": {
     "base_uri": "https://localhost:8080/"
    },
    "executionInfo": {
     "elapsed": 228,
     "status": "ok",
     "timestamp": 1673547821885,
     "user": {
      "displayName": "Andre Juan",
      "userId": "08529802346316693602"
     },
     "user_tz": 180
    },
    "id": "zxW5XE-0N9tP",
    "outputId": "4ef3ba44-aa42-4ed2-c29f-0fe01eb0ab76"
   },
   "outputs": [
    {
     "data": {
      "text/plain": [
       "[-10, -2, -6, 4.2, -8, 3.14, -6, 0]"
      ]
     },
     "execution_count": 123,
     "metadata": {},
     "output_type": "execute_result"
    }
   ],
   "source": [
    "lista_num"
   ]
  },
  {
   "cell_type": "code",
   "execution_count": 128,
   "metadata": {
    "colab": {
     "base_uri": "https://localhost:8080/"
    },
    "executionInfo": {
     "elapsed": 256,
     "status": "ok",
     "timestamp": 1673547966083,
     "user": {
      "displayName": "Andre Juan",
      "userId": "08529802346316693602"
     },
     "user_tz": 180
    },
    "id": "tSz3r9HuOv4p",
    "outputId": "0d1ab93d-b454-49e8-d909-ad68dd126e48"
   },
   "outputs": [
    {
     "data": {
      "text/plain": [
       "[1, 2, 3, 4, 5, 6]"
      ]
     },
     "execution_count": 128,
     "metadata": {},
     "output_type": "execute_result"
    }
   ],
   "source": [
    "l1 = [1, 2, 3]\n",
    "l2 = [4, 5, 6]\n",
    "\n",
    "l1 + l2"
   ]
  },
  {
   "cell_type": "code",
   "execution_count": 135,
   "metadata": {
    "colab": {
     "base_uri": "https://localhost:8080/"
    },
    "executionInfo": {
     "elapsed": 238,
     "status": "ok",
     "timestamp": 1673548181341,
     "user": {
      "displayName": "Andre Juan",
      "userId": "08529802346316693602"
     },
     "user_tz": 180
    },
    "id": "UNPPlouLO45e",
    "outputId": "6f86f29d-b891-444f-eb05-024278902590"
   },
   "outputs": [
    {
     "data": {
      "text/plain": [
       "[5, 7, 9]"
      ]
     },
     "execution_count": 135,
     "metadata": {},
     "output_type": "execute_result"
    }
   ],
   "source": [
    "lista_soma = []\n",
    "\n",
    "for elemento1, elemento2 in zip(l1, l2):\n",
    "\n",
    "  lista_soma.append(elemento1 + elemento2)\n",
    "\n",
    "lista_soma"
   ]
  },
  {
   "cell_type": "markdown",
   "metadata": {
    "id": "InZSDyZ4hMpo"
   },
   "source": [
    "_____\n",
    "\n",
    "### 3.1) Compreensão de listas\n",
    "\n",
    "Uma estrutura extremamente útil em python é a __compreensão de listas__ (list comprehension), com a qual é possível construir listas novas a partir de outras listas de forma bem condensada!\n",
    "\n",
    "A sintaxe é: \n",
    "\n",
    "```python\n",
    "[operacao_sobre_os_items for item in lista_base]\n",
    "```"
   ]
  },
  {
   "cell_type": "markdown",
   "metadata": {
    "id": "xJLU4CgNhMpo"
   },
   "source": [
    "Por exemplo, é possível criar a mesma \"lista_dobro\" definida acima, de forma muito mais condensada:"
   ]
  },
  {
   "cell_type": "code",
   "execution_count": 136,
   "metadata": {
    "colab": {
     "base_uri": "https://localhost:8080/"
    },
    "executionInfo": {
     "elapsed": 247,
     "status": "ok",
     "timestamp": 1673548245074,
     "user": {
      "displayName": "Andre Juan",
      "userId": "08529802346316693602"
     },
     "user_tz": 180
    },
    "id": "LqDBnzc1hMpo",
    "outputId": "252f98f6-ab36-4a68-a843-67b285f4b5f2"
   },
   "outputs": [
    {
     "data": {
      "text/plain": [
       "[-20, -4, -12, 8.4, -16, 6.28, -12, 0]"
      ]
     },
     "execution_count": 136,
     "metadata": {},
     "output_type": "execute_result"
    }
   ],
   "source": [
    "lista_num_dobro = []\n",
    "\n",
    "for elemento in lista_num:\n",
    "  lista_num_dobro.append(2*elemento)\n",
    "\n",
    "lista_num_dobro"
   ]
  },
  {
   "cell_type": "code",
   "execution_count": 137,
   "metadata": {
    "colab": {
     "base_uri": "https://localhost:8080/"
    },
    "executionInfo": {
     "elapsed": 261,
     "status": "ok",
     "timestamp": 1673548304098,
     "user": {
      "displayName": "Andre Juan",
      "userId": "08529802346316693602"
     },
     "user_tz": 180
    },
    "id": "SvZ-a5B6P7c9",
    "outputId": "31ec6b2a-e404-4458-b05d-610aface9a36"
   },
   "outputs": [
    {
     "data": {
      "text/plain": [
       "[-20, -4, -12, 8.4, -16, 6.28, -12, 0]"
      ]
     },
     "execution_count": 137,
     "metadata": {},
     "output_type": "execute_result"
    }
   ],
   "source": [
    "lista_num_dobro = [2*elemento for elemento in lista_num]\n",
    "\n",
    "lista_num_dobro"
   ]
  },
  {
   "cell_type": "markdown",
   "metadata": {
    "id": "UIhTLd8yhMpp"
   },
   "source": [
    "Também é possível construir uma lista usando compreensão de listas com base em alguma estrutura condicional!\n",
    "\n",
    "Se você for utilizar apenas o if, a sintaxe é:\n",
    "\n",
    "```python\n",
    "[operacao_sobre_os_items for item in lista_base if condicao]\n",
    "```"
   ]
  },
  {
   "cell_type": "code",
   "execution_count": 139,
   "metadata": {
    "colab": {
     "base_uri": "https://localhost:8080/"
    },
    "executionInfo": {
     "elapsed": 252,
     "status": "ok",
     "timestamp": 1673548472049,
     "user": {
      "displayName": "Andre Juan",
      "userId": "08529802346316693602"
     },
     "user_tz": 180
    },
    "id": "37PDbR3xQw6q",
    "outputId": "7c4d6a0c-03f9-45f4-90ff-4c3b460f637b"
   },
   "outputs": [
    {
     "data": {
      "text/plain": [
       "[-10, -2, -6, 4.2, -8, 3.14, -6, 0]"
      ]
     },
     "execution_count": 139,
     "metadata": {},
     "output_type": "execute_result"
    }
   ],
   "source": [
    "lista_num"
   ]
  },
  {
   "cell_type": "code",
   "execution_count": 138,
   "metadata": {
    "colab": {
     "base_uri": "https://localhost:8080/"
    },
    "executionInfo": {
     "elapsed": 251,
     "status": "ok",
     "timestamp": 1673548465104,
     "user": {
      "displayName": "Andre Juan",
      "userId": "08529802346316693602"
     },
     "user_tz": 180
    },
    "id": "saduz1xihMpp",
    "outputId": "d72b99ea-71e2-48d7-bdd5-e52244b9c5ff"
   },
   "outputs": [
    {
     "data": {
      "text/plain": [
       "[8.4, 6.28]"
      ]
     },
     "execution_count": 138,
     "metadata": {},
     "output_type": "execute_result"
    }
   ],
   "source": [
    "lista_dobro_positivos = []\n",
    "\n",
    "for elemento in lista_num:\n",
    "  if elemento > 0:\n",
    "    lista_dobro_positivos.append(2*elemento)\n",
    "\n",
    "lista_dobro_positivos"
   ]
  },
  {
   "cell_type": "code",
   "execution_count": 140,
   "metadata": {
    "colab": {
     "base_uri": "https://localhost:8080/"
    },
    "executionInfo": {
     "elapsed": 259,
     "status": "ok",
     "timestamp": 1673548544379,
     "user": {
      "displayName": "Andre Juan",
      "userId": "08529802346316693602"
     },
     "user_tz": 180
    },
    "id": "PWUzrGRNQ2d7",
    "outputId": "a9d4084f-96b8-4d12-844a-8046de572de6"
   },
   "outputs": [
    {
     "data": {
      "text/plain": [
       "[8.4, 6.28]"
      ]
     },
     "execution_count": 140,
     "metadata": {},
     "output_type": "execute_result"
    }
   ],
   "source": [
    "lista_dobro_positivos = [2*elemento for elemento in lista_num if elemento > 0]\n",
    "\n",
    "lista_dobro_positivos"
   ]
  },
  {
   "cell_type": "markdown",
   "metadata": {
    "id": "GsdjNdfFhMpp"
   },
   "source": [
    "Caso você queira utilizar também o else como parte da estrutura condicional, a sintaxe muda um pouco:\n",
    "\n",
    "```python\n",
    "[valor_caso_if if condicao else valor_caso_else for item in lista_base]\n",
    "```"
   ]
  },
  {
   "cell_type": "code",
   "execution_count": 142,
   "metadata": {
    "colab": {
     "base_uri": "https://localhost:8080/"
    },
    "executionInfo": {
     "elapsed": 371,
     "status": "ok",
     "timestamp": 1673548632537,
     "user": {
      "displayName": "Andre Juan",
      "userId": "08529802346316693602"
     },
     "user_tz": 180
    },
    "id": "Am6TmIuMRN9g",
    "outputId": "dca3f86e-2e3a-4e38-9d81-be02f607d5a8"
   },
   "outputs": [
    {
     "data": {
      "text/plain": [
       "[4, 7, 13, 15, 1, 8, 16, 20, 3]"
      ]
     },
     "execution_count": 142,
     "metadata": {},
     "output_type": "execute_result"
    }
   ],
   "source": [
    "lista_num = [4, 7, 13, 15, 1, 8, 16, 20, 3]\n",
    "\n",
    "lista_num"
   ]
  },
  {
   "cell_type": "code",
   "execution_count": null,
   "metadata": {
    "id": "KyfGSqWyRQnu"
   },
   "outputs": [],
   "source": [
    "[\"par\", \"impar\", \"impar\", ..., \"impar\"]"
   ]
  },
  {
   "cell_type": "code",
   "execution_count": 143,
   "metadata": {
    "colab": {
     "base_uri": "https://localhost:8080/"
    },
    "executionInfo": {
     "elapsed": 378,
     "status": "ok",
     "timestamp": 1673548702056,
     "user": {
      "displayName": "Andre Juan",
      "userId": "08529802346316693602"
     },
     "user_tz": 180
    },
    "id": "eZ-bu2uyRfpO",
    "outputId": "39d8cded-2437-4158-c63d-d0f52b922bc1"
   },
   "outputs": [
    {
     "data": {
      "text/plain": [
       "0"
      ]
     },
     "execution_count": 143,
     "metadata": {},
     "output_type": "execute_result"
    }
   ],
   "source": [
    "4 % 2"
   ]
  },
  {
   "cell_type": "code",
   "execution_count": 144,
   "metadata": {
    "colab": {
     "base_uri": "https://localhost:8080/"
    },
    "executionInfo": {
     "elapsed": 449,
     "status": "ok",
     "timestamp": 1673548711722,
     "user": {
      "displayName": "Andre Juan",
      "userId": "08529802346316693602"
     },
     "user_tz": 180
    },
    "id": "LCs7HFN6RqZ-",
    "outputId": "9bd95983-b927-46a5-f824-f4b0123b5040"
   },
   "outputs": [
    {
     "data": {
      "text/plain": [
       "1"
      ]
     },
     "execution_count": 144,
     "metadata": {},
     "output_type": "execute_result"
    }
   ],
   "source": [
    "7 % 2 "
   ]
  },
  {
   "cell_type": "code",
   "execution_count": 147,
   "metadata": {
    "colab": {
     "base_uri": "https://localhost:8080/"
    },
    "executionInfo": {
     "elapsed": 318,
     "status": "ok",
     "timestamp": 1673548785585,
     "user": {
      "displayName": "Andre Juan",
      "userId": "08529802346316693602"
     },
     "user_tz": 180
    },
    "id": "kgup_y0uRt97",
    "outputId": "4ee82559-22a2-4012-fd03-46202c6179ae"
   },
   "outputs": [
    {
     "name": "stdout",
     "output_type": "stream",
     "text": [
      "impar\n"
     ]
    }
   ],
   "source": [
    "numero = 7\n",
    "\n",
    "# o numero é par?\n",
    "if numero % 2 == 0:\n",
    "  print(\"par\")\n",
    "else:\n",
    "  print(\"impar\")"
   ]
  },
  {
   "cell_type": "code",
   "execution_count": 148,
   "metadata": {
    "colab": {
     "base_uri": "https://localhost:8080/"
    },
    "executionInfo": {
     "elapsed": 254,
     "status": "ok",
     "timestamp": 1673548825772,
     "user": {
      "displayName": "Andre Juan",
      "userId": "08529802346316693602"
     },
     "user_tz": 180
    },
    "id": "VjnY3LwvhMpq",
    "outputId": "2162da6b-0534-4e39-fc9f-b2d2a30b8479"
   },
   "outputs": [
    {
     "data": {
      "text/plain": [
       "['par', 'ímpar', 'ímpar', 'ímpar', 'ímpar', 'par', 'par', 'par', 'ímpar']"
      ]
     },
     "execution_count": 148,
     "metadata": {},
     "output_type": "execute_result"
    }
   ],
   "source": [
    "lista_par_ou_impar = []\n",
    "\n",
    "for elemento in lista_num:\n",
    "\n",
    "  if elemento % 2 == 0:\n",
    "    lista_par_ou_impar.append(\"par\")\n",
    "  else:\n",
    "    lista_par_ou_impar.append(\"ímpar\")\n",
    "\n",
    "lista_par_ou_impar"
   ]
  },
  {
   "cell_type": "code",
   "execution_count": 149,
   "metadata": {
    "colab": {
     "base_uri": "https://localhost:8080/"
    },
    "executionInfo": {
     "elapsed": 254,
     "status": "ok",
     "timestamp": 1673548831509,
     "user": {
      "displayName": "Andre Juan",
      "userId": "08529802346316693602"
     },
     "user_tz": 180
    },
    "id": "LwIXYppzSIwm",
    "outputId": "3a5b0b65-5bcf-4013-bf88-57ec85f58b6e"
   },
   "outputs": [
    {
     "data": {
      "text/plain": [
       "[4, 7, 13, 15, 1, 8, 16, 20, 3]"
      ]
     },
     "execution_count": 149,
     "metadata": {},
     "output_type": "execute_result"
    }
   ],
   "source": [
    "lista_num"
   ]
  },
  {
   "cell_type": "code",
   "execution_count": 150,
   "metadata": {
    "colab": {
     "base_uri": "https://localhost:8080/"
    },
    "executionInfo": {
     "elapsed": 228,
     "status": "ok",
     "timestamp": 1673548940627,
     "user": {
      "displayName": "Andre Juan",
      "userId": "08529802346316693602"
     },
     "user_tz": 180
    },
    "id": "d-YM0D5JSRBc",
    "outputId": "d1e40ab3-287e-4caa-d288-46cd7a415883"
   },
   "outputs": [
    {
     "data": {
      "text/plain": [
       "['par', 'ímpar', 'ímpar', 'ímpar', 'ímpar', 'par', 'par', 'par', 'ímpar']"
      ]
     },
     "execution_count": 150,
     "metadata": {},
     "output_type": "execute_result"
    }
   ],
   "source": [
    "lista_par_ou_impar = [\"par\" if elemento % 2 == 0 else \"ímpar\" for elemento in lista_num]\n",
    "\n",
    "lista_par_ou_impar\n"
   ]
  },
  {
   "cell_type": "markdown",
   "metadata": {
    "id": "bABtYgQGhMpq"
   },
   "source": [
    "_____\n",
    "_____"
   ]
  },
  {
   "cell_type": "markdown",
   "metadata": {
    "id": "xKrs8BsbhMpq"
   },
   "source": [
    "É muito comum utilizarmos a função \"range()\" juntamente do for, para que o iterador funcione explicitamente como um laço de repetição.\n",
    "\n",
    "Essa função cria um **intervalo**, que é uma espécie de \"lista virtual\" de **números em sequência**. Sua sintaxe é:\n",
    "\n",
    "- `range(primeiro_numero, último_numero - 1, passo)`"
   ]
  },
  {
   "cell_type": "markdown",
   "metadata": {
    "id": "9Jp-ZbLFhMpq"
   },
   "source": [
    "Se for dado apenas um argumento, o padrão é começar por zero, e ir de 1 em 1:\n",
    "\n",
    "> `range(10)` é equivalente a range(0, 10, 1), cria uma sequência de 0 a 9, de 1 em 1\n",
    "> `range(-12, 12, 2)`: cria uma sequência de -12 a 11, de 2 em 2\n",
    "\n",
    "Ao fazermos `list(range())`, obtermos uma lista correspondente ao iterável.\n",
    "\n",
    "**OBS: só podemos utilizar inteiros no range!**"
   ]
  },
  {
   "cell_type": "code",
   "execution_count": 153,
   "metadata": {
    "colab": {
     "base_uri": "https://localhost:8080/"
    },
    "executionInfo": {
     "elapsed": 229,
     "status": "ok",
     "timestamp": 1673549080511,
     "user": {
      "displayName": "Andre Juan",
      "userId": "08529802346316693602"
     },
     "user_tz": 180
    },
    "id": "G8nmN4akhMpr",
    "outputId": "01090dbf-c6e2-42f2-fa0a-2d7e7afc6e33"
   },
   "outputs": [
    {
     "data": {
      "text/plain": [
       "[1, 2, 3, 4, 5, 6, 7, 8, 9]"
      ]
     },
     "execution_count": 153,
     "metadata": {},
     "output_type": "execute_result"
    }
   ],
   "source": [
    "list(range(1, 10, 1))"
   ]
  },
  {
   "cell_type": "code",
   "execution_count": 154,
   "metadata": {
    "colab": {
     "base_uri": "https://localhost:8080/"
    },
    "executionInfo": {
     "elapsed": 307,
     "status": "ok",
     "timestamp": 1673549128610,
     "user": {
      "displayName": "Andre Juan",
      "userId": "08529802346316693602"
     },
     "user_tz": 180
    },
    "id": "3YsVM_zYTPvQ",
    "outputId": "f7eaea4a-013e-4d65-9bc1-e1e09a5bae19"
   },
   "outputs": [
    {
     "data": {
      "text/plain": [
       "[0, 1, 2, 3]"
      ]
     },
     "execution_count": 154,
     "metadata": {},
     "output_type": "execute_result"
    }
   ],
   "source": [
    "list(range(0, 4, 1))"
   ]
  },
  {
   "cell_type": "code",
   "execution_count": 155,
   "metadata": {
    "colab": {
     "base_uri": "https://localhost:8080/"
    },
    "executionInfo": {
     "elapsed": 267,
     "status": "ok",
     "timestamp": 1673549155851,
     "user": {
      "displayName": "Andre Juan",
      "userId": "08529802346316693602"
     },
     "user_tz": 180
    },
    "id": "ZrAr6KWGTLlY",
    "outputId": "2a92a0d3-9858-4a23-9110-6536acfeb38b"
   },
   "outputs": [
    {
     "data": {
      "text/plain": [
       "[0, 1, 2, 3]"
      ]
     },
     "execution_count": 155,
     "metadata": {},
     "output_type": "execute_result"
    }
   ],
   "source": [
    "# me dê uma sequencia de 4 elementos que começa em zero (e, portanto, termina em 3)\n",
    "list(range(4))"
   ]
  },
  {
   "cell_type": "code",
   "execution_count": 160,
   "metadata": {
    "colab": {
     "base_uri": "https://localhost:8080/"
    },
    "executionInfo": {
     "elapsed": 408,
     "status": "ok",
     "timestamp": 1673549309660,
     "user": {
      "displayName": "Andre Juan",
      "userId": "08529802346316693602"
     },
     "user_tz": 180
    },
    "id": "wO60ZLR-TgqG",
    "outputId": "27cffae3-5a5e-450c-d572-add671eeb417"
   },
   "outputs": [
    {
     "data": {
      "text/plain": [
       "[0, 1, 2, 3, 4, 5, 6, 7, 8]"
      ]
     },
     "execution_count": 160,
     "metadata": {},
     "output_type": "execute_result"
    }
   ],
   "source": [
    "n = 9\n",
    "\n",
    "# me dê uma sequencia de n elementos que começa em zero (e, portanto, termina em n-1)\n",
    "list(range(n))"
   ]
  },
  {
   "cell_type": "markdown",
   "metadata": {
    "id": "tsMuk2a1hMpr"
   },
   "source": [
    "É muito comum usar o for com o range para **percorrer os índices de uma lista**, e assim também **acessar os elementos da lista através do índice**.\n",
    "\n",
    "Isso é feito passando pro range o comprinento da lista como argumento:"
   ]
  },
  {
   "cell_type": "code",
   "execution_count": 157,
   "metadata": {
    "colab": {
     "base_uri": "https://localhost:8080/"
    },
    "executionInfo": {
     "elapsed": 242,
     "status": "ok",
     "timestamp": 1673549249619,
     "user": {
      "displayName": "Andre Juan",
      "userId": "08529802346316693602"
     },
     "user_tz": 180
    },
    "id": "PkdBBDc_hMpr",
    "outputId": "7a453698-4592-4f19-838a-1617cc5c90d4"
   },
   "outputs": [
    {
     "data": {
      "text/plain": [
       "[4, 7, 13, 15, 1, 8, 16, 20, 3]"
      ]
     },
     "execution_count": 157,
     "metadata": {},
     "output_type": "execute_result"
    }
   ],
   "source": [
    "lista_num"
   ]
  },
  {
   "cell_type": "code",
   "execution_count": 159,
   "metadata": {
    "colab": {
     "base_uri": "https://localhost:8080/"
    },
    "executionInfo": {
     "elapsed": 353,
     "status": "ok",
     "timestamp": 1673549292708,
     "user": {
      "displayName": "Andre Juan",
      "userId": "08529802346316693602"
     },
     "user_tz": 180
    },
    "id": "YR-i4qNjTwi1",
    "outputId": "7488d15a-b324-4c78-9755-a158768931f5"
   },
   "outputs": [
    {
     "data": {
      "text/plain": [
       "9"
      ]
     },
     "execution_count": 159,
     "metadata": {},
     "output_type": "execute_result"
    }
   ],
   "source": [
    "len(lista_num)"
   ]
  },
  {
   "cell_type": "code",
   "execution_count": 166,
   "metadata": {
    "colab": {
     "base_uri": "https://localhost:8080/"
    },
    "executionInfo": {
     "elapsed": 256,
     "status": "ok",
     "timestamp": 1673549456828,
     "user": {
      "displayName": "Andre Juan",
      "userId": "08529802346316693602"
     },
     "user_tz": 180
    },
    "id": "zGX5inyMT6lm",
    "outputId": "8149279c-d3e1-43a0-ffaa-78c65715def1"
   },
   "outputs": [
    {
     "name": "stdout",
     "output_type": "stream",
     "text": [
      "4\n",
      "13\n",
      "1\n",
      "16\n",
      "3\n"
     ]
    }
   ],
   "source": [
    "for indice in range(len(lista_num)):\n",
    "\n",
    "  # caso eu queira visualizar apenas os elementos de indice par\n",
    "  if indice % 2 == 0:\n",
    "    print(lista_num[indice])"
   ]
  },
  {
   "cell_type": "markdown",
   "metadata": {
    "id": "T-q4ecYbhMpr"
   },
   "source": [
    "Note a diferença do que foi feito acima e o que é feito abaixo:"
   ]
  },
  {
   "cell_type": "code",
   "execution_count": 158,
   "metadata": {
    "colab": {
     "base_uri": "https://localhost:8080/"
    },
    "executionInfo": {
     "elapsed": 390,
     "status": "ok",
     "timestamp": 1673549269072,
     "user": {
      "displayName": "Andre Juan",
      "userId": "08529802346316693602"
     },
     "user_tz": 180
    },
    "id": "A07Y_oSghMpr",
    "outputId": "680c5c48-c4ef-456d-c7a1-1f9447d7baed"
   },
   "outputs": [
    {
     "name": "stdout",
     "output_type": "stream",
     "text": [
      "4\n",
      "7\n",
      "13\n",
      "15\n",
      "1\n",
      "8\n",
      "16\n",
      "20\n",
      "3\n"
     ]
    }
   ],
   "source": [
    "for elemento in lista_num:\n",
    "  print(elemento)"
   ]
  },
  {
   "cell_type": "markdown",
   "metadata": {
    "id": "lWaWOO6RhMps"
   },
   "source": [
    "O range é muito interessante caso **queiramos repetir determinada instrução N vezes.**\n",
    "\n",
    "Para isso, basta fazer:\n",
    "\n",
    "```python\n",
    "for i in range(N):\n",
    "    operacao_repetida\n",
    "```\n",
    "\n",
    "> É assim que o `for` passa a ser explicitamente um laço de repetição!\n",
    "\n",
    "Mas note que este laço se diferencia do while no fato de **não precisar de uma condição explícita**.\n",
    "\n",
    "Este laço determina que as operações sejam repetidas **para valores em um iterável** (que no caso é o `range`).\n",
    "\n",
    "Este laço é, portanto, bem mais controlado -- dificilmente ocorrerá loops infinitos!"
   ]
  },
  {
   "cell_type": "code",
   "execution_count": 168,
   "metadata": {
    "colab": {
     "base_uri": "https://localhost:8080/"
    },
    "executionInfo": {
     "elapsed": 299,
     "status": "ok",
     "timestamp": 1673549592448,
     "user": {
      "displayName": "Andre Juan",
      "userId": "08529802346316693602"
     },
     "user_tz": 180
    },
    "id": "imtTTBdrhMps",
    "outputId": "7e142c33-c739-4642-d405-c7e499791463"
   },
   "outputs": [
    {
     "name": "stdout",
     "output_type": "stream",
     "text": [
      "Olá, mundo!\n",
      "Olá, mundo!\n",
      "Olá, mundo!\n",
      "Olá, mundo!\n",
      "Olá, mundo!\n"
     ]
    }
   ],
   "source": [
    "N = 5\n",
    "\n",
    "# percorre uma sequencia de N elementos, e, portanto, printa N vezes\n",
    "for _ in range(N):\n",
    "  print(\"Olá, mundo!\")"
   ]
  },
  {
   "cell_type": "markdown",
   "metadata": {
    "id": "YLH4vYh1hMps"
   },
   "source": [
    "Note que o código acima é equivalente a:"
   ]
  },
  {
   "cell_type": "code",
   "execution_count": 169,
   "metadata": {
    "colab": {
     "base_uri": "https://localhost:8080/"
    },
    "executionInfo": {
     "elapsed": 259,
     "status": "ok",
     "timestamp": 1673549634848,
     "user": {
      "displayName": "Andre Juan",
      "userId": "08529802346316693602"
     },
     "user_tz": 180
    },
    "id": "lTn6mv_xhMpt",
    "outputId": "b04cd025-ecf4-43ea-8475-17585e59ae17"
   },
   "outputs": [
    {
     "name": "stdout",
     "output_type": "stream",
     "text": [
      "Olá, mundo!\n",
      "Olá, mundo!\n",
      "Olá, mundo!\n",
      "Olá, mundo!\n",
      "Olá, mundo!\n"
     ]
    }
   ],
   "source": [
    "cont = 1\n",
    "\n",
    "while cont <= N:\n",
    "  print(\"Olá, mundo!\")\n",
    "  cont += 1"
   ]
  },
  {
   "cell_type": "markdown",
   "metadata": {
    "id": "LYWvXGBbhMpt"
   },
   "source": [
    "Exemplo de uso com o break: qual é o índice do primeiro elemento negativo de uma lista?"
   ]
  },
  {
   "cell_type": "code",
   "execution_count": 172,
   "metadata": {
    "executionInfo": {
     "elapsed": 283,
     "status": "ok",
     "timestamp": 1673549739423,
     "user": {
      "displayName": "Andre Juan",
      "userId": "08529802346316693602"
     },
     "user_tz": 180
    },
    "id": "jVKhkZOZVemj"
   },
   "outputs": [],
   "source": [
    "lista_num = [4, 7, 13, -15, 1, 8, 16, 20, 3]"
   ]
  },
  {
   "cell_type": "code",
   "execution_count": 173,
   "metadata": {
    "colab": {
     "base_uri": "https://localhost:8080/"
    },
    "executionInfo": {
     "elapsed": 9,
     "status": "ok",
     "timestamp": 1673549739783,
     "user": {
      "displayName": "Andre Juan",
      "userId": "08529802346316693602"
     },
     "user_tz": 180
    },
    "id": "nb1b4EdWhMpt",
    "outputId": "44ed75fe-2024-4ec5-ee77-5c1e79d894f0"
   },
   "outputs": [
    {
     "name": "stdout",
     "output_type": "stream",
     "text": [
      "-15\n"
     ]
    }
   ],
   "source": [
    "for elemento in lista_num:\n",
    "  if elemento < 0:\n",
    "    print(elemento)\n",
    "    break"
   ]
  },
  {
   "cell_type": "code",
   "execution_count": 174,
   "metadata": {
    "colab": {
     "base_uri": "https://localhost:8080/"
    },
    "executionInfo": {
     "elapsed": 226,
     "status": "ok",
     "timestamp": 1673549835619,
     "user": {
      "displayName": "Andre Juan",
      "userId": "08529802346316693602"
     },
     "user_tz": 180
    },
    "id": "V_IP_JgpVnQo",
    "outputId": "b9e40168-746f-40b8-f473-87b2ccb84f47"
   },
   "outputs": [
    {
     "name": "stdout",
     "output_type": "stream",
     "text": [
      "3\n"
     ]
    }
   ],
   "source": [
    "for i in range(len(lista_num)):\n",
    "  if lista_num[i] < 0:\n",
    "    print(i)\n",
    "    break"
   ]
  },
  {
   "cell_type": "markdown",
   "metadata": {
    "id": "lR-hgb8KWIPB"
   },
   "source": [
    "## Lição de casa: problema gerador com o for ao invés do while\n",
    "\n",
    "### Desafio: construa a lista de notas em uma única linha!"
   ]
  },
  {
   "cell_type": "code",
   "execution_count": null,
   "metadata": {
    "id": "bQ5Pe9N3WOmz"
   },
   "outputs": [],
   "source": []
  }
 ],
 "metadata": {
  "colab": {
   "provenance": []
  },
  "kernelspec": {
   "display_name": "Python 3 (ipykernel)",
   "language": "python",
   "name": "python3"
  },
  "language_info": {
   "codemirror_mode": {
    "name": "ipython",
    "version": 3
   },
   "file_extension": ".py",
   "mimetype": "text/x-python",
   "name": "python",
   "nbconvert_exporter": "python",
   "pygments_lexer": "ipython3",
   "version": "3.11.5"
  }
 },
 "nbformat": 4,
 "nbformat_minor": 1
}
