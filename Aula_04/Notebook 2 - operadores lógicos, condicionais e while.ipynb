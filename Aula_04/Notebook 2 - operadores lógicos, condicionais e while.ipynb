{
 "cells": [
  {
   "cell_type": "markdown",
   "metadata": {
    "id": "D74Hwi1mMrx5"
   },
   "source": [
    "# Aula 2 - operadores lógicos, estruturas condicionais e loop while\n",
    "\n",
    "Na aula de hoje, vamos explorar os seguintes tópicos em Python:\n",
    "\n",
    "- 1) Operadores lógicos;\n",
    "- 2) Estruturas condicionais;\n",
    "- 3) Laços de repetição (while).\n",
    "\n",
    "_____________\n",
    "\n",
    "### Problema gerador: como contar até 10 em Python?\n",
    "\n",
    "Isto é, exibir sequencialmente os números de 1 a 10, um por linha?"
   ]
  },
  {
   "cell_type": "markdown",
   "metadata": {
    "id": "N4IKpyFiMrx9"
   },
   "source": [
    "____\n",
    "____\n",
    "____"
   ]
  },
  {
   "cell_type": "markdown",
   "metadata": {
    "id": "IriQ1LTWMrx_"
   },
   "source": [
    "## 1) Operadores lógicos\n",
    "\n",
    "Em muitos problemas de programação, há necessidade de se fazer **comparações** entre variáveis.\n",
    "\n",
    "Por exemplo:\n",
    "\n",
    "- checar se um número é maior que outro;\n",
    "- checar se uma variável é igual a outra;\n",
    "- checar se há valores diferentes..."
   ]
  },
  {
   "cell_type": "markdown",
   "metadata": {
    "id": "RkMpYGuTMryA"
   },
   "source": [
    "Para fazer essas comparações, utilizamos os **operadores lógicos de comparação**. Em Python, há 6 desses operadores:\n",
    "\n",
    "- Maior que: `>`\n",
    "- Maior ou igual: `>=`\n",
    "- Menor que: `<`\n",
    "- Menor ou igual: `<=`\n",
    "- Igual: `==`\n",
    "- Diferente: `!=`"
   ]
  },
  {
   "cell_type": "markdown",
   "metadata": {
    "id": "vcPXAcXSMryB"
   },
   "source": [
    "O resultado de uma comparação sempre vai ser um booleano, isto é, **True** ou **False**!\n",
    "\n",
    "Dica: sempre leia as comparações como uma **pergunta**:\n",
    "\n",
    "> Ex: \"numero < 100\", leia: \"o valor na variável `numero` é menor que 100?\"\n",
    "\n",
    "Os operadores de comparação são destacados em **roxo** no Jupyter."
   ]
  },
  {
   "cell_type": "code",
   "execution_count": 3,
   "metadata": {
    "executionInfo": {
     "elapsed": 4,
     "status": "ok",
     "timestamp": 1673530985924,
     "user": {
      "displayName": "Andre Juan",
      "userId": "08529802346316693602"
     },
     "user_tz": 180
    },
    "id": "f0muXR3kMryC"
   },
   "outputs": [],
   "source": [
    "numero = 200"
   ]
  },
  {
   "cell_type": "code",
   "execution_count": 4,
   "metadata": {
    "colab": {
     "base_uri": "https://localhost:8080/"
    },
    "executionInfo": {
     "elapsed": 258,
     "status": "ok",
     "timestamp": 1673530991707,
     "user": {
      "displayName": "Andre Juan",
      "userId": "08529802346316693602"
     },
     "user_tz": 180
    },
    "id": "IywLPWmANxBG",
    "outputId": "fbfd66ac-358b-41f6-ff6c-c1635a8c20b4"
   },
   "outputs": [
    {
     "data": {
      "text/plain": [
       "False"
      ]
     },
     "execution_count": 4,
     "metadata": {},
     "output_type": "execute_result"
    }
   ],
   "source": [
    "numero < 100"
   ]
  },
  {
   "cell_type": "code",
   "execution_count": 5,
   "metadata": {
    "colab": {
     "base_uri": "https://localhost:8080/"
    },
    "executionInfo": {
     "elapsed": 12,
     "status": "ok",
     "timestamp": 1673531027991,
     "user": {
      "displayName": "Andre Juan",
      "userId": "08529802346316693602"
     },
     "user_tz": 180
    },
    "id": "TELhPE4HONFS",
    "outputId": "e384f824-0ae4-49b0-8e0e-5b5faabc488a"
   },
   "outputs": [
    {
     "data": {
      "text/plain": [
       "True"
      ]
     },
     "execution_count": 5,
     "metadata": {},
     "output_type": "execute_result"
    }
   ],
   "source": [
    "numero > 100"
   ]
  },
  {
   "cell_type": "code",
   "execution_count": 6,
   "metadata": {
    "colab": {
     "base_uri": "https://localhost:8080/"
    },
    "executionInfo": {
     "elapsed": 821,
     "status": "ok",
     "timestamp": 1673531050235,
     "user": {
      "displayName": "Andre Juan",
      "userId": "08529802346316693602"
     },
     "user_tz": 180
    },
    "id": "UXm7qcdNORFT",
    "outputId": "222f725b-48a4-4f2d-b172-9f08d67f3e45"
   },
   "outputs": [
    {
     "data": {
      "text/plain": [
       "False"
      ]
     },
     "execution_count": 6,
     "metadata": {},
     "output_type": "execute_result"
    }
   ],
   "source": [
    "numero == 100"
   ]
  },
  {
   "cell_type": "code",
   "execution_count": 7,
   "metadata": {
    "colab": {
     "base_uri": "https://localhost:8080/"
    },
    "executionInfo": {
     "elapsed": 15,
     "status": "ok",
     "timestamp": 1673531063575,
     "user": {
      "displayName": "Andre Juan",
      "userId": "08529802346316693602"
     },
     "user_tz": 180
    },
    "id": "guIKApziOVjS",
    "outputId": "802496b1-0f7a-44f7-a1de-2f1dbfb1a079"
   },
   "outputs": [
    {
     "data": {
      "text/plain": [
       "True"
      ]
     },
     "execution_count": 7,
     "metadata": {},
     "output_type": "execute_result"
    }
   ],
   "source": [
    "numero != 100"
   ]
  },
  {
   "cell_type": "markdown",
   "metadata": {
    "id": "53yyAD-JMryC"
   },
   "source": [
    "A comparação pode ser feita entre duas variáveis, também:"
   ]
  },
  {
   "cell_type": "code",
   "execution_count": 8,
   "metadata": {
    "executionInfo": {
     "elapsed": 3,
     "status": "ok",
     "timestamp": 1673531133121,
     "user": {
      "displayName": "Andre Juan",
      "userId": "08529802346316693602"
     },
     "user_tz": 180
    },
    "id": "OXrhyN6gMryD"
   },
   "outputs": [],
   "source": [
    "numero2 = 100"
   ]
  },
  {
   "cell_type": "code",
   "execution_count": 11,
   "metadata": {
    "colab": {
     "base_uri": "https://localhost:8080/"
    },
    "executionInfo": {
     "elapsed": 3,
     "status": "ok",
     "timestamp": 1673531177399,
     "user": {
      "displayName": "Andre Juan",
      "userId": "08529802346316693602"
     },
     "user_tz": 180
    },
    "id": "qcpT4-aJOpgn",
    "outputId": "af62486f-540a-411a-d611-26947e36e420"
   },
   "outputs": [
    {
     "data": {
      "text/plain": [
       "True"
      ]
     },
     "execution_count": 11,
     "metadata": {},
     "output_type": "execute_result"
    }
   ],
   "source": [
    "# 200 > 100\n",
    "\n",
    "numero > numero2"
   ]
  },
  {
   "cell_type": "code",
   "execution_count": 12,
   "metadata": {
    "executionInfo": {
     "elapsed": 3,
     "status": "ok",
     "timestamp": 1673531200618,
     "user": {
      "displayName": "Andre Juan",
      "userId": "08529802346316693602"
     },
     "user_tz": 180
    },
    "id": "lHJ2Gu2xO18p"
   },
   "outputs": [],
   "source": [
    "numero3 = 3.14"
   ]
  },
  {
   "cell_type": "code",
   "execution_count": 15,
   "metadata": {
    "colab": {
     "base_uri": "https://localhost:8080/"
    },
    "executionInfo": {
     "elapsed": 237,
     "status": "ok",
     "timestamp": 1673531262122,
     "user": {
      "displayName": "Andre Juan",
      "userId": "08529802346316693602"
     },
     "user_tz": 180
    },
    "id": "wNXrVe3TO5fK",
    "outputId": "2bb74d66-01bc-4f68-d3f0-5d4a41678c65"
   },
   "outputs": [
    {
     "data": {
      "text/plain": [
       "False"
      ]
     },
     "execution_count": 15,
     "metadata": {},
     "output_type": "execute_result"
    }
   ],
   "source": [
    "# 100 < 3.14\n",
    "\n",
    "numero2 < numero3"
   ]
  },
  {
   "cell_type": "code",
   "execution_count": 16,
   "metadata": {
    "colab": {
     "base_uri": "https://localhost:8080/"
    },
    "executionInfo": {
     "elapsed": 3,
     "status": "ok",
     "timestamp": 1673531284594,
     "user": {
      "displayName": "Andre Juan",
      "userId": "08529802346316693602"
     },
     "user_tz": 180
    },
    "id": "TA2ngfCRPL82",
    "outputId": "b01a273e-6d0e-4e9b-a457-c0c4074ebb72"
   },
   "outputs": [
    {
     "data": {
      "text/plain": [
       "True"
      ]
     },
     "execution_count": 16,
     "metadata": {},
     "output_type": "execute_result"
    }
   ],
   "source": [
    "numero2 != numero3"
   ]
  },
  {
   "cell_type": "code",
   "execution_count": 17,
   "metadata": {
    "colab": {
     "base_uri": "https://localhost:8080/"
    },
    "executionInfo": {
     "elapsed": 247,
     "status": "ok",
     "timestamp": 1673531311727,
     "user": {
      "displayName": "Andre Juan",
      "userId": "08529802346316693602"
     },
     "user_tz": 180
    },
    "id": "ug94OE7MPO_O",
    "outputId": "2c3466b6-d156-4b23-9b89-67aca4ae0dfe"
   },
   "outputs": [
    {
     "data": {
      "text/plain": [
       "True"
      ]
     },
     "execution_count": 17,
     "metadata": {},
     "output_type": "execute_result"
    }
   ],
   "source": [
    "10 == 10.0"
   ]
  },
  {
   "cell_type": "markdown",
   "metadata": {
    "id": "ztwE_v3LMryE"
   },
   "source": [
    "Podemos também comparar strings!"
   ]
  },
  {
   "cell_type": "code",
   "execution_count": 30,
   "metadata": {
    "executionInfo": {
     "elapsed": 257,
     "status": "ok",
     "timestamp": 1673531672251,
     "user": {
      "displayName": "Andre Juan",
      "userId": "08529802346316693602"
     },
     "user_tz": 180
    },
    "id": "DY8ZLTDWMryF"
   },
   "outputs": [],
   "source": [
    "s1 = \"abacate\"\n",
    "s2 = \"abacaxi\""
   ]
  },
  {
   "cell_type": "code",
   "execution_count": 31,
   "metadata": {
    "colab": {
     "base_uri": "https://localhost:8080/"
    },
    "executionInfo": {
     "elapsed": 377,
     "status": "ok",
     "timestamp": 1673531675631,
     "user": {
      "displayName": "Andre Juan",
      "userId": "08529802346316693602"
     },
     "user_tz": 180
    },
    "id": "Tqts40eFPmKc",
    "outputId": "81a6e056-313f-470b-e764-390d2d354aa5"
   },
   "outputs": [
    {
     "data": {
      "text/plain": [
       "False"
      ]
     },
     "execution_count": 31,
     "metadata": {},
     "output_type": "execute_result"
    }
   ],
   "source": [
    "s1 == s2"
   ]
  },
  {
   "cell_type": "code",
   "execution_count": 32,
   "metadata": {
    "colab": {
     "base_uri": "https://localhost:8080/"
    },
    "executionInfo": {
     "elapsed": 250,
     "status": "ok",
     "timestamp": 1673531714961,
     "user": {
      "displayName": "Andre Juan",
      "userId": "08529802346316693602"
     },
     "user_tz": 180
    },
    "id": "kYaxzHHpPhqv",
    "outputId": "c0d513e0-c9d8-4230-ee5f-d615f8409949"
   },
   "outputs": [
    {
     "data": {
      "text/plain": [
       "False"
      ]
     },
     "execution_count": 32,
     "metadata": {},
     "output_type": "execute_result"
    }
   ],
   "source": [
    "s1 > s2"
   ]
  },
  {
   "cell_type": "code",
   "execution_count": 34,
   "metadata": {
    "colab": {
     "base_uri": "https://localhost:8080/"
    },
    "executionInfo": {
     "elapsed": 14,
     "status": "ok",
     "timestamp": 1673531792664,
     "user": {
      "displayName": "Andre Juan",
      "userId": "08529802346316693602"
     },
     "user_tz": 180
    },
    "id": "c79OYi95RId5",
    "outputId": "7115c17b-179e-4b68-c9e2-e44a9305c4a5"
   },
   "outputs": [
    {
     "data": {
      "text/plain": [
       "True"
      ]
     },
     "execution_count": 34,
     "metadata": {},
     "output_type": "execute_result"
    }
   ],
   "source": [
    "s1 < s2"
   ]
  },
  {
   "cell_type": "code",
   "execution_count": 33,
   "metadata": {
    "colab": {
     "base_uri": "https://localhost:8080/"
    },
    "executionInfo": {
     "elapsed": 4,
     "status": "ok",
     "timestamp": 1673531723147,
     "user": {
      "displayName": "Andre Juan",
      "userId": "08529802346316693602"
     },
     "user_tz": 180
    },
    "id": "V4B4y8PYQc1r",
    "outputId": "d7cf6a8e-e5e8-4008-b7b4-a966b4bf0848"
   },
   "outputs": [
    {
     "data": {
      "text/plain": [
       "True"
      ]
     },
     "execution_count": 33,
     "metadata": {},
     "output_type": "execute_result"
    }
   ],
   "source": [
    "s2 > s1"
   ]
  },
  {
   "cell_type": "markdown",
   "metadata": {
    "id": "JHsrq2NeMryF"
   },
   "source": [
    "Os operadores >, >=, <, <= atuam comparando **ordem lexicográfica** quando aplicados a strings.\n",
    "\n",
    "A ordem lexicográfica é definida a partir da [tabela ASCII](https://pt.wikipedia.org/wiki/ASCII):\n",
    "\n",
    "<br> \n",
    "\n",
    "<figure>\n",
    "    <img src=https://s3-sa-east-1.amazonaws.com/lcpi/38601fbd-1d55-4eb0-8c7b-8f2fe6a9328e.png width=700>\n",
    "    <figcaption>Wikimedia</figcaption>\n",
    "</figure>"
   ]
  },
  {
   "cell_type": "markdown",
   "metadata": {
    "id": "-WpPBrJqMryG"
   },
   "source": [
    "Portanto, o python compara duas strings **caractere a caractere**, tomando a representação numérica de cada caractere para fazer a comparação.\n",
    "\n",
    "É possível recuperar esta representação numérica (decimal) com a função `ord()`:"
   ]
  },
  {
   "cell_type": "code",
   "execution_count": 35,
   "metadata": {
    "colab": {
     "base_uri": "https://localhost:8080/"
    },
    "executionInfo": {
     "elapsed": 258,
     "status": "ok",
     "timestamp": 1673531949590,
     "user": {
      "displayName": "Andre Juan",
      "userId": "08529802346316693602"
     },
     "user_tz": 180
    },
    "id": "Bgl0TupHMryH",
    "outputId": "1d2cc685-1092-4df0-baec-aa0c7b04fc38"
   },
   "outputs": [
    {
     "data": {
      "text/plain": [
       "116"
      ]
     },
     "execution_count": 35,
     "metadata": {},
     "output_type": "execute_result"
    }
   ],
   "source": [
    "ord(\"t\")"
   ]
  },
  {
   "cell_type": "markdown",
   "metadata": {
    "id": "LxBtza2ZMryJ"
   },
   "source": [
    "___________"
   ]
  },
  {
   "cell_type": "markdown",
   "metadata": {
    "id": "U4U0xEChMryK"
   },
   "source": [
    "Podemos fazer comparação entre **tipos numéricos** diferentes (int e float):"
   ]
  },
  {
   "cell_type": "code",
   "execution_count": 36,
   "metadata": {
    "colab": {
     "base_uri": "https://localhost:8080/"
    },
    "executionInfo": {
     "elapsed": 389,
     "status": "ok",
     "timestamp": 1673531977079,
     "user": {
      "displayName": "Andre Juan",
      "userId": "08529802346316693602"
     },
     "user_tz": 180
    },
    "id": "cqv3IB4EMryK",
    "outputId": "b4c57b29-030f-42d9-8051-433b44ca4673"
   },
   "outputs": [
    {
     "data": {
      "text/plain": [
       "False"
      ]
     },
     "execution_count": 36,
     "metadata": {},
     "output_type": "execute_result"
    }
   ],
   "source": [
    "10 != 10.0"
   ]
  },
  {
   "cell_type": "code",
   "execution_count": 38,
   "metadata": {
    "colab": {
     "base_uri": "https://localhost:8080/"
    },
    "executionInfo": {
     "elapsed": 250,
     "status": "ok",
     "timestamp": 1673532067738,
     "user": {
      "displayName": "Andre Juan",
      "userId": "08529802346316693602"
     },
     "user_tz": 180
    },
    "id": "zMX-sal8SKj5",
    "outputId": "f09d7b22-b429-4306-d736-5e5a77c5c339"
   },
   "outputs": [
    {
     "data": {
      "text/plain": [
       "True"
      ]
     },
     "execution_count": 38,
     "metadata": {},
     "output_type": "execute_result"
    }
   ],
   "source": [
    "10 > 3.14"
   ]
  },
  {
   "cell_type": "markdown",
   "metadata": {
    "id": "Ij0DVgN4MryL"
   },
   "source": [
    "Mas comparações entre string e tipos numéricos são possíveis **apenas para == e !=**:\n"
   ]
  },
  {
   "cell_type": "code",
   "execution_count": 40,
   "metadata": {
    "colab": {
     "base_uri": "https://localhost:8080/"
    },
    "executionInfo": {
     "elapsed": 12,
     "status": "ok",
     "timestamp": 1673532116410,
     "user": {
      "displayName": "Andre Juan",
      "userId": "08529802346316693602"
     },
     "user_tz": 180
    },
    "id": "FIg_DC-nSXYk",
    "outputId": "d61f0e1c-a72b-4cbe-871a-64757a0d05ae"
   },
   "outputs": [
    {
     "data": {
      "text/plain": [
       "True"
      ]
     },
     "execution_count": 40,
     "metadata": {},
     "output_type": "execute_result"
    }
   ],
   "source": [
    "10 == 10.0"
   ]
  },
  {
   "cell_type": "code",
   "execution_count": 39,
   "metadata": {
    "colab": {
     "base_uri": "https://localhost:8080/"
    },
    "executionInfo": {
     "elapsed": 460,
     "status": "ok",
     "timestamp": 1673532096555,
     "user": {
      "displayName": "Andre Juan",
      "userId": "08529802346316693602"
     },
     "user_tz": 180
    },
    "id": "TGGNEbneMryL",
    "outputId": "3fc0ccb3-5de2-4984-ee39-45889e737673"
   },
   "outputs": [
    {
     "data": {
      "text/plain": [
       "False"
      ]
     },
     "execution_count": 39,
     "metadata": {},
     "output_type": "execute_result"
    }
   ],
   "source": [
    "10 == \"10\""
   ]
  },
  {
   "cell_type": "code",
   "execution_count": 41,
   "metadata": {
    "colab": {
     "base_uri": "https://localhost:8080/",
     "height": 167
    },
    "executionInfo": {
     "elapsed": 1007,
     "status": "error",
     "timestamp": 1673532186304,
     "user": {
      "displayName": "Andre Juan",
      "userId": "08529802346316693602"
     },
     "user_tz": 180
    },
    "id": "VZ3pZkMVSjZ1",
    "outputId": "2e8ebf4d-9d13-4d31-d309-e97ff6b4dfd5"
   },
   "outputs": [
    {
     "ename": "TypeError",
     "evalue": "ignored",
     "output_type": "error",
     "traceback": [
      "\u001b[0;31m---------------------------------------------------------------------------\u001b[0m",
      "\u001b[0;31mTypeError\u001b[0m                                 Traceback (most recent call last)",
      "\u001b[0;32m<ipython-input-41-f169cb20ceb7>\u001b[0m in \u001b[0;36m<module>\u001b[0;34m\u001b[0m\n\u001b[0;32m----> 1\u001b[0;31m \u001b[0;36m10\u001b[0m \u001b[0;34m>\u001b[0m \u001b[0;34m\"3.14\"\u001b[0m\u001b[0;34m\u001b[0m\u001b[0;34m\u001b[0m\u001b[0m\n\u001b[0m",
      "\u001b[0;31mTypeError\u001b[0m: '>' not supported between instances of 'int' and 'str'"
     ]
    }
   ],
   "source": [
    "10 > \"3.14\""
   ]
  },
  {
   "cell_type": "markdown",
   "metadata": {
    "id": "sagmiOrLMryL"
   },
   "source": [
    "O erro acima aconteceu porque **não é possível comparar a orderm (usando >, >=, <, <=)** de variáveis numéricas e strings!"
   ]
  },
  {
   "cell_type": "markdown",
   "metadata": {
    "id": "72Lepwo2MryM"
   },
   "source": [
    "___"
   ]
  },
  {
   "cell_type": "markdown",
   "metadata": {
    "id": "_bl6bqppMryN"
   },
   "source": [
    "Além dos operadores lógicos de comparação, também temos os **operadores lógicos de conjunção**, que são utilizados pra fazer uma **combinação** entre comparações. \n",
    "\n",
    "Os operadores de conjunção são: **and** e **or**, e eles seguem a seguinte regra:\n",
    "\n",
    "- **and** só é True se **ambas** as comparações forem True:\n",
    "    - False and True resulta em \"False\"\n",
    "    - False and False resulta em \"False\"\n",
    "    - True and True resulta em \"True\"\n",
    "- **or** é True se **pelo menos uma** das comparações for True:\n",
    "    - False or True resulta em \"True\"\n",
    "    - True or True resulta em \"True\"\n",
    "    - False or False resulta em \"False\"\n",
    "\n",
    "Os operadores de conjunção são destacados em **verde escuro** no Jupyter"
   ]
  },
  {
   "cell_type": "code",
   "execution_count": 42,
   "metadata": {
    "colab": {
     "base_uri": "https://localhost:8080/"
    },
    "executionInfo": {
     "elapsed": 7,
     "status": "ok",
     "timestamp": 1673532416913,
     "user": {
      "displayName": "Andre Juan",
      "userId": "08529802346316693602"
     },
     "user_tz": 180
    },
    "id": "BlnKNZWqMryN",
    "outputId": "8bab1ff6-a3f0-4d49-c36b-82526347ba7d"
   },
   "outputs": [
    {
     "name": "stdout",
     "output_type": "stream",
     "text": [
      "Operador and:\n",
      "False\n",
      "False\n",
      "True\n"
     ]
    }
   ],
   "source": [
    "print(\"Operador and:\")\n",
    "print(True and False)\n",
    "print(False and False)\n",
    "print(True and True)"
   ]
  },
  {
   "cell_type": "code",
   "execution_count": 47,
   "metadata": {
    "colab": {
     "base_uri": "https://localhost:8080/"
    },
    "executionInfo": {
     "elapsed": 13,
     "status": "ok",
     "timestamp": 1673532555094,
     "user": {
      "displayName": "Andre Juan",
      "userId": "08529802346316693602"
     },
     "user_tz": 180
    },
    "id": "5kdkt6yrMryO",
    "outputId": "b710ebe1-ea93-48c0-be24-5b27f0c0c13b"
   },
   "outputs": [
    {
     "data": {
      "text/plain": [
       "False"
      ]
     },
     "execution_count": 47,
     "metadata": {},
     "output_type": "execute_result"
    }
   ],
   "source": [
    "# conjunção entre duas expressões lógicas\n",
    "# True and False, resulta em False\n",
    "\n",
    "(2 < 5) and (2 == 5)"
   ]
  },
  {
   "cell_type": "code",
   "execution_count": 48,
   "metadata": {
    "colab": {
     "base_uri": "https://localhost:8080/"
    },
    "executionInfo": {
     "elapsed": 10,
     "status": "ok",
     "timestamp": 1673532598112,
     "user": {
      "displayName": "Andre Juan",
      "userId": "08529802346316693602"
     },
     "user_tz": 180
    },
    "id": "zr5BhBAnMryO",
    "outputId": "2e64f2ec-76cd-4d14-b8f3-963b4e3b6f9c"
   },
   "outputs": [
    {
     "data": {
      "text/plain": [
       "True"
      ]
     },
     "execution_count": 48,
     "metadata": {},
     "output_type": "execute_result"
    }
   ],
   "source": [
    "# True and True, resulta em True\n",
    "\n",
    "(2 < 5) and (2 != 5)"
   ]
  },
  {
   "cell_type": "code",
   "execution_count": 43,
   "metadata": {
    "colab": {
     "base_uri": "https://localhost:8080/"
    },
    "executionInfo": {
     "elapsed": 11,
     "status": "ok",
     "timestamp": 1673532444521,
     "user": {
      "displayName": "Andre Juan",
      "userId": "08529802346316693602"
     },
     "user_tz": 180
    },
    "id": "_gjDHZ9vMryO",
    "outputId": "3570d703-be46-4f59-958e-ffd2b83d1f6b"
   },
   "outputs": [
    {
     "name": "stdout",
     "output_type": "stream",
     "text": [
      "Operador or:\n",
      "True\n",
      "True\n",
      "False\n"
     ]
    }
   ],
   "source": [
    "print(\"Operador or:\")\n",
    "print(False or True)\n",
    "print(True or True)\n",
    "print(False or False)"
   ]
  },
  {
   "cell_type": "code",
   "execution_count": 49,
   "metadata": {
    "colab": {
     "base_uri": "https://localhost:8080/"
    },
    "executionInfo": {
     "elapsed": 288,
     "status": "ok",
     "timestamp": 1673532633248,
     "user": {
      "displayName": "Andre Juan",
      "userId": "08529802346316693602"
     },
     "user_tz": 180
    },
    "id": "UCJKR3etMryO",
    "outputId": "7b3f9a52-51cb-448a-f5c8-2a2d1385c208"
   },
   "outputs": [
    {
     "data": {
      "text/plain": [
       "True"
      ]
     },
     "execution_count": 49,
     "metadata": {},
     "output_type": "execute_result"
    }
   ],
   "source": [
    "# True or False, resulta em True\n",
    "\n",
    "(2 < 5) or (2 == 5)"
   ]
  },
  {
   "cell_type": "code",
   "execution_count": 50,
   "metadata": {
    "colab": {
     "base_uri": "https://localhost:8080/"
    },
    "executionInfo": {
     "elapsed": 245,
     "status": "ok",
     "timestamp": 1673532655626,
     "user": {
      "displayName": "Andre Juan",
      "userId": "08529802346316693602"
     },
     "user_tz": 180
    },
    "id": "WMt1DqqbMryO",
    "outputId": "c20a5750-a6a8-4410-f147-f4bab2258502"
   },
   "outputs": [
    {
     "data": {
      "text/plain": [
       "False"
      ]
     },
     "execution_count": 50,
     "metadata": {},
     "output_type": "execute_result"
    }
   ],
   "source": [
    "# False or False, resulta em False\n",
    "(2 > 5) or (2 == 5)"
   ]
  },
  {
   "cell_type": "markdown",
   "metadata": {
    "id": "KZMgaYbGMryP"
   },
   "source": [
    "Se tivermos mais de duas comparações pra fazer conjunção, é melhor usarmos parênteses.\n",
    "\n",
    "Primeiro a conjunção entre parênteses é feita, e depois o resultado é usado pra avaliar a conjunção total:"
   ]
  },
  {
   "cell_type": "code",
   "execution_count": 53,
   "metadata": {
    "colab": {
     "base_uri": "https://localhost:8080/"
    },
    "executionInfo": {
     "elapsed": 276,
     "status": "ok",
     "timestamp": 1673532775627,
     "user": {
      "displayName": "Andre Juan",
      "userId": "08529802346316693602"
     },
     "user_tz": 180
    },
    "id": "YLb5bKIlMryP",
    "outputId": "66e1cd25-92f1-46e3-c7d0-a380ad570f51"
   },
   "outputs": [
    {
     "data": {
      "text/plain": [
       "False"
      ]
     },
     "execution_count": 53,
     "metadata": {},
     "output_type": "execute_result"
    }
   ],
   "source": [
    "# (True or False) and False\n",
    "# (True) and False \n",
    "# False\n",
    "\n",
    "(2 < 5 or 2 == 5) and 5 != 5"
   ]
  },
  {
   "cell_type": "markdown",
   "metadata": {
    "id": "zFguGjgdMryP"
   },
   "source": [
    "__________\n",
    "__________\n",
    "__________\n"
   ]
  },
  {
   "cell_type": "markdown",
   "metadata": {
    "id": "LqcmTXCgMryQ"
   },
   "source": [
    "## 2) Estruturas condicionais\n",
    "\n",
    "O principal uso dos operadores lógicos é em **estruturas condicionais**\n",
    "\n",
    "Esse tipo de estrutura é utilizada para tratar **casos diferentes** dentro do código, a depender do valor lógico de uma dada condição."
   ]
  },
  {
   "cell_type": "markdown",
   "metadata": {
    "id": "L0Dh1iOCMryQ"
   },
   "source": [
    "Os **operadores condicionais** são: **if**, **elif** e **else**\n",
    "\n",
    "- **if**: Se uma condição for verdadeira, faça determinada operação.\n",
    "- **elif**: Se a condição acima for falsa, avalie uma próxima condição, e se essa for verdadeira, faça outra operação\n",
    "- **else**: Se nenhuma das condições acima for verdadeira, faça outra coisa\n",
    "\n",
    "O uso de elif e else **não** é obrigatório! (Mas é muitas vezes conveniente!)"
   ]
  },
  {
   "cell_type": "markdown",
   "metadata": {
    "id": "2xJFVoM7MryR"
   },
   "source": [
    "As estruturas de repetição aparecem em **blocos identados (com \"tab\") após dois pontos**, na seguinte estrutura:\n",
    "\n",
    "```python\n",
    "if (condicao é True):\n",
    "    operacoes\n",
    "elif (condicao é True):\n",
    "    operacoes\n",
    "else:\n",
    "    operacoes\n",
    "```"
   ]
  },
  {
   "cell_type": "markdown",
   "metadata": {
    "id": "U3nCzBW5MryS"
   },
   "source": [
    "- Se alguma condição no if ou elif for verdadeira, todo o resto é ignorado!\n",
    "- Por isso, as condições no if e os diferentes elifs sempre são **excludentes**!\n",
    "\n",
    "Os operadores condicionais são destacados em **verde escuro** no Jupyter"
   ]
  },
  {
   "cell_type": "markdown",
   "metadata": {
    "id": "-JlAhr_nMryS"
   },
   "source": [
    "_________\n",
    "\n",
    "**Exemplo**: imagine que uma escola tem o seguinte critério de avaliação baseado na média do aluno:\n",
    "\n",
    "- se a média for maior ou igual a 5, o aluno é aprovado;\n",
    "- caso contrário, o aluno é reprovado\n"
   ]
  },
  {
   "cell_type": "code",
   "execution_count": 55,
   "metadata": {
    "colab": {
     "base_uri": "https://localhost:8080/"
    },
    "executionInfo": {
     "elapsed": 11,
     "status": "ok",
     "timestamp": 1673533214577,
     "user": {
      "displayName": "Andre Juan",
      "userId": "08529802346316693602"
     },
     "user_tz": 180
    },
    "id": "JsPbNRILMryS",
    "outputId": "16f0ed03-8d50-413c-e95c-e6fce59bb11d"
   },
   "outputs": [
    {
     "name": "stdout",
     "output_type": "stream",
     "text": [
      "Reprovado\n"
     ]
    }
   ],
   "source": [
    "media = 3\n",
    "\n",
    "if media >= 5:\n",
    "  print(\"Aprovado!\")\n",
    "else:\n",
    "  print(\"Reprovado\")"
   ]
  },
  {
   "cell_type": "markdown",
   "metadata": {
    "id": "zDnccyDPMryT"
   },
   "source": [
    "Também podemos usar o elif, embora não seja necessário, dado que a condição `media >= 5` é suficiente para implementarmos esta lógica (afinal, `media < 5` é seu complementar!)"
   ]
  },
  {
   "cell_type": "code",
   "execution_count": 57,
   "metadata": {
    "colab": {
     "base_uri": "https://localhost:8080/"
    },
    "executionInfo": {
     "elapsed": 7,
     "status": "ok",
     "timestamp": 1673533358072,
     "user": {
      "displayName": "Andre Juan",
      "userId": "08529802346316693602"
     },
     "user_tz": 180
    },
    "id": "RHOLJkz1MryT",
    "outputId": "90ffec2d-1a50-4b54-fb55-fc3dc79ddb9f"
   },
   "outputs": [
    {
     "name": "stdout",
     "output_type": "stream",
     "text": [
      "reprovado\n"
     ]
    }
   ],
   "source": [
    "media = 3\n",
    "\n",
    "if media >= 5:\n",
    "  print(\"aprovado\")\n",
    "elif media < 5:\n",
    "  print(\"reprovado\")"
   ]
  },
  {
   "cell_type": "markdown",
   "metadata": {
    "id": "ug1PoYlUMryT"
   },
   "source": [
    "_________\n",
    "\n",
    "**Exemplo**: imagine que uma escola tem o seguinte critério de avaliação baseado na **média** do aluno **e** em sua **frequência**.\n",
    "\n",
    "- regra 1: se a média for maior ou igal a 9, o aluno é aprovado, independente da frequência;\n",
    "- regra 2: se a média estiver entre 6 e 9, o aluno só é aprovado se a frequência for maior ou igual a 75%;\n",
    "- regra 3: se a média estiver entre 6 e 9, mas a frequência for menor que 75%, ele vai pra recuperação;\n",
    "- regra 4: se a média for menor que 6 e a frequência do aluno for maior ou igual a 75%, ele pode fazer recuperação;\n",
    "- regra 5: se a média for menor que 6 e a frequência do aluno for menor que a 75%, ele é automaticamente reprovado.\n",
    "\n",
    "Como implementamos este algoritmo?"
   ]
  },
  {
   "cell_type": "code",
   "execution_count": 62,
   "metadata": {
    "colab": {
     "base_uri": "https://localhost:8080/"
    },
    "executionInfo": {
     "elapsed": 260,
     "status": "ok",
     "timestamp": 1673534023686,
     "user": {
      "displayName": "Andre Juan",
      "userId": "08529802346316693602"
     },
     "user_tz": 180
    },
    "id": "p8__dErQMryT",
    "outputId": "8bd671d1-0d0a-486d-be10-22a43b2b7b19"
   },
   "outputs": [
    {
     "name": "stdout",
     "output_type": "stream",
     "text": [
      "Reprovado\n"
     ]
    }
   ],
   "source": [
    "media = 4\n",
    "frequencia = 50\n",
    "\n",
    "if media >= 9:\n",
    "  print(\"Aprovado\")\n",
    "elif media >= 6 and frequencia >= 75:\n",
    "  print(\"Aprovado\")\n",
    "elif media >= 6 and frequencia < 75:\n",
    "  print(\"Recuperação\")\n",
    "elif media < 6 and frequencia >= 75:\n",
    "  print(\"Recuperação\")\n",
    "else:\n",
    "  print(\"Reprovado\")"
   ]
  },
  {
   "cell_type": "markdown",
   "metadata": {
    "id": "VoDPsw23MryT"
   },
   "source": [
    "__________\n",
    "__________\n",
    "__________"
   ]
  },
  {
   "cell_type": "markdown",
   "metadata": {
    "id": "XqSLNLQKMryT"
   },
   "source": [
    "## 3) Laços de repetição (while)\n",
    "\n",
    "Uma das utilidades de linguagens de programação é a de automatizar tarefas repetitivas.\n",
    "\n",
    "Mas, pra isso ser viável, seria bom se tivéssemos uma estrutura para **repetir comandos**, não é mesmo?\n",
    "\n",
    "Imagine que eu queira exibir na tela \"Olá, mundo!\" 5 vezes. Podemos fazer:"
   ]
  },
  {
   "cell_type": "code",
   "execution_count": 63,
   "metadata": {
    "colab": {
     "base_uri": "https://localhost:8080/"
    },
    "executionInfo": {
     "elapsed": 572,
     "status": "ok",
     "timestamp": 1673534148825,
     "user": {
      "displayName": "Andre Juan",
      "userId": "08529802346316693602"
     },
     "user_tz": 180
    },
    "id": "NWl5BUXNMryU",
    "outputId": "7f43ff80-3e86-4b1e-b923-ddd62f663748"
   },
   "outputs": [
    {
     "name": "stdout",
     "output_type": "stream",
     "text": [
      "Olá, mundo!\n",
      "Olá, mundo!\n",
      "Olá, mundo!\n",
      "Olá, mundo!\n",
      "Olá, mundo!\n"
     ]
    }
   ],
   "source": [
    "print(\"Olá, mundo!\")\n",
    "print(\"Olá, mundo!\")\n",
    "print(\"Olá, mundo!\")\n",
    "print(\"Olá, mundo!\")\n",
    "print(\"Olá, mundo!\")"
   ]
  },
  {
   "cell_type": "markdown",
   "metadata": {
    "id": "4qoykuCMMryU"
   },
   "source": [
    "Mas, e se eu quiser exibir essa mensagem 1000 vezes? Ou 1 milhão de vezes? Não é ideal escrevermos o mesmo pedaço de código tantas vezes, né?\n",
    "\n",
    "Para isso, existem os **laços de repetição**, que permitem repetir pedaços de código quantas vezes desejarmos!\n",
    "\n",
    "O primeiro laço que vamos ver é o `while`. Este laço tem a seguinte estrutura:\n",
    "\n",
    "```python\n",
    "while (condicao é True):\n",
    "    operacao_repetida\n",
    "```\n",
    "\n",
    "Ou seja, o que tá no bloco do while é repetido **enquanto a condição for verdadeira**."
   ]
  },
  {
   "cell_type": "markdown",
   "metadata": {
    "id": "h-POjCJsMryU"
   },
   "source": [
    "A estrutura do while pode levar a **loops infinitos**:"
   ]
  },
  {
   "cell_type": "code",
   "execution_count": 1,
   "metadata": {
    "executionInfo": {
     "elapsed": 256,
     "status": "ok",
     "timestamp": 1673534296711,
     "user": {
      "displayName": "Andre Juan",
      "userId": "08529802346316693602"
     },
     "user_tz": 180
    },
    "id": "7bv1EktnMryV"
   },
   "outputs": [],
   "source": [
    "# while 2 == 2:\n",
    "#   print(\"Olá, mundo!\")"
   ]
  },
  {
   "cell_type": "markdown",
   "metadata": {
    "id": "Vc_ve2koMryV"
   },
   "source": [
    "Para que loops infinitos não aconteçam, temos que fazer uma **atualização da condição** a cada iteração do laço!\n",
    "\n",
    "Isso é, temos que **atualizar** a variavel que contabiliza as repetições no loop:"
   ]
  },
  {
   "cell_type": "code",
   "execution_count": 2,
   "metadata": {
    "executionInfo": {
     "elapsed": 2,
     "status": "ok",
     "timestamp": 1673534405211,
     "user": {
      "displayName": "Andre Juan",
      "userId": "08529802346316693602"
     },
     "user_tz": 180
    },
    "id": "OXzW2naybGoc"
   },
   "outputs": [],
   "source": [
    "x = 3"
   ]
  },
  {
   "cell_type": "code",
   "execution_count": 3,
   "metadata": {
    "colab": {
     "base_uri": "https://localhost:8080/"
    },
    "executionInfo": {
     "elapsed": 257,
     "status": "ok",
     "timestamp": 1673534411100,
     "user": {
      "displayName": "Andre Juan",
      "userId": "08529802346316693602"
     },
     "user_tz": 180
    },
    "id": "fH7eTRwMbH08",
    "outputId": "353d7659-a76c-4f11-87f1-3e9c91d407bd"
   },
   "outputs": [
    {
     "data": {
      "text/plain": [
       "3"
      ]
     },
     "execution_count": 3,
     "metadata": {},
     "output_type": "execute_result"
    }
   ],
   "source": [
    "x"
   ]
  },
  {
   "cell_type": "code",
   "execution_count": 4,
   "metadata": {
    "executionInfo": {
     "elapsed": 254,
     "status": "ok",
     "timestamp": 1673534440722,
     "user": {
      "displayName": "Andre Juan",
      "userId": "08529802346316693602"
     },
     "user_tz": 180
    },
    "id": "mtI8WpCHbJye"
   },
   "outputs": [],
   "source": [
    "x = x + 2"
   ]
  },
  {
   "cell_type": "code",
   "execution_count": 5,
   "metadata": {
    "colab": {
     "base_uri": "https://localhost:8080/"
    },
    "executionInfo": {
     "elapsed": 6,
     "status": "ok",
     "timestamp": 1673534447436,
     "user": {
      "displayName": "Andre Juan",
      "userId": "08529802346316693602"
     },
     "user_tz": 180
    },
    "id": "11xyswA_bJny",
    "outputId": "72f30ea7-2204-4073-e542-fd04998cc8c1"
   },
   "outputs": [
    {
     "data": {
      "text/plain": [
       "5"
      ]
     },
     "execution_count": 5,
     "metadata": {},
     "output_type": "execute_result"
    }
   ],
   "source": [
    "x"
   ]
  },
  {
   "cell_type": "code",
   "execution_count": 7,
   "metadata": {
    "colab": {
     "base_uri": "https://localhost:8080/"
    },
    "executionInfo": {
     "elapsed": 824,
     "status": "ok",
     "timestamp": 1673534560796,
     "user": {
      "displayName": "Andre Juan",
      "userId": "08529802346316693602"
     },
     "user_tz": 180
    },
    "id": "BgyS5L0xMryV",
    "outputId": "acbd33d4-56b9-4087-bf18-cc11239ebd57"
   },
   "outputs": [
    {
     "name": "stdout",
     "output_type": "stream",
     "text": [
      "Olá mundo!\n",
      "Olá mundo!\n",
      "Olá mundo!\n",
      "Olá mundo!\n",
      "Olá mundo!\n"
     ]
    }
   ],
   "source": [
    "cont = 1\n",
    "\n",
    "while cont <= 5:\n",
    "  print(\"Olá mundo!\")\n",
    "  # cont = cont + 1\n",
    "  cont += 1"
   ]
  },
  {
   "cell_type": "markdown",
   "metadata": {
    "id": "3qAL-YhZMryV"
   },
   "source": [
    "Assim, o que fazemos é **definir a condição do while em termos de uma variável que tenha seu valor atualizado!**\n",
    "\n",
    "Para isso, é comum nos referirmos à variàvel da condição como **variável contadora**.\n",
    "\n",
    "Podemos atualizar a variável contadora dentro do while de diferentes formas a depender da estrutura de repetição que desejamos. Uma forma muito comum de atualização é, a cada iteração, atualizar seu valor em +1:"
   ]
  },
  {
   "cell_type": "code",
   "execution_count": 8,
   "metadata": {
    "colab": {
     "base_uri": "https://localhost:8080/"
    },
    "executionInfo": {
     "elapsed": 8,
     "status": "ok",
     "timestamp": 1673534614553,
     "user": {
      "displayName": "Andre Juan",
      "userId": "08529802346316693602"
     },
     "user_tz": 180
    },
    "id": "9kItyjj5MryW",
    "outputId": "92a54e8a-052c-4c84-db89-706178b2fec4"
   },
   "outputs": [
    {
     "data": {
      "text/plain": [
       "5"
      ]
     },
     "execution_count": 8,
     "metadata": {},
     "output_type": "execute_result"
    }
   ],
   "source": [
    "x = 4\n",
    "x += 1\n",
    "\n",
    "x"
   ]
  },
  {
   "cell_type": "markdown",
   "metadata": {
    "id": "WdL_oLigMryX"
   },
   "source": [
    "Vamos entender um pouco melhor como a variável contadora se comporta?\n",
    "\n",
    "Pra isso, basta exibi-la a cada iteração:"
   ]
  },
  {
   "cell_type": "code",
   "execution_count": 13,
   "metadata": {
    "colab": {
     "base_uri": "https://localhost:8080/"
    },
    "executionInfo": {
     "elapsed": 8,
     "status": "ok",
     "timestamp": 1673534743213,
     "user": {
      "displayName": "Andre Juan",
      "userId": "08529802346316693602"
     },
     "user_tz": 180
    },
    "id": "ZD7vT_I4MryX",
    "outputId": "88110319-eb5d-4cd0-b80d-25ea6ec7d3e7"
   },
   "outputs": [
    {
     "name": "stdout",
     "output_type": "stream",
     "text": [
      "Olá, mundo!\n",
      "Olá, mundo!\n",
      "Olá, mundo!\n",
      "Olá, mundo!\n",
      "Olá, mundo!\n"
     ]
    }
   ],
   "source": [
    "cont = 1\n",
    "\n",
    "while cont <= 5:\n",
    "  print(\"Olá, mundo!\")\n",
    "  cont += 1"
   ]
  },
  {
   "cell_type": "code",
   "execution_count": 27,
   "metadata": {
    "colab": {
     "base_uri": "https://localhost:8080/"
    },
    "executionInfo": {
     "elapsed": 8,
     "status": "ok",
     "timestamp": 1673535753458,
     "user": {
      "displayName": "Andre Juan",
      "userId": "08529802346316693602"
     },
     "user_tz": 180
    },
    "id": "TdYiF5pKcJfU",
    "outputId": "fcfa09f6-6423-451f-804a-4786d06b5956"
   },
   "outputs": [
    {
     "name": "stdout",
     "output_type": "stream",
     "text": [
      "1\n",
      "2\n",
      "3\n",
      "4\n",
      "5\n",
      "6\n",
      "7\n",
      "8\n",
      "9\n",
      "10\n"
     ]
    }
   ],
   "source": [
    "cont = 1\n",
    "\n",
    "while cont <= 10:\n",
    "  print(cont)\n",
    "  cont += 1"
   ]
  },
  {
   "cell_type": "markdown",
   "metadata": {
    "id": "adspNSUqMryX"
   },
   "source": [
    "O código acima equivale a:"
   ]
  },
  {
   "cell_type": "code",
   "execution_count": 15,
   "metadata": {
    "colab": {
     "base_uri": "https://localhost:8080/"
    },
    "executionInfo": {
     "elapsed": 532,
     "status": "ok",
     "timestamp": 1673534787319,
     "user": {
      "displayName": "Andre Juan",
      "userId": "08529802346316693602"
     },
     "user_tz": 180
    },
    "id": "vHxPZJEAMryY",
    "outputId": "22018418-e5a6-4517-9fc0-401053f9910f"
   },
   "outputs": [
    {
     "name": "stdout",
     "output_type": "stream",
     "text": [
      "0\n",
      "1\n",
      "2\n",
      "3\n",
      "4\n"
     ]
    }
   ],
   "source": [
    "# inicialmente, a variavel cont vale 0\n",
    "cont = 0\n",
    "print(cont)\n",
    "\n",
    "# pegamos o valor anterior (0) e somamos 1, ficando 1\n",
    "cont = cont + 1\n",
    "print(cont)\n",
    "\n",
    "# pegamos o valor anterior (1) e somamos 1, ficando 2\n",
    "cont = cont + 1\n",
    "print(cont)\n",
    "\n",
    "# pegamos o valor anterior (2) e somamos 1, ficando 3\n",
    "cont = cont + 1\n",
    "print(cont)\n",
    "\n",
    "# pegamos o valor anterior (3) e somamos 1, ficando 4\n",
    "cont = cont + 1\n",
    "print(cont)"
   ]
  },
  {
   "cell_type": "markdown",
   "metadata": {
    "id": "m_cNJlSYMryY"
   },
   "source": [
    "Usar a condição com < ao invés de != em geral garante maior segurança ao seu algoritmo, pois evita imprevistos caso você receba números do usuário!"
   ]
  },
  {
   "cell_type": "markdown",
   "metadata": {
    "id": "s4zX429IMryZ"
   },
   "source": [
    "Podemos também atualizar a condição de repetição segundo informado pelo usuário.\n",
    "\n",
    "Esse uso é bem importante para **garantir que o usuário digitou corretamente o que foi solicitado** -- ou seja, é uma ferramenta de **validação de input**.\n",
    "\n",
    "Por exemplo, vamos pedir pro usuário digitar um número maior que 10. **Enquanto ele não fizer o que queremos**, vamos continuar pedindo pra ele digitar um novo valor:"
   ]
  },
  {
   "cell_type": "code",
   "execution_count": 19,
   "metadata": {
    "colab": {
     "base_uri": "https://localhost:8080/"
    },
    "executionInfo": {
     "elapsed": 43872,
     "status": "ok",
     "timestamp": 1673535057178,
     "user": {
      "displayName": "Andre Juan",
      "userId": "08529802346316693602"
     },
     "user_tz": 180
    },
    "id": "DU7pu8A-Mrya",
    "outputId": "d7fc9e30-e934-4616-bbdf-7e44de89736b"
   },
   "outputs": [
    {
     "name": "stdout",
     "output_type": "stream",
     "text": [
      "Usuário, digite um número maior do que 10: 7\n",
      "Número digitado foi menor ou igual a 10! Digite um número maior que 10: 4\n",
      "Número digitado foi menor ou igual a 10! Digite um número maior que 10: 2\n",
      "Número digitado foi menor ou igual a 10! Digite um número maior que 10: 10\n",
      "Número digitado foi menor ou igual a 10! Digite um número maior que 10: -4\n",
      "Número digitado foi menor ou igual a 10! Digite um número maior que 10: 9.9999\n",
      "Número digitado foi menor ou igual a 10! Digite um número maior que 10: 4.2\n",
      "Número digitado foi menor ou igual a 10! Digite um número maior que 10: 100\n",
      "Legal, o número digitado foi 100.0\n"
     ]
    }
   ],
   "source": [
    "num = float(input(\"Usuário, digite um número maior do que 10: \"))\n",
    "\n",
    "while num <= 10:\n",
    "  num = float(input(\"Número digitado foi menor ou igual a 10! Digite um número maior que 10: \"))\n",
    "\n",
    "print(\"Legal, o número digitado foi\", num)"
   ]
  },
  {
   "cell_type": "markdown",
   "metadata": {
    "id": "q4gnHOQlMrya"
   },
   "source": [
    "Outro exemplo, onde pedirmos pro usuário digitar sua nota (para ser um valor válido, tem que estar entre 0 e 10!)"
   ]
  },
  {
   "cell_type": "code",
   "execution_count": 20,
   "metadata": {
    "colab": {
     "base_uri": "https://localhost:8080/"
    },
    "executionInfo": {
     "elapsed": 11126,
     "status": "ok",
     "timestamp": 1673535194616,
     "user": {
      "displayName": "Andre Juan",
      "userId": "08529802346316693602"
     },
     "user_tz": 180
    },
    "id": "njjfxlVkMryb",
    "outputId": "35fba279-9572-456c-b3af-5682b8ad63e4"
   },
   "outputs": [
    {
     "name": "stdout",
     "output_type": "stream",
     "text": [
      "Usuário, digite um número entre 0 e 10: -5\n",
      "Número digitado não está entre 0 e 10! Digite um número entre 0 e 10: 20\n",
      "Número digitado não está entre 0 e 10! Digite um número entre 0 e 10: 7\n",
      "Legal, o número digitado foi 7.0\n"
     ]
    }
   ],
   "source": [
    "num = float(input(\"Usuário, digite um número entre 0 e 10: \"))\n",
    "\n",
    "while num > 10 or num < 0:\n",
    "  num = float(input(\"Número digitado não está entre 0 e 10! Digite um número entre 0 e 10: \"))\n",
    "\n",
    "print(\"Legal, o número digitado foi\", num)"
   ]
  },
  {
   "cell_type": "code",
   "execution_count": 21,
   "metadata": {
    "colab": {
     "base_uri": "https://localhost:8080/"
    },
    "executionInfo": {
     "elapsed": 8,
     "status": "ok",
     "timestamp": 1673535214821,
     "user": {
      "displayName": "Andre Juan",
      "userId": "08529802346316693602"
     },
     "user_tz": 180
    },
    "id": "I9qK2SIyeL88",
    "outputId": "975fa19c-ce75-4ad2-cdc1-1613aee4cea0"
   },
   "outputs": [
    {
     "data": {
      "text/plain": [
       "False"
      ]
     },
     "execution_count": 21,
     "metadata": {},
     "output_type": "execute_result"
    }
   ],
   "source": [
    "not True"
   ]
  },
  {
   "cell_type": "code",
   "execution_count": 22,
   "metadata": {
    "colab": {
     "base_uri": "https://localhost:8080/"
    },
    "executionInfo": {
     "elapsed": 6,
     "status": "ok",
     "timestamp": 1673535222365,
     "user": {
      "displayName": "Andre Juan",
      "userId": "08529802346316693602"
     },
     "user_tz": 180
    },
    "id": "fSPgIiDAeOEN",
    "outputId": "deefd67b-4f2e-4b81-fb02-97834aa007b5"
   },
   "outputs": [
    {
     "data": {
      "text/plain": [
       "True"
      ]
     },
     "execution_count": 22,
     "metadata": {},
     "output_type": "execute_result"
    }
   ],
   "source": [
    "not False"
   ]
  },
  {
   "cell_type": "code",
   "execution_count": 23,
   "metadata": {
    "colab": {
     "base_uri": "https://localhost:8080/"
    },
    "executionInfo": {
     "elapsed": 8393,
     "status": "ok",
     "timestamp": 1673535274100,
     "user": {
      "displayName": "Andre Juan",
      "userId": "08529802346316693602"
     },
     "user_tz": 180
    },
    "id": "nORmTTe2eKQP",
    "outputId": "00ec4c3d-2275-4ef0-b10b-011f6aacf570"
   },
   "outputs": [
    {
     "name": "stdout",
     "output_type": "stream",
     "text": [
      "Usuário, digite um número entre 0 e 10: -2\n",
      "Número digitado não está entre 0 e 10! Digite um número entre 0 e 10: 20\n",
      "Número digitado não está entre 0 e 10! Digite um número entre 0 e 10: 7\n",
      "Legal, o número digitado foi 7.0\n"
     ]
    }
   ],
   "source": [
    "num = float(input(\"Usuário, digite um número entre 0 e 10: \"))\n",
    "\n",
    "while not (0 < num < 10):\n",
    "  num = float(input(\"Número digitado não está entre 0 e 10! Digite um número entre 0 e 10: \"))\n",
    "\n",
    "print(\"Legal, o número digitado foi\", num)"
   ]
  },
  {
   "cell_type": "markdown",
   "metadata": {
    "id": "hPLi4mjWMryc"
   },
   "source": [
    "Outro exemplo, validando estado civil (S, C, D, V):"
   ]
  },
  {
   "cell_type": "code",
   "execution_count": 25,
   "metadata": {
    "colab": {
     "base_uri": "https://localhost:8080/"
    },
    "executionInfo": {
     "elapsed": 27113,
     "status": "ok",
     "timestamp": 1673535653121,
     "user": {
      "displayName": "Andre Juan",
      "userId": "08529802346316693602"
     },
     "user_tz": 180
    },
    "id": "goyGFUwBfHxI",
    "outputId": "2b0b1e8d-789c-424d-9c5e-8e2b7284db6a"
   },
   "outputs": [
    {
     "name": "stdout",
     "output_type": "stream",
     "text": [
      "Digite seu estado civil (opções possíveis: S, C, D, V): solteiro\n",
      "Resposta inválida! Digite seu estado civil (opções possíveis: S, C, D, V): a\n",
      "Resposta inválida! Digite seu estado civil (opções possíveis: S, C, D, V): s\n",
      "Resposta inválida! Digite seu estado civil (opções possíveis: S, C, D, V): S\n",
      "O estado civil é S\n"
     ]
    }
   ],
   "source": [
    "estado_civil = input(\"Digite seu estado civil (opções possíveis: S, C, D, V): \")\n",
    "\n",
    "while estado_civil != \"S\" and estado_civil != \"C\" and estado_civil != \"D\" and estado_civil != \"V\":\n",
    "  estado_civil = input(\"Resposta inválida! Digite seu estado civil (opções possíveis: S, C, D, V): \")\n",
    "\n",
    "print(\"O estado civil é\", estado_civil)"
   ]
  },
  {
   "cell_type": "code",
   "execution_count": null,
   "metadata": {
    "id": "YZfxkTY8fHbg"
   },
   "outputs": [],
   "source": []
  },
  {
   "cell_type": "code",
   "execution_count": null,
   "metadata": {
    "id": "zy4GDrnvfHSG"
   },
   "outputs": [],
   "source": []
  },
  {
   "cell_type": "code",
   "execution_count": null,
   "metadata": {
    "id": "Faq4Wm4XfFun"
   },
   "outputs": [],
   "source": []
  },
  {
   "cell_type": "code",
   "execution_count": null,
   "metadata": {
    "id": "zDdwL3okfFTX"
   },
   "outputs": [],
   "source": []
  },
  {
   "cell_type": "code",
   "execution_count": null,
   "metadata": {
    "id": "18D1TzRFfEQ5"
   },
   "outputs": [],
   "source": []
  },
  {
   "cell_type": "code",
   "execution_count": 24,
   "metadata": {
    "colab": {
     "base_uri": "https://localhost:8080/",
     "height": 434
    },
    "executionInfo": {
     "elapsed": 8848,
     "status": "error",
     "timestamp": 1673535418831,
     "user": {
      "displayName": "Andre Juan",
      "userId": "08529802346316693602"
     },
     "user_tz": 180
    },
    "id": "ENf66F7jMryc",
    "outputId": "822b7eb0-1847-4d7e-9977-df72dbec2036"
   },
   "outputs": [
    {
     "name": "stdout",
     "output_type": "stream",
     "text": [
      "Digite seu estado civil (opções possíveis são S, C, D, V): D\n",
      "Resposta inválida! Digite seu estado civil (opções possíveis são S, C, D, V): S\n",
      "Resposta inválida! Digite seu estado civil (opções possíveis são S, C, D, V): V\n"
     ]
    },
    {
     "ename": "KeyboardInterrupt",
     "evalue": "ignored",
     "output_type": "error",
     "traceback": [
      "\u001b[0;31m---------------------------------------------------------------------------\u001b[0m",
      "\u001b[0;31mKeyboardInterrupt\u001b[0m                         Traceback (most recent call last)",
      "\u001b[0;32m<ipython-input-24-052dece17974>\u001b[0m in \u001b[0;36m<module>\u001b[0;34m\u001b[0m\n\u001b[1;32m      2\u001b[0m \u001b[0;34m\u001b[0m\u001b[0m\n\u001b[1;32m      3\u001b[0m \u001b[0;32mwhile\u001b[0m \u001b[0mestado_civil\u001b[0m \u001b[0;34m!=\u001b[0m \u001b[0;34m\"S\"\u001b[0m \u001b[0;32mor\u001b[0m \u001b[0mestado_civil\u001b[0m \u001b[0;34m!=\u001b[0m \u001b[0;34m\"C\"\u001b[0m \u001b[0;32mor\u001b[0m \u001b[0mestado_civil\u001b[0m \u001b[0;34m!=\u001b[0m \u001b[0;34m\"D\"\u001b[0m \u001b[0;32mor\u001b[0m \u001b[0mestado_civil\u001b[0m \u001b[0;34m!=\u001b[0m \u001b[0;34m\"V\"\u001b[0m\u001b[0;34m:\u001b[0m\u001b[0;34m\u001b[0m\u001b[0;34m\u001b[0m\u001b[0m\n\u001b[0;32m----> 4\u001b[0;31m   \u001b[0mestado_civil\u001b[0m \u001b[0;34m=\u001b[0m \u001b[0minput\u001b[0m\u001b[0;34m(\u001b[0m\u001b[0;34m\"Resposta inválida! Digite seu estado civil (opções possíveis são S, C, D, V): \"\u001b[0m\u001b[0;34m)\u001b[0m\u001b[0;34m\u001b[0m\u001b[0;34m\u001b[0m\u001b[0m\n\u001b[0m\u001b[1;32m      5\u001b[0m \u001b[0;34m\u001b[0m\u001b[0m\n\u001b[1;32m      6\u001b[0m \u001b[0mprint\u001b[0m\u001b[0;34m(\u001b[0m\u001b[0;34m\"Estado civil é\"\u001b[0m\u001b[0;34m,\u001b[0m \u001b[0mestado_civil\u001b[0m\u001b[0;34m)\u001b[0m\u001b[0;34m\u001b[0m\u001b[0;34m\u001b[0m\u001b[0m\n",
      "\u001b[0;32m/usr/local/lib/python3.8/dist-packages/ipykernel/kernelbase.py\u001b[0m in \u001b[0;36mraw_input\u001b[0;34m(self, prompt)\u001b[0m\n\u001b[1;32m    858\u001b[0m                 \u001b[0;34m\"raw_input was called, but this frontend does not support input requests.\"\u001b[0m\u001b[0;34m\u001b[0m\u001b[0;34m\u001b[0m\u001b[0m\n\u001b[1;32m    859\u001b[0m             )\n\u001b[0;32m--> 860\u001b[0;31m         return self._input_request(str(prompt),\n\u001b[0m\u001b[1;32m    861\u001b[0m             \u001b[0mself\u001b[0m\u001b[0;34m.\u001b[0m\u001b[0m_parent_ident\u001b[0m\u001b[0;34m,\u001b[0m\u001b[0;34m\u001b[0m\u001b[0;34m\u001b[0m\u001b[0m\n\u001b[1;32m    862\u001b[0m             \u001b[0mself\u001b[0m\u001b[0;34m.\u001b[0m\u001b[0m_parent_header\u001b[0m\u001b[0;34m,\u001b[0m\u001b[0;34m\u001b[0m\u001b[0;34m\u001b[0m\u001b[0m\n",
      "\u001b[0;32m/usr/local/lib/python3.8/dist-packages/ipykernel/kernelbase.py\u001b[0m in \u001b[0;36m_input_request\u001b[0;34m(self, prompt, ident, parent, password)\u001b[0m\n\u001b[1;32m    902\u001b[0m             \u001b[0;32mexcept\u001b[0m \u001b[0mKeyboardInterrupt\u001b[0m\u001b[0;34m:\u001b[0m\u001b[0;34m\u001b[0m\u001b[0;34m\u001b[0m\u001b[0m\n\u001b[1;32m    903\u001b[0m                 \u001b[0;31m# re-raise KeyboardInterrupt, to truncate traceback\u001b[0m\u001b[0;34m\u001b[0m\u001b[0;34m\u001b[0m\u001b[0;34m\u001b[0m\u001b[0m\n\u001b[0;32m--> 904\u001b[0;31m                 \u001b[0;32mraise\u001b[0m \u001b[0mKeyboardInterrupt\u001b[0m\u001b[0;34m(\u001b[0m\u001b[0;34m\"Interrupted by user\"\u001b[0m\u001b[0;34m)\u001b[0m \u001b[0;32mfrom\u001b[0m \u001b[0;32mNone\u001b[0m\u001b[0;34m\u001b[0m\u001b[0;34m\u001b[0m\u001b[0m\n\u001b[0m\u001b[1;32m    905\u001b[0m             \u001b[0;32mexcept\u001b[0m \u001b[0mException\u001b[0m \u001b[0;32mas\u001b[0m \u001b[0me\u001b[0m\u001b[0;34m:\u001b[0m\u001b[0;34m\u001b[0m\u001b[0;34m\u001b[0m\u001b[0m\n\u001b[1;32m    906\u001b[0m                 \u001b[0mself\u001b[0m\u001b[0;34m.\u001b[0m\u001b[0mlog\u001b[0m\u001b[0;34m.\u001b[0m\u001b[0mwarning\u001b[0m\u001b[0;34m(\u001b[0m\u001b[0;34m\"Invalid Message:\"\u001b[0m\u001b[0;34m,\u001b[0m \u001b[0mexc_info\u001b[0m\u001b[0;34m=\u001b[0m\u001b[0;32mTrue\u001b[0m\u001b[0;34m)\u001b[0m\u001b[0;34m\u001b[0m\u001b[0;34m\u001b[0m\u001b[0m\n",
      "\u001b[0;31mKeyboardInterrupt\u001b[0m: Interrupted by user"
     ]
    }
   ],
   "source": [
    "estado_civil = input(\"Digite seu estado civil (opções possíveis são S, C, D, V): \")\n",
    "\n",
    "while estado_civil != \"S\" or estado_civil != \"C\" or estado_civil != \"D\" or estado_civil != \"V\":\n",
    "  estado_civil = input(\"Resposta inválida! Digite seu estado civil (opções possíveis são S, C, D, V): \")\n",
    "\n",
    "print(\"Estado civil é\", estado_civil)"
   ]
  },
  {
   "cell_type": "code",
   "execution_count": null,
   "metadata": {
    "id": "laX0-xpEe8uc"
   },
   "outputs": [],
   "source": []
  }
 ],
 "metadata": {
  "colab": {
   "provenance": []
  },
  "kernelspec": {
   "display_name": "Python 3",
   "language": "python",
   "name": "python3"
  },
  "language_info": {
   "codemirror_mode": {
    "name": "ipython",
    "version": 3
   },
   "file_extension": ".py",
   "mimetype": "text/x-python",
   "name": "python",
   "nbconvert_exporter": "python",
   "pygments_lexer": "ipython3",
   "version": "3.8.3"
  }
 },
 "nbformat": 4,
 "nbformat_minor": 0
}
