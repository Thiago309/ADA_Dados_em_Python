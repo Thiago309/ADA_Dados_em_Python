{
 "cells": [
  {
   "cell_type": "markdown",
   "metadata": {
    "id": "E_pcA7pLTBOP"
   },
   "source": [
    "# Aula 1 - Tipos de dados, input/output, operadores matemáticos\n",
    "\n",
    "Na aula de hoje, vamos explorar os seguintes tópicos em Python:\n",
    "\n",
    "- 1) Tipos de variáveis;\n",
    "- 2) Comentários;\n",
    "- 3) Saída (output);\n",
    "- 4) Entrada (input);\n",
    "- 5) Operadores Matemáticos;\n",
    "\n",
    "_____________\n",
    "\n",
    "### Problema gerador: como construir uma calculadora em Python?\n",
    "\n",
    "Exemplo: 2 + 2 = 4"
   ]
  },
  {
   "cell_type": "markdown",
   "metadata": {
    "id": "lILLM967TBOT"
   },
   "source": [
    "____\n",
    "____\n",
    "____"
   ]
  },
  {
   "cell_type": "markdown",
   "metadata": {
    "id": "06pKBSFpTBOU"
   },
   "source": [
    "## 1) Tipos de variáveis\n",
    "\n",
    "Em python, temos 4 **tipos** principais de dados básicos"
   ]
  },
  {
   "cell_type": "markdown",
   "metadata": {
    "id": "v35n5OSVTBOV"
   },
   "source": [
    "~ Tipo **inteiros** (int): são números inteiros, isto é, sem casas decimais.\n",
    "\n",
    "- Ex:\n",
    "    - 1 \n",
    "    - 456\n",
    "    - 124023\n",
    "    - 0\n",
    "    - -2 (números to tipo int podem ser negativos!)\n",
    "\n",
    "No Jupyter, números inteiros são destacados em cor verde clara"
   ]
  },
  {
   "cell_type": "markdown",
   "metadata": {
    "id": "Zb4kGbiPTBOW"
   },
   "source": [
    "Exemplo: a idade de uma pessoa em anos, número de filhos de uma pessoa, etc."
   ]
  },
  {
   "cell_type": "code",
   "execution_count": 1,
   "metadata": {
    "executionInfo": {
     "elapsed": 4,
     "status": "ok",
     "timestamp": 1673381557787,
     "user": {
      "displayName": "Andre Juan",
      "userId": "08529802346316693602"
     },
     "user_tz": 180
    },
    "id": "qdJk1HO5TBOY"
   },
   "outputs": [],
   "source": [
    "numero_de_filhos = 3"
   ]
  },
  {
   "cell_type": "code",
   "execution_count": 2,
   "metadata": {
    "colab": {
     "base_uri": "https://localhost:8080/"
    },
    "executionInfo": {
     "elapsed": 11,
     "status": "ok",
     "timestamp": 1673381568439,
     "user": {
      "displayName": "Andre Juan",
      "userId": "08529802346316693602"
     },
     "user_tz": 180
    },
    "id": "OjzXPBdRUD1m",
    "outputId": "188cf7ed-f64f-4d73-dc72-b6fbbb885459"
   },
   "outputs": [
    {
     "data": {
      "text/plain": [
       "3"
      ]
     },
     "execution_count": 2,
     "metadata": {},
     "output_type": "execute_result"
    }
   ],
   "source": [
    "numero_de_filhos"
   ]
  },
  {
   "cell_type": "code",
   "execution_count": 3,
   "metadata": {
    "colab": {
     "base_uri": "https://localhost:8080/"
    },
    "executionInfo": {
     "elapsed": 288,
     "status": "ok",
     "timestamp": 1673381600149,
     "user": {
      "displayName": "Andre Juan",
      "userId": "08529802346316693602"
     },
     "user_tz": 180
    },
    "id": "nKFX6PSlUKce",
    "outputId": "cc35a8db-0a83-45b9-f36d-5613b7bbc66d"
   },
   "outputs": [
    {
     "data": {
      "text/plain": [
       "int"
      ]
     },
     "execution_count": 3,
     "metadata": {},
     "output_type": "execute_result"
    }
   ],
   "source": [
    "type(numero_de_filhos)"
   ]
  },
  {
   "cell_type": "markdown",
   "metadata": {
    "id": "NgzLZdz1TBOZ"
   },
   "source": [
    "~ Tipo **float** (float): são números com casas decimais (**em python usamos ponto ao invés de vírgula para indicar cadas decimais!**)\n",
    "\n",
    "- Ex:\n",
    "    - 3.1415\n",
    "    - 1.78\n",
    "    - 10.0 (essa é a representação float de um número inteiro, 10) \n",
    "    - -42.73 (números do tipo float podem ser negativos!)\n",
    "\n",
    "No Jupyter, números float também são destacados em cor verde clara"
   ]
  },
  {
   "cell_type": "markdown",
   "metadata": {
    "id": "eFsp61dpTBOZ"
   },
   "source": [
    "Exemplo: a altura de uma pessoa em metros"
   ]
  },
  {
   "cell_type": "code",
   "execution_count": 4,
   "metadata": {
    "executionInfo": {
     "elapsed": 249,
     "status": "ok",
     "timestamp": 1673381805169,
     "user": {
      "displayName": "Andre Juan",
      "userId": "08529802346316693602"
     },
     "user_tz": 180
    },
    "id": "3T3WyGZjTBOa"
   },
   "outputs": [],
   "source": [
    "altura = 1.78"
   ]
  },
  {
   "cell_type": "code",
   "execution_count": 5,
   "metadata": {
    "colab": {
     "base_uri": "https://localhost:8080/"
    },
    "executionInfo": {
     "elapsed": 12,
     "status": "ok",
     "timestamp": 1673381809267,
     "user": {
      "displayName": "Andre Juan",
      "userId": "08529802346316693602"
     },
     "user_tz": 180
    },
    "id": "iEKEvyeSVABX",
    "outputId": "7d73689c-fa96-43ae-d692-f2f59b9f84b4"
   },
   "outputs": [
    {
     "data": {
      "text/plain": [
       "1.78"
      ]
     },
     "execution_count": 5,
     "metadata": {},
     "output_type": "execute_result"
    }
   ],
   "source": [
    "altura"
   ]
  },
  {
   "cell_type": "code",
   "execution_count": 6,
   "metadata": {
    "colab": {
     "base_uri": "https://localhost:8080/"
    },
    "executionInfo": {
     "elapsed": 15,
     "status": "ok",
     "timestamp": 1673381815171,
     "user": {
      "displayName": "Andre Juan",
      "userId": "08529802346316693602"
     },
     "user_tz": 180
    },
    "id": "RUn6OMfWVBCL",
    "outputId": "ce7a9f89-1843-4d31-a3af-b25f007bd627"
   },
   "outputs": [
    {
     "data": {
      "text/plain": [
       "float"
      ]
     },
     "execution_count": 6,
     "metadata": {},
     "output_type": "execute_result"
    }
   ],
   "source": [
    "type(altura)"
   ]
  },
  {
   "cell_type": "code",
   "execution_count": 7,
   "metadata": {
    "colab": {
     "base_uri": "https://localhost:8080/"
    },
    "executionInfo": {
     "elapsed": 258,
     "status": "ok",
     "timestamp": 1673381826867,
     "user": {
      "displayName": "Andre Juan",
      "userId": "08529802346316693602"
     },
     "user_tz": 180
    },
    "id": "vdk-xTIaVDNH",
    "outputId": "016ad90a-69f0-48d1-fd50-cbf65638a0a9"
   },
   "outputs": [
    {
     "data": {
      "text/plain": [
       "int"
      ]
     },
     "execution_count": 7,
     "metadata": {},
     "output_type": "execute_result"
    }
   ],
   "source": [
    "type(10)"
   ]
  },
  {
   "cell_type": "code",
   "execution_count": 8,
   "metadata": {
    "colab": {
     "base_uri": "https://localhost:8080/"
    },
    "executionInfo": {
     "elapsed": 3,
     "status": "ok",
     "timestamp": 1673381832845,
     "user": {
      "displayName": "Andre Juan",
      "userId": "08529802346316693602"
     },
     "user_tz": 180
    },
    "id": "n5oGcElfVFfE",
    "outputId": "ac3f944d-4a50-47e0-ba0a-b6123173c5d4"
   },
   "outputs": [
    {
     "data": {
      "text/plain": [
       "float"
      ]
     },
     "execution_count": 8,
     "metadata": {},
     "output_type": "execute_result"
    }
   ],
   "source": [
    "type(10.0)"
   ]
  },
  {
   "cell_type": "markdown",
   "metadata": {
    "id": "IvLmxB4oTBOa"
   },
   "source": [
    "~ Tipo **string** (str): são textos, que devem ser indicados entre aspas duplas \" \" ou aspas simples ' ' \n",
    "\n",
    "- Ex:\n",
    "    - \"Olá, mundo!\" (para strings, podemos usar pontuação e acentuação sem problemas!)\n",
    "    - \"Nos encontramos às 9h30 amanhã?\" (strings podem conter numeros!)\n",
    "    - \"100\" (neste caso, é uma string que representa um numero inteiro)\n",
    "    - \"3.1415\" (neste caso, é uma string que representa um numero float)\n",
    "\n",
    "No Jupyter, strings são destacadas em cor vermelha"
   ]
  },
  {
   "cell_type": "markdown",
   "metadata": {
    "id": "5zyY5C26TBOc"
   },
   "source": [
    "Exemplo: uma frase de despedida e um encontro marcado"
   ]
  },
  {
   "cell_type": "code",
   "execution_count": 10,
   "metadata": {
    "executionInfo": {
     "elapsed": 285,
     "status": "ok",
     "timestamp": 1673382033168,
     "user": {
      "displayName": "Andre Juan",
      "userId": "08529802346316693602"
     },
     "user_tz": 180
    },
    "id": "uVWG8HkBTBOc"
   },
   "outputs": [],
   "source": [
    "nome = \"André\"\n",
    "\n",
    "trabalho = 'Ada'"
   ]
  },
  {
   "cell_type": "code",
   "execution_count": 13,
   "metadata": {
    "colab": {
     "base_uri": "https://localhost:8080/"
    },
    "executionInfo": {
     "elapsed": 9,
     "status": "ok",
     "timestamp": 1673382061709,
     "user": {
      "displayName": "Andre Juan",
      "userId": "08529802346316693602"
     },
     "user_tz": 180
    },
    "id": "_6l1naCtV46r",
    "outputId": "71719b13-571b-4db7-f4b6-ca2a789ff0f8"
   },
   "outputs": [
    {
     "name": "stdout",
     "output_type": "stream",
     "text": [
      "André Ada\n"
     ]
    }
   ],
   "source": [
    "print(nome, trabalho)"
   ]
  },
  {
   "cell_type": "code",
   "execution_count": 14,
   "metadata": {
    "colab": {
     "base_uri": "https://localhost:8080/"
    },
    "executionInfo": {
     "elapsed": 240,
     "status": "ok",
     "timestamp": 1673382144202,
     "user": {
      "displayName": "Andre Juan",
      "userId": "08529802346316693602"
     },
     "user_tz": 180
    },
    "id": "S5yu19DhWAOo",
    "outputId": "91b073b1-92b7-442a-847e-f3cfd8031d10"
   },
   "outputs": [
    {
     "name": "stdout",
     "output_type": "stream",
     "text": [
      "E aí Joãozinho disse: \"Oi, tudo bem?\"\n"
     ]
    }
   ],
   "source": [
    "trecho_de_livro = 'E aí Joãozinho disse: \"Oi, tudo bem?\"'\n",
    "\n",
    "print(trecho_de_livro)"
   ]
  },
  {
   "cell_type": "code",
   "execution_count": 15,
   "metadata": {
    "colab": {
     "base_uri": "https://localhost:8080/"
    },
    "executionInfo": {
     "elapsed": 4,
     "status": "ok",
     "timestamp": 1673382209219,
     "user": {
      "displayName": "Andre Juan",
      "userId": "08529802346316693602"
     },
     "user_tz": 180
    },
    "id": "T42hGfvQWYFG",
    "outputId": "43ba2649-d745-41ce-c1c6-f955c0b89d28"
   },
   "outputs": [
    {
     "name": "stdout",
     "output_type": "stream",
     "text": [
      "Comunidade Let's Code\n"
     ]
    }
   ],
   "source": [
    "nome_comunidade = \"Comunidade Let's Code\"\n",
    "\n",
    "print(nome_comunidade)"
   ]
  },
  {
   "cell_type": "markdown",
   "metadata": {
    "id": "u69Pm-NWTBOd"
   },
   "source": [
    "~ Tipo **booleanos** (bool): Verdadeiro (True) ou Falso (False)\n",
    "\n",
    "- Únicos dois valores possíveis: **True** ou **False**\n",
    "\n",
    "Vamos entender a enorme importância deste tipo de dado mais a frente no curso (operações lógicas, estruturas condicionais, etc.)\n",
    "\n",
    "No Jupyter, bools são destacados em cor verde escuro"
   ]
  },
  {
   "cell_type": "code",
   "execution_count": 16,
   "metadata": {
    "colab": {
     "base_uri": "https://localhost:8080/"
    },
    "executionInfo": {
     "elapsed": 272,
     "status": "ok",
     "timestamp": 1673382333834,
     "user": {
      "displayName": "Andre Juan",
      "userId": "08529802346316693602"
     },
     "user_tz": 180
    },
    "id": "AfvPZ43ITBOe",
    "outputId": "d0e5012b-eec5-4c37-c8a0-32ee2f9ace30"
   },
   "outputs": [
    {
     "data": {
      "text/plain": [
       "True"
      ]
     },
     "execution_count": 16,
     "metadata": {},
     "output_type": "execute_result"
    }
   ],
   "source": [
    "True"
   ]
  },
  {
   "cell_type": "code",
   "execution_count": 17,
   "metadata": {
    "colab": {
     "base_uri": "https://localhost:8080/"
    },
    "executionInfo": {
     "elapsed": 9,
     "status": "ok",
     "timestamp": 1673382341441,
     "user": {
      "displayName": "Andre Juan",
      "userId": "08529802346316693602"
     },
     "user_tz": 180
    },
    "id": "Jsbmg7zDXBRT",
    "outputId": "244b444c-30a2-412f-b48f-f97b4bfd9fde"
   },
   "outputs": [
    {
     "data": {
      "text/plain": [
       "False"
      ]
     },
     "execution_count": 17,
     "metadata": {},
     "output_type": "execute_result"
    }
   ],
   "source": [
    "False"
   ]
  },
  {
   "cell_type": "markdown",
   "metadata": {
    "id": "GD4G-BZsTBOe"
   },
   "source": [
    "____\n",
    "____\n",
    "____"
   ]
  },
  {
   "cell_type": "markdown",
   "metadata": {
    "id": "SHOj80WTTBOe"
   },
   "source": [
    "## 2) Comentários\n",
    "\n",
    "São utilizados para melhor explicar um trecho de código.\n",
    "\n",
    "Os comentários não são executados pelo Python. \n",
    "\n",
    "Tudo o que está comentado é ignorado, serve apenas para guiar o usuário.\n",
    "\n",
    "É indicado com o uso da #, e em cor azul marinho no Jupyter\n",
    "\n",
    "- Atalho: CTRL + / : A LINHA VIRA UM COMENTÁRIO"
   ]
  },
  {
   "cell_type": "code",
   "execution_count": 20,
   "metadata": {
    "executionInfo": {
     "elapsed": 262,
     "status": "ok",
     "timestamp": 1673382746356,
     "user": {
      "displayName": "Andre Juan",
      "userId": "08529802346316693602"
     },
     "user_tz": 180
    },
    "id": "-H7qRqT6TBOf"
   },
   "outputs": [],
   "source": [
    "# aqui abaixo estou definindo uma variavel que recebe o valor de altura 1,62\n",
    "altura = 1.62"
   ]
  },
  {
   "cell_type": "markdown",
   "metadata": {
    "id": "mT24udSuTBOf"
   },
   "source": [
    "Embora você possa fazer comentários de várias linhas apenas colocando o # na frente de cada linha:"
   ]
  },
  {
   "cell_type": "code",
   "execution_count": 19,
   "metadata": {
    "ExecuteTime": {
     "end_time": "2023-01-10T10:17:20.745403Z",
     "start_time": "2023-01-10T10:17:20.732411Z"
    },
    "executionInfo": {
     "elapsed": 9,
     "status": "ok",
     "timestamp": 1673382742815,
     "user": {
      "displayName": "Andre Juan",
      "userId": "08529802346316693602"
     },
     "user_tz": 180
    },
    "id": "HGWgmhkCTBOf"
   },
   "outputs": [],
   "source": [
    "# esse é um comentário muito grande, e por isso pode ser interessante quebrar \n",
    "# ele em várias linhas, para ficar mais fácil de ler um comentário grande \n",
    "# e complexo como esse no meio do código"
   ]
  },
  {
   "cell_type": "markdown",
   "metadata": {
    "id": "r3w9gUnCTBOg"
   },
   "source": [
    "Também é possível fazer comentários de várias linhas utilizando três aspas:"
   ]
  },
  {
   "cell_type": "code",
   "execution_count": 25,
   "metadata": {
    "ExecuteTime": {
     "end_time": "2023-01-10T10:17:20.907725Z",
     "start_time": "2023-01-10T10:17:20.748211Z"
    },
    "executionInfo": {
     "elapsed": 281,
     "status": "ok",
     "timestamp": 1673382860659,
     "user": {
      "displayName": "Andre Juan",
      "userId": "08529802346316693602"
     },
     "user_tz": 180
    },
    "id": "R2Iq0Nl-TBOg"
   },
   "outputs": [],
   "source": [
    "string_3_aspas = \"\"\"esse é um comentário muito grande, e por isso pode ser interessante\n",
    "quebrar ele em várias linhas, para ficar mais fácil de ler\n",
    "um comentário grande e complexo como esse no meio do código\"\"\""
   ]
  },
  {
   "cell_type": "code",
   "execution_count": 27,
   "metadata": {
    "colab": {
     "base_uri": "https://localhost:8080/"
    },
    "executionInfo": {
     "elapsed": 339,
     "status": "ok",
     "timestamp": 1673382875447,
     "user": {
      "displayName": "Andre Juan",
      "userId": "08529802346316693602"
     },
     "user_tz": 180
    },
    "id": "K5dUQVQ_ZAot",
    "outputId": "f68950be-707d-42f4-c63e-8da5902efee1"
   },
   "outputs": [
    {
     "name": "stdout",
     "output_type": "stream",
     "text": [
      "esse é um comentário muito grande, e por isso pode ser interessante\n",
      "quebrar ele em várias linhas, para ficar mais fácil de ler\n",
      "um comentário grande e complexo como esse no meio do código\n"
     ]
    }
   ],
   "source": [
    "print(string_3_aspas)"
   ]
  },
  {
   "cell_type": "code",
   "execution_count": 28,
   "metadata": {
    "executionInfo": {
     "elapsed": 254,
     "status": "ok",
     "timestamp": 1673382939535,
     "user": {
      "displayName": "Andre Juan",
      "userId": "08529802346316693602"
     },
     "user_tz": 180
    },
    "id": "Qbc2j0dPZLzV"
   },
   "outputs": [],
   "source": [
    "'''aqui abaixo estou definindo uma\n",
    "variavel que recebe o valor de altura 1,62'''\n",
    "altura = 1.62"
   ]
  },
  {
   "cell_type": "markdown",
   "metadata": {
    "id": "_DTMMjFkTBOh"
   },
   "source": [
    "Note que estes \"comentários\" feitos com 3 aspas na verdade são strings de muitas linhas: mas o Python irá ignorá-las caso elas não sejá atribuídas a uma variável, funcionando, assim, como comentário.\n",
    "\n",
    "Um outro uso importante deste tipo de strings é na definição de [docstrings](https://pythonhelp.wordpress.com/2011/02/14/docstrings/), strings que documentam funções e classes em Python.\n",
    "\n",
    "**De qualquer forma, o primeiro modo, com um # em cada linha, é preferível!**"
   ]
  },
  {
   "cell_type": "markdown",
   "metadata": {
    "id": "WGzkRNAcTBOh"
   },
   "source": [
    "____\n",
    "____\n",
    "____"
   ]
  },
  {
   "cell_type": "markdown",
   "metadata": {
    "id": "7jY8E-WwTBOh"
   },
   "source": [
    "## 3) Saída (output)\n",
    "\n",
    "É como o computador **apresenta dados de saída** para um usuário.\n",
    "\n",
    "Utilizamos a função print() para exibir o conteúdo na tela"
   ]
  },
  {
   "cell_type": "code",
   "execution_count": 30,
   "metadata": {
    "colab": {
     "base_uri": "https://localhost:8080/"
    },
    "executionInfo": {
     "elapsed": 9,
     "status": "ok",
     "timestamp": 1673383099977,
     "user": {
      "displayName": "Andre Juan",
      "userId": "08529802346316693602"
     },
     "user_tz": 180
    },
    "id": "cEvlYTRxZ4eg",
    "outputId": "2d254077-9549-4cdd-9d3d-9ddee3fd7459"
   },
   "outputs": [
    {
     "name": "stdout",
     "output_type": "stream",
     "text": [
      "Olá, mundo!\n"
     ]
    }
   ],
   "source": [
    "print(\"Olá, mundo!\")"
   ]
  },
  {
   "cell_type": "code",
   "execution_count": 31,
   "metadata": {
    "colab": {
     "base_uri": "https://localhost:8080/"
    },
    "executionInfo": {
     "elapsed": 285,
     "status": "ok",
     "timestamp": 1673383111004,
     "user": {
      "displayName": "Andre Juan",
      "userId": "08529802346316693602"
     },
     "user_tz": 180
    },
    "id": "DDaLFSbaTBOi",
    "outputId": "2062e583-dadc-4467-8d81-e2d369745b0d"
   },
   "outputs": [
    {
     "name": "stdout",
     "output_type": "stream",
     "text": [
      "Olá, André!\n"
     ]
    }
   ],
   "source": [
    "cumprimeto = \"Olá, André!\"\n",
    "\n",
    "print(cumprimeto)"
   ]
  },
  {
   "cell_type": "markdown",
   "metadata": {
    "id": "MhhwXet4TBOi"
   },
   "source": [
    "Podemos imprimir diversas strings ou diversas variáveis em sequência, utilizando vírgula para separá-las dentro do print:"
   ]
  },
  {
   "cell_type": "code",
   "execution_count": 2,
   "metadata": {
    "colab": {
     "base_uri": "https://localhost:8080/"
    },
    "executionInfo": {
     "elapsed": 273,
     "status": "ok",
     "timestamp": 1673383221145,
     "user": {
      "displayName": "Andre Juan",
      "userId": "08529802346316693602"
     },
     "user_tz": 180
    },
    "id": "sqTY6zvATBOi",
    "outputId": "b904f160-cf7e-4aab-af21-4204cbbccac9"
   },
   "outputs": [
    {
     "name": "stdout",
     "output_type": "stream",
     "text": [
      "50 cinquenta OIEEE\n"
     ]
    }
   ],
   "source": [
    "numero = 50\n",
    "nome_do_numero = \"cinquenta\"\n",
    "\n",
    "print(numero, nome_do_numero, \"OIEEE\")"
   ]
  },
  {
   "cell_type": "code",
   "execution_count": 3,
   "metadata": {
    "colab": {
     "base_uri": "https://localhost:8080/"
    },
    "executionInfo": {
     "elapsed": 360,
     "status": "ok",
     "timestamp": 1673383328910,
     "user": {
      "displayName": "Andre Juan",
      "userId": "08529802346316693602"
     },
     "user_tz": 180
    },
    "id": "s9SMZ3YTabM5",
    "outputId": "4430fbb9-cbef-4181-e6e9-69bc3ff01e0c"
   },
   "outputs": [
    {
     "name": "stdout",
     "output_type": "stream",
     "text": [
      "50__cinquenta__OIEEE\n"
     ]
    }
   ],
   "source": [
    "print(numero, nome_do_numero, \"OIEEE\", sep=\"__\")"
   ]
  },
  {
   "cell_type": "markdown",
   "metadata": {
    "id": "5xjUZM9FTBOi"
   },
   "source": [
    "Um caractere especial do print é o \"\\n\", que serve para fazer a quebra de linha:"
   ]
  },
  {
   "cell_type": "code",
   "execution_count": 6,
   "metadata": {
    "colab": {
     "base_uri": "https://localhost:8080/"
    },
    "executionInfo": {
     "elapsed": 248,
     "status": "ok",
     "timestamp": 1673383369062,
     "user": {
      "displayName": "Andre Juan",
      "userId": "08529802346316693602"
     },
     "user_tz": 180
    },
    "id": "7BHmCzImTBOj",
    "outputId": "4b577d0a-0db3-4766-decb-644649f63422"
   },
   "outputs": [
    {
     "name": "stdout",
     "output_type": "stream",
     "text": [
      "-50\n",
      "-cinquenta\n",
      "-OIEEE\n"
     ]
    }
   ],
   "source": [
    "print(-numero, nome_do_numero, \"OIEEE\", sep=\"\\n-\")"
   ]
  },
  {
   "cell_type": "code",
   "execution_count": 40,
   "metadata": {
    "colab": {
     "base_uri": "https://localhost:8080/"
    },
    "executionInfo": {
     "elapsed": 274,
     "status": "ok",
     "timestamp": 1673383396597,
     "user": {
      "displayName": "Andre Juan",
      "userId": "08529802346316693602"
     },
     "user_tz": 180
    },
    "id": "3FYq5uf0a_-P",
    "outputId": "ef8d3a03-ed94-4bef-a594-bcf1ffa99119"
   },
   "outputs": [
    {
     "name": "stdout",
     "output_type": "stream",
     "text": [
      "Olá\n",
      "mundo!\n"
     ]
    }
   ],
   "source": [
    "print(\"Olá\\nmundo!\")"
   ]
  },
  {
   "cell_type": "markdown",
   "metadata": {
    "id": "9u53mh6sTBOj"
   },
   "source": [
    "____\n",
    "____\n",
    "___"
   ]
  },
  {
   "cell_type": "markdown",
   "metadata": {
    "id": "0RcynfJfTBOj"
   },
   "source": [
    "## 4) Entrada (input)\n",
    "\n",
    "É como o computador **coleta dados de entrada** de um usuário através do teclado.\n",
    "\n",
    "Utilizamos a função input() para receber os dados do usuário, que deve digitá-los\n",
    "\n",
    "Opcionalmente, podemos colocar uma frase de instrução ao usuário na função input, dentro dos parênteses"
   ]
  },
  {
   "cell_type": "code",
   "execution_count": 44,
   "metadata": {
    "colab": {
     "base_uri": "https://localhost:8080/"
    },
    "executionInfo": {
     "elapsed": 2210,
     "status": "ok",
     "timestamp": 1673383594456,
     "user": {
      "displayName": "Andre Juan",
      "userId": "08529802346316693602"
     },
     "user_tz": 180
    },
    "id": "kdOvZVghTBOk",
    "outputId": "6030e8ec-3cb4-4fea-a20e-79d23b1cdcaa"
   },
   "outputs": [
    {
     "name": "stdout",
     "output_type": "stream",
     "text": [
      "ada\n",
      "O usuário digitou: ada\n"
     ]
    }
   ],
   "source": [
    "resultado = input()\n",
    "\n",
    "print(\"O usuário digitou:\", resultado)"
   ]
  },
  {
   "cell_type": "code",
   "execution_count": 48,
   "metadata": {
    "colab": {
     "base_uri": "https://localhost:8080/"
    },
    "executionInfo": {
     "elapsed": 2626,
     "status": "ok",
     "timestamp": 1673383733411,
     "user": {
      "displayName": "Andre Juan",
      "userId": "08529802346316693602"
     },
     "user_tz": 180
    },
    "id": "ZXI2AOynb1TQ",
    "outputId": "79624cb7-1876-4e41-cc15-8d6aa6dc2b3e"
   },
   "outputs": [
    {
     "name": "stdout",
     "output_type": "stream",
     "text": [
      "Digite seu nome: André\n",
      "Bom dia, André\n"
     ]
    }
   ],
   "source": [
    "nome = input(\"Digite seu nome: \")\n",
    "\n",
    "print(\"Bom dia,\", nome)"
   ]
  },
  {
   "cell_type": "markdown",
   "metadata": {
    "id": "EZb5pSrRTBOk"
   },
   "source": [
    "__IMPORTANTE: a função input() toma o que o usuário digitou como uma string! Se o usuário digitar algum número, e algum cálculo for feito com esse número, o número deve ser transformado em int ou float!__\n",
    "\n",
    "A melhor forma de fazer isso, é já transformar o resultado da função input em float.\n",
    "\n",
    "Fazemos isso com uma espécie de sanduíche, colocando a função input() dentro da função float(), que transforma uma string em um float!\n",
    "\n",
    "> A mudança de tipos de dados é conhecida como **coerção** ou **conversão** de tipos.\n",
    "\n",
    "OBS: é melhor transformar o input em float ao invés de int, pois o float é um tipo numérico mais genérico, apesar de ocupar (um pouco) mais memória."
   ]
  },
  {
   "cell_type": "code",
   "execution_count": 49,
   "metadata": {
    "colab": {
     "base_uri": "https://localhost:8080/"
    },
    "executionInfo": {
     "elapsed": 5652,
     "status": "ok",
     "timestamp": 1673383825284,
     "user": {
      "displayName": "Andre Juan",
      "userId": "08529802346316693602"
     },
     "user_tz": 180
    },
    "id": "_f9Kj07cTBOk",
    "outputId": "31248496-0e36-4d58-bdc2-6b37af939ccc"
   },
   "outputs": [
    {
     "name": "stdout",
     "output_type": "stream",
     "text": [
      "Digite sua idade: 10\n"
     ]
    },
    {
     "data": {
      "text/plain": [
       "str"
      ]
     },
     "execution_count": 49,
     "metadata": {},
     "output_type": "execute_result"
    }
   ],
   "source": [
    "idade = input(\"Digite sua idade: \")\n",
    "\n",
    "type(idade)"
   ]
  },
  {
   "cell_type": "code",
   "execution_count": 54,
   "metadata": {
    "colab": {
     "base_uri": "https://localhost:8080/",
     "height": 35
    },
    "executionInfo": {
     "elapsed": 16,
     "status": "ok",
     "timestamp": 1673383937512,
     "user": {
      "displayName": "Andre Juan",
      "userId": "08529802346316693602"
     },
     "user_tz": 180
    },
    "id": "BLz9Uzi_dHyS",
    "outputId": "516f8f2e-f800-4bc2-eefe-b95a3ee5d6ad"
   },
   "outputs": [
    {
     "data": {
      "application/vnd.google.colaboratory.intrinsic+json": {
       "type": "string"
      },
      "text/plain": [
       "'10'"
      ]
     },
     "execution_count": 54,
     "metadata": {},
     "output_type": "execute_result"
    }
   ],
   "source": [
    "idade"
   ]
  },
  {
   "cell_type": "code",
   "execution_count": 56,
   "metadata": {
    "colab": {
     "base_uri": "https://localhost:8080/"
    },
    "executionInfo": {
     "elapsed": 4,
     "status": "ok",
     "timestamp": 1673383954508,
     "user": {
      "displayName": "Andre Juan",
      "userId": "08529802346316693602"
     },
     "user_tz": 180
    },
    "id": "1lwoC_rLdClD",
    "outputId": "8ffea1a9-5d7a-4902-b741-0fcd0242171b"
   },
   "outputs": [
    {
     "data": {
      "text/plain": [
       "int"
      ]
     },
     "execution_count": 56,
     "metadata": {},
     "output_type": "execute_result"
    }
   ],
   "source": [
    "idade_int = int(idade)\n",
    "\n",
    "type(idade_int)"
   ]
  },
  {
   "cell_type": "code",
   "execution_count": 59,
   "metadata": {
    "colab": {
     "base_uri": "https://localhost:8080/"
    },
    "executionInfo": {
     "elapsed": 254,
     "status": "ok",
     "timestamp": 1673384002611,
     "user": {
      "displayName": "Andre Juan",
      "userId": "08529802346316693602"
     },
     "user_tz": 180
    },
    "id": "yFzezXoNdV7b",
    "outputId": "a1d9ac45-7f23-4eec-a318-da8aa1a06e9b"
   },
   "outputs": [
    {
     "data": {
      "text/plain": [
       "15"
      ]
     },
     "execution_count": 59,
     "metadata": {},
     "output_type": "execute_result"
    }
   ],
   "source": [
    "idade_int + 5"
   ]
  },
  {
   "cell_type": "code",
   "execution_count": 60,
   "metadata": {
    "colab": {
     "base_uri": "https://localhost:8080/"
    },
    "executionInfo": {
     "elapsed": 3302,
     "status": "ok",
     "timestamp": 1673384064995,
     "user": {
      "displayName": "Andre Juan",
      "userId": "08529802346316693602"
     },
     "user_tz": 180
    },
    "id": "a03LfKyYdblg",
    "outputId": "991213f3-1a82-4674-ed63-d16f6b2c0d3f"
   },
   "outputs": [
    {
     "name": "stdout",
     "output_type": "stream",
     "text": [
      "Digite sua idade: 10\n"
     ]
    },
    {
     "data": {
      "text/plain": [
       "int"
      ]
     },
     "execution_count": 60,
     "metadata": {},
     "output_type": "execute_result"
    }
   ],
   "source": [
    "idade = int(input(\"Digite sua idade: \"))\n",
    "\n",
    "type(idade)"
   ]
  },
  {
   "cell_type": "code",
   "execution_count": 68,
   "metadata": {
    "colab": {
     "base_uri": "https://localhost:8080/"
    },
    "executionInfo": {
     "elapsed": 6865,
     "status": "ok",
     "timestamp": 1673384237010,
     "user": {
      "displayName": "Andre Juan",
      "userId": "08529802346316693602"
     },
     "user_tz": 180
    },
    "id": "AKqqdjpjdrcr",
    "outputId": "a0396eb3-24aa-496c-beab-b8d37ab81c7d"
   },
   "outputs": [
    {
     "name": "stdout",
     "output_type": "stream",
     "text": [
      "Digite sua altura: 1.78\n"
     ]
    },
    {
     "data": {
      "text/plain": [
       "float"
      ]
     },
     "execution_count": 68,
     "metadata": {},
     "output_type": "execute_result"
    }
   ],
   "source": [
    "altura = float(input(\"Digite sua altura: \"))\n",
    "\n",
    "type(altura)"
   ]
  },
  {
   "cell_type": "markdown",
   "metadata": {
    "id": "-v2g0gJlTBOk"
   },
   "source": [
    "____\n",
    "____\n",
    "____"
   ]
  },
  {
   "cell_type": "markdown",
   "metadata": {
    "id": "UTVKdIJpTBOl"
   },
   "source": [
    "## 5) Operadores Matemáticos\n",
    "\n",
    "Em Python, temos as principais operações matemáticas, com os respectivos símbolos:\n",
    "\n",
    "- soma: (+)\n",
    "\n",
    "- subtração: (-)\n",
    "\n",
    "- multiplicação: (*)\n",
    "\n",
    "- divisão: (/)\n",
    "\n",
    "- potência: (\\*\\*)"
   ]
  },
  {
   "cell_type": "code",
   "execution_count": 69,
   "metadata": {
    "colab": {
     "base_uri": "https://localhost:8080/"
    },
    "executionInfo": {
     "elapsed": 14,
     "status": "ok",
     "timestamp": 1673384323066,
     "user": {
      "displayName": "Andre Juan",
      "userId": "08529802346316693602"
     },
     "user_tz": 180
    },
    "id": "dpIWm__ATBOl",
    "outputId": "6693083f-fdc8-4148-fea3-583ffdf689bd"
   },
   "outputs": [
    {
     "data": {
      "text/plain": [
       "4"
      ]
     },
     "execution_count": 69,
     "metadata": {},
     "output_type": "execute_result"
    }
   ],
   "source": [
    "2+2"
   ]
  },
  {
   "cell_type": "code",
   "execution_count": 70,
   "metadata": {
    "colab": {
     "base_uri": "https://localhost:8080/"
    },
    "executionInfo": {
     "elapsed": 14,
     "status": "ok",
     "timestamp": 1673384332859,
     "user": {
      "displayName": "Andre Juan",
      "userId": "08529802346316693602"
     },
     "user_tz": 180
    },
    "id": "5nkZN8T_em3H",
    "outputId": "81f0d188-0aed-4d68-c5da-32002df29b59"
   },
   "outputs": [
    {
     "data": {
      "text/plain": [
       "44.45245356"
      ]
     },
     "execution_count": 70,
     "metadata": {},
     "output_type": "execute_result"
    }
   ],
   "source": [
    "2.45245356 + 42"
   ]
  },
  {
   "cell_type": "code",
   "execution_count": 71,
   "metadata": {
    "colab": {
     "base_uri": "https://localhost:8080/"
    },
    "executionInfo": {
     "elapsed": 12,
     "status": "ok",
     "timestamp": 1673384366920,
     "user": {
      "displayName": "Andre Juan",
      "userId": "08529802346316693602"
     },
     "user_tz": 180
    },
    "id": "PNUd6MFFeppt",
    "outputId": "8df1338d-2432-4b84-a082-c0811a59dfa8"
   },
   "outputs": [
    {
     "data": {
      "text/plain": [
       "12"
      ]
     },
     "execution_count": 71,
     "metadata": {},
     "output_type": "execute_result"
    }
   ],
   "source": [
    "4*3"
   ]
  },
  {
   "cell_type": "code",
   "execution_count": 72,
   "metadata": {
    "colab": {
     "base_uri": "https://localhost:8080/"
    },
    "executionInfo": {
     "elapsed": 11,
     "status": "ok",
     "timestamp": 1673384380098,
     "user": {
      "displayName": "Andre Juan",
      "userId": "08529802346316693602"
     },
     "user_tz": 180
    },
    "id": "p_ILP2MlexyR",
    "outputId": "6b3f4265-7ff7-4df8-8679-2631a4464855"
   },
   "outputs": [
    {
     "data": {
      "text/plain": [
       "1.4285714285714286"
      ]
     },
     "execution_count": 72,
     "metadata": {},
     "output_type": "execute_result"
    }
   ],
   "source": [
    "10/7"
   ]
  },
  {
   "cell_type": "code",
   "execution_count": 73,
   "metadata": {
    "colab": {
     "base_uri": "https://localhost:8080/"
    },
    "executionInfo": {
     "elapsed": 6,
     "status": "ok",
     "timestamp": 1673384388032,
     "user": {
      "displayName": "Andre Juan",
      "userId": "08529802346316693602"
     },
     "user_tz": 180
    },
    "id": "H8jXmSS5e1Bd",
    "outputId": "c88db33b-4e1a-4a5e-f854-e3ff78ab7f73"
   },
   "outputs": [
    {
     "data": {
      "text/plain": [
       "4"
      ]
     },
     "execution_count": 73,
     "metadata": {},
     "output_type": "execute_result"
    }
   ],
   "source": [
    "2**2"
   ]
  },
  {
   "cell_type": "code",
   "execution_count": 74,
   "metadata": {
    "colab": {
     "base_uri": "https://localhost:8080/"
    },
    "executionInfo": {
     "elapsed": 5,
     "status": "ok",
     "timestamp": 1673384393344,
     "user": {
      "displayName": "Andre Juan",
      "userId": "08529802346316693602"
     },
     "user_tz": 180
    },
    "id": "DZbWo1xue2qH",
    "outputId": "e5d01771-1a92-43ed-bec8-513bb68b4b5b"
   },
   "outputs": [
    {
     "data": {
      "text/plain": [
       "25"
      ]
     },
     "execution_count": 74,
     "metadata": {},
     "output_type": "execute_result"
    }
   ],
   "source": [
    "5**2"
   ]
  },
  {
   "cell_type": "code",
   "execution_count": 75,
   "metadata": {
    "colab": {
     "base_uri": "https://localhost:8080/"
    },
    "executionInfo": {
     "elapsed": 249,
     "status": "ok",
     "timestamp": 1673384405458,
     "user": {
      "displayName": "Andre Juan",
      "userId": "08529802346316693602"
     },
     "user_tz": 180
    },
    "id": "GniGQYVHe4Mm",
    "outputId": "ea643d2c-83d3-4b4e-bcf4-3802705d43ad"
   },
   "outputs": [
    {
     "data": {
      "text/plain": [
       "5.0"
      ]
     },
     "execution_count": 75,
     "metadata": {},
     "output_type": "execute_result"
    }
   ],
   "source": [
    "25**(0.5)"
   ]
  },
  {
   "cell_type": "code",
   "execution_count": 76,
   "metadata": {
    "colab": {
     "base_uri": "https://localhost:8080/",
     "height": 167
    },
    "executionInfo": {
     "elapsed": 9,
     "status": "error",
     "timestamp": 1673384417205,
     "user": {
      "displayName": "Andre Juan",
      "userId": "08529802346316693602"
     },
     "user_tz": 180
    },
    "id": "7XcP3fIWe8Ol",
    "outputId": "e19a8bf1-3e01-48fb-ea46-25015d013a79"
   },
   "outputs": [
    {
     "ename": "ZeroDivisionError",
     "evalue": "ignored",
     "output_type": "error",
     "traceback": [
      "\u001b[0;31m---------------------------------------------------------------------------\u001b[0m",
      "\u001b[0;31mZeroDivisionError\u001b[0m                         Traceback (most recent call last)",
      "\u001b[0;32m<ipython-input-76-e8326a161779>\u001b[0m in \u001b[0;36m<module>\u001b[0;34m\u001b[0m\n\u001b[0;32m----> 1\u001b[0;31m \u001b[0;36m2\u001b[0m\u001b[0;34m/\u001b[0m\u001b[0;36m0\u001b[0m\u001b[0;34m\u001b[0m\u001b[0;34m\u001b[0m\u001b[0m\n\u001b[0m",
      "\u001b[0;31mZeroDivisionError\u001b[0m: division by zero"
     ]
    }
   ],
   "source": [
    "2/0"
   ]
  },
  {
   "cell_type": "markdown",
   "metadata": {
    "id": "h2Z5MAFpTBOl"
   },
   "source": [
    "Além disso, temos duas operações especiais:\n",
    "\n",
    "- divisão inteira: (//) retorna a parte inteira da divisão entre dois números\n",
    "\n",
    "- resto da divisão: (%) se lê \"mod\", e retorna o resto da divisão entre dois números"
   ]
  },
  {
   "cell_type": "code",
   "execution_count": 77,
   "metadata": {
    "colab": {
     "base_uri": "https://localhost:8080/"
    },
    "executionInfo": {
     "elapsed": 403,
     "status": "ok",
     "timestamp": 1673384490767,
     "user": {
      "displayName": "Andre Juan",
      "userId": "08529802346316693602"
     },
     "user_tz": 180
    },
    "id": "4ql_aig0TBOm",
    "outputId": "51c41cf4-3e0e-42ff-c0f4-6557db634c54"
   },
   "outputs": [
    {
     "data": {
      "text/plain": [
       "1.4285714285714286"
      ]
     },
     "execution_count": 77,
     "metadata": {},
     "output_type": "execute_result"
    }
   ],
   "source": [
    "10/7"
   ]
  },
  {
   "cell_type": "code",
   "execution_count": 78,
   "metadata": {
    "colab": {
     "base_uri": "https://localhost:8080/"
    },
    "executionInfo": {
     "elapsed": 430,
     "status": "ok",
     "timestamp": 1673384502196,
     "user": {
      "displayName": "Andre Juan",
      "userId": "08529802346316693602"
     },
     "user_tz": 180
    },
    "id": "Zi3xPsO2fQ_r",
    "outputId": "f50f45c8-79eb-4c7a-fc9d-37eab8afb555"
   },
   "outputs": [
    {
     "data": {
      "text/plain": [
       "1"
      ]
     },
     "execution_count": 78,
     "metadata": {},
     "output_type": "execute_result"
    }
   ],
   "source": [
    "10//7"
   ]
  },
  {
   "cell_type": "markdown",
   "metadata": {
    "id": "PKZaU4uofqxf"
   },
   "source": [
    "10 = 7*1 + 3"
   ]
  },
  {
   "cell_type": "code",
   "execution_count": 82,
   "metadata": {
    "colab": {
     "base_uri": "https://localhost:8080/"
    },
    "executionInfo": {
     "elapsed": 279,
     "status": "ok",
     "timestamp": 1673384641274,
     "user": {
      "displayName": "Andre Juan",
      "userId": "08529802346316693602"
     },
     "user_tz": 180
    },
    "id": "KGFdIlpjfx-1",
    "outputId": "6ba029ad-564c-4bdf-b80f-588c5d6174af"
   },
   "outputs": [
    {
     "data": {
      "text/plain": [
       "3"
      ]
     },
     "execution_count": 82,
     "metadata": {},
     "output_type": "execute_result"
    }
   ],
   "source": [
    "10 % 7"
   ]
  },
  {
   "cell_type": "code",
   "execution_count": 79,
   "metadata": {
    "colab": {
     "base_uri": "https://localhost:8080/"
    },
    "executionInfo": {
     "elapsed": 13,
     "status": "ok",
     "timestamp": 1673384515784,
     "user": {
      "displayName": "Andre Juan",
      "userId": "08529802346316693602"
     },
     "user_tz": 180
    },
    "id": "gOGcQp3QfUK_",
    "outputId": "3ec480c8-df28-4e47-992e-727c1af33645"
   },
   "outputs": [
    {
     "data": {
      "text/plain": [
       "0.8888888888888888"
      ]
     },
     "execution_count": 79,
     "metadata": {},
     "output_type": "execute_result"
    }
   ],
   "source": [
    "8/9"
   ]
  },
  {
   "cell_type": "code",
   "execution_count": 80,
   "metadata": {
    "colab": {
     "base_uri": "https://localhost:8080/"
    },
    "executionInfo": {
     "elapsed": 8,
     "status": "ok",
     "timestamp": 1673384522137,
     "user": {
      "displayName": "Andre Juan",
      "userId": "08529802346316693602"
     },
     "user_tz": 180
    },
    "id": "Sq581KQ5fWJ4",
    "outputId": "a23b5138-5ffa-4b91-88c0-4d5684ff18a6"
   },
   "outputs": [
    {
     "data": {
      "text/plain": [
       "0"
      ]
     },
     "execution_count": 80,
     "metadata": {},
     "output_type": "execute_result"
    }
   ],
   "source": [
    "8//9"
   ]
  },
  {
   "cell_type": "code",
   "execution_count": 83,
   "metadata": {
    "colab": {
     "base_uri": "https://localhost:8080/"
    },
    "executionInfo": {
     "elapsed": 259,
     "status": "ok",
     "timestamp": 1673384669238,
     "user": {
      "displayName": "Andre Juan",
      "userId": "08529802346316693602"
     },
     "user_tz": 180
    },
    "id": "bboH8Nryf5kW",
    "outputId": "0002967d-344e-4bfc-8573-8d55876f2068"
   },
   "outputs": [
    {
     "data": {
      "text/plain": [
       "8"
      ]
     },
     "execution_count": 83,
     "metadata": {},
     "output_type": "execute_result"
    }
   ],
   "source": [
    "8 % 9"
   ]
  },
  {
   "cell_type": "markdown",
   "metadata": {
    "id": "2A8UjrL-f8MJ"
   },
   "source": [
    "8 = 9*0 + 8"
   ]
  },
  {
   "cell_type": "markdown",
   "metadata": {
    "id": "xzrrUu4pTBOm"
   },
   "source": [
    "OBS: o principal uso do operador resto da divisão (%) é para avaliar se um número é par ou impar:\n",
    "\n",
    "- se o resto da divisão de um número por 2 **É ZERO**, ele é par;\n",
    "- se o resto da divisão de um número por 2 **É UM**, ele é ímpar;\n"
   ]
  },
  {
   "cell_type": "code",
   "execution_count": 84,
   "metadata": {
    "colab": {
     "base_uri": "https://localhost:8080/"
    },
    "executionInfo": {
     "elapsed": 246,
     "status": "ok",
     "timestamp": 1673384749290,
     "user": {
      "displayName": "Andre Juan",
      "userId": "08529802346316693602"
     },
     "user_tz": 180
    },
    "id": "4dnf59aAgFI4",
    "outputId": "c4ca2075-0b90-49c0-ccc8-de87c5d59791"
   },
   "outputs": [
    {
     "data": {
      "text/plain": [
       "0"
      ]
     },
     "execution_count": 84,
     "metadata": {},
     "output_type": "execute_result"
    }
   ],
   "source": [
    "# esse numero é par\n",
    "2393453452 % 2"
   ]
  },
  {
   "cell_type": "code",
   "execution_count": 85,
   "metadata": {
    "colab": {
     "base_uri": "https://localhost:8080/"
    },
    "executionInfo": {
     "elapsed": 260,
     "status": "ok",
     "timestamp": 1673384757211,
     "user": {
      "displayName": "Andre Juan",
      "userId": "08529802346316693602"
     },
     "user_tz": 180
    },
    "id": "MuvSVJGrgOVC",
    "outputId": "88ec59e4-100c-4d0f-ea6c-10bfdc10c9ac"
   },
   "outputs": [
    {
     "data": {
      "text/plain": [
       "1"
      ]
     },
     "execution_count": 85,
     "metadata": {},
     "output_type": "execute_result"
    }
   ],
   "source": [
    "# esse numero é impar\n",
    "23934534521 % 2"
   ]
  },
  {
   "cell_type": "code",
   "execution_count": 86,
   "metadata": {
    "colab": {
     "base_uri": "https://localhost:8080/",
     "height": 35
    },
    "executionInfo": {
     "elapsed": 307,
     "status": "ok",
     "timestamp": 1673384867431,
     "user": {
      "displayName": "Andre Juan",
      "userId": "08529802346316693602"
     },
     "user_tz": 180
    },
    "id": "FOrew7Y8gmDM",
    "outputId": "576c52d6-b649-4886-bca2-97231969426b"
   },
   "outputs": [
    {
     "data": {
      "application/vnd.google.colaboratory.intrinsic+json": {
       "type": "string"
      },
      "text/plain": [
       "'ab'"
      ]
     },
     "execution_count": 86,
     "metadata": {},
     "output_type": "execute_result"
    }
   ],
   "source": [
    "\"a\" + \"b\""
   ]
  },
  {
   "cell_type": "code",
   "execution_count": 88,
   "metadata": {
    "colab": {
     "base_uri": "https://localhost:8080/",
     "height": 35
    },
    "executionInfo": {
     "elapsed": 17,
     "status": "ok",
     "timestamp": 1673384901200,
     "user": {
      "displayName": "Andre Juan",
      "userId": "08529802346316693602"
     },
     "user_tz": 180
    },
    "id": "dv50U5uXgrKm",
    "outputId": "00b04c1b-21fb-4c28-aa58-d7c32ef97293"
   },
   "outputs": [
    {
     "data": {
      "application/vnd.google.colaboratory.intrinsic+json": {
       "type": "string"
      },
      "text/plain": [
       "\"let's code\""
      ]
     },
     "execution_count": 88,
     "metadata": {},
     "output_type": "execute_result"
    }
   ],
   "source": [
    "\"let's\" + \" \" + \"code\""
   ]
  },
  {
   "cell_type": "code",
   "execution_count": 89,
   "metadata": {
    "colab": {
     "base_uri": "https://localhost:8080/",
     "height": 35
    },
    "executionInfo": {
     "elapsed": 13,
     "status": "ok",
     "timestamp": 1673384913678,
     "user": {
      "displayName": "Andre Juan",
      "userId": "08529802346316693602"
     },
     "user_tz": 180
    },
    "id": "ri46awN7gyAS",
    "outputId": "f363acb9-f952-4fa2-ccf6-11a3af0c5b7d"
   },
   "outputs": [
    {
     "data": {
      "application/vnd.google.colaboratory.intrinsic+json": {
       "type": "string"
      },
      "text/plain": [
       "'aaaa'"
      ]
     },
     "execution_count": 89,
     "metadata": {},
     "output_type": "execute_result"
    }
   ],
   "source": [
    "\"a\"*4"
   ]
  }
 ],
 "metadata": {
  "colab": {
   "provenance": []
  },
  "kernelspec": {
   "display_name": "Python 3 (ipykernel)",
   "language": "python",
   "name": "python3"
  },
  "language_info": {
   "codemirror_mode": {
    "name": "ipython",
    "version": 3
   },
   "file_extension": ".py",
   "mimetype": "text/x-python",
   "name": "python",
   "nbconvert_exporter": "python",
   "pygments_lexer": "ipython3",
   "version": "3.11.5"
  }
 },
 "nbformat": 4,
 "nbformat_minor": 1
}
