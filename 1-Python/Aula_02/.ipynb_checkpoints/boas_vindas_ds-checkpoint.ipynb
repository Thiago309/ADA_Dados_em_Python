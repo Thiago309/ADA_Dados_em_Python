{
 "cells": [
  {
   "cell_type": "markdown",
   "metadata": {},
   "source": [
    "# Dados em Python\n",
    "\n",
    "__________\n",
    "\n",
    "Bem-vindos ao curso!\n",
    "\n",
    "Hoje iniciamos nossa jornada no maravilhoso mundo da Ciência de Dados em Python!\n",
    "\n",
    "Neste curso, utilizaremos **Python** para fazer (quase) todas as tarefas.\n",
    "\n",
    "Mas antes de começarmos a programar, vamos nos familiarizar um pouquinho mais com alguns dos termos utilizados na área."
   ]
  },
  {
   "cell_type": "markdown",
   "metadata": {},
   "source": [
    "____"
   ]
  },
  {
   "cell_type": "markdown",
   "metadata": {},
   "source": [
    "## Data science\n",
    "\n",
    "Como o próprio nome diz, o termo **data science** se refere a um conjunto de técnicas e ferramentas utilizadas para o estudo de **dados**.\n",
    "\n",
    "O mundo é repleto de **dados**...\n",
    "\n",
    "...e os dados **contêm muita informação**...\n",
    "\n",
    "...e informação é vital para todo **negócio**...\n",
    "\n",
    "...para a **tomada de decisão** e **produção de novos insights**!\n",
    "\n",
    "Como fazer isso?\n",
    "\n",
    "__Com as técnicas que aprenderemos aqui!__"
   ]
  },
  {
   "cell_type": "markdown",
   "metadata": {},
   "source": [
    "Ciência de dados é uma área interdisciplinar baseada em três pilares, conforme a imagem abaixo:\n",
    "\n",
    "<figure>\n",
    "    <img src=https://s3-sa-east-1.amazonaws.com/lcpi/3b83f7f6-c5c7-4350-9547-48affa3003a2.png>\n",
    "    <figcaption>Fonte: Hotmart Blog</figcaption>\n",
    "</figure>"
   ]
  },
  {
   "cell_type": "markdown",
   "metadata": {},
   "source": [
    "___"
   ]
  },
  {
   "cell_type": "markdown",
   "metadata": {},
   "source": [
    "## A jornada de um projeto de Data Science\n",
    "\n",
    "Um projeto de ciência de dados costuma ser dividido, essencialmente, nas seguintes etapas:\n",
    "\n",
    "- 0) Formulação do problema;\n",
    "- 1) Ingestão dos dados;\n",
    "- 2) Preparação dos dados;\n",
    "- 3) Exploração dos dados;\n",
    "- 4) Modelagem;\n",
    "- 5) Apresentação ou deploy;\n",
    "\n",
    "Depois da etapa 0), a mais trabalhosaa (e que provavelmente mais vai levar tempo) são de 2) a 3)!\n",
    "\n",
    "E há quem diga que estas são as etapas mais importantes! **(Garbage in, garabage out!)**"
   ]
  },
  {
   "cell_type": "markdown",
   "metadata": {},
   "source": [
    "<figure>\n",
    "    <img src=https://s3-sa-east-1.amazonaws.com/lcpi/106f346b-ba94-4fb2-ae32-de73835f82ca.png>\n",
    "    <figcaption>Fonte: ABG consultoria</figcaption>\n",
    "</figure>"
   ]
  },
  {
   "cell_type": "markdown",
   "metadata": {},
   "source": [
    "### CRISP-DM\n",
    "\n",
    "*Cross Industry Standard Process for Data Mining*, ou: Processo Padrão Inter-Indústrias para Mineração de Dados.\n",
    "\n",
    "<figure>\n",
    "    <img src=https://s3-sa-east-1.amazonaws.com/lcpi/331f565a-0d71-4a82-90c0-bc7dad9db2b3.png width=400>\n",
    "    <figcaption>Fonte: Medium</figcaption>\n",
    "</figure>\n"
   ]
  },
  {
   "cell_type": "markdown",
   "metadata": {},
   "source": [
    "Neste curso, iremos aprender as ferramentas fundamentais necessárias para conduzir cada uma destas etapas, sendo capazes de resolver problemas completos, de ponta a ponta, utilizando técnicas de data science!\n",
    "\n",
    "> E vamos treinar bastante para que o processo acima aos poucos se torne natural!"
   ]
  },
  {
   "cell_type": "markdown",
   "metadata": {},
   "source": [
    "Como dito acima, os passos até o 3) são talvez os mais importantes da jornada, mas não é incomum que muita gente goste bastante da etapa 4)! Vamos dar uma olhadinha?"
   ]
  },
  {
   "cell_type": "markdown",
   "metadata": {},
   "source": [
    "## Inteligência Artificial\n",
    "\n",
    "É a área que estuda sistemas computacionais **capazes de realizar tarefas que normalmente exigiriam interferência ou ação humana**.\n",
    "\n",
    "Ou seja, são sistemas que **replicam artificialmente o que conhecemos por inteligência natural**, o que envolve tarefas como:\n",
    "\n",
    "- Tomada de decisão;\n",
    "- Visão;\n",
    "- Processamento de linguagem natural;\n",
    "- Análise de áudios...\n",
    "\n",
    "<figure>\n",
    "    <img src=https://s3-sa-east-1.amazonaws.com/lcpi/2012fae6-d7cc-4239-9416-188c214ad883.png width=600>\n",
    "    <figcaption>Fonte: Medium</figcaption>\n",
    "</figure>"
   ]
  },
  {
   "cell_type": "markdown",
   "metadata": {},
   "source": [
    "Asssim, é importante notar que machine learning (ML) é apenas uma **sub-área** da inteligência artificial:\n",
    "\n",
    "<br>\n",
    "\n",
    "<figure>\n",
    "    <img src=https://s3-sa-east-1.amazonaws.com/lcpi/ab070237-3783-4f44-afba-84c10a2a88fa.jfif>\n",
    "    <figcaption>Fonte: Research Gate</figcaption>\n",
    "</figure>"
   ]
  },
  {
   "cell_type": "markdown",
   "metadata": {},
   "source": [
    "____"
   ]
  },
  {
   "cell_type": "markdown",
   "metadata": {},
   "source": [
    "## Machine Learning\n",
    "\n",
    "A **aprendizagem de máquina** se divide em três grandes áreas:\n",
    "\n",
    "<br>\n",
    "\n",
    "<figure>\n",
    "    <img src=https://s3-sa-east-1.amazonaws.com/lcpi/2617823d-c550-49c0-bdb5-dc4e24552a0d.png width=600>\n",
    "    <figcaption>Fonte: Towards Data Science</figcaption>\n",
    "</figure>"
   ]
  },
  {
   "cell_type": "markdown",
   "metadata": {},
   "source": [
    "____"
   ]
  },
  {
   "cell_type": "markdown",
   "metadata": {},
   "source": [
    "### Ou seja: data science vai muito além de IA, e vice-versa!"
   ]
  },
  {
   "cell_type": "markdown",
   "metadata": {},
   "source": [
    "<figure>\n",
    "    <img src=https://s3-sa-east-1.amazonaws.com/lcpi/e123ac15-7906-41db-8970-b75ccffd36e2.png width=500>\n",
    "    <figcaption>Fonte: Medium</figcaption>\n",
    "</figure>"
   ]
  },
  {
   "cell_type": "markdown",
   "metadata": {},
   "source": [
    "____"
   ]
  },
  {
   "cell_type": "markdown",
   "metadata": {},
   "source": [
    "## Alguns exemplos de aplicações\n",
    "\n",
    "Que tipo de problemas podemos resolver com ML?\n",
    "\n",
    "<figure>\n",
    "    <img src=https://s3-sa-east-1.amazonaws.com/lcpi/50bad0ff-fae3-4901-b7dd-7d62647da661.png width=500>\n",
    "    <figcaption>Fonte: Pinterest</figcaption>\n",
    "</figure>"
   ]
  },
  {
   "cell_type": "markdown",
   "metadata": {},
   "source": [
    "____"
   ]
  },
  {
   "cell_type": "markdown",
   "metadata": {},
   "source": [
    "## As carreiras de dados\n",
    "\n",
    "A área de dados é muito ampla, demandando uma variada gama de profissionais, com diferentes habilidades e especialidades. Na imagem a seguir, isso é brevemente explorado:\n",
    "\n",
    "<br>\n",
    "\n",
    "<figure>\n",
    "    <img src=https://s3-sa-east-1.amazonaws.com/lcpi/deb44131-9e93-427e-a453-827d2576ad5f.webp width=600>\n",
    "    <figcaption>Fonte: Udacity</figcaption>\n",
    "</figure>\n"
   ]
  },
  {
   "cell_type": "markdown",
   "metadata": {},
   "source": [
    "____"
   ]
  },
  {
   "cell_type": "markdown",
   "metadata": {},
   "source": [
    "____"
   ]
  },
  {
   "cell_type": "markdown",
   "metadata": {},
   "source": [
    "____"
   ]
  }
 ],
 "metadata": {
  "kernelspec": {
   "display_name": "Python 3 (ipykernel)",
   "language": "python",
   "name": "python3"
  },
  "language_info": {
   "codemirror_mode": {
    "name": "ipython",
    "version": 3
   },
   "file_extension": ".py",
   "mimetype": "text/x-python",
   "name": "python",
   "nbconvert_exporter": "python",
   "pygments_lexer": "ipython3",
   "version": "3.9.13"
  }
 },
 "nbformat": 4,
 "nbformat_minor": 4
}
