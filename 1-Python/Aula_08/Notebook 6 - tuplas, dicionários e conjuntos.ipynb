{
 "cells": [
  {
   "cell_type": "markdown",
   "metadata": {
    "id": "OgikDvWVcUN9"
   },
   "source": [
    "# Aula 6 - tuplas, dicionários e conjuntos\n",
    "\n",
    "Na aula de hoje, vamos explorar os seguintes tópicos em Python:\n",
    "\n",
    "- 1) Tuplas\n",
    "- 2) Dicionários\n",
    "- 3) Conjuntos\n",
    "\n",
    "_____________\n",
    "\n",
    "### Problema gerador: como fazer um sistema de cadastro em Python?\n",
    "\n",
    "Queremos armazenar vários nomes, idades, cidade de residência, etc. Como fazer isso de maneira melhor que utilizando listas?"
   ]
  },
  {
   "cell_type": "markdown",
   "metadata": {
    "id": "W9r0T8VBcUOB"
   },
   "source": [
    "____\n",
    "____\n",
    "____"
   ]
  },
  {
   "cell_type": "markdown",
   "metadata": {
    "id": "M3jSyZ58cUOC"
   },
   "source": [
    "## 1) Tuplas\n",
    "\n",
    "Até o momento, temos utilizado **listas** pra armazenar uma coleção de dados.\n",
    "\n",
    "Aprenderemos agora sobre uma nova **estrutura de dados**: tuplas!\n",
    "\n",
    "Tuplas são estruturas bastante parecidas com listas:\n",
    "\n",
    "- Podem guardar **tipos diferentes de dados**;\n",
    "- São indexadas (podemos **acessar elementos por índices**);\n",
    "- São iteráveis (**podemos percorrer com o `for`**)."
   ]
  },
  {
   "cell_type": "markdown",
   "metadata": {
    "id": "mBKlsv8dcUOD"
   },
   "source": [
    "A principal diferença é: tuplas são **imutáveis**!\n",
    "\n",
    "Para tuplas **não é possível**: alterar elementos individuais, adicionar elementos, remover elementos ou alterar a ordem dos elementos. Uma vez criada, não é possível alterar nada de uma tupla!\n",
    "\n",
    "Mas, então, pra que servem as tuplas?\n",
    "\n",
    "- É um jeito de **sinalizar que esses dados não deveriam ser alterados**;\n",
    "\n",
    "- É um meio de garantir que os elementos estarão **em uma ordem específica**;\n",
    "\n",
    "- O acesso a elementos de uma tupla **é bem mais rápido**."
   ]
  },
  {
   "cell_type": "markdown",
   "metadata": {
    "id": "2CLwjho8cUOD"
   },
   "source": [
    "Tuplas são inicializadas como uma **sequência de valores entre parênteses ()**\n"
   ]
  },
  {
   "cell_type": "code",
   "execution_count": 1,
   "metadata": {
    "executionInfo": {
     "elapsed": 5,
     "status": "ok",
     "timestamp": 1675364051998,
     "user": {
      "displayName": "Andre Juan",
      "userId": "08529802346316693602"
     },
     "user_tz": 180
    },
    "id": "-PpqHYtrcUOE"
   },
   "outputs": [],
   "source": [
    "tupla = (1, 4.2, True, \"ada\", [1, 2, 3])"
   ]
  },
  {
   "cell_type": "code",
   "execution_count": 2,
   "metadata": {
    "colab": {
     "base_uri": "https://localhost:8080/"
    },
    "executionInfo": {
     "elapsed": 14,
     "status": "ok",
     "timestamp": 1675364056863,
     "user": {
      "displayName": "Andre Juan",
      "userId": "08529802346316693602"
     },
     "user_tz": 180
    },
    "id": "9cQNGzwHerZZ",
    "outputId": "2e842ad3-ba07-4306-fc6f-e7897e36a73c"
   },
   "outputs": [
    {
     "data": {
      "text/plain": [
       "(1, 4.2, True, 'ada', [1, 2, 3])"
      ]
     },
     "execution_count": 2,
     "metadata": {},
     "output_type": "execute_result"
    }
   ],
   "source": [
    "tupla"
   ]
  },
  {
   "cell_type": "code",
   "execution_count": 3,
   "metadata": {
    "colab": {
     "base_uri": "https://localhost:8080/"
    },
    "executionInfo": {
     "elapsed": 220,
     "status": "ok",
     "timestamp": 1675364085510,
     "user": {
      "displayName": "Andre Juan",
      "userId": "08529802346316693602"
     },
     "user_tz": 180
    },
    "id": "vlYfbwZlexoJ",
    "outputId": "512df386-5379-4f7c-8173-5f983f1db85c"
   },
   "outputs": [
    {
     "data": {
      "text/plain": [
       "5"
      ]
     },
     "execution_count": 3,
     "metadata": {},
     "output_type": "execute_result"
    }
   ],
   "source": [
    "len(tupla)"
   ]
  },
  {
   "cell_type": "markdown",
   "metadata": {
    "id": "thOjETNKcUOF"
   },
   "source": [
    "No entanto, é possível definir tuplas sem a utilização de parênteses, apenas **listando os elementos, separados por vírgula**"
   ]
  },
  {
   "cell_type": "code",
   "execution_count": 5,
   "metadata": {
    "executionInfo": {
     "elapsed": 7,
     "status": "ok",
     "timestamp": 1675364145292,
     "user": {
      "displayName": "Andre Juan",
      "userId": "08529802346316693602"
     },
     "user_tz": 180
    },
    "id": "I2odprdIcUOF"
   },
   "outputs": [],
   "source": [
    "tupla2 = 1, 2, 3, \"a\", \"b\""
   ]
  },
  {
   "cell_type": "code",
   "execution_count": 6,
   "metadata": {
    "executionInfo": {
     "elapsed": 211,
     "status": "ok",
     "timestamp": 1675364213641,
     "user": {
      "displayName": "Andre Juan",
      "userId": "08529802346316693602"
     },
     "user_tz": 180
    },
    "id": "2xFxt3s4fDvf"
   },
   "outputs": [],
   "source": [
    "# tuple unpacking\n",
    "\n",
    "x, y = 2, 3\n",
    "\n",
    "# x = 2\n",
    "# y = 3"
   ]
  },
  {
   "cell_type": "code",
   "execution_count": 7,
   "metadata": {
    "colab": {
     "base_uri": "https://localhost:8080/"
    },
    "executionInfo": {
     "elapsed": 4,
     "status": "ok",
     "timestamp": 1675364226486,
     "user": {
      "displayName": "Andre Juan",
      "userId": "08529802346316693602"
     },
     "user_tz": 180
    },
    "id": "KivwoLa1fUuF",
    "outputId": "99f43dc0-f4c9-40d2-fd3f-5e50dee2d3e8"
   },
   "outputs": [
    {
     "data": {
      "text/plain": [
       "2"
      ]
     },
     "execution_count": 7,
     "metadata": {},
     "output_type": "execute_result"
    }
   ],
   "source": [
    "x"
   ]
  },
  {
   "cell_type": "code",
   "execution_count": 8,
   "metadata": {
    "colab": {
     "base_uri": "https://localhost:8080/"
    },
    "executionInfo": {
     "elapsed": 8,
     "status": "ok",
     "timestamp": 1675364230826,
     "user": {
      "displayName": "Andre Juan",
      "userId": "08529802346316693602"
     },
     "user_tz": 180
    },
    "id": "oRgzq6NbfVxc",
    "outputId": "e04f8337-a071-4533-92aa-834ca93c9b85"
   },
   "outputs": [
    {
     "data": {
      "text/plain": [
       "3"
      ]
     },
     "execution_count": 8,
     "metadata": {},
     "output_type": "execute_result"
    }
   ],
   "source": [
    "y"
   ]
  },
  {
   "cell_type": "markdown",
   "metadata": {
    "id": "Zqlxi_p7cUOG"
   },
   "source": [
    "Operações com tuplas"
   ]
  },
  {
   "cell_type": "code",
   "execution_count": 9,
   "metadata": {
    "colab": {
     "base_uri": "https://localhost:8080/"
    },
    "executionInfo": {
     "elapsed": 11,
     "status": "ok",
     "timestamp": 1675364272574,
     "user": {
      "displayName": "Andre Juan",
      "userId": "08529802346316693602"
     },
     "user_tz": 180
    },
    "id": "tG26J1UacUOG",
    "outputId": "ddc6ac19-65ed-4a0f-c343-37da7dbac07a"
   },
   "outputs": [
    {
     "data": {
      "text/plain": [
       "(1, 4.2, True, 'ada', [1, 2, 3])"
      ]
     },
     "execution_count": 9,
     "metadata": {},
     "output_type": "execute_result"
    }
   ],
   "source": [
    "tupla"
   ]
  },
  {
   "cell_type": "code",
   "execution_count": 10,
   "metadata": {
    "colab": {
     "base_uri": "https://localhost:8080/"
    },
    "executionInfo": {
     "elapsed": 219,
     "status": "ok",
     "timestamp": 1675364301987,
     "user": {
      "displayName": "Andre Juan",
      "userId": "08529802346316693602"
     },
     "user_tz": 180
    },
    "id": "oYgYXTbXfhAu",
    "outputId": "98b0e14d-0bf7-4327-ac5c-243e399b6d95"
   },
   "outputs": [
    {
     "data": {
      "text/plain": [
       "4.2"
      ]
     },
     "execution_count": 10,
     "metadata": {},
     "output_type": "execute_result"
    }
   ],
   "source": [
    "# tuplas são indexáveis!\n",
    "tupla[1]"
   ]
  },
  {
   "cell_type": "code",
   "execution_count": 12,
   "metadata": {
    "colab": {
     "base_uri": "https://localhost:8080/",
     "height": 36
    },
    "executionInfo": {
     "elapsed": 8,
     "status": "ok",
     "timestamp": 1675364333824,
     "user": {
      "displayName": "Andre Juan",
      "userId": "08529802346316693602"
     },
     "user_tz": 180
    },
    "id": "uETfFkwFfrRj",
    "outputId": "60875006-fe42-4a17-f95c-4641f2227dc8"
   },
   "outputs": [
    {
     "data": {
      "application/vnd.google.colaboratory.intrinsic+json": {
       "type": "string"
      },
      "text/plain": [
       "'ada'"
      ]
     },
     "execution_count": 12,
     "metadata": {},
     "output_type": "execute_result"
    }
   ],
   "source": [
    "tupla[-2]"
   ]
  },
  {
   "cell_type": "code",
   "execution_count": 13,
   "metadata": {
    "colab": {
     "base_uri": "https://localhost:8080/"
    },
    "executionInfo": {
     "elapsed": 8,
     "status": "ok",
     "timestamp": 1675364359082,
     "user": {
      "displayName": "Andre Juan",
      "userId": "08529802346316693602"
     },
     "user_tz": 180
    },
    "id": "pf_Okr21fxCK",
    "outputId": "3f6ba98b-fd90-4e94-881e-1cef96011676"
   },
   "outputs": [
    {
     "name": "stdout",
     "output_type": "stream",
     "text": [
      "1\n",
      "4.2\n",
      "True\n",
      "ada\n",
      "[1, 2, 3]\n"
     ]
    }
   ],
   "source": [
    "for elemento in tupla:\n",
    "  print(elemento)"
   ]
  },
  {
   "cell_type": "code",
   "execution_count": 14,
   "metadata": {
    "colab": {
     "base_uri": "https://localhost:8080/"
    },
    "executionInfo": {
     "elapsed": 307,
     "status": "ok",
     "timestamp": 1675364392215,
     "user": {
      "displayName": "Andre Juan",
      "userId": "08529802346316693602"
     },
     "user_tz": 180
    },
    "id": "8Xtz4Cdyf5Nk",
    "outputId": "7f2dd327-8e68-4180-ff96-f772867d0c5d"
   },
   "outputs": [
    {
     "name": "stdout",
     "output_type": "stream",
     "text": [
      "0 1\n",
      "1 4.2\n",
      "2 True\n",
      "3 ada\n",
      "4 [1, 2, 3]\n"
     ]
    }
   ],
   "source": [
    "for i in range(len(tupla)):\n",
    "  print(i, tupla[i])"
   ]
  },
  {
   "cell_type": "markdown",
   "metadata": {
    "id": "sverc6ftcUOH"
   },
   "source": [
    "Mas, como dissemos, a tupla é **imutável!** Assim, se tentarmos mudar algum dos seus elementos, teremos um erro:"
   ]
  },
  {
   "cell_type": "code",
   "execution_count": 18,
   "metadata": {
    "colab": {
     "base_uri": "https://localhost:8080/",
     "height": 171
    },
    "executionInfo": {
     "elapsed": 319,
     "status": "error",
     "timestamp": 1675364465795,
     "user": {
      "displayName": "Andre Juan",
      "userId": "08529802346316693602"
     },
     "user_tz": 180
    },
    "id": "lwqNCeugcUOH",
    "outputId": "b2989803-ca2d-40ff-d6fa-9616f6a51234"
   },
   "outputs": [
    {
     "ename": "TypeError",
     "evalue": "ignored",
     "output_type": "error",
     "traceback": [
      "\u001b[0;31m---------------------------------------------------------------------------\u001b[0m",
      "\u001b[0;31mTypeError\u001b[0m                                 Traceback (most recent call last)",
      "\u001b[0;32m<ipython-input-18-c590dcf87b2e>\u001b[0m in \u001b[0;36m<module>\u001b[0;34m\u001b[0m\n\u001b[0;32m----> 1\u001b[0;31m \u001b[0mtupla\u001b[0m\u001b[0;34m[\u001b[0m\u001b[0;36m0\u001b[0m\u001b[0;34m]\u001b[0m \u001b[0;34m=\u001b[0m \u001b[0;34m\"Um\"\u001b[0m\u001b[0;34m\u001b[0m\u001b[0;34m\u001b[0m\u001b[0m\n\u001b[0m",
      "\u001b[0;31mTypeError\u001b[0m: 'tuple' object does not support item assignment"
     ]
    }
   ],
   "source": [
    "tupla[0] = \"Um\""
   ]
  },
  {
   "cell_type": "markdown",
   "metadata": {
    "id": "Yxo8AXGAcUOH"
   },
   "source": [
    "Para \"alterar uma tupla\", podemos fazer um procedimento bem forçado: primeiro, transformamos a tupla em lista; aí, alteramos a lista; depois, transformamos a lista de volta em tupla:"
   ]
  },
  {
   "cell_type": "code",
   "execution_count": 21,
   "metadata": {
    "colab": {
     "base_uri": "https://localhost:8080/"
    },
    "executionInfo": {
     "elapsed": 10,
     "status": "ok",
     "timestamp": 1675364538047,
     "user": {
      "displayName": "Andre Juan",
      "userId": "08529802346316693602"
     },
     "user_tz": 180
    },
    "id": "xw38D4y1ggiG",
    "outputId": "3c8de47e-cab0-4dea-a4b9-77344a9e2117"
   },
   "outputs": [
    {
     "data": {
      "text/plain": [
       "(1, 4.2, True, 'ada', [1, 2, 3])"
      ]
     },
     "execution_count": 21,
     "metadata": {},
     "output_type": "execute_result"
    }
   ],
   "source": [
    "tupla"
   ]
  },
  {
   "cell_type": "code",
   "execution_count": 24,
   "metadata": {
    "colab": {
     "base_uri": "https://localhost:8080/"
    },
    "executionInfo": {
     "elapsed": 219,
     "status": "ok",
     "timestamp": 1675364583878,
     "user": {
      "displayName": "Andre Juan",
      "userId": "08529802346316693602"
     },
     "user_tz": 180
    },
    "id": "H8jcxJlecUOI",
    "outputId": "203b9fc9-ed32-4621-fcb2-7621f732660d"
   },
   "outputs": [
    {
     "data": {
      "text/plain": [
       "('um', 4.2, True, 'ada', [1, 2, 3])"
      ]
     },
     "execution_count": 24,
     "metadata": {},
     "output_type": "execute_result"
    }
   ],
   "source": [
    "lista = list(tupla)\n",
    "\n",
    "lista[0] = \"um\"\n",
    "\n",
    "tuple(lista)"
   ]
  },
  {
   "cell_type": "markdown",
   "metadata": {
    "id": "1fhv1UtXcUOI"
   },
   "source": [
    "No entanto, note que a tupla original permaneceu inalterada:"
   ]
  },
  {
   "cell_type": "code",
   "execution_count": 26,
   "metadata": {
    "colab": {
     "base_uri": "https://localhost:8080/"
    },
    "executionInfo": {
     "elapsed": 10,
     "status": "ok",
     "timestamp": 1675364626013,
     "user": {
      "displayName": "Andre Juan",
      "userId": "08529802346316693602"
     },
     "user_tz": 180
    },
    "id": "34kEQeY7cUOI",
    "outputId": "e1a9d077-6738-4689-8938-5d5b837395bb"
   },
   "outputs": [
    {
     "data": {
      "text/plain": [
       "(1, 4.2, True, 'ada', [1, 2, 3])"
      ]
     },
     "execution_count": 26,
     "metadata": {},
     "output_type": "execute_result"
    }
   ],
   "source": [
    "tupla"
   ]
  },
  {
   "cell_type": "markdown",
   "metadata": {
    "id": "Un8k-k80cUOI"
   },
   "source": [
    "Outra utilidade de tuplas: fazer uma função **retornar mais de um valor**"
   ]
  },
  {
   "cell_type": "code",
   "execution_count": 27,
   "metadata": {
    "executionInfo": {
     "elapsed": 308,
     "status": "ok",
     "timestamp": 1675364772091,
     "user": {
      "displayName": "Andre Juan",
      "userId": "08529802346316693602"
     },
     "user_tz": 180
    },
    "id": "6Fa2G35pcUOJ"
   },
   "outputs": [],
   "source": [
    "def valor_valor_quadrado_valor_cubo(x):\n",
    "\n",
    "  return x, x**2, x**3"
   ]
  },
  {
   "cell_type": "code",
   "execution_count": 28,
   "metadata": {
    "colab": {
     "base_uri": "https://localhost:8080/"
    },
    "executionInfo": {
     "elapsed": 244,
     "status": "ok",
     "timestamp": 1675364799731,
     "user": {
      "displayName": "Andre Juan",
      "userId": "08529802346316693602"
     },
     "user_tz": 180
    },
    "id": "bXafqfFLhbvs",
    "outputId": "07dcf2ed-66b1-4dde-e483-f2ea2f0f3ea7"
   },
   "outputs": [
    {
     "data": {
      "text/plain": [
       "(2, 4, 8)"
      ]
     },
     "execution_count": 28,
     "metadata": {},
     "output_type": "execute_result"
    }
   ],
   "source": [
    "valor_valor_quadrado_valor_cubo(2)"
   ]
  },
  {
   "cell_type": "markdown",
   "metadata": {
    "id": "Rwh89EEKcUOJ"
   },
   "source": [
    "____\n",
    "____\n",
    "____"
   ]
  },
  {
   "cell_type": "markdown",
   "metadata": {
    "id": "1MuKUUVicUOJ"
   },
   "source": [
    "## 2) Dicionários\n",
    "\n",
    "Uma outra estrutura de dados bem importante em Python são os **dicionários**.\n",
    "\n",
    "O dicionário também é uma **coleção de dados**. \n",
    "\n",
    "A diferença é que um dicionário é definido a partir de **dois elementos**: uma **chave** e um **valor**.\n",
    "\n",
    "- A **chave** é utilizada como se fosse um índice, identificando os respectivos valores. A diferença é que não precisamos indexar unicamente pela ordem dos elementos: as chaves podem ser qualquer tipo que é **imutável**, como um inteiro, float, strin, booleano, tuplas, etc.\n",
    "\n",
    "- O **valor** pode ser qualquer dado: um int, um float, uma str, um bool, uma lista, uma tupla, outro dicionário... Temos total flexibilidade!"
   ]
  },
  {
   "cell_type": "markdown",
   "metadata": {
    "id": "8ZitS-rtcUOK"
   },
   "source": [
    "Dicionários são inicializados **entre chaves{}**, segundo a estrutura:\n",
    "\n",
    "```python\n",
    "dicionario = {\"chave\": valor}\n",
    "```"
   ]
  },
  {
   "cell_type": "code",
   "execution_count": 29,
   "metadata": {
    "executionInfo": {
     "elapsed": 233,
     "status": "ok",
     "timestamp": 1675364927426,
     "user": {
      "displayName": "Andre Juan",
      "userId": "08529802346316693602"
     },
     "user_tz": 180
    },
    "id": "lWuzzs9Jh9wy"
   },
   "outputs": [],
   "source": [
    "lista = [2, 6, 9]"
   ]
  },
  {
   "cell_type": "code",
   "execution_count": 30,
   "metadata": {
    "colab": {
     "base_uri": "https://localhost:8080/"
    },
    "executionInfo": {
     "elapsed": 4,
     "status": "ok",
     "timestamp": 1675364943753,
     "user": {
      "displayName": "Andre Juan",
      "userId": "08529802346316693602"
     },
     "user_tz": 180
    },
    "id": "3y3jHzLQiBzQ",
    "outputId": "4b538545-c397-41a5-8943-f5e471dc5294"
   },
   "outputs": [
    {
     "data": {
      "text/plain": [
       "6"
      ]
     },
     "execution_count": 30,
     "metadata": {},
     "output_type": "execute_result"
    }
   ],
   "source": [
    "lista[1]"
   ]
  },
  {
   "cell_type": "code",
   "execution_count": 31,
   "metadata": {
    "executionInfo": {
     "elapsed": 6,
     "status": "ok",
     "timestamp": 1675365001117,
     "user": {
      "displayName": "Andre Juan",
      "userId": "08529802346316693602"
     },
     "user_tz": 180
    },
    "id": "wsuCViw9cUOK"
   },
   "outputs": [],
   "source": [
    "dicionario = {\"a\":2, \"b\":6, \"c\":9}"
   ]
  },
  {
   "cell_type": "code",
   "execution_count": 32,
   "metadata": {
    "colab": {
     "base_uri": "https://localhost:8080/"
    },
    "executionInfo": {
     "elapsed": 220,
     "status": "ok",
     "timestamp": 1675365024869,
     "user": {
      "displayName": "Andre Juan",
      "userId": "08529802346316693602"
     },
     "user_tz": 180
    },
    "id": "vEpDb59KiTNe",
    "outputId": "4c63a4de-ae2b-4c97-8c41-f07e9813a944"
   },
   "outputs": [
    {
     "data": {
      "text/plain": [
       "6"
      ]
     },
     "execution_count": 32,
     "metadata": {},
     "output_type": "execute_result"
    }
   ],
   "source": [
    "dicionario[\"b\"]"
   ]
  },
  {
   "cell_type": "markdown",
   "metadata": {
    "id": "SYIz_hKucUOK"
   },
   "source": [
    "Vamos começar a pensar no nosso **problema gerador**.\n",
    "\n",
    "Imagine que você queira criar um cadastro, com três pessoas, que contenha as informações: nomes, idades, cidades, filhos, altura. \n",
    "\n",
    "Poderíamos estruturar este cadastro em termos de uma lista de listas:"
   ]
  },
  {
   "cell_type": "code",
   "execution_count": 1,
   "metadata": {
    "executionInfo": {
     "elapsed": 213,
     "status": "ok",
     "timestamp": 1675365222155,
     "user": {
      "displayName": "Andre Juan",
      "userId": "08529802346316693602"
     },
     "user_tz": 180
    },
    "id": "jEHCW5DOipLC"
   },
   "outputs": [],
   "source": [
    "# cadastro de nome, idade, cidade\n",
    "\n",
    "cadastro = [[\"João\", 20, \"São Paulo\"],\n",
    "            [\"Maria\", 30, \"Rio de Janeiro\"],\n",
    "            [\"Marta\", 15, \"Salvador\"]]"
   ]
  },
  {
   "cell_type": "code",
   "execution_count": 2,
   "metadata": {
    "colab": {
     "base_uri": "https://localhost:8080/"
    },
    "executionInfo": {
     "elapsed": 9,
     "status": "ok",
     "timestamp": 1675365228868,
     "user": {
      "displayName": "Andre Juan",
      "userId": "08529802346316693602"
     },
     "user_tz": 180
    },
    "id": "SOlv8hQwjJWE",
    "outputId": "0e9e7249-dfa8-40e3-cf11-35d41e1be44f"
   },
   "outputs": [
    {
     "data": {
      "text/plain": [
       "[['João', 20, 'São Paulo'],\n",
       " ['Maria', 30, 'Rio de Janeiro'],\n",
       " ['Marta', 15, 'Salvador']]"
      ]
     },
     "execution_count": 2,
     "metadata": {},
     "output_type": "execute_result"
    }
   ],
   "source": [
    "cadastro"
   ]
  },
  {
   "cell_type": "code",
   "execution_count": 10,
   "metadata": {
    "colab": {
     "base_uri": "https://localhost:8080/",
     "height": 36
    },
    "executionInfo": {
     "elapsed": 17,
     "status": "ok",
     "timestamp": 1675365340646,
     "user": {
      "displayName": "Andre Juan",
      "userId": "08529802346316693602"
     },
     "user_tz": 180
    },
    "id": "va2U4IdtjhDl",
    "outputId": "e4d36541-6702-4e34-eaeb-16c9b491f1b2"
   },
   "outputs": [
    {
     "data": {
      "text/plain": [
       "'Maria'"
      ]
     },
     "execution_count": 10,
     "metadata": {},
     "output_type": "execute_result"
    }
   ],
   "source": [
    "cadastro[1][0]"
   ]
  },
  {
   "cell_type": "markdown",
   "metadata": {
    "id": "SyCAl4hvcUOK"
   },
   "source": [
    "Porém, neste caso, fica bem menos intuitivo quando queremos selecionar os elementos que representam nomes ou cidades, porque somos obrigado a usar números para indexar, ao invés das chaves."
   ]
  },
  {
   "cell_type": "markdown",
   "metadata": {
    "id": "PeYiuctmcUOK"
   },
   "source": [
    "Com dicionários, acabamos tendo uma estrutura de dados muito mais intuitiva:"
   ]
  },
  {
   "cell_type": "code",
   "execution_count": 39,
   "metadata": {
    "colab": {
     "base_uri": "https://localhost:8080/"
    },
    "executionInfo": {
     "elapsed": 9,
     "status": "ok",
     "timestamp": 1675365457980,
     "user": {
      "displayName": "Andre Juan",
      "userId": "08529802346316693602"
     },
     "user_tz": 180
    },
    "id": "WyzpDELokBHe",
    "outputId": "319febc1-613e-444e-b9b9-9baff1b09854"
   },
   "outputs": [
    {
     "data": {
      "text/plain": [
       "[['João', 20, 'São Paulo'],\n",
       " ['Maria', 30, 'Rio de Janeiro'],\n",
       " ['Marta', 15, 'Salvador']]"
      ]
     },
     "execution_count": 39,
     "metadata": {},
     "output_type": "execute_result"
    }
   ],
   "source": [
    "cadastro"
   ]
  },
  {
   "cell_type": "code",
   "execution_count": 12,
   "metadata": {
    "colab": {
     "base_uri": "https://localhost:8080/"
    },
    "executionInfo": {
     "elapsed": 6,
     "status": "ok",
     "timestamp": 1675365507231,
     "user": {
      "displayName": "Andre Juan",
      "userId": "08529802346316693602"
     },
     "user_tz": 180
    },
    "id": "W4Etz1ACcUOL",
    "outputId": "bc1fa8b5-7495-423d-cc77-d162309e2dc2"
   },
   "outputs": [
    {
     "data": {
      "text/plain": [
       "{'nomes': ['José', 'Maria', 'Marta'],\n",
       " 'idades': [20, 30, 15],\n",
       " 'cidades': ['SP', 'RJ', 'Salvador']}"
      ]
     },
     "execution_count": 12,
     "metadata": {},
     "output_type": "execute_result"
    }
   ],
   "source": [
    "cadastro_dict = {\"nomes\": [\"José\", \"Maria\", \"Marta\"],\n",
    "                 \"idades\": [20, 30, 15],\n",
    "                 \"cidades\" : [\"SP\", \"RJ\", \"Salvador\"]}\n",
    "\n",
    "cadastro_dict"
   ]
  },
  {
   "cell_type": "markdown",
   "metadata": {
    "id": "P_fAWlX0cUOL"
   },
   "source": [
    "Assim, vaso queiramos acessar os nomes, basta fazer:"
   ]
  },
  {
   "cell_type": "code",
   "execution_count": 13,
   "metadata": {
    "colab": {
     "base_uri": "https://localhost:8080/"
    },
    "executionInfo": {
     "elapsed": 7,
     "status": "ok",
     "timestamp": 1675365527559,
     "user": {
      "displayName": "Andre Juan",
      "userId": "08529802346316693602"
     },
     "user_tz": 180
    },
    "id": "TUsabc_YcUOL",
    "outputId": "2309e06a-3031-4b6f-8d9a-b24b2eb57a6d"
   },
   "outputs": [
    {
     "data": {
      "text/plain": [
       "['José', 'Maria', 'Marta']"
      ]
     },
     "execution_count": 13,
     "metadata": {},
     "output_type": "execute_result"
    }
   ],
   "source": [
    "cadastro_dict[\"nomes\"]"
   ]
  },
  {
   "cell_type": "markdown",
   "metadata": {
    "id": "z7o4R29GcUOL"
   },
   "source": [
    "Muito melhor, não é mesmo?"
   ]
  },
  {
   "cell_type": "markdown",
   "metadata": {
    "id": "cwZcs03bcUOL"
   },
   "source": [
    "Para adicionar elementos ao dicionário, não precisamos de uma função pronta (como o append das listas). \n",
    "\n",
    "Basta definir a nova chave como uma variável, e atribuir um novo valor a ela:\n"
   ]
  },
  {
   "cell_type": "code",
   "execution_count": 14,
   "metadata": {
    "colab": {
     "base_uri": "https://localhost:8080/"
    },
    "executionInfo": {
     "elapsed": 373,
     "status": "ok",
     "timestamp": 1675365670451,
     "user": {
      "displayName": "Andre Juan",
      "userId": "08529802346316693602"
     },
     "user_tz": 180
    },
    "id": "I8G_W8ZecUOL",
    "outputId": "e8440aec-e076-4778-d4c5-2b0f68ef3489"
   },
   "outputs": [
    {
     "data": {
      "text/plain": [
       "{'nomes': ['José', 'Maria', 'Marta'],\n",
       " 'idades': [20, 30, 15],\n",
       " 'cidades': ['SP', 'RJ', 'Salvador']}"
      ]
     },
     "execution_count": 14,
     "metadata": {},
     "output_type": "execute_result"
    }
   ],
   "source": [
    "cadastro_dict"
   ]
  },
  {
   "cell_type": "code",
   "execution_count": 15,
   "metadata": {
    "executionInfo": {
     "elapsed": 208,
     "status": "ok",
     "timestamp": 1675365712512,
     "user": {
      "displayName": "Andre Juan",
      "userId": "08529802346316693602"
     },
     "user_tz": 180
    },
    "id": "XMOKMpjVk2SC"
   },
   "outputs": [],
   "source": [
    "cadastro_dict[\"alturas\"] = [1.8, 1.7, 1.6]"
   ]
  },
  {
   "cell_type": "markdown",
   "metadata": {
    "id": "eiga_k5NcUOM"
   },
   "source": [
    "Automaticamente, o elemento criado é adicionado ao fim!"
   ]
  },
  {
   "cell_type": "code",
   "execution_count": 16,
   "metadata": {
    "colab": {
     "base_uri": "https://localhost:8080/"
    },
    "executionInfo": {
     "elapsed": 4,
     "status": "ok",
     "timestamp": 1675365724442,
     "user": {
      "displayName": "Andre Juan",
      "userId": "08529802346316693602"
     },
     "user_tz": 180
    },
    "id": "msLCLgTwlCIm",
    "outputId": "c6b6c83d-924f-4ec6-ff04-23f0467fcf79"
   },
   "outputs": [
    {
     "data": {
      "text/plain": [
       "{'nomes': ['José', 'Maria', 'Marta'],\n",
       " 'idades': [20, 30, 15],\n",
       " 'cidades': ['SP', 'RJ', 'Salvador'],\n",
       " 'alturas': [1.8, 1.7, 1.6]}"
      ]
     },
     "execution_count": 16,
     "metadata": {},
     "output_type": "execute_result"
    }
   ],
   "source": [
    "cadastro_dict"
   ]
  },
  {
   "cell_type": "markdown",
   "metadata": {
    "id": "PwKlLFpdcUOM"
   },
   "source": [
    "__Para apagar uma chave, utilize o \"pop\"__"
   ]
  },
  {
   "cell_type": "code",
   "execution_count": 17,
   "metadata": {
    "colab": {
     "base_uri": "https://localhost:8080/"
    },
    "executionInfo": {
     "elapsed": 7,
     "status": "ok",
     "timestamp": 1675365867141,
     "user": {
      "displayName": "Andre Juan",
      "userId": "08529802346316693602"
     },
     "user_tz": 180
    },
    "id": "4a_otW_5cUOM",
    "outputId": "cb6ed95a-89a0-49ab-e2f2-0c2ac6c378ee"
   },
   "outputs": [
    {
     "data": {
      "text/plain": [
       "{'nomes': ['José', 'Maria', 'Marta'],\n",
       " 'idades': [20, 30, 15],\n",
       " 'cidades': ['SP', 'RJ', 'Salvador'],\n",
       " 'alturas': [1.8, 1.7, 1.6],\n",
       " 'alturas2': [1.8, 1.7, 1.6]}"
      ]
     },
     "execution_count": 17,
     "metadata": {},
     "output_type": "execute_result"
    }
   ],
   "source": [
    "cadastro_dict[\"alturas2\"] = [1.8, 1.7, 1.6]\n",
    "\n",
    "cadastro_dict"
   ]
  },
  {
   "cell_type": "code",
   "execution_count": 18,
   "metadata": {
    "colab": {
     "base_uri": "https://localhost:8080/"
    },
    "executionInfo": {
     "elapsed": 285,
     "status": "ok",
     "timestamp": 1675365871265,
     "user": {
      "displayName": "Andre Juan",
      "userId": "08529802346316693602"
     },
     "user_tz": 180
    },
    "id": "W15S_8qdlNen",
    "outputId": "e85e6a7d-f38b-481c-9917-1252edc8fadc"
   },
   "outputs": [
    {
     "data": {
      "text/plain": [
       "[1.8, 1.7, 1.6]"
      ]
     },
     "execution_count": 18,
     "metadata": {},
     "output_type": "execute_result"
    }
   ],
   "source": [
    "cadastro_dict.pop(\"alturas2\")"
   ]
  },
  {
   "cell_type": "code",
   "execution_count": 19,
   "metadata": {
    "colab": {
     "base_uri": "https://localhost:8080/"
    },
    "executionInfo": {
     "elapsed": 8,
     "status": "ok",
     "timestamp": 1675365872957,
     "user": {
      "displayName": "Andre Juan",
      "userId": "08529802346316693602"
     },
     "user_tz": 180
    },
    "id": "ICByaHk5liVM",
    "outputId": "626e243e-02fc-4759-eaf2-a24f81f6cfc9"
   },
   "outputs": [
    {
     "data": {
      "text/plain": [
       "{'nomes': ['José', 'Maria', 'Marta'],\n",
       " 'idades': [20, 30, 15],\n",
       " 'cidades': ['SP', 'RJ', 'Salvador'],\n",
       " 'alturas': [1.8, 1.7, 1.6]}"
      ]
     },
     "execution_count": 19,
     "metadata": {},
     "output_type": "execute_result"
    }
   ],
   "source": [
    "cadastro_dict"
   ]
  },
  {
   "cell_type": "markdown",
   "metadata": {
    "id": "HigKO48McUOM"
   },
   "source": [
    "__Ou, utilize o \"del\"__"
   ]
  },
  {
   "cell_type": "code",
   "execution_count": 20,
   "metadata": {
    "executionInfo": {
     "elapsed": 206,
     "status": "ok",
     "timestamp": 1675365909610,
     "user": {
      "displayName": "Andre Juan",
      "userId": "08529802346316693602"
     },
     "user_tz": 180
    },
    "id": "GMb2Q3D-cUOM"
   },
   "outputs": [],
   "source": [
    "del cadastro_dict[\"alturas\"]"
   ]
  },
  {
   "cell_type": "code",
   "execution_count": 21,
   "metadata": {
    "colab": {
     "base_uri": "https://localhost:8080/"
    },
    "executionInfo": {
     "elapsed": 2,
     "status": "ok",
     "timestamp": 1675365913923,
     "user": {
      "displayName": "Andre Juan",
      "userId": "08529802346316693602"
     },
     "user_tz": 180
    },
    "id": "_tr9WWNKlwml",
    "outputId": "f69522b1-c5f5-4161-89cf-48dfc9e7816d"
   },
   "outputs": [
    {
     "data": {
      "text/plain": [
       "{'nomes': ['José', 'Maria', 'Marta'],\n",
       " 'idades': [20, 30, 15],\n",
       " 'cidades': ['SP', 'RJ', 'Salvador']}"
      ]
     },
     "execution_count": 21,
     "metadata": {},
     "output_type": "execute_result"
    }
   ],
   "source": [
    "cadastro_dict"
   ]
  },
  {
   "cell_type": "markdown",
   "metadata": {
    "id": "4H-Fq8FTcUOM"
   },
   "source": [
    "Alterar os valores também é possível:"
   ]
  },
  {
   "cell_type": "code",
   "execution_count": 22,
   "metadata": {
    "executionInfo": {
     "elapsed": 215,
     "status": "ok",
     "timestamp": 1675366013543,
     "user": {
      "displayName": "Andre Juan",
      "userId": "08529802346316693602"
     },
     "user_tz": 180
    },
    "id": "R4Xrkr8UcUON"
   },
   "outputs": [],
   "source": [
    "cadastro_dict[\"cidades\"][1] = \"JP\""
   ]
  },
  {
   "cell_type": "markdown",
   "metadata": {
    "id": "8FRUEA6LcUON"
   },
   "source": [
    "Posso também alterar elementos individuais dos valores, os indexando\n",
    "\n",
    "(Lembre-se que, neste caso, os valores são listas! Então, devo indexá-las para alterar seus elementos!)"
   ]
  },
  {
   "cell_type": "code",
   "execution_count": 23,
   "metadata": {
    "colab": {
     "base_uri": "https://localhost:8080/"
    },
    "executionInfo": {
     "elapsed": 8,
     "status": "ok",
     "timestamp": 1675366019219,
     "user": {
      "displayName": "Andre Juan",
      "userId": "08529802346316693602"
     },
     "user_tz": 180
    },
    "id": "jSi0HSbgmKjM",
    "outputId": "dee8f717-2199-4d01-9441-e36807b48218"
   },
   "outputs": [
    {
     "data": {
      "text/plain": [
       "{'nomes': ['José', 'Maria', 'Marta'],\n",
       " 'idades': [20, 30, 15],\n",
       " 'cidades': ['SP', 'JP', 'Salvador']}"
      ]
     },
     "execution_count": 23,
     "metadata": {},
     "output_type": "execute_result"
    }
   ],
   "source": [
    "cadastro_dict"
   ]
  },
  {
   "cell_type": "markdown",
   "metadata": {
    "id": "ThG3vRo0cUON"
   },
   "source": [
    "Para adicionar novos elementos aos valores (que são listas), usamos o append:"
   ]
  },
  {
   "cell_type": "code",
   "execution_count": 24,
   "metadata": {
    "executionInfo": {
     "elapsed": 294,
     "status": "ok",
     "timestamp": 1675366116306,
     "user": {
      "displayName": "Andre Juan",
      "userId": "08529802346316693602"
     },
     "user_tz": 180
    },
    "id": "fbwiGgG7cUON"
   },
   "outputs": [],
   "source": [
    "cadastro_dict[\"nomes\"].append(\"Joaquim\")\n",
    "cadastro_dict[\"idades\"].append(18)\n",
    "cadastro_dict[\"cidades\"].append(\"Santo André\")"
   ]
  },
  {
   "cell_type": "code",
   "execution_count": 25,
   "metadata": {
    "colab": {
     "base_uri": "https://localhost:8080/"
    },
    "executionInfo": {
     "elapsed": 3,
     "status": "ok",
     "timestamp": 1675366131603,
     "user": {
      "displayName": "Andre Juan",
      "userId": "08529802346316693602"
     },
     "user_tz": 180
    },
    "id": "_yN1smxumjRR",
    "outputId": "974e27bc-1600-4fc9-a387-44e1d514a0ac"
   },
   "outputs": [
    {
     "data": {
      "text/plain": [
       "{'nomes': ['José', 'Maria', 'Marta', 'Joaquim'],\n",
       " 'idades': [20, 30, 15, 18],\n",
       " 'cidades': ['SP', 'JP', 'Salvador', 'Santo André']}"
      ]
     },
     "execution_count": 25,
     "metadata": {},
     "output_type": "execute_result"
    }
   ],
   "source": [
    "cadastro_dict"
   ]
  },
  {
   "cell_type": "markdown",
   "metadata": {
    "id": "QFk9hHX5cUON"
   },
   "source": [
    "Dicionários **são iteráveis**, ou seja, podem ser percorridos com um for. \n",
    "\n",
    "Ao fazer isso, **as chaves serão percorridas** \n",
    "\n",
    "Porém, a partir da chave obtém-se o valor:"
   ]
  },
  {
   "cell_type": "code",
   "execution_count": 26,
   "metadata": {
    "colab": {
     "base_uri": "https://localhost:8080/"
    },
    "executionInfo": {
     "elapsed": 251,
     "status": "ok",
     "timestamp": 1675366190491,
     "user": {
      "displayName": "Andre Juan",
      "userId": "08529802346316693602"
     },
     "user_tz": 180
    },
    "id": "KT639bPVcUON",
    "outputId": "790d619d-90b6-4cd7-d6f8-19a774debc73"
   },
   "outputs": [
    {
     "name": "stdout",
     "output_type": "stream",
     "text": [
      "nomes\n",
      "idades\n",
      "cidades\n"
     ]
    }
   ],
   "source": [
    "for elemento in cadastro_dict:\n",
    "  print(elemento)"
   ]
  },
  {
   "cell_type": "markdown",
   "metadata": {
    "id": "vXp4h7NBcUOO"
   },
   "source": [
    "Uma utilidade disso é para pegar os dados respectivos de cada elemento do cadastro.\n",
    "\n",
    "Isso é: suponha que queremos pegar todos os dados de determinada pessoa do cadastro, e os dispor em uma lista (como se fosse uma \"linha\" de uma tabela). Podemos fazer isso facilmente:"
   ]
  },
  {
   "cell_type": "code",
   "execution_count": 29,
   "metadata": {},
   "outputs": [
    {
     "name": "stdout",
     "output_type": "stream",
     "text": [
      "nomes ['José', 'Maria', 'Marta', 'Joaquim']\n",
      "idades [20, 30, 15, 18]\n",
      "cidades ['SP', 'JP', 'Salvador', 'Santo André']\n"
     ]
    }
   ],
   "source": [
    "for chave in cadastro_dict:\n",
    "    print(chave, cadastro_dict[chave])"
   ]
  },
  {
   "cell_type": "code",
   "execution_count": 32,
   "metadata": {
    "colab": {
     "base_uri": "https://localhost:8080/"
    },
    "executionInfo": {
     "elapsed": 3,
     "status": "ok",
     "timestamp": 1675366321384,
     "user": {
      "displayName": "Andre Juan",
      "userId": "08529802346316693602"
     },
     "user_tz": 180
    },
    "id": "pcP_owMwcUOO",
    "outputId": "5d626fa8-3a8c-45d8-f1ff-110c113cc313"
   },
   "outputs": [
    {
     "name": "stdout",
     "output_type": "stream",
     "text": [
      "Marta, 15, Salvador, "
     ]
    }
   ],
   "source": [
    "for chave in cadastro_dict:\n",
    "  print(cadastro_dict[chave][2], end = ', ')"
   ]
  },
  {
   "cell_type": "code",
   "execution_count": 36,
   "metadata": {},
   "outputs": [
    {
     "name": "stdout",
     "output_type": "stream",
     "text": [
      "José, 20, SP, "
     ]
    }
   ],
   "source": [
    "# Apliquei analogia a uma tabela...\n",
    "\n",
    "for coluna in cadastro_dict:\n",
    "    print(cadastro_dict[coluna][0], end = ', ')"
   ]
  },
  {
   "cell_type": "code",
   "execution_count": 43,
   "metadata": {},
   "outputs": [
    {
     "data": {
      "text/plain": [
       "('Joaquim', 18, 'Santo André')"
      ]
     },
     "execution_count": 43,
     "metadata": {},
     "output_type": "execute_result"
    }
   ],
   "source": [
    "# Salvando dados de uma pessoa...\n",
    "arqv = []\n",
    "\n",
    "for coluna in cadastro_dict:\n",
    "    arqv.append(cadastro_dict[coluna][3])\n",
    "\n",
    "# Encapsulando (protegendo) os dados coletados do dicionario...\n",
    "arqvtuple = tuple(arqv)\n",
    "arqvtuple"
   ]
  },
  {
   "cell_type": "code",
   "execution_count": 73,
   "metadata": {
    "colab": {
     "base_uri": "https://localhost:8080/"
    },
    "executionInfo": {
     "elapsed": 8,
     "status": "ok",
     "timestamp": 1675366359823,
     "user": {
      "displayName": "Andre Juan",
      "userId": "08529802346316693602"
     },
     "user_tz": 180
    },
    "id": "HTLj-l2gnTxL",
    "outputId": "bc6c59e8-bcd1-40f7-cf9f-9be0a8e6d222"
   },
   "outputs": [
    {
     "data": {
      "text/plain": [
       "['Marta', 15, 'Salvador']"
      ]
     },
     "execution_count": 73,
     "metadata": {},
     "output_type": "execute_result"
    }
   ],
   "source": [
    "lista_marta = []\n",
    "for chave in cadastro_dict:\n",
    "  lista_marta.append(cadastro_dict[chave][2])\n",
    "\n",
    "lista_marta"
   ]
  },
  {
   "cell_type": "markdown",
   "metadata": {
    "id": "qZ_qc8NscUOO"
   },
   "source": [
    "Também é possível acessar apenas os valores do dicionário com o método `values()`"
   ]
  },
  {
   "cell_type": "code",
   "execution_count": 44,
   "metadata": {},
   "outputs": [
    {
     "data": {
      "text/plain": [
       "dict_values([['José', 'Maria', 'Marta', 'Joaquim'], [20, 30, 15, 18], ['SP', 'JP', 'Salvador', 'Santo André']])"
      ]
     },
     "execution_count": 44,
     "metadata": {},
     "output_type": "execute_result"
    }
   ],
   "source": [
    "cadastro_dict.values()"
   ]
  },
  {
   "cell_type": "code",
   "execution_count": 48,
   "metadata": {
    "colab": {
     "base_uri": "https://localhost:8080/"
    },
    "executionInfo": {
     "elapsed": 9,
     "status": "ok",
     "timestamp": 1675366449486,
     "user": {
      "displayName": "Andre Juan",
      "userId": "08529802346316693602"
     },
     "user_tz": 180
    },
    "id": "svh53PGZcUOO",
    "outputId": "d8eec1ce-849c-46bb-aa24-ae97cdf7d2c1"
   },
   "outputs": [
    {
     "name": "stdout",
     "output_type": "stream",
     "text": [
      "Marta 15 Salvador "
     ]
    }
   ],
   "source": [
    "for valor in cadastro_dict.values():\n",
    "  print(valor[2], end = \" \")"
   ]
  },
  {
   "cell_type": "code",
   "execution_count": 58,
   "metadata": {
    "colab": {
     "base_uri": "https://localhost:8080/"
    },
    "executionInfo": {
     "elapsed": 9,
     "status": "ok",
     "timestamp": 1675366449486,
     "user": {
      "displayName": "Andre Juan",
      "userId": "08529802346316693602"
     },
     "user_tz": 180
    },
    "id": "svh53PGZcUOO",
    "outputId": "d8eec1ce-849c-46bb-aa24-ae97cdf7d2c1"
   },
   "outputs": [
    {
     "name": "stdout",
     "output_type": "stream",
     "text": [
      "{'nomes': ['José', 'Maria', 'Marta', 'Joaquim'], 'idades': [20, 30, 15, 18], 'cidades': ['SP', 'JP', 'Salvador', 'Santo André']}\n",
      "\n",
      "\n",
      "Marta ['José', 'Maria', 'Marta', 'Joaquim'] 15 [20, 30, 15, 18] Salvador ['SP', 'JP', 'Salvador', 'Santo André'] "
     ]
    }
   ],
   "source": [
    "print(cadastro_dict)\n",
    "print(\"\\n\")\n",
    "\n",
    "for valor in cadastro_dict.values():\n",
    "  print(valor[2], valor, end = \" \")"
   ]
  },
  {
   "cell_type": "markdown",
   "metadata": {
    "id": "VE3FymbtcUOO"
   },
   "source": [
    "Usando compreensão de listas, fica ainda mais simples:"
   ]
  },
  {
   "cell_type": "code",
   "execution_count": 59,
   "metadata": {
    "colab": {
     "base_uri": "https://localhost:8080/"
    },
    "executionInfo": {
     "elapsed": 206,
     "status": "ok",
     "timestamp": 1675366720582,
     "user": {
      "displayName": "Andre Juan",
      "userId": "08529802346316693602"
     },
     "user_tz": 180
    },
    "id": "YkogR2qJcUOO",
    "outputId": "eb82ed3b-a696-4825-9056-2a82f15c7781"
   },
   "outputs": [
    {
     "data": {
      "text/plain": [
       "['Marta', 15, 'Salvador']"
      ]
     },
     "execution_count": 59,
     "metadata": {},
     "output_type": "execute_result"
    }
   ],
   "source": [
    "[valor[2] for valor in cadastro_dict.values()]"
   ]
  },
  {
   "cell_type": "code",
   "execution_count": 60,
   "metadata": {
    "colab": {
     "base_uri": "https://localhost:8080/"
    },
    "executionInfo": {
     "elapsed": 10,
     "status": "ok",
     "timestamp": 1675366753712,
     "user": {
      "displayName": "Andre Juan",
      "userId": "08529802346316693602"
     },
     "user_tz": 180
    },
    "id": "CMN40zMmo49s",
    "outputId": "7325d6f8-aa1d-43b0-b250-6e6aea113118"
   },
   "outputs": [
    {
     "data": {
      "text/plain": [
       "['Marta', 15, 'Salvador']"
      ]
     },
     "execution_count": 60,
     "metadata": {},
     "output_type": "execute_result"
    }
   ],
   "source": [
    "[cadastro_dict[chave][2] for chave in cadastro_dict]"
   ]
  },
  {
   "cell_type": "markdown",
   "metadata": {
    "id": "F7eCdjm1cUOO"
   },
   "source": [
    "É possível obter chaves e valores separadamente.\n",
    "\n",
    "Para isso, usamos os métodos `keys()` e `values()`. "
   ]
  },
  {
   "cell_type": "code",
   "execution_count": 81,
   "metadata": {
    "colab": {
     "base_uri": "https://localhost:8080/"
    },
    "executionInfo": {
     "elapsed": 7,
     "status": "ok",
     "timestamp": 1675366534136,
     "user": {
      "displayName": "Andre Juan",
      "userId": "08529802346316693602"
     },
     "user_tz": 180
    },
    "id": "rQ570_SBoHqe",
    "outputId": "4f9c66de-14dd-4689-a21f-5c5a4493b627"
   },
   "outputs": [
    {
     "name": "stdout",
     "output_type": "stream",
     "text": [
      "nomes\n",
      "idades\n",
      "cidades\n"
     ]
    }
   ],
   "source": [
    "for chave in cadastro_dict:\n",
    "  print(chave)"
   ]
  },
  {
   "cell_type": "code",
   "execution_count": 80,
   "metadata": {
    "colab": {
     "base_uri": "https://localhost:8080/"
    },
    "executionInfo": {
     "elapsed": 9,
     "status": "ok",
     "timestamp": 1675366525184,
     "user": {
      "displayName": "Andre Juan",
      "userId": "08529802346316693602"
     },
     "user_tz": 180
    },
    "id": "QPJLrHg4oBYr",
    "outputId": "90b0e65f-59ff-477f-ad83-1b27b419f42a"
   },
   "outputs": [
    {
     "name": "stdout",
     "output_type": "stream",
     "text": [
      "nomes\n",
      "idades\n",
      "cidades\n"
     ]
    }
   ],
   "source": [
    "for chave in cadastro_dict.keys():\n",
    "  print(chave)"
   ]
  },
  {
   "cell_type": "code",
   "execution_count": 82,
   "metadata": {
    "colab": {
     "base_uri": "https://localhost:8080/"
    },
    "executionInfo": {
     "elapsed": 5,
     "status": "ok",
     "timestamp": 1675366552205,
     "user": {
      "displayName": "Andre Juan",
      "userId": "08529802346316693602"
     },
     "user_tz": 180
    },
    "id": "xGOJ5oGcoMWs",
    "outputId": "b6ee38c8-eee4-4724-917f-a898619eb77a"
   },
   "outputs": [
    {
     "name": "stdout",
     "output_type": "stream",
     "text": [
      "Marta\n",
      "15\n",
      "Salvador\n"
     ]
    }
   ],
   "source": [
    "for valor in cadastro_dict.values():\n",
    "  print(valor[2])"
   ]
  },
  {
   "cell_type": "code",
   "execution_count": 78,
   "metadata": {
    "colab": {
     "base_uri": "https://localhost:8080/"
    },
    "executionInfo": {
     "elapsed": 1,
     "status": "ok",
     "timestamp": 1675366490238,
     "user": {
      "displayName": "Andre Juan",
      "userId": "08529802346316693602"
     },
     "user_tz": 180
    },
    "id": "NuZ4-p0wcUOP",
    "outputId": "10ba6d5b-8a00-49f7-98ae-88b8ced9751e"
   },
   "outputs": [
    {
     "name": "stdout",
     "output_type": "stream",
     "text": [
      "nomes ['José', 'Maria', 'Marta', 'Joaquim']\n",
      "idades [20, 30, 15, 18]\n",
      "cidades ['SP', 'JP', 'Salvador', 'Santo André']\n"
     ]
    }
   ],
   "source": [
    "for chave, valor in cadastro_dict.items():\n",
    "  print(chave, valor)"
   ]
  },
  {
   "cell_type": "markdown",
   "metadata": {
    "id": "q1zsNtHzcUOP"
   },
   "source": [
    "E esses valores podem ser transformados em listas com a função `list()`"
   ]
  },
  {
   "cell_type": "code",
   "execution_count": 84,
   "metadata": {
    "colab": {
     "base_uri": "https://localhost:8080/"
    },
    "executionInfo": {
     "elapsed": 7,
     "status": "ok",
     "timestamp": 1675366610085,
     "user": {
      "displayName": "Andre Juan",
      "userId": "08529802346316693602"
     },
     "user_tz": 180
    },
    "id": "6RNDpUZzcUOP",
    "outputId": "fc4b2ae6-999e-424b-ca80-da942911a3b2"
   },
   "outputs": [
    {
     "data": {
      "text/plain": [
       "['nomes', 'idades', 'cidades']"
      ]
     },
     "execution_count": 84,
     "metadata": {},
     "output_type": "execute_result"
    }
   ],
   "source": [
    "list(cadastro_dict.keys())"
   ]
  },
  {
   "cell_type": "code",
   "execution_count": 86,
   "metadata": {
    "colab": {
     "base_uri": "https://localhost:8080/"
    },
    "executionInfo": {
     "elapsed": 234,
     "status": "ok",
     "timestamp": 1675366622575,
     "user": {
      "displayName": "Andre Juan",
      "userId": "08529802346316693602"
     },
     "user_tz": 180
    },
    "id": "84JMp68fob9z",
    "outputId": "9428fc36-1e02-488a-e9ea-ed871c230805"
   },
   "outputs": [
    {
     "data": {
      "text/plain": [
       "[['José', 'Maria', 'Marta', 'Joaquim'],\n",
       " [20, 30, 15, 18],\n",
       " ['SP', 'JP', 'Salvador', 'Santo André']]"
      ]
     },
     "execution_count": 86,
     "metadata": {},
     "output_type": "execute_result"
    }
   ],
   "source": [
    "list(cadastro_dict.values())"
   ]
  },
  {
   "cell_type": "markdown",
   "metadata": {
    "id": "NKGKYapAcUOP"
   },
   "source": [
    "### Spoiler: pandas!\n",
    "\n",
    "O dicionário de cadastro que criamos é muito parecido com uma tabela, onde as chaves são as colunas e os valores são as linhas, com dados de cada um dos clientes, não é mesmo?\n",
    "\n",
    "No entanto, usando dicionários puramente, essa **estrutura tabular** não é tão clara, nem operacionalmente utilizada com facilidade...\n",
    "\n",
    "Para que isso seja possível, existe uma biblioteca muito poderosa, que conheceremos em detalhes mais a frente no curso: a biblioteca [pandas](https://pandas.pydata.org/)!\n",
    "\n",
    "Vamos vê-la em ação, como um pequeno spoiler:"
   ]
  },
  {
   "cell_type": "code",
   "execution_count": 90,
   "metadata": {
    "colab": {
     "base_uri": "https://localhost:8080/"
    },
    "executionInfo": {
     "elapsed": 2,
     "status": "ok",
     "timestamp": 1675366797064,
     "user": {
      "displayName": "Andre Juan",
      "userId": "08529802346316693602"
     },
     "user_tz": 180
    },
    "id": "Yw90aPjjcUOP",
    "outputId": "c2079315-7807-4749-f27a-939c8e77201c"
   },
   "outputs": [
    {
     "data": {
      "text/plain": [
       "{'nomes': ['José', 'Maria', 'Marta', 'Joaquim'],\n",
       " 'idades': [20, 30, 15, 18],\n",
       " 'cidades': ['SP', 'JP', 'Salvador', 'Santo André']}"
      ]
     },
     "execution_count": 90,
     "metadata": {},
     "output_type": "execute_result"
    }
   ],
   "source": [
    "cadastro_dict"
   ]
  },
  {
   "cell_type": "code",
   "execution_count": 93,
   "metadata": {
    "colab": {
     "base_uri": "https://localhost:8080/",
     "height": 175
    },
    "executionInfo": {
     "elapsed": 10,
     "status": "ok",
     "timestamp": 1675366913849,
     "user": {
      "displayName": "Andre Juan",
      "userId": "08529802346316693602"
     },
     "user_tz": 180
    },
    "id": "0VY4SO1ApQa1",
    "outputId": "e8980051-36f0-4272-faff-4a613e5facf0"
   },
   "outputs": [
    {
     "data": {
      "text/html": [
       "\n",
       "  <div id=\"df-15053f1a-2f60-4c44-8160-f72fdf75af73\">\n",
       "    <div class=\"colab-df-container\">\n",
       "      <div>\n",
       "<style scoped>\n",
       "    .dataframe tbody tr th:only-of-type {\n",
       "        vertical-align: middle;\n",
       "    }\n",
       "\n",
       "    .dataframe tbody tr th {\n",
       "        vertical-align: top;\n",
       "    }\n",
       "\n",
       "    .dataframe thead th {\n",
       "        text-align: right;\n",
       "    }\n",
       "</style>\n",
       "<table border=\"1\" class=\"dataframe\">\n",
       "  <thead>\n",
       "    <tr style=\"text-align: right;\">\n",
       "      <th></th>\n",
       "      <th>nomes</th>\n",
       "      <th>idades</th>\n",
       "      <th>cidades</th>\n",
       "    </tr>\n",
       "  </thead>\n",
       "  <tbody>\n",
       "    <tr>\n",
       "      <th>0</th>\n",
       "      <td>José</td>\n",
       "      <td>20</td>\n",
       "      <td>SP</td>\n",
       "    </tr>\n",
       "    <tr>\n",
       "      <th>1</th>\n",
       "      <td>Maria</td>\n",
       "      <td>30</td>\n",
       "      <td>JP</td>\n",
       "    </tr>\n",
       "    <tr>\n",
       "      <th>2</th>\n",
       "      <td>Marta</td>\n",
       "      <td>15</td>\n",
       "      <td>Salvador</td>\n",
       "    </tr>\n",
       "    <tr>\n",
       "      <th>3</th>\n",
       "      <td>Joaquim</td>\n",
       "      <td>18</td>\n",
       "      <td>Santo André</td>\n",
       "    </tr>\n",
       "  </tbody>\n",
       "</table>\n",
       "</div>\n",
       "      <button class=\"colab-df-convert\" onclick=\"convertToInteractive('df-15053f1a-2f60-4c44-8160-f72fdf75af73')\"\n",
       "              title=\"Convert this dataframe to an interactive table.\"\n",
       "              style=\"display:none;\">\n",
       "        \n",
       "  <svg xmlns=\"http://www.w3.org/2000/svg\" height=\"24px\"viewBox=\"0 0 24 24\"\n",
       "       width=\"24px\">\n",
       "    <path d=\"M0 0h24v24H0V0z\" fill=\"none\"/>\n",
       "    <path d=\"M18.56 5.44l.94 2.06.94-2.06 2.06-.94-2.06-.94-.94-2.06-.94 2.06-2.06.94zm-11 1L8.5 8.5l.94-2.06 2.06-.94-2.06-.94L8.5 2.5l-.94 2.06-2.06.94zm10 10l.94 2.06.94-2.06 2.06-.94-2.06-.94-.94-2.06-.94 2.06-2.06.94z\"/><path d=\"M17.41 7.96l-1.37-1.37c-.4-.4-.92-.59-1.43-.59-.52 0-1.04.2-1.43.59L10.3 9.45l-7.72 7.72c-.78.78-.78 2.05 0 2.83L4 21.41c.39.39.9.59 1.41.59.51 0 1.02-.2 1.41-.59l7.78-7.78 2.81-2.81c.8-.78.8-2.07 0-2.86zM5.41 20L4 18.59l7.72-7.72 1.47 1.35L5.41 20z\"/>\n",
       "  </svg>\n",
       "      </button>\n",
       "      \n",
       "  <style>\n",
       "    .colab-df-container {\n",
       "      display:flex;\n",
       "      flex-wrap:wrap;\n",
       "      gap: 12px;\n",
       "    }\n",
       "\n",
       "    .colab-df-convert {\n",
       "      background-color: #E8F0FE;\n",
       "      border: none;\n",
       "      border-radius: 50%;\n",
       "      cursor: pointer;\n",
       "      display: none;\n",
       "      fill: #1967D2;\n",
       "      height: 32px;\n",
       "      padding: 0 0 0 0;\n",
       "      width: 32px;\n",
       "    }\n",
       "\n",
       "    .colab-df-convert:hover {\n",
       "      background-color: #E2EBFA;\n",
       "      box-shadow: 0px 1px 2px rgba(60, 64, 67, 0.3), 0px 1px 3px 1px rgba(60, 64, 67, 0.15);\n",
       "      fill: #174EA6;\n",
       "    }\n",
       "\n",
       "    [theme=dark] .colab-df-convert {\n",
       "      background-color: #3B4455;\n",
       "      fill: #D2E3FC;\n",
       "    }\n",
       "\n",
       "    [theme=dark] .colab-df-convert:hover {\n",
       "      background-color: #434B5C;\n",
       "      box-shadow: 0px 1px 3px 1px rgba(0, 0, 0, 0.15);\n",
       "      filter: drop-shadow(0px 1px 2px rgba(0, 0, 0, 0.3));\n",
       "      fill: #FFFFFF;\n",
       "    }\n",
       "  </style>\n",
       "\n",
       "      <script>\n",
       "        const buttonEl =\n",
       "          document.querySelector('#df-15053f1a-2f60-4c44-8160-f72fdf75af73 button.colab-df-convert');\n",
       "        buttonEl.style.display =\n",
       "          google.colab.kernel.accessAllowed ? 'block' : 'none';\n",
       "\n",
       "        async function convertToInteractive(key) {\n",
       "          const element = document.querySelector('#df-15053f1a-2f60-4c44-8160-f72fdf75af73');\n",
       "          const dataTable =\n",
       "            await google.colab.kernel.invokeFunction('convertToInteractive',\n",
       "                                                     [key], {});\n",
       "          if (!dataTable) return;\n",
       "\n",
       "          const docLinkHtml = 'Like what you see? Visit the ' +\n",
       "            '<a target=\"_blank\" href=https://colab.research.google.com/notebooks/data_table.ipynb>data table notebook</a>'\n",
       "            + ' to learn more about interactive tables.';\n",
       "          element.innerHTML = '';\n",
       "          dataTable['output_type'] = 'display_data';\n",
       "          await google.colab.output.renderOutput(dataTable, element);\n",
       "          const docLink = document.createElement('div');\n",
       "          docLink.innerHTML = docLinkHtml;\n",
       "          element.appendChild(docLink);\n",
       "        }\n",
       "      </script>\n",
       "    </div>\n",
       "  </div>\n",
       "  "
      ],
      "text/plain": [
       "     nomes  idades      cidades\n",
       "0     José      20           SP\n",
       "1    Maria      30           JP\n",
       "2    Marta      15     Salvador\n",
       "3  Joaquim      18  Santo André"
      ]
     },
     "execution_count": 93,
     "metadata": {},
     "output_type": "execute_result"
    }
   ],
   "source": [
    "import pandas as pd\n",
    "\n",
    "df = pd.DataFrame(cadastro_dict)\n",
    "\n",
    "df"
   ]
  },
  {
   "cell_type": "code",
   "execution_count": 94,
   "metadata": {
    "colab": {
     "base_uri": "https://localhost:8080/"
    },
    "executionInfo": {
     "elapsed": 206,
     "status": "ok",
     "timestamp": 1675366950841,
     "user": {
      "displayName": "Andre Juan",
      "userId": "08529802346316693602"
     },
     "user_tz": 180
    },
    "id": "jmCfl_PmpsVx",
    "outputId": "b16839f0-bd1f-4b20-a658-3f005c71ab7a"
   },
   "outputs": [
    {
     "data": {
      "text/plain": [
       "0       José\n",
       "1      Maria\n",
       "2      Marta\n",
       "3    Joaquim\n",
       "Name: nomes, dtype: object"
      ]
     },
     "execution_count": 94,
     "metadata": {},
     "output_type": "execute_result"
    }
   ],
   "source": [
    "df[\"nomes\"]"
   ]
  },
  {
   "cell_type": "code",
   "execution_count": 96,
   "metadata": {
    "colab": {
     "base_uri": "https://localhost:8080/"
    },
    "executionInfo": {
     "elapsed": 5,
     "status": "ok",
     "timestamp": 1675366973351,
     "user": {
      "displayName": "Andre Juan",
      "userId": "08529802346316693602"
     },
     "user_tz": 180
    },
    "id": "wqukQwzypwFc",
    "outputId": "6f2a24b0-b280-440f-d2c7-c3cf9b0518d4"
   },
   "outputs": [
    {
     "data": {
      "text/plain": [
       "nomes      Maria\n",
       "idades        30\n",
       "cidades       JP\n",
       "Name: 1, dtype: object"
      ]
     },
     "execution_count": 96,
     "metadata": {},
     "output_type": "execute_result"
    }
   ],
   "source": [
    "df.loc[1]"
   ]
  },
  {
   "cell_type": "markdown",
   "metadata": {
    "id": "VyBwLsyLcUOQ"
   },
   "source": [
    "____\n",
    "____\n",
    "____\n",
    "___"
   ]
  },
  {
   "cell_type": "markdown",
   "metadata": {
    "id": "M7TrpivtcUOQ"
   },
   "source": [
    "____\n",
    "____\n",
    "____"
   ]
  },
  {
   "cell_type": "markdown",
   "metadata": {
    "id": "BqwM8NCdcUOQ"
   },
   "source": [
    "## 3) Conjuntos\n",
    "\n",
    "Por fim, vamos conhecer rapidamente um último tipo importante de estrutura de dados em Python: os **conjuntos**.\n",
    "\n",
    "As principais características dessa esturutra de dados é que ela é: não ordenada, com elementos únicos, iterável, mutável (em termos de adição e remoção de elementos, mas seus elementos são imutáveis), e não indexável.\n",
    "\n",
    "Vamos ver na prática cada uma destas propriedades! Mas, antes disso, é importante saber que definimos conjuntos com o uso de uma sequência de valores entre chaves {} (e, como não há o par chave: valor, não há confusão com dicionários!):"
   ]
  },
  {
   "cell_type": "code",
   "execution_count": 99,
   "metadata": {
    "colab": {
     "base_uri": "https://localhost:8080/"
    },
    "executionInfo": {
     "elapsed": 5,
     "status": "ok",
     "timestamp": 1675367215386,
     "user": {
      "displayName": "Andre Juan",
      "userId": "08529802346316693602"
     },
     "user_tz": 180
    },
    "id": "0sKQmhczcUOQ",
    "outputId": "28dc41d2-42bf-4915-b687-82534dd5b22e"
   },
   "outputs": [
    {
     "data": {
      "text/plain": [
       "{3.14, 42, True, 'a'}"
      ]
     },
     "execution_count": 99,
     "metadata": {},
     "output_type": "execute_result"
    }
   ],
   "source": [
    "conjunto = {\"a\", True, 42, 3.14}\n",
    "\n",
    "conjunto"
   ]
  },
  {
   "cell_type": "markdown",
   "metadata": {
    "id": "g5DqKu1OcUOQ"
   },
   "source": [
    "Um conjunto não é ordenado:"
   ]
  },
  {
   "cell_type": "code",
   "execution_count": 100,
   "metadata": {
    "colab": {
     "base_uri": "https://localhost:8080/"
    },
    "executionInfo": {
     "elapsed": 10,
     "status": "ok",
     "timestamp": 1675367268275,
     "user": {
      "displayName": "Andre Juan",
      "userId": "08529802346316693602"
     },
     "user_tz": 180
    },
    "id": "BZZFyVeocUOQ",
    "outputId": "fc04b170-1977-4805-e785-237b88113088"
   },
   "outputs": [
    {
     "data": {
      "text/plain": [
       "{3.14, 42, True, 'a'}"
      ]
     },
     "execution_count": 100,
     "metadata": {},
     "output_type": "execute_result"
    }
   ],
   "source": [
    "conjunto"
   ]
  },
  {
   "cell_type": "markdown",
   "metadata": {
    "id": "zT1ALx3VcUOQ"
   },
   "source": [
    "Um conjunto é iterável:"
   ]
  },
  {
   "cell_type": "code",
   "execution_count": 101,
   "metadata": {
    "colab": {
     "base_uri": "https://localhost:8080/"
    },
    "executionInfo": {
     "elapsed": 7,
     "status": "ok",
     "timestamp": 1675367311080,
     "user": {
      "displayName": "Andre Juan",
      "userId": "08529802346316693602"
     },
     "user_tz": 180
    },
    "id": "M6T3QcxHcUOR",
    "outputId": "b3bf6de0-2550-4385-ab31-692312a7d3be"
   },
   "outputs": [
    {
     "name": "stdout",
     "output_type": "stream",
     "text": [
      "3.14\n",
      "True\n",
      "42\n",
      "a\n"
     ]
    }
   ],
   "source": [
    "for elemento in conjunto:\n",
    "  print(elemento)"
   ]
  },
  {
   "cell_type": "markdown",
   "metadata": {
    "id": "RcQ6GT46cUOR"
   },
   "source": [
    "Um conjunto **não é indexável!**"
   ]
  },
  {
   "cell_type": "code",
   "execution_count": 102,
   "metadata": {
    "colab": {
     "base_uri": "https://localhost:8080/",
     "height": 171
    },
    "executionInfo": {
     "elapsed": 235,
     "status": "error",
     "timestamp": 1675367360304,
     "user": {
      "displayName": "Andre Juan",
      "userId": "08529802346316693602"
     },
     "user_tz": 180
    },
    "id": "Cz34HvyfcUOR",
    "outputId": "5766fa6d-f311-4afd-a8ed-a55743b54dbe"
   },
   "outputs": [
    {
     "ename": "TypeError",
     "evalue": "ignored",
     "output_type": "error",
     "traceback": [
      "\u001b[0;31m---------------------------------------------------------------------------\u001b[0m",
      "\u001b[0;31mTypeError\u001b[0m                                 Traceback (most recent call last)",
      "\u001b[0;32m<ipython-input-102-702f91cb967e>\u001b[0m in \u001b[0;36m<module>\u001b[0;34m\u001b[0m\n\u001b[0;32m----> 1\u001b[0;31m \u001b[0mconjunto\u001b[0m\u001b[0;34m[\u001b[0m\u001b[0;36m2\u001b[0m\u001b[0;34m]\u001b[0m\u001b[0;34m\u001b[0m\u001b[0;34m\u001b[0m\u001b[0m\n\u001b[0m",
      "\u001b[0;31mTypeError\u001b[0m: 'set' object is not subscriptable"
     ]
    }
   ],
   "source": [
    "conjunto[2]"
   ]
  },
  {
   "cell_type": "markdown",
   "metadata": {
    "id": "b9FImlbCcUOR"
   },
   "source": [
    "Podemos alterar um conjunto, ao adicionar e/ou remover elementos dele:"
   ]
  },
  {
   "cell_type": "code",
   "execution_count": 103,
   "metadata": {
    "executionInfo": {
     "elapsed": 222,
     "status": "ok",
     "timestamp": 1675367484763,
     "user": {
      "displayName": "Andre Juan",
      "userId": "08529802346316693602"
     },
     "user_tz": 180
    },
    "id": "TkVt6skDcUOR"
   },
   "outputs": [],
   "source": [
    "conjunto.add(14)"
   ]
  },
  {
   "cell_type": "code",
   "execution_count": 104,
   "metadata": {
    "colab": {
     "base_uri": "https://localhost:8080/"
    },
    "executionInfo": {
     "elapsed": 9,
     "status": "ok",
     "timestamp": 1675367495361,
     "user": {
      "displayName": "Andre Juan",
      "userId": "08529802346316693602"
     },
     "user_tz": 180
    },
    "id": "7imbVW3BrxaA",
    "outputId": "7cf22877-fcbc-48aa-a3f4-4422daa87773"
   },
   "outputs": [
    {
     "data": {
      "text/plain": [
       "{14, 3.14, 42, True, 'a'}"
      ]
     },
     "execution_count": 104,
     "metadata": {},
     "output_type": "execute_result"
    }
   ],
   "source": [
    "conjunto"
   ]
  },
  {
   "cell_type": "code",
   "execution_count": 105,
   "metadata": {
    "executionInfo": {
     "elapsed": 4,
     "status": "ok",
     "timestamp": 1675367564272,
     "user": {
      "displayName": "Andre Juan",
      "userId": "08529802346316693602"
     },
     "user_tz": 180
    },
    "id": "6lxebhimsAwt"
   },
   "outputs": [],
   "source": [
    "conjunto.remove(14)"
   ]
  },
  {
   "cell_type": "code",
   "execution_count": 106,
   "metadata": {
    "colab": {
     "base_uri": "https://localhost:8080/"
    },
    "executionInfo": {
     "elapsed": 2,
     "status": "ok",
     "timestamp": 1675367570265,
     "user": {
      "displayName": "Andre Juan",
      "userId": "08529802346316693602"
     },
     "user_tz": 180
    },
    "id": "QLl8R9BqsEff",
    "outputId": "5f0c5485-bc98-4c3f-bc2a-e72fcc1d2c32"
   },
   "outputs": [
    {
     "data": {
      "text/plain": [
       "{3.14, 42, True, 'a'}"
      ]
     },
     "execution_count": 106,
     "metadata": {},
     "output_type": "execute_result"
    }
   ],
   "source": [
    "conjunto"
   ]
  },
  {
   "cell_type": "markdown",
   "metadata": {
    "id": "yIp8dBnEcUOR"
   },
   "source": [
    "No entanto, dado que o conjunto não é indexável, não é possível alterar elementos (afinal, como saberíamos que elemento alterar?)"
   ]
  },
  {
   "cell_type": "markdown",
   "metadata": {
    "id": "4ASMVw5CcUOR"
   },
   "source": [
    "Por fim, conjuntos armazenam apenas os **elementos únicos** de uma coleção. Veja:"
   ]
  },
  {
   "cell_type": "code",
   "execution_count": 107,
   "metadata": {
    "colab": {
     "base_uri": "https://localhost:8080/"
    },
    "executionInfo": {
     "elapsed": 11,
     "status": "ok",
     "timestamp": 1675367717101,
     "user": {
      "displayName": "Andre Juan",
      "userId": "08529802346316693602"
     },
     "user_tz": 180
    },
    "id": "7Vi4xgk2sn-D",
    "outputId": "73c2e474-a935-474a-88ba-dcf7ddb743e3"
   },
   "outputs": [
    {
     "data": {
      "text/plain": [
       "['a', True, 42, 3.14, 'a', True, 42, 42, 42, 'a']"
      ]
     },
     "execution_count": 107,
     "metadata": {},
     "output_type": "execute_result"
    }
   ],
   "source": [
    "[\"a\", True, 42, 3.14, \"a\", True, 42, 42, 42, \"a\"]"
   ]
  },
  {
   "cell_type": "code",
   "execution_count": 67,
   "metadata": {
    "colab": {
     "base_uri": "https://localhost:8080/"
    },
    "executionInfo": {
     "elapsed": 224,
     "status": "ok",
     "timestamp": 1675367730759,
     "user": {
      "displayName": "Andre Juan",
      "userId": "08529802346316693602"
     },
     "user_tz": 180
    },
    "id": "4xWqDFAgcUOR",
    "outputId": "b55fecb3-8376-4d42-cc3d-5849e23fc20e"
   },
   "outputs": [
    {
     "data": {
      "text/plain": [
       "{3.14, 42, True, 'a'}"
      ]
     },
     "execution_count": 67,
     "metadata": {},
     "output_type": "execute_result"
    }
   ],
   "source": [
    "conjunto2 = {\"a\", True, 42, 3.14, \"a\", True, 42, 42, 42, \"a\"}\n",
    "\n",
    "conjunto2"
   ]
  },
  {
   "cell_type": "markdown",
   "metadata": {
    "id": "LWaHjrTAcUOS"
   },
   "source": [
    "Isso pode ser útil, por exemplo, caso queiramos saber quais os elementos únicos de uma lista!\n",
    "\n",
    "Considere uma lista de notas em uma prova, numa turma com 40 alunos:"
   ]
  },
  {
   "cell_type": "code",
   "execution_count": 109,
   "metadata": {
    "ExecuteTime": {
     "end_time": "2023-02-02T14:33:24.826277Z",
     "start_time": "2023-02-02T14:33:24.815282Z"
    },
    "executionInfo": {
     "elapsed": 232,
     "status": "ok",
     "timestamp": 1675367777939,
     "user": {
      "displayName": "Andre Juan",
      "userId": "08529802346316693602"
     },
     "user_tz": 180
    },
    "id": "U37eCzHdcUOS"
   },
   "outputs": [],
   "source": [
    "notas = [9, 0, 6, 6, 0, 8, 2, 0, 3, 9,\n",
    "         2, 3, 5, 4, 3, 9, 8, 5, 6, 2,\n",
    "         7, 3, 5, 5, 9, 6, 3, 7, 3, 9,\n",
    "         7, 2, 9, 5, 5, 4, 6, 6, 5, 5]"
   ]
  },
  {
   "cell_type": "markdown",
   "metadata": {
    "id": "9viaqcfvcUOS"
   },
   "source": [
    "Para sabermos quais as notas únicas, basta converter a lista para um conjunto, com o construtor `set()`:"
   ]
  },
  {
   "cell_type": "code",
   "execution_count": 110,
   "metadata": {
    "colab": {
     "base_uri": "https://localhost:8080/"
    },
    "executionInfo": {
     "elapsed": 2,
     "status": "ok",
     "timestamp": 1675367811882,
     "user": {
      "displayName": "Andre Juan",
      "userId": "08529802346316693602"
     },
     "user_tz": 180
    },
    "id": "pHDMXX4CcUOS",
    "outputId": "716093f2-270f-4328-b91f-178038262b0e"
   },
   "outputs": [
    {
     "data": {
      "text/plain": [
       "{0, 2, 3, 4, 5, 6, 7, 8, 9}"
      ]
     },
     "execution_count": 110,
     "metadata": {},
     "output_type": "execute_result"
    }
   ],
   "source": [
    "set(notas)"
   ]
  },
  {
   "cell_type": "code",
   "execution_count": 112,
   "metadata": {
    "colab": {
     "base_uri": "https://localhost:8080/"
    },
    "executionInfo": {
     "elapsed": 211,
     "status": "ok",
     "timestamp": 1675367868527,
     "user": {
      "displayName": "Andre Juan",
      "userId": "08529802346316693602"
     },
     "user_tz": 180
    },
    "id": "Kv-R8AnMtKvj",
    "outputId": "f986a375-a10c-49de-bb78-2144837f58d9"
   },
   "outputs": [
    {
     "data": {
      "text/plain": [
       "[0, 2, 3, 4, 5, 6, 7, 8, 9]"
      ]
     },
     "execution_count": 112,
     "metadata": {},
     "output_type": "execute_result"
    }
   ],
   "source": [
    "list(set(notas))"
   ]
  },
  {
   "cell_type": "markdown",
   "metadata": {
    "id": "6AnpGF8ycUOT"
   },
   "source": [
    "Há, ainda, outras utilidades de conjuntos, que é o que de fato faz com que esta estrutura de dados receba este nome: ela se comporta como os **conjuntos matemáticos**, o que faz com que seja possível determinarmos a intersecção, união, diferença, etc., entre conjuntos de valores!\n",
    "\n",
    "Considere duas listas, que compartilham alguns elementos:"
   ]
  },
  {
   "cell_type": "code",
   "execution_count": 71,
   "metadata": {
    "executionInfo": {
     "elapsed": 247,
     "status": "ok",
     "timestamp": 1675367915430,
     "user": {
      "displayName": "Andre Juan",
      "userId": "08529802346316693602"
     },
     "user_tz": 180
    },
    "id": "XSZVFG35cUOT"
   },
   "outputs": [],
   "source": [
    "l1 = [\"ada\", \"python\", \"dados\", 2, 4]\n",
    "l2 = [\"web\", \"python\", \"devops\", 42, 4]"
   ]
  },
  {
   "cell_type": "markdown",
   "metadata": {
    "ExecuteTime": {
     "end_time": "2023-02-02T14:36:12.994964Z",
     "start_time": "2023-02-02T14:36:12.972960Z"
    },
    "id": "bh8EkS7mcUOT"
   },
   "source": [
    "Quais os elementos comuns às duas listas?"
   ]
  },
  {
   "cell_type": "code",
   "execution_count": 72,
   "metadata": {},
   "outputs": [
    {
     "data": {
      "text/plain": [
       "{4, 'python'}"
      ]
     },
     "execution_count": 72,
     "metadata": {},
     "output_type": "execute_result"
    }
   ],
   "source": [
    "set(l1).intersection(set(l2))"
   ]
  },
  {
   "cell_type": "markdown",
   "metadata": {},
   "source": [
    "Ou pode ser feito desta maneira também."
   ]
  },
  {
   "cell_type": "code",
   "execution_count": 73,
   "metadata": {
    "colab": {
     "base_uri": "https://localhost:8080/"
    },
    "executionInfo": {
     "elapsed": 9,
     "status": "ok",
     "timestamp": 1675367976572,
     "user": {
      "displayName": "Andre Juan",
      "userId": "08529802346316693602"
     },
     "user_tz": 180
    },
    "id": "qJwRPJgWcUOT",
    "outputId": "75fd5478-cb8a-47f2-d6da-762f619e05cf"
   },
   "outputs": [
    {
     "ename": "NameError",
     "evalue": "name 'pooxset' is not defined",
     "output_type": "error",
     "traceback": [
      "\u001b[1;31m---------------------------------------------------------------------------\u001b[0m",
      "\u001b[1;31mNameError\u001b[0m                                 Traceback (most recent call last)",
      "Cell \u001b[1;32mIn[73], line 1\u001b[0m\n\u001b[1;32m----> 1\u001b[0m pooxset(l1)\u001b[38;5;241m.\u001b[39mintersection(\u001b[38;5;28mset\u001b[39m(l2))\n",
      "\u001b[1;31mNameError\u001b[0m: name 'pooxset' is not defined"
     ]
    }
   ],
   "source": [
    "pooxset(l1).intersection(set(l2))"
   ]
  },
  {
   "cell_type": "markdown",
   "metadata": {
    "id": "KNm2yTRccUOT"
   },
   "source": [
    "Qual a união das listas (sem repetir elementos)?"
   ]
  },
  {
   "cell_type": "code",
   "execution_count": 116,
   "metadata": {
    "colab": {
     "base_uri": "https://localhost:8080/"
    },
    "executionInfo": {
     "elapsed": 4,
     "status": "ok",
     "timestamp": 1675368006682,
     "user": {
      "displayName": "Andre Juan",
      "userId": "08529802346316693602"
     },
     "user_tz": 180
    },
    "id": "OE0jjSLVcUOU",
    "outputId": "e10ff2af-3d9d-4e98-f27e-884ecc54b44e"
   },
   "outputs": [
    {
     "data": {
      "text/plain": [
       "{2, 4, 42, 'ada', 'dados', 'devops', 'python', 'web'}"
      ]
     },
     "execution_count": 116,
     "metadata": {},
     "output_type": "execute_result"
    }
   ],
   "source": [
    "set(l1).union(set(l2))"
   ]
  },
  {
   "cell_type": "markdown",
   "metadata": {
    "id": "fXliu6StcUOU"
   },
   "source": [
    "Qual a diferença entre as listas (isto é, elementos que existem em uma lista e não na outra?)"
   ]
  },
  {
   "cell_type": "code",
   "execution_count": 117,
   "metadata": {
    "colab": {
     "base_uri": "https://localhost:8080/"
    },
    "executionInfo": {
     "elapsed": 5,
     "status": "ok",
     "timestamp": 1675368062398,
     "user": {
      "displayName": "Andre Juan",
      "userId": "08529802346316693602"
     },
     "user_tz": 180
    },
    "id": "AFpDOfKhcUOU",
    "outputId": "8fca1da1-eec1-47c3-9396-4362ce70e1b8"
   },
   "outputs": [
    {
     "data": {
      "text/plain": [
       "{2, 'ada', 'dados'}"
      ]
     },
     "execution_count": 117,
     "metadata": {},
     "output_type": "execute_result"
    }
   ],
   "source": [
    "set(l1).difference(set(l2))"
   ]
  },
  {
   "cell_type": "code",
   "execution_count": 118,
   "metadata": {
    "colab": {
     "base_uri": "https://localhost:8080/"
    },
    "executionInfo": {
     "elapsed": 9,
     "status": "ok",
     "timestamp": 1675368073527,
     "user": {
      "displayName": "Andre Juan",
      "userId": "08529802346316693602"
     },
     "user_tz": 180
    },
    "id": "BUvZRcdrt_GM",
    "outputId": "731c7e6f-9967-4789-a7b6-bfee67533440"
   },
   "outputs": [
    {
     "data": {
      "text/plain": [
       "{42, 'devops', 'web'}"
      ]
     },
     "execution_count": 118,
     "metadata": {},
     "output_type": "execute_result"
    }
   ],
   "source": [
    "set(l2).difference(set(l1))"
   ]
  },
  {
   "cell_type": "code",
   "execution_count": 120,
   "metadata": {
    "colab": {
     "base_uri": "https://localhost:8080/"
    },
    "executionInfo": {
     "elapsed": 434,
     "status": "ok",
     "timestamp": 1675368123116,
     "user": {
      "displayName": "Andre Juan",
      "userId": "08529802346316693602"
     },
     "user_tz": 180
    },
    "id": "_vCNTo34uHbK",
    "outputId": "17247ee1-e6fd-4155-add4-a83a7bb71898"
   },
   "outputs": [
    {
     "data": {
      "text/plain": [
       "{42, 'devops', 'web'}"
      ]
     },
     "execution_count": 120,
     "metadata": {},
     "output_type": "execute_result"
    }
   ],
   "source": [
    "set(l2) - set(l1)"
   ]
  },
  {
   "cell_type": "markdown",
   "metadata": {
    "ExecuteTime": {
     "end_time": "2023-02-02T14:38:16.358452Z",
     "start_time": "2023-02-02T14:38:16.342829Z"
    },
    "id": "xO6Lx5zacUOU"
   },
   "source": [
    "Essas operações são todas muito úteis quando estamos trabalhando com dados!"
   ]
  },
  {
   "cell_type": "markdown",
   "metadata": {
    "id": "GDZBIx5AcUOU"
   },
   "source": [
    "E é isso, agora você conhece as 4 **estruturas de dados** nativas do Python, utilizadas para armazenar coleções de valores: listas, tuplas, dicionários e conjuntos. Muito bem!  "
   ]
  },
  {
   "cell_type": "code",
   "execution_count": 79,
   "metadata": {},
   "outputs": [
    {
     "data": {
      "text/plain": [
       "int"
      ]
     },
     "execution_count": 79,
     "metadata": {},
     "output_type": "execute_result"
    }
   ],
   "source": [
    "n1, n2, n3 = (1, 2, 3)\n",
    "\n",
    "type(n1)\n",
    "\n",
    "# print(n1, n2, n3)"
   ]
  }
 ],
 "metadata": {
  "colab": {
   "provenance": []
  },
  "kernelspec": {
   "display_name": "Python 3 (ipykernel)",
   "language": "python",
   "name": "python3"
  },
  "language_info": {
   "codemirror_mode": {
    "name": "ipython",
    "version": 3
   },
   "file_extension": ".py",
   "mimetype": "text/x-python",
   "name": "python",
   "nbconvert_exporter": "python",
   "pygments_lexer": "ipython3",
   "version": "3.11.5"
  }
 },
 "nbformat": 4,
 "nbformat_minor": 1
}
