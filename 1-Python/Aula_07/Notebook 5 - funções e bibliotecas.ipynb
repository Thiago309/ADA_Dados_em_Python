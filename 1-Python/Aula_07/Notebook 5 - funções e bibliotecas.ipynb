{
 "cells": [
  {
   "cell_type": "markdown",
   "metadata": {},
   "source": [
    "# Aula 5 - funções e bibliotecas\n",
    "\n",
    "Na aula de hoje, vamos explorar os seguintes tópicos em Python:\n",
    "\n",
    "- 1) Funções\n",
    "- 2) Bibliotecas\n",
    "- 3) Além do Jupyter\n",
    "- 4) Criando programas executáveis (.exe)\n",
    "_______\n"
   ]
  },
  {
   "cell_type": "markdown",
   "metadata": {},
   "source": [
    "___\n",
    "___\n",
    "___\n"
   ]
  },
  {
   "cell_type": "markdown",
   "metadata": {},
   "source": [
    "## 1) Funções\n",
    "\n",
    "Até o momento, já vimos diversas funções em Python.\n",
    "\n",
    "- Na primeira aula, tivemos contato com a função `print()`, que exibe um texto na tela;\n",
    "\n",
    "- Depois, aprendemos sobre a função `input()`, que serve pra capturar algo que o usuário digita;\n",
    "\n",
    "- Em seguida, vimos algumas funções aplicada à listas, como a `sorted()`, para ordenar uma lista;\n"
   ]
  },
  {
   "cell_type": "code",
   "execution_count": null,
   "metadata": {},
   "outputs": [],
   "source": []
  },
  {
   "cell_type": "markdown",
   "metadata": {},
   "source": [
    "\n",
    "A intuição sobre funções, então, já nos é familiar:\n",
    "\n",
    "Uma função é um objeto utilizado para **fazer determinadas ações**.\n",
    "\n",
    "Podemos ver uma função como uma \"caixinha\" que pega uma **entrada** (o argumento), faz algum **processamento**, e então **retorna uma saída** (o output)\n",
    "\n",
    "<img src=\"https://s3.amazonaws.com/illustrativemathematics/images/000/000/782/medium/Task_1_8c7a6a9a2e1421586c40f125bd783de3.jpg?1335065782\" width=300>\n",
    "\n",
    "\n",
    "<img src=\"https://1.bp.blogspot.com/_MhOt9n2UJbM/TC6emeqHdqI/AAAAAAAAAiQ/1brsWuWvOC0/s1600/function-machine.png\" width=300>\n"
   ]
  },
  {
   "cell_type": "markdown",
   "metadata": {},
   "source": [
    "Aprenderemos agora como criar **nossas próprias funções** em Python!"
   ]
  },
  {
   "cell_type": "markdown",
   "metadata": {},
   "source": [
    "A estrutura de **definição de uma função** é dada por:\n",
    "\n",
    "```python\n",
    "def nome_da_funcao(argumentos):\n",
    "    \n",
    "    instrucoes\n",
    "    \n",
    "    return saida\n",
    "```"
   ]
  },
  {
   "cell_type": "markdown",
   "metadata": {},
   "source": [
    "Há 5 elementos fundamentais para a criação de novas funções em Python:\n",
    "\n",
    "- Primeiramente, usamos \"def\" para deixar claro que estamos **definindo** uma função;\n",
    "- Depois, damos um **nome** para nossa função;\n",
    "- Em parênteses, falamos quais serão os **argumentos** da função -- esses são os inputs, e em python, esses elementos são opcionais!\n",
    "- Depois, explicitamos qual é o **processamento** feito pela função;\n",
    "- Ao fim, dizemos o que a função irá **retornar** -- esses são os outputs, e em Python esse elemento é opcional!"
   ]
  },
  {
   "cell_type": "markdown",
   "metadata": {},
   "source": [
    "Sempre que quisermos **executar** uma função, basta **chamá-la**, dando os argumentos desejados!\n",
    "\n",
    "```python\n",
    "nome_da_funcao(argumentos)\n",
    "```"
   ]
  },
  {
   "cell_type": "markdown",
   "metadata": {},
   "source": [
    "__Uma função sem argumentos e sem return__\n",
    "\n",
    "Apenas imprime algo na tela, mas sempre A MESMA COISA\n"
   ]
  },
  {
   "cell_type": "code",
   "execution_count": 1,
   "metadata": {},
   "outputs": [],
   "source": [
    "def fala(nome):\n",
    "    print(f\"Oi {nome}, que bom te ver!\")"
   ]
  },
  {
   "cell_type": "markdown",
   "metadata": {},
   "source": [
    "__Chamando a função__"
   ]
  },
  {
   "cell_type": "code",
   "execution_count": 2,
   "metadata": {},
   "outputs": [
    {
     "name": "stdout",
     "output_type": "stream",
     "text": [
      "Oi Xabiola, que bom te ver!\n"
     ]
    }
   ],
   "source": [
    "fala(\"Xabiola\")"
   ]
  },
  {
   "cell_type": "markdown",
   "metadata": {},
   "source": [
    "__Uma função com argumento, mas sem return__\n",
    "\n",
    "Imprime o que eu mandar na tela, como argumento!"
   ]
  },
  {
   "cell_type": "code",
   "execution_count": 3,
   "metadata": {},
   "outputs": [
    {
     "name": "stdout",
     "output_type": "stream",
     "text": [
      "Oi Fernanda, que bom te ver!\n"
     ]
    }
   ],
   "source": [
    "fala(nome = \"Fernanda\")"
   ]
  },
  {
   "cell_type": "markdown",
   "metadata": {},
   "source": [
    "__Uma função com dois argumentos, mas ainda sem return__\n",
    "\n",
    "Imprime algo na tela, mas dependendo do segundo argumento que eu passar"
   ]
  },
  {
   "cell_type": "code",
   "execution_count": 5,
   "metadata": {},
   "outputs": [],
   "source": [
    "def cumprimentar(nome, turno):\n",
    "    '''\n",
    "    Essa função recebe um nome e uma parte do dia, e imprime na tela um cumprimento \n",
    "    de acordo com esses dois argumentos.\n",
    "    \n",
    "    - nome (str): qualquer nome próprio;\n",
    "    - turno (str): deve ser unicamente uma das três opções: [\"manhã\", \"tarde\", \"noite\"]\n",
    "    '''\n",
    "    \n",
    "    if turno == \"manhã\":\n",
    "        cumprimento = \"Bom dia\"\n",
    "    elif turno == \"tarde\":\n",
    "        cumprimento = \"Boa tarde\"\n",
    "    elif turno == \"noite\":\n",
    "        cumprimento = \"Boa noite\"\n",
    "    else:\n",
    "        raise ValueError(f\"A parte do dia informada ({turno}) não é válida!\")\n",
    "    \n",
    "    cumprimento = f\"{cumprimento}, {nome}\"\n",
    "    print(cumprimento)"
   ]
  },
  {
   "cell_type": "code",
   "execution_count": 9,
   "metadata": {},
   "outputs": [
    {
     "name": "stdout",
     "output_type": "stream",
     "text": [
      "Bom dia, Henrique\n"
     ]
    }
   ],
   "source": [
    "cumprimentar(\"Henrique\", \"manhã\")\n",
    "# PESQUISAR ----> sklearn "
   ]
  },
  {
   "cell_type": "markdown",
   "metadata": {},
   "source": [
    "Posso mudar a ordem dos argumentos, mas pra isso devo explicitar exatamente quais são os valores que estou passando para quais argumentos!"
   ]
  },
  {
   "cell_type": "code",
   "execution_count": 10,
   "metadata": {},
   "outputs": [
    {
     "name": "stdout",
     "output_type": "stream",
     "text": [
      "Bom dia, Henrique\n"
     ]
    }
   ],
   "source": [
    "cumprimentar(turno = \"manhã\", nome = \"Henrique\")"
   ]
  },
  {
   "cell_type": "markdown",
   "metadata": {},
   "source": [
    "__Mas e o return?__\n",
    "\n",
    "\n",
    "Todas as funções acima de fato fazem alguma operação, mas nõs não conseguimos **acessar** o resultado das operações! Veja um exemplo mais claro: uma função que calcula a soma de dois números:"
   ]
  },
  {
   "cell_type": "code",
   "execution_count": 16,
   "metadata": {},
   "outputs": [],
   "source": [
    "def cumprimentar(nome, turno):\n",
    "    '''\n",
    "    Essa função recebe um nome e uma parte do dia, e imprime na tela um cumprimento \n",
    "    de acordo com esses dois argumentos.\n",
    "    \n",
    "    - nome (str): qualquer nome próprio;\n",
    "    - turno (str): deve ser unicamente uma das três opções: [\"manhã\", \"tarde\", \"noite\"]\n",
    "    '''\n",
    "    \n",
    "    if turno == \"manhã\":\n",
    "        cumprimento = \"Bom dia\"\n",
    "    elif turno == \"tarde\":\n",
    "        cumprimento = \"Boa tarde\"\n",
    "    elif turno == \"noite\":\n",
    "        cumprimento = \"Boa noite\"\n",
    "    else:\n",
    "        raise ValueError(f\"A parte do dia informada ({turno}) não é válida!\")\n",
    "    \n",
    "    cumprimento = f\"{cumprimento}, {nome}\"\n",
    "    print(cumprimento)\n",
    "    \n",
    "    return cumprimento"
   ]
  },
  {
   "cell_type": "code",
   "execution_count": 17,
   "metadata": {},
   "outputs": [
    {
     "name": "stdout",
     "output_type": "stream",
     "text": [
      "Bom dia, Henrique\n"
     ]
    }
   ],
   "source": [
    "resultado_cumprimento = cumprimentar(turno = \"manhã\", nome = \"Henrique\")"
   ]
  },
  {
   "cell_type": "code",
   "execution_count": 18,
   "metadata": {},
   "outputs": [
    {
     "name": "stdout",
     "output_type": "stream",
     "text": [
      "Bom dia, Henrique\n"
     ]
    }
   ],
   "source": [
    "print(resultado_cumprimento)"
   ]
  },
  {
   "cell_type": "markdown",
   "metadata": {},
   "source": [
    "Note que a função calcula a soma dos números, mas apenas exibe este resultado com o print! \n",
    "\n",
    "**A variável \"soma\" é uma variável que existe apenas no interior da função!!**"
   ]
  },
  {
   "cell_type": "code",
   "execution_count": 20,
   "metadata": {},
   "outputs": [],
   "source": [
    "def SOMA(n1, n2):\n",
    "    \n",
    "    soma = n1 + n2\n",
    "    return soma"
   ]
  },
  {
   "cell_type": "code",
   "execution_count": 21,
   "metadata": {},
   "outputs": [
    {
     "data": {
      "text/plain": [
       "5"
      ]
     },
     "execution_count": 21,
     "metadata": {},
     "output_type": "execute_result"
    }
   ],
   "source": [
    "SOMA(2, 3)"
   ]
  },
  {
   "cell_type": "code",
   "execution_count": 22,
   "metadata": {},
   "outputs": [
    {
     "data": {
      "text/plain": [
       "8"
      ]
     },
     "execution_count": 22,
     "metadata": {},
     "output_type": "execute_result"
    }
   ],
   "source": [
    "SOMA(2, 3) + SOMA(1, 2)"
   ]
  },
  {
   "cell_type": "code",
   "execution_count": 23,
   "metadata": {},
   "outputs": [
    {
     "data": {
      "text/plain": [
       "1.6666666666666667"
      ]
     },
     "execution_count": 23,
     "metadata": {},
     "output_type": "execute_result"
    }
   ],
   "source": [
    "r1 = SOMA(2, 3)\n",
    "r2 = SOMA(1, 2)\n",
    "\n",
    "r1/r2"
   ]
  },
  {
   "cell_type": "markdown",
   "metadata": {},
   "source": [
    "Se quisermos armazenar o valor da soma, podemos **retornar** o valor desta variável!\n",
    "\n",
    "**OBS.:** apenas o **valor** da variável é retornado, não o nome dela!!\n",
    "\n",
    "Fora da função, o nome de variável \"soma\" ainda continua não existindo!!"
   ]
  },
  {
   "cell_type": "code",
   "execution_count": 24,
   "metadata": {},
   "outputs": [
    {
     "data": {
      "text/plain": [
       "<function __main__.SOMA(n1, n2)>"
      ]
     },
     "execution_count": 24,
     "metadata": {},
     "output_type": "execute_result"
    }
   ],
   "source": [
    "SOMA"
   ]
  },
  {
   "cell_type": "markdown",
   "metadata": {},
   "source": [
    "Daí, basta armazenar o resultado retornado em uma variável, **como fazíamos com o input()!**"
   ]
  },
  {
   "cell_type": "code",
   "execution_count": 25,
   "metadata": {},
   "outputs": [],
   "source": [
    "soma = SOMA(2 , 3)"
   ]
  },
  {
   "cell_type": "markdown",
   "metadata": {},
   "source": [
    "Um outro exemplo:"
   ]
  },
  {
   "cell_type": "code",
   "execution_count": 26,
   "metadata": {},
   "outputs": [],
   "source": [
    "def SUB(n1, n2):\n",
    "    return n1 - n2"
   ]
  },
  {
   "cell_type": "code",
   "execution_count": 27,
   "metadata": {},
   "outputs": [
    {
     "data": {
      "text/plain": [
       "-4"
      ]
     },
     "execution_count": 27,
     "metadata": {},
     "output_type": "execute_result"
    }
   ],
   "source": [
    "SUB(1, 5)"
   ]
  },
  {
   "cell_type": "code",
   "execution_count": 29,
   "metadata": {},
   "outputs": [],
   "source": [
    "def MULT(n1, n2):\n",
    "    return n1 * n2"
   ]
  },
  {
   "cell_type": "code",
   "execution_count": 30,
   "metadata": {},
   "outputs": [
    {
     "data": {
      "text/plain": [
       "16"
      ]
     },
     "execution_count": 30,
     "metadata": {},
     "output_type": "execute_result"
    }
   ],
   "source": [
    "MULT(2, 8)"
   ]
  },
  {
   "cell_type": "code",
   "execution_count": 32,
   "metadata": {},
   "outputs": [],
   "source": [
    "def DIV(n1, n2):\n",
    "'''\n",
    "Eta função calcula o quociente entre o primeiro e o segundo argumento.\n",
    "\n",
    "- n1 (float)\n",
    "- n2 (float), denominador, deve ser != 0.\n",
    "'''\n",
    "\n",
    "    return n1 / n2"
   ]
  },
  {
   "cell_type": "code",
   "execution_count": 33,
   "metadata": {},
   "outputs": [
    {
     "data": {
      "text/plain": [
       "4.0"
      ]
     },
     "execution_count": 33,
     "metadata": {},
     "output_type": "execute_result"
    }
   ],
   "source": [
    "DIV(8, 2)"
   ]
  },
  {
   "cell_type": "markdown",
   "metadata": {},
   "source": [
    "Vamos elaborar um pouco mais?\n",
    "\n",
    "Que tal fazermos uma função calculadora?"
   ]
  },
  {
   "cell_type": "code",
   "execution_count": 43,
   "metadata": {},
   "outputs": [],
   "source": [
    "def Calculadora(n1, n2, op):\n",
    "    '''\n",
    "    - n1 (float)\n",
    "    - n2 (float)\n",
    "    - op (str): indica a operação a ser feita na calculadora [\"+\", \"-\", \"*\", \"/\"]\n",
    "\n",
    "    returns:\n",
    "\n",
    "    n1 [op] n2, onde [op] é a operação correspondente à string op.\n",
    "    '''\n",
    "    if op == \"+\":\n",
    "        resp = SOMA(n1, n2)\n",
    "    elif op == \"-\":\n",
    "        resp = SUB(n1, n2)\n",
    "    elif op == \"*\":\n",
    "        resp = MULT(n1, n2)\n",
    "    elif op == \"/\":\n",
    "        resp =  DIV(n1, n2)\n",
    "    else:\n",
    "        raise ValueError(f\"Operação selecionada ({op}), invalida. Tente novamente!\")\n",
    "        \n",
    "    return resp"
   ]
  },
  {
   "cell_type": "code",
   "execution_count": 44,
   "metadata": {},
   "outputs": [
    {
     "ename": "ValueError",
     "evalue": "Operação selecionada (%), invalida. Tente novamente!",
     "output_type": "error",
     "traceback": [
      "\u001b[1;31m---------------------------------------------------------------------------\u001b[0m",
      "\u001b[1;31mValueError\u001b[0m                                Traceback (most recent call last)",
      "Cell \u001b[1;32mIn[44], line 1\u001b[0m\n\u001b[1;32m----> 1\u001b[0m Calculadora(\u001b[38;5;241m2\u001b[39m, \u001b[38;5;241m3\u001b[39m, \u001b[38;5;124m\"\u001b[39m\u001b[38;5;124m%\u001b[39m\u001b[38;5;124m\"\u001b[39m)\n",
      "Cell \u001b[1;32mIn[43], line 20\u001b[0m, in \u001b[0;36mCalculadora\u001b[1;34m(n1, n2, op)\u001b[0m\n\u001b[0;32m     18\u001b[0m     resp \u001b[38;5;241m=\u001b[39m  DIV(n1, n2)\n\u001b[0;32m     19\u001b[0m \u001b[38;5;28;01melse\u001b[39;00m:\n\u001b[1;32m---> 20\u001b[0m     \u001b[38;5;28;01mraise\u001b[39;00m \u001b[38;5;167;01mValueError\u001b[39;00m(\u001b[38;5;124mf\u001b[39m\u001b[38;5;124m\"\u001b[39m\u001b[38;5;124mOperação selecionada (\u001b[39m\u001b[38;5;132;01m{\u001b[39;00mop\u001b[38;5;132;01m}\u001b[39;00m\u001b[38;5;124m), invalida. Tente novamente!\u001b[39m\u001b[38;5;124m\"\u001b[39m)\n\u001b[0;32m     22\u001b[0m \u001b[38;5;28;01mreturn\u001b[39;00m resp\n",
      "\u001b[1;31mValueError\u001b[0m: Operação selecionada (%), invalida. Tente novamente!"
     ]
    }
   ],
   "source": [
    "Calculadora(2, 3, \"%\")"
   ]
  },
  {
   "cell_type": "code",
   "execution_count": null,
   "metadata": {},
   "outputs": [],
   "source": [
    "# Pesquisar: PEP 8 ----> Boas práticas de programação em python."
   ]
  },
  {
   "cell_type": "markdown",
   "metadata": {},
   "source": [
    "_________\n",
    "\n",
    "__Funções recursivas__\n",
    "\n",
    "Um aspecto bem legal sobre funções é a **recursividade**\n",
    "\n",
    "Podemos chamar uma função dentro de outra função? Sim!\n",
    "\n",
    "Podemos fazer uma função que calcula a média entre dois números, utilizando a função que calcula a soma entre dois números"
   ]
  },
  {
   "cell_type": "code",
   "execution_count": null,
   "metadata": {},
   "outputs": [],
   "source": []
  },
  {
   "cell_type": "markdown",
   "metadata": {},
   "source": [
    "Podemos também redefinir a função de calculadora em termos de várias sub-funções pra cada operação:"
   ]
  },
  {
   "cell_type": "code",
   "execution_count": null,
   "metadata": {},
   "outputs": [],
   "source": []
  },
  {
   "cell_type": "markdown",
   "metadata": {},
   "source": [
    "Também é possível utilizar a função calculadora para definir uma função que calcula a média entre dois números:"
   ]
  },
  {
   "cell_type": "code",
   "execution_count": null,
   "metadata": {},
   "outputs": [],
   "source": []
  },
  {
   "cell_type": "markdown",
   "metadata": {},
   "source": [
    "Mas podemos ir além: **chamar a mesma função dentro dela mesma!**\n",
    "\n",
    "Por exemplo, pra calcular potências!"
   ]
  },
  {
   "cell_type": "code",
   "execution_count": null,
   "metadata": {},
   "outputs": [],
   "source": []
  },
  {
   "cell_type": "markdown",
   "metadata": {},
   "source": [
    "Podemos entender a recursividade ao analisar o que que a função retorna a cada vez que ela é chamada:\n",
    "\n",
    "- potencia(2, 3)\n",
    "- 2 * potencia(2, 2)\n",
    "- 2 * (2 * potencia(2, 1))\n",
    "- 2 * (2 * (2 * potencia(2, 0)))\n",
    "- 2 * (2 * (2 * 1))\n",
    "\n",
    "Assim, o resultado final é:\n",
    "\n",
    "2 * 2 * 2 * 1 = 8"
   ]
  },
  {
   "cell_type": "markdown",
   "metadata": {},
   "source": [
    "Existem problemas que são naturalmente recursivos, como, por exemplo, fatorial:"
   ]
  },
  {
   "cell_type": "markdown",
   "metadata": {},
   "source": [
    "5! = 5\\*4! = 5\\*4\\*3! = 5\\*4\\*3\\*2! = 5\\*4\\*3\\*2\\*1!"
   ]
  },
  {
   "cell_type": "code",
   "execution_count": null,
   "metadata": {},
   "outputs": [],
   "source": []
  },
  {
   "cell_type": "markdown",
   "metadata": {},
   "source": [
    "Visualizando o return de cada execução da função:\n",
    "\n",
    "- fatorial(4)\n",
    "- 4 * fatorial(3)\n",
    "- 4 * (3 * fatorial(2))\n",
    "- 4 * (3 * (2 * fatorial(1)))\n",
    "- 4 * (3 * (2 * 1))\n",
    "\n",
    "Assim, o resultado final é:\n",
    "\n",
    "4 * 3 * 2 * 1"
   ]
  },
  {
   "cell_type": "markdown",
   "metadata": {},
   "source": [
    "Apesar de **elegantes**, funções recursivas são **pouco eficientes** (pois demandam mais memória), e de leitura mais difícil"
   ]
  },
  {
   "cell_type": "markdown",
   "metadata": {},
   "source": [
    "____\n",
    "____\n",
    "____"
   ]
  },
  {
   "cell_type": "markdown",
   "metadata": {},
   "source": [
    "## 2) Bibliotecas\n",
    "\n",
    "Durante o curso, já tivemos contato com algumas **bibliotecas** (também chamadas de **pacotes** ou **módulos**), como a `datetime` e a `unicodedata`\n",
    "\n",
    "Uma biblioteca nada mais é que **uma coleção de funções prontas**, ou seja, \"incrementos adicionais\" do python puro, que podem ser utilizadas pra fazer tarefas específicas"
   ]
  },
  {
   "cell_type": "markdown",
   "metadata": {},
   "source": [
    "Podemos dar um \"apelido\" para a biblioteca, que em python é chamado de \"alias\". \n",
    "\n",
    "Para isso, usamos a estrutura: \n",
    "\n",
    "```python\n",
    "import nome_da_biblioteca as apelido_da_biblioteca\n",
    "```\n",
    "Assim, quando formos nos referir à biblioteca para utilizar uma de suas funções, usamos o seu apelido, ao invés de seu nome completo\n",
    "\n",
    "Por exemplo, podemo simportar a biblioteca datetime com o apelido \"dt\""
   ]
  },
  {
   "cell_type": "code",
   "execution_count": null,
   "metadata": {},
   "outputs": [],
   "source": []
  },
  {
   "cell_type": "markdown",
   "metadata": {},
   "source": [
    "Para instalarmos uma biblioteca nova, abrimos o **terminal**, e usamos:\n",
    "\n",
    "```pip install nome_da_biblioteca```\n",
    "\n",
    "ou\n",
    "\n",
    "```conda install nome_da_biblioteca```\n",
    "\n",
    "\n",
    "Se quisermos uma versão específica,\n",
    "\n",
    "```pip install nume_da_biblioteca==numero_da_versao```\n",
    "\n",
    "Outra forma de instalar bibliotecas diretamente no Jupyter, é digitar em alguma célula de código exatamente os códigos acima, mas com um \"!\" no início. Por exemplo,\n",
    "\n",
    "```!pip install nome_da_biblioteca```"
   ]
  },
  {
   "cell_type": "markdown",
   "metadata": {},
   "source": [
    "Um ótimo site para referência de bibliotecas em Python: https://pypi.org/"
   ]
  },
  {
   "cell_type": "markdown",
   "metadata": {},
   "source": [
    "Para fazer os exercícios a seguir, é nécessário utilizar a biblioteca [random](https://docs.python.org/3/library/random.html)!"
   ]
  },
  {
   "cell_type": "markdown",
   "metadata": {},
   "source": [
    "7.Faça uma função que sorteia 10 números aleatórios entre 0 e 100 e retorna o maior entre eles. \n",
    "\n",
    "8.Faça uma função que recebe um número n de entrada, sorteia n números aleatórios entre 0 e 100 e retorna a média deles. "
   ]
  },
  {
   "cell_type": "code",
   "execution_count": null,
   "metadata": {},
   "outputs": [],
   "source": []
  },
  {
   "cell_type": "markdown",
   "metadata": {},
   "source": [
    "____\n",
    "____\n",
    "____"
   ]
  },
  {
   "cell_type": "markdown",
   "metadata": {},
   "source": [
    "## 3) Além do Jupyter\n",
    "\n",
    "E se eu quiser executar meu código fora do jupyter?\n",
    "\n",
    "Para isso, salvamos o arquivo como a extensão \".py\"\n",
    "\n",
    "E então executamos o arquivo no terminal, utilizando\n",
    "\n",
    "`python nome_do_programa.py` "
   ]
  },
  {
   "cell_type": "markdown",
   "metadata": {},
   "source": [
    "____\n",
    "____\n",
    "____"
   ]
  },
  {
   "cell_type": "markdown",
   "metadata": {},
   "source": [
    "## 4) Criando programas executáveis (.exe)\n",
    "\n",
    "__Obs.: o texto abaixo é o mesmo que está no Class!__\n",
    "\n",
    "Imagine que você deseja enviar um programa que você fez em Python para um amigo. Para que seu amigo consiga executar seu programa, é necessário que ele também tenha o Python instalado no computador dele -- ele teria que fazer todo aquele processo de instalação do Python que fizemos na primeira aula do curso.\n",
    "\n",
    "Muitas vezes, isso é bastante inconveniente -- não seria bem melhor se seu amigo pudesse executar seu programa feito em Python independentemente dele ter o Python instalado no computador dele?\n",
    "\n",
    "A boa notícia é que isso é possível! Basta nós transformarmos o nosso programa Python (de extensão \".py\") para um programa executável (de extensão \".exe\"), que funciona independente de qualquer instalação do Python!\n",
    "\n",
    "Há diversas formas de fazer isso, mas veremos aqui a forma mais simples, que é utilizando a biblioteca **pyinstaler**! Para acessar a documentação da biblioteca, [clique aqui!](https://www.pyinstaller.org/index.html)\n",
    "\n",
    "\n",
    "De maneira simplificada, o que a biblioteca faz é comprimir o código Python (arquivo .py) juntamente com todas as bibliotecas utilizadas nele, e criar versões locais das bibliotecas e do próprio Python, sem a necessidade que estes sejam instalados. Com isso, é criado um arquivo executável (.exe), que ao ser executado é interpretado localmente, fazendo referência às pastas locais com as bibliotecas -- e assim o programa é executado, independente do Python ou as bibliotecas estarem instaladas no computador! Bem legal, né?\n",
    "\n",
    "Agora que entendemos o funcionamento básico da biblioteca, vamos ver como utiliá-la! Basta seguir o passo-a-passo a seguir:\n",
    "\n",
    "___________________________\n",
    "\n",
    "\n",
    "- 1) Caso você esteja usando o Jupyter Notebook, é necessário salvar o código do notebook que queremos transformar em .exe como um arquivo \".py\":\n",
    "\t- Pra fazer isso, abra o Notebook, e no menu superior vá em em File >> Download as >> Python (.py);\n",
    "\t- Se você usa alguma IDE e já tem o arquivo .py diretamente, pode ir pro passo seguinte!\n",
    "\n",
    "- 2) Crie uma pasta nova e coloque o arquivo .py nesta pasta\n",
    "\t- Dê o nome que desejar à pasta -- é nela que ficará o arquivo .exe final e todas as outras pastas de referência às bibliotecas, como mencionamos acima;\n",
    "\t- Crie a pasta em um local simples (como, por exemplo, dentro da pasta \"Documentos\"), pois teremos que \"navegar\" até essa pasta no passo 4), abaixo.\n",
    "\n",
    "- 3) Caso você ainda não tenha instalado, é necessário instalar o pyinstaller (Isso é feito apenas uma vez!)\n",
    "\t- A instalação é feita como você instalaria qualquer biblioteca:\n",
    "\t\t- Abra o terminal (Linux ou Mac), Prompt de comando ou Anaconda Prompt (Windows), digite ```pip install pyinstaller```, e dê enter;\n",
    "\t\t- Pra quem tem o anaconda, pode usar também o ```conda install pyinstaller```;\n",
    "\t\t- Também é possível instalar diretamente pelo Jupyter, executando em uma célula o código ```!pip install pyinstaller```.\n",
    "\n",
    "\n",
    "- 4) Uma vez instalada a biblioteca, você deve utilizar o terminal/prompt de comando pra navegar até a pasta criada no passo 2):\n",
    "\t- Para fazer isso, utilize o comando ```\"cd\"``` no terminal/prompt para mudar de pastas, até você chegar na pasta desejada.\n",
    "\n",
    "- 5) Quando você estiver na pasta, rode no terminal/prompt o seguinte comando: ```pyinstaller nome_do_programa.py```\n",
    "\t- Vai aparecer um monte de código na tela do prompt, normal. Isso é a biblioteca em ação!\n",
    "\t- Quando o processo terminar, aparecerá uma mensagem de sucesso no prompt. Depois disso, pode fecha-lo.\n",
    "\n",
    "- 6) Agora vá até a pasta do passo 2), e veja que uma pasta chamada \"dist\" foi criada. \n",
    "\t- Pode ser que outras pastas também tenham sido criadas -- essas são as passas com as bibliotecas e outros arquivos importantes pro seu arquivo .exe funcionar, que mencionamos antes.\n",
    "\n",
    "- 7) Dentro desta pasta \"dist\" você vai encontrar o arquivo .exe! Pronto!\n",
    "\n",
    "\n",
    "___________________________\n",
    "\n",
    "Pronto! Seguindo o passo-a-passo acima, você conseguiu criar um arquivo executável capaz de rodar em qualquer computador, independente da instalção do Python!\n",
    "\n",
    "> Obs.: uma vez instalada a biblioteca, o passo 3) não precisará mais ser repetido! Lembre-se que só é necessário instalar as bibliotecas uma vez!\n",
    "\n",
    "Um ponto importante é que todos os arquivos nas pastas criadas além da \"dist\" são necessários pro seu arquivo .exe ser executado corretamente! Então, pra você enviar o programa pro seu amigo, é necessário enviar também todas essas pastas.\n",
    "\n",
    "> A dica é: comprima a pasta criada no passo 2) (ou seja, crie um arquivo .zip ou .rar), e envie este arquivo comprimido! Assim, você garante que todos os arquivos necessários serão também enviados!\n",
    "\n",
    "Feito isso, o que importa é que seu arquivo .exe foi criado! Você pode criar um atalho pra ele e colocá-lo em qualquer outra pasta, ou seja, não é necessário entrar na pasta do passo 2) sempre que você for querer exectuar o programa!\n",
    "\n",
    "Vamos a um exemplo?\n",
    "\n",
    "\n",
    "Considere o programa a seguir:\n",
    "\n",
    "```python\n",
    "import datetime as dt\n",
    "\n",
    "nome = input(\"\\nQual é o seu nome? \")\n",
    "\n",
    "print(\"\\nBom dia,\" + nome + \"!\")\n",
    "\n",
    "print(\"\\nEu sou um programa pra te falar qual é a data e hora atuais!\")\n",
    "\n",
    "print(\"\\nO dia de hoje é:\", dt.datetime.strftime(dt.datetime.now(), \"%d/%m/%Y\"))\n",
    "\n",
    "print(\"\\nE a hora atual é:\", dt.datetime.strftime(dt.datetime.now(), \"%H:%M:%S\"))\n",
    "\n",
    "resposta = input(\"\\nVocê deseja fechar o programa? (s/n) \")\n",
    "\n",
    "while resposta.lower() != \"s\":\n",
    "\n",
    "\tresposta = input(\"\\nVocê deseja fechar o programa? (s/n) \")\n",
    "\n",
    "```\n",
    "\n",
    "É um programa bem simples, que pede o nome do usuário, depois exibe o dia e hora atuais (para isso, utiliza a biblioteca datatime). Por fim, pede a confirmação do usuário para fechar o programa.\n",
    "\n",
    "Copie o código acima em um arquivo .py e siga o passo-a-passo acima a partir do passo 2), ou copie o código em um Notebook, e siga a partir do passo 1). Após o passo 7), você terá criado um arquivo .exe do programa acima! Dando dois cliques no arquivo exectuável, você verá o programa acima ser executado no terminal/prompt de comando! E caso você faça uma interface gráfica, é a interface que será aberta ao executar o arquivo .exe!\n",
    "\n",
    "Agora você consegue enviar seus programas a quem quiser! Muito bem!"
   ]
  }
 ],
 "metadata": {
  "kernelspec": {
   "display_name": "Python 3 (ipykernel)",
   "language": "python",
   "name": "python3"
  },
  "language_info": {
   "codemirror_mode": {
    "name": "ipython",
    "version": 3
   },
   "file_extension": ".py",
   "mimetype": "text/x-python",
   "name": "python",
   "nbconvert_exporter": "python",
   "pygments_lexer": "ipython3",
   "version": "3.11.5"
  },
  "varInspector": {
   "cols": {
    "lenName": 16,
    "lenType": 16,
    "lenVar": 40
   },
   "kernels_config": {
    "python": {
     "delete_cmd_postfix": "",
     "delete_cmd_prefix": "del ",
     "library": "var_list.py",
     "varRefreshCmd": "print(var_dic_list())"
    },
    "r": {
     "delete_cmd_postfix": ") ",
     "delete_cmd_prefix": "rm(",
     "library": "var_list.r",
     "varRefreshCmd": "cat(var_dic_list()) "
    }
   },
   "types_to_exclude": [
    "module",
    "function",
    "builtin_function_or_method",
    "instance",
    "_Feature"
   ],
   "window_display": false
  }
 },
 "nbformat": 4,
 "nbformat_minor": 2
}
