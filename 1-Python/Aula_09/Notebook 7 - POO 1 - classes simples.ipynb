{
 "cells": [
  {
   "cell_type": "markdown",
   "metadata": {
    "id": "LioFZQoxxp6J"
   },
   "source": [
    "# Aula 7 - programação orientada a objetos 1\n",
    "\n",
    "Na aula de hoje, vamos explorar os seguintes tópicos em Python:\n",
    "\n",
    "\n",
    "- 1) Programação Orientada a Objetos;\n",
    "- 2) Classes, Atributos, Objetos e Métodos;\n",
    "\n",
    "_____________\n",
    "\n",
    "### Problema gerador: como representar uma pessoa em um jogo eletrônico?\n",
    "\n",
    "Precisamos de uma estrutura pra armazenar todas as informações e ações de um personagem de um jogo. Como fazer isso?"
   ]
  },
  {
   "cell_type": "markdown",
   "metadata": {
    "id": "Op4I4b0Nxp6Q"
   },
   "source": [
    "____\n",
    "____\n",
    "____"
   ]
  },
  {
   "cell_type": "markdown",
   "metadata": {
    "id": "QBeiaIjwxp6R"
   },
   "source": [
    "## 1) Programação Orientada a Objetos\n",
    "\n",
    "O Python, como outras linguagens, é classificada como uma **linguagem de programação orientada a objetos (POO)** (outros exemplos: Java, C++, etc). \n",
    "\n",
    "Esta classificação é uma dos chamados \"paradigmas de programação\". Isso porque uma linguagem de POO é fundamentalmente diferente de linguagens de outros paradigmas.\n",
    "\n",
    "O grande objetivo da POO é a **reutilização de código**.\n",
    "\n",
    "Os programas devem ser **modularizados**, de modo que diferentes pessoas possam implementar módulos diferentes e juntá-los ao final, e reaporveitar modulos diferentes.\n",
    "\n",
    "Dentro de POO, tudo isso é feito de acordo com as seguintes **entidades**:\n",
    "\n",
    "- Classes\n",
    "\n",
    "> As classes são os \"moldes\" dos objetos, as entidades abstratas. Elas contêm as informações e os comportamentos que os objetos terão. Todos os objetos pertencentes a uma mesma classe terão características em comum. **Ex: Pessoa**\n",
    "\n",
    "- Objetos\n",
    "\n",
    "> Os objetos são as instâncias concretas das classes, que são abstratas. Os objetos contêm as características comuns à classe, mas cada um tem suas particularidades. **Ex: você!**\n",
    "\n",
    "\n",
    "- Atributos\n",
    "\n",
    "> Cada objeto particular de uma mesma classe tem valores diferentes para as variáveis internas da classe. Essas \"variáveis do objeto\" chamamos de atributos. **Ex: a cor do seu cabelo**\n",
    "\n",
    "- Métodos\n",
    "\n",
    "> Métodos são funções dentro da classe, que não podem ser executadas arbitrariamente, mas deverão ser chamadas necessariamente pelos objetos. Os métodos podem utilizar os atributos e até mesmo alterá-los. **Ex: você pintar seu cabelo para mudar a cor** \n",
    "\n",
    "\n",
    "Em POO, há **4 princípios de boas práticas** para a criação das entidades:\n",
    "\n",
    "- **Encapsulamento**: cada classe deve conter todas as informações necessárias para seu funcionamento bem como todos os métodos necessários para alterar essas informações.\n",
    "\n",
    "- **Abstração**: as classes devem apresentar interfaces simples para o uso por outros desenvolvedores e para a interação com outras classes. Todos os detalhes complicados de seu funcionamento devem estar \"escondidos\" dentro de métodos simples de usar, com parâmetros e retornos bem definidos. \n",
    "\n",
    "- **Herança**: se várias classes terão atributos e métodos em comum, não devemos ter que redigitá-los várias vezes. Ao invés disso, criamos uma classe com esses atributos e métodos comuns e as outras classes irão herdá-los.\n",
    "        \n",
    "- **Polimorfismo**: objetos de diferentes classes herdeiras de uma mesma classe mãe podem ser tratados genericamente como objetos pertencentes à classe mãe.\n",
    "\n",
    "Vamos agora a exemplos específicos para ilustrar e concretizar todos os conceitos discutidos acima!"
   ]
  },
  {
   "cell_type": "markdown",
   "metadata": {
    "id": "mh9Xwv48xp6T"
   },
   "source": [
    "_____\n",
    "_____\n",
    "_____"
   ]
  },
  {
   "cell_type": "markdown",
   "metadata": {
    "id": "ydXVGXoNxp6T"
   },
   "source": [
    "## 2) Classes, Atributos, Objetos e Métodos\n",
    "\n",
    "\n",
    "### Criando uma classe\n",
    "\n",
    "A criação de classes é feita segundo a seguinte estrutura:\n",
    "\n",
    "```python\n",
    "class NomeDaClasse:\n",
    "    \n",
    "    # método construtor\n",
    "    def __init__(self, atributos)\n",
    "        \n",
    "        # definição dos atributos\n",
    "        self.atributos = atributos\n",
    "        \n",
    "    # definição de outros métodos\n",
    "    def metodo(self, parametros):\n",
    "        operacoes\n",
    "```\n",
    "\n",
    "O **método construtor** é onde inicializamos alguns atributos que os objetos da classe terão!\n",
    "\n",
    "Os argumentos deste método são **obrigatórios** para a definição do objeto!\n",
    "\n",
    "- Esse método é opcional, mas é uma boa prática sempre defini-lo!\n",
    "- Sempre que um objeto é criado, este método é chamado, automaticamente"
   ]
  },
  {
   "cell_type": "markdown",
   "metadata": {
    "id": "ueuFVetpxp6U"
   },
   "source": [
    "O **\"self\"** sempre será o primeiro parâmetro dos métodos de uma classe, e ele é necessário para **fazer referência à classe**\n",
    "\n",
    "Assim, em geral, sempre usaremos dentro dos métodos alguma operação que **faça uso dos atributos da classe**, que é referenciada através do `self`."
   ]
  },
  {
   "cell_type": "code",
   "execution_count": 1,
   "metadata": {
    "executionInfo": {
     "elapsed": 14,
     "status": "ok",
     "timestamp": 1675372248328,
     "user": {
      "displayName": "Andre Juan",
      "userId": "08529802346316693602"
     },
     "user_tz": 180
    },
    "id": "I9zCg6-2xp6V"
   },
   "outputs": [],
   "source": [
    "class Pessoa:\n",
    "\n",
    "  def __init__(self, name, age, res):\n",
    "\n",
    "    # iniializar os atributos da classe\n",
    "    self.nome = name\n",
    "    self.idade = age\n",
    "    self.residencia = res"
   ]
  },
  {
   "cell_type": "markdown",
   "metadata": {
    "id": "dCuV9ogLxp6X"
   },
   "source": [
    "### Criação de objeto: instanciando uma classe\n",
    "\n",
    "Para criarmos um objeto (instância concreta da classe abstrata), nós fazemos o processo de **instanciação**, que nada mais é do que **chamar a classe**, com os argumentos definidos no método construtor"
   ]
  },
  {
   "cell_type": "code",
   "execution_count": 2,
   "metadata": {
    "executionInfo": {
     "elapsed": 7,
     "status": "ok",
     "timestamp": 1675372489841,
     "user": {
      "displayName": "Andre Juan",
      "userId": "08529802346316693602"
     },
     "user_tz": 180
    },
    "id": "pif3NwmBxp6X"
   },
   "outputs": [],
   "source": [
    "joao = Pessoa(\"João\", 20, \"SP\")"
   ]
  },
  {
   "cell_type": "markdown",
   "metadata": {
    "id": "sj18UcFhxp6Y"
   },
   "source": [
    "Se chamarmos a variável com o objeto, aparece apenas o endereço respectivo ao objeto:"
   ]
  },
  {
   "cell_type": "code",
   "execution_count": 3,
   "metadata": {
    "colab": {
     "base_uri": "https://localhost:8080/"
    },
    "executionInfo": {
     "elapsed": 12,
     "status": "ok",
     "timestamp": 1675372604370,
     "user": {
      "displayName": "Andre Juan",
      "userId": "08529802346316693602"
     },
     "user_tz": 180
    },
    "id": "iSCJAGPL_SLC",
    "outputId": "a4b767a6-e9fd-40e6-f2ca-fe192e3c73c7"
   },
   "outputs": [
    {
     "data": {
      "text/plain": [
       "<__main__.Pessoa at 0x2531f0b1810>"
      ]
     },
     "execution_count": 3,
     "metadata": {},
     "output_type": "execute_result"
    }
   ],
   "source": [
    "joao"
   ]
  },
  {
   "cell_type": "markdown",
   "metadata": {
    "id": "1EATYFtWxp6Z"
   },
   "source": [
    "Mas podemos acessar cada um dos atributos deste objeto, que são aqueles definidos na classe. \n",
    "\n",
    "Para isso, seguimos a sintaxe\n",
    "\n",
    "```python\n",
    "nome_do_objeto.nome_do_atributo\n",
    "```"
   ]
  },
  {
   "cell_type": "code",
   "execution_count": 9,
   "metadata": {
    "colab": {
     "base_uri": "https://localhost:8080/",
     "height": 36
    },
    "executionInfo": {
     "elapsed": 261,
     "status": "ok",
     "timestamp": 1675372496999,
     "user": {
      "displayName": "Andre Juan",
      "userId": "08529802346316693602"
     },
     "user_tz": 180
    },
    "id": "js4LU46xxp6Y",
    "outputId": "f6f5cca1-db33-4cc5-e76c-26e45d014506"
   },
   "outputs": [
    {
     "data": {
      "application/vnd.google.colaboratory.intrinsic+json": {
       "type": "string"
      },
      "text/plain": [
       "'João'"
      ]
     },
     "execution_count": 9,
     "metadata": {},
     "output_type": "execute_result"
    }
   ],
   "source": [
    "joao.nome"
   ]
  },
  {
   "cell_type": "code",
   "execution_count": 10,
   "metadata": {
    "colab": {
     "base_uri": "https://localhost:8080/"
    },
    "executionInfo": {
     "elapsed": 5,
     "status": "ok",
     "timestamp": 1675372507538,
     "user": {
      "displayName": "Andre Juan",
      "userId": "08529802346316693602"
     },
     "user_tz": 180
    },
    "id": "XpPCPaQm-5MO",
    "outputId": "9f4058ed-dccd-4564-adac-93e11e40e76f"
   },
   "outputs": [
    {
     "data": {
      "text/plain": [
       "20"
      ]
     },
     "execution_count": 10,
     "metadata": {},
     "output_type": "execute_result"
    }
   ],
   "source": [
    "joao.idade"
   ]
  },
  {
   "cell_type": "code",
   "execution_count": 11,
   "metadata": {
    "colab": {
     "base_uri": "https://localhost:8080/",
     "height": 36
    },
    "executionInfo": {
     "elapsed": 259,
     "status": "ok",
     "timestamp": 1675372534108,
     "user": {
      "displayName": "Andre Juan",
      "userId": "08529802346316693602"
     },
     "user_tz": 180
    },
    "id": "G7PmdaDr-8HX",
    "outputId": "de429cc1-a59f-4698-8f37-c8d050f45b0e"
   },
   "outputs": [
    {
     "data": {
      "application/vnd.google.colaboratory.intrinsic+json": {
       "type": "string"
      },
      "text/plain": [
       "'SP'"
      ]
     },
     "execution_count": 11,
     "metadata": {},
     "output_type": "execute_result"
    }
   ],
   "source": [
    "joao.residencia"
   ]
  },
  {
   "cell_type": "markdown",
   "metadata": {
    "id": "fGwwJxL_xp6a"
   },
   "source": [
    "Os atributos são mutáveis! Para mudá-los, basta redefinir novos valores:"
   ]
  },
  {
   "cell_type": "code",
   "execution_count": 13,
   "metadata": {
    "executionInfo": {
     "elapsed": 260,
     "status": "ok",
     "timestamp": 1675372641679,
     "user": {
      "displayName": "Andre Juan",
      "userId": "08529802346316693602"
     },
     "user_tz": 180
    },
    "id": "liU-YRtqxp6a"
   },
   "outputs": [],
   "source": [
    "joao.idade += 1"
   ]
  },
  {
   "cell_type": "code",
   "execution_count": 14,
   "metadata": {
    "colab": {
     "base_uri": "https://localhost:8080/"
    },
    "executionInfo": {
     "elapsed": 14,
     "status": "ok",
     "timestamp": 1675372649851,
     "user": {
      "displayName": "Andre Juan",
      "userId": "08529802346316693602"
     },
     "user_tz": 180
    },
    "id": "Tq467Qxf_cL3",
    "outputId": "01556ea6-9805-4e64-9c01-1c67bcc80546"
   },
   "outputs": [
    {
     "data": {
      "text/plain": [
       "21"
      ]
     },
     "execution_count": 14,
     "metadata": {},
     "output_type": "execute_result"
    }
   ],
   "source": [
    "joao.idade"
   ]
  },
  {
   "cell_type": "code",
   "execution_count": 16,
   "metadata": {
    "executionInfo": {
     "elapsed": 3,
     "status": "ok",
     "timestamp": 1675372664747,
     "user": {
      "displayName": "Andre Juan",
      "userId": "08529802346316693602"
     },
     "user_tz": 180
    },
    "id": "JLQnfMqY_enm"
   },
   "outputs": [],
   "source": [
    "joao.residencia = \"Londres\""
   ]
  },
  {
   "cell_type": "code",
   "execution_count": 17,
   "metadata": {
    "colab": {
     "base_uri": "https://localhost:8080/",
     "height": 36
    },
    "executionInfo": {
     "elapsed": 257,
     "status": "ok",
     "timestamp": 1675372670856,
     "user": {
      "displayName": "Andre Juan",
      "userId": "08529802346316693602"
     },
     "user_tz": 180
    },
    "id": "tBrWEEdL_hz1",
    "outputId": "7d42167d-24c0-4743-a38e-bc870b2654d6"
   },
   "outputs": [
    {
     "data": {
      "application/vnd.google.colaboratory.intrinsic+json": {
       "type": "string"
      },
      "text/plain": [
       "'Londres'"
      ]
     },
     "execution_count": 17,
     "metadata": {},
     "output_type": "execute_result"
    }
   ],
   "source": [
    "joao.residencia"
   ]
  },
  {
   "cell_type": "code",
   "execution_count": 18,
   "metadata": {
    "colab": {
     "base_uri": "https://localhost:8080/"
    },
    "executionInfo": {
     "elapsed": 4,
     "status": "ok",
     "timestamp": 1675372721115,
     "user": {
      "displayName": "Andre Juan",
      "userId": "08529802346316693602"
     },
     "user_tz": 180
    },
    "id": "EbLR5NPm_opN",
    "outputId": "5d9ec0e9-0e08-44b5-b0da-25e2f17911f0"
   },
   "outputs": [
    {
     "data": {
      "text/plain": [
       "{'nome': 'João', 'idade': 21, 'residencia': 'Londres'}"
      ]
     },
     "execution_count": 18,
     "metadata": {},
     "output_type": "execute_result"
    }
   ],
   "source": [
    "# a metodo vars, me retorna os dados do objeto joão em forma de dicionario.\n",
    "vars(joao)"
   ]
  },
  {
   "cell_type": "markdown",
   "metadata": {
    "id": "jh1shVXVxp6a"
   },
   "source": [
    "Podemos, também, adicionar novos atributos que não sejam **obrigatoriamente definidos na instanciação da classe**. Para isso, os inicializamos na classe como vazios:"
   ]
  },
  {
   "cell_type": "code",
   "execution_count": 4,
   "metadata": {
    "executionInfo": {
     "elapsed": 254,
     "status": "ok",
     "timestamp": 1675372989841,
     "user": {
      "displayName": "Andre Juan",
      "userId": "08529802346316693602"
     },
     "user_tz": 180
    },
    "id": "ayYyL0vAxp6a"
   },
   "outputs": [],
   "source": [
    "class Pessoa:\n",
    "\n",
    "  def __init__(self, name, age, res):\n",
    "\n",
    "    # inicializar os atributos da classe, que terão valores definidos na instanciação\n",
    "    # como argumentos do método construtor\n",
    "    self.nome = name\n",
    "    self.idade = age\n",
    "    self.residencia = res\n",
    "    \n",
    "    # inicializar alguns atributos cujos valores são fixados\n",
    "    self.num_filhos = 0\n",
    "    self.profissao = None"
   ]
  },
  {
   "cell_type": "code",
   "execution_count": 5,
   "metadata": {
    "executionInfo": {
     "elapsed": 4,
     "status": "ok",
     "timestamp": 1675373024956,
     "user": {
      "displayName": "Andre Juan",
      "userId": "08529802346316693602"
     },
     "user_tz": 180
    },
    "id": "1ET8OmBSAwUN"
   },
   "outputs": [],
   "source": [
    "maria = Pessoa(name=\"Maria\", age=18, res=\"Paris\")"
   ]
  },
  {
   "cell_type": "code",
   "execution_count": 6,
   "metadata": {
    "colab": {
     "base_uri": "https://localhost:8080/"
    },
    "executionInfo": {
     "elapsed": 10,
     "status": "ok",
     "timestamp": 1675373032169,
     "user": {
      "displayName": "Andre Juan",
      "userId": "08529802346316693602"
     },
     "user_tz": 180
    },
    "id": "brVFKYXSA30k",
    "outputId": "620a6286-d450-43e2-a500-0c549c935622"
   },
   "outputs": [
    {
     "data": {
      "text/plain": [
       "{'nome': 'Maria',\n",
       " 'idade': 18,\n",
       " 'residencia': 'Paris',\n",
       " 'num_filhos': 0,\n",
       " 'profissao': None}"
      ]
     },
     "execution_count": 6,
     "metadata": {},
     "output_type": "execute_result"
    }
   ],
   "source": [
    "vars(maria)"
   ]
  },
  {
   "cell_type": "code",
   "execution_count": 7,
   "metadata": {
    "colab": {
     "base_uri": "https://localhost:8080/"
    },
    "executionInfo": {
     "elapsed": 9,
     "status": "ok",
     "timestamp": 1675373096910,
     "user": {
      "displayName": "Andre Juan",
      "userId": "08529802346316693602"
     },
     "user_tz": 180
    },
    "id": "UPJzs9HzA-di",
    "outputId": "1059c249-6452-4ce3-abfb-5f41ec2f9f92"
   },
   "outputs": [
    {
     "data": {
      "text/plain": [
       "0"
      ]
     },
     "execution_count": 7,
     "metadata": {},
     "output_type": "execute_result"
    }
   ],
   "source": [
    "maria.num_filhos"
   ]
  },
  {
   "cell_type": "markdown",
   "metadata": {
    "id": "8dPWd2aXxp6b"
   },
   "source": [
    "### Métodos da classe: definindo e chamando\n",
    "\n",
    "Os métodos são **funções específicas de uma classe**, que só podem ser usadas após a criação de um objeto instância da classe.\n",
    "\n",
    "Assim, definimos os métodos dentro da classe, fazendo sempre referência à classe e seus atributos através do parâmetro self:"
   ]
  },
  {
   "cell_type": "code",
   "execution_count": 8,
   "metadata": {
    "executionInfo": {
     "elapsed": 398,
     "status": "ok",
     "timestamp": 1675373593251,
     "user": {
      "displayName": "Andre Juan",
      "userId": "08529802346316693602"
     },
     "user_tz": 180
    },
    "id": "aE99EGkwxp6b"
   },
   "outputs": [],
   "source": [
    "class Pessoa:\n",
    "\n",
    "  def __init__(self, name, age, res):\n",
    "\n",
    "    # inicializar os atributos da classe, que terão valores definidos na instanciação\n",
    "    # como argumentos do método construtor\n",
    "    self.nome = name\n",
    "    self.idade = age\n",
    "    self.residencia = res\n",
    "    \n",
    "    # inicializar alguns atributos cujos valores são fixados\n",
    "    self.num_filhos = 0\n",
    "    self.profissao = None\n",
    "\n",
    "  # definindo outros métodos da classe\n",
    "  def fala(self, mensagem):\n",
    "    \n",
    "    print(f\"{self.nome} diz: '{mensagem}'\")"
   ]
  },
  {
   "cell_type": "markdown",
   "metadata": {
    "id": "kyLVnwvLxp6b"
   },
   "source": [
    "Chamando o método, após instanciar a classe.\n",
    "\n",
    "Note, que o primeiro argumento do método, o \"self\", **é ignorado**! Ele é apenas usado para referenciair os atributos da classe!"
   ]
  },
  {
   "cell_type": "code",
   "execution_count": 9,
   "metadata": {
    "executionInfo": {
     "elapsed": 3,
     "status": "ok",
     "timestamp": 1675373596562,
     "user": {
      "displayName": "Andre Juan",
      "userId": "08529802346316693602"
     },
     "user_tz": 180
    },
    "id": "f-EqOjdaxp6c"
   },
   "outputs": [],
   "source": [
    "maria = Pessoa(name=\"Maria\", age=18, res=\"Paris\")"
   ]
  },
  {
   "cell_type": "code",
   "execution_count": 10,
   "metadata": {
    "colab": {
     "base_uri": "https://localhost:8080/",
     "height": 36
    },
    "executionInfo": {
     "elapsed": 263,
     "status": "ok",
     "timestamp": 1675373598309,
     "user": {
      "displayName": "Andre Juan",
      "userId": "08529802346316693602"
     },
     "user_tz": 180
    },
    "id": "elsCzyFZBwJJ",
    "outputId": "32144209-1515-45be-aece-e5ebd738398e"
   },
   "outputs": [
    {
     "data": {
      "text/plain": [
       "'Maria'"
      ]
     },
     "execution_count": 10,
     "metadata": {},
     "output_type": "execute_result"
    }
   ],
   "source": [
    "maria.nome"
   ]
  },
  {
   "cell_type": "code",
   "execution_count": 11,
   "metadata": {
    "colab": {
     "base_uri": "https://localhost:8080/"
    },
    "executionInfo": {
     "elapsed": 265,
     "status": "ok",
     "timestamp": 1675373613764,
     "user": {
      "displayName": "Andre Juan",
      "userId": "08529802346316693602"
     },
     "user_tz": 180
    },
    "id": "siYk68HNBlLm",
    "outputId": "1f57f6cb-85c0-44f8-ee0d-a51c1949806f"
   },
   "outputs": [
    {
     "name": "stdout",
     "output_type": "stream",
     "text": [
      "Maria diz: 'Olá, tudo bem?'\n"
     ]
    }
   ],
   "source": [
    "maria.fala(\"Olá, tudo bem?\")"
   ]
  },
  {
   "cell_type": "code",
   "execution_count": 43,
   "metadata": {
    "colab": {
     "base_uri": "https://localhost:8080/"
    },
    "executionInfo": {
     "elapsed": 320,
     "status": "ok",
     "timestamp": 1675373633994,
     "user": {
      "displayName": "Andre Juan",
      "userId": "08529802346316693602"
     },
     "user_tz": 180
    },
    "id": "NDgLWEVrCZuS",
    "outputId": "6b90b098-107c-4cf6-b3d1-3a54b2a0554c"
   },
   "outputs": [
    {
     "name": "stdout",
     "output_type": "stream",
     "text": [
      "Maria diz: 'Meu nome é Maria, como é seu nome?'\n"
     ]
    }
   ],
   "source": [
    "maria.fala(\"Meu nome é Maria, como é seu nome?\")"
   ]
  },
  {
   "cell_type": "markdown",
   "metadata": {
    "id": "coJI2eHnxp6c"
   },
   "source": [
    "Vamos criar um método que \n",
    "altera diretamente um atributo:"
   ]
  },
  {
   "cell_type": "code",
   "execution_count": 12,
   "metadata": {
    "executionInfo": {
     "elapsed": 288,
     "status": "ok",
     "timestamp": 1675377071228,
     "user": {
      "displayName": "Andre Juan",
      "userId": "08529802346316693602"
     },
     "user_tz": 180
    },
    "id": "c7N2OoMUxp6c"
   },
   "outputs": [],
   "source": [
    "class Pessoa:\n",
    "\n",
    "  def __init__(self, name, age, res):\n",
    "\n",
    "    # inicializar os atributos da classe, que terão valores definidos na instanciação\n",
    "    # como argumentos do método construtor\n",
    "    self.nome = name\n",
    "    self.idade = age\n",
    "    self.residencia = res\n",
    "    \n",
    "    # inicializar alguns atributos cujos valores são fixados\n",
    "    self.num_filhos = 0\n",
    "    self.profissao = None\n",
    "    self.salario = 0\n",
    "\n",
    "  # definindo outros métodos da classe\n",
    "  def fala(self, mensagem):\n",
    "    print(f\"{self.nome} diz: '{mensagem}'\")\n",
    "\n",
    "  def consegue_emprego(self, prof, valor_salario):\n",
    "    self.profissao = prof\n",
    "    self.salario = valor_salario\n",
    "\n",
    "  def aumenta_salario(self, porcentagem):\n",
    "    '''\n",
    "    porcentagem: float entre 0 e 1, indicando o percentual de aumento de salario\n",
    "    '''\n",
    "    self.salario = self.salario*(1 + porcentagem)"
   ]
  },
  {
   "cell_type": "code",
   "execution_count": 14,
   "metadata": {},
   "outputs": [
    {
     "data": {
      "text/plain": [
       "{'nome': 'Maria',\n",
       " 'idade': 18,\n",
       " 'residencia': 'Paris',\n",
       " 'num_filhos': 0,\n",
       " 'profissao': 'cientista de dados',\n",
       " 'salario': 8400.0}"
      ]
     },
     "execution_count": 14,
     "metadata": {},
     "output_type": "execute_result"
    }
   ],
   "source": [
    "vars(maria)"
   ]
  },
  {
   "cell_type": "code",
   "execution_count": 13,
   "metadata": {
    "colab": {
     "base_uri": "https://localhost:8080/"
    },
    "executionInfo": {
     "elapsed": 238,
     "status": "ok",
     "timestamp": 1675377138319,
     "user": {
      "displayName": "Andre Juan",
      "userId": "08529802346316693602"
     },
     "user_tz": 180
    },
    "id": "hCSg607vEDYL",
    "outputId": "9b697ad8-c5da-4375-bd89-2d056189ddea"
   },
   "outputs": [
    {
     "name": "stdout",
     "output_type": "stream",
     "text": [
      "None 0\n",
      "cientista de dados 7000\n",
      "cientista de dados 8400.0\n"
     ]
    }
   ],
   "source": [
    "maria = Pessoa(name=\"Maria\", age=18, res=\"Paris\")\n",
    "\n",
    "print(maria.profissao, maria.salario)\n",
    "\n",
    "maria.consegue_emprego(\"cientista de dados\", 7000)\n",
    "\n",
    "print(maria.profissao, maria.salario)\n",
    "\n",
    "maria.aumenta_salario(0.2)\n",
    "\n",
    "print(maria.profissao, maria.salario)"
   ]
  },
  {
   "cell_type": "markdown",
   "metadata": {
    "id": "YIEPsHqIxp6c"
   },
   "source": [
    "A este ponto, conseguimos reconhecer que já fizemos muito o uso de métodos e objetos sem termos nos dado conta de sua existência!\n",
    "\n",
    "Por exemplo, para strings, usamos métodos como `.upper()`, `.lower()`, `.replace()`, etc.\n",
    "\n",
    "Para séries do pandas, usamos `.mean()`, `.value_counts()`, etc.\n",
    "\n",
    "Isso mostra que `str`, `list` e `pd.Series` são estruturas de classe! E, realmente, eles são! Nos bastidores do Python, muita coisa é feita com classes, sem que ao menos percebamos! E esse é uma das grandes vantagens desses métodos!"
   ]
  },
  {
   "cell_type": "code",
   "execution_count": 65,
   "metadata": {
    "executionInfo": {
     "elapsed": 292,
     "status": "ok",
     "timestamp": 1675377288802,
     "user": {
      "displayName": "Andre Juan",
      "userId": "08529802346316693602"
     },
     "user_tz": 180
    },
    "id": "AZLEwEKSxp6d"
   },
   "outputs": [],
   "source": [
    "numero = 4"
   ]
  },
  {
   "cell_type": "code",
   "execution_count": 66,
   "metadata": {
    "executionInfo": {
     "elapsed": 281,
     "status": "ok",
     "timestamp": 1675377305012,
     "user": {
      "displayName": "Andre Juan",
      "userId": "08529802346316693602"
     },
     "user_tz": 180
    },
    "id": "rDkag_FmRKK3"
   },
   "outputs": [],
   "source": [
    "nome = \"ada\""
   ]
  },
  {
   "cell_type": "code",
   "execution_count": 68,
   "metadata": {
    "executionInfo": {
     "elapsed": 3,
     "status": "ok",
     "timestamp": 1675377326256,
     "user": {
      "displayName": "Andre Juan",
      "userId": "08529802346316693602"
     },
     "user_tz": 180
    },
    "id": "vz3c-4T4ROIY"
   },
   "outputs": [],
   "source": [
    "notas = [10, 9, 8, 5, 5, 7, 9.8]"
   ]
  },
  {
   "cell_type": "code",
   "execution_count": 73,
   "metadata": {
    "colab": {
     "base_uri": "https://localhost:8080/",
     "height": 36
    },
    "executionInfo": {
     "elapsed": 4,
     "status": "ok",
     "timestamp": 1675377493990,
     "user": {
      "displayName": "Andre Juan",
      "userId": "08529802346316693602"
     },
     "user_tz": 180
    },
    "id": "dRCV5FTMRR9O",
    "outputId": "8ae74d95-04b1-4b43-8063-5c4ad4be3c9f"
   },
   "outputs": [
    {
     "data": {
      "application/vnd.google.colaboratory.intrinsic+json": {
       "type": "string"
      },
      "text/plain": [
       "'ADA'"
      ]
     },
     "execution_count": 73,
     "metadata": {},
     "output_type": "execute_result"
    }
   ],
   "source": [
    "nome.upper()"
   ]
  },
  {
   "cell_type": "code",
   "execution_count": 74,
   "metadata": {
    "executionInfo": {
     "elapsed": 2,
     "status": "ok",
     "timestamp": 1675377511730,
     "user": {
      "displayName": "Andre Juan",
      "userId": "08529802346316693602"
     },
     "user_tz": 180
    },
    "id": "pZEOmRIdRXoi"
   },
   "outputs": [],
   "source": [
    "notas.append(10)"
   ]
  },
  {
   "cell_type": "code",
   "execution_count": 75,
   "metadata": {
    "colab": {
     "base_uri": "https://localhost:8080/"
    },
    "executionInfo": {
     "elapsed": 10,
     "status": "ok",
     "timestamp": 1675377671907,
     "user": {
      "displayName": "Andre Juan",
      "userId": "08529802346316693602"
     },
     "user_tz": 180
    },
    "id": "w4cHAW23SAsg",
    "outputId": "4b9caf42-9484-4af0-ba56-ba82d5c93c0a"
   },
   "outputs": [
    {
     "data": {
      "text/plain": [
       "3"
      ]
     },
     "execution_count": 75,
     "metadata": {},
     "output_type": "execute_result"
    }
   ],
   "source": [
    "1 + 2"
   ]
  },
  {
   "cell_type": "code",
   "execution_count": 76,
   "metadata": {
    "colab": {
     "base_uri": "https://localhost:8080/",
     "height": 36
    },
    "executionInfo": {
     "elapsed": 291,
     "status": "ok",
     "timestamp": 1675377681534,
     "user": {
      "displayName": "Andre Juan",
      "userId": "08529802346316693602"
     },
     "user_tz": 180
    },
    "id": "hljoio4VSnyQ",
    "outputId": "644ec896-59dc-4a4d-da57-7851e4280791"
   },
   "outputs": [
    {
     "data": {
      "application/vnd.google.colaboratory.intrinsic+json": {
       "type": "string"
      },
      "text/plain": [
       "'ab'"
      ]
     },
     "execution_count": 76,
     "metadata": {},
     "output_type": "execute_result"
    }
   ],
   "source": [
    "\"a\" + \"b\""
   ]
  }
 ],
 "metadata": {
  "colab": {
   "provenance": []
  },
  "kernelspec": {
   "display_name": "Python 3 (ipykernel)",
   "language": "python",
   "name": "python3"
  },
  "language_info": {
   "codemirror_mode": {
    "name": "ipython",
    "version": 3
   },
   "file_extension": ".py",
   "mimetype": "text/x-python",
   "name": "python",
   "nbconvert_exporter": "python",
   "pygments_lexer": "ipython3",
   "version": "3.11.5"
  }
 },
 "nbformat": 4,
 "nbformat_minor": 1
}
