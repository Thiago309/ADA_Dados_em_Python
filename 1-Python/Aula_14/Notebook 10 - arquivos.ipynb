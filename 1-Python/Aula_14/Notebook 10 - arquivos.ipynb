{
 "cells": [
  {
   "cell_type": "markdown",
   "metadata": {},
   "source": [
    "# Aula 10 - Arquivos em Python\n",
    "\n",
    "Na aula de hoje, vamos explorar os seguintes tópicos em Python:\n",
    "\n",
    "- 1) Arquivos em Python\n",
    "- 2) Arquivos csv\n",
    "\n",
    "_____________\n",
    "\n",
    "### Problema gerador: como podemos processar um arquivo com as notas de alunos?"
   ]
  },
  {
   "cell_type": "markdown",
   "metadata": {},
   "source": [
    "______\n",
    "________\n",
    "______"
   ]
  },
  {
   "cell_type": "markdown",
   "metadata": {},
   "source": [
    "## 1) Arquivos em Python\n",
    "\n",
    "Todos os programas que fizemos até o momento tinham variáveis, input e output **temporários**, guardados na memória RAM do computador **enquanto o programa é executado**.\n",
    "\n",
    "Após o programa ser finalizado, todas as variáveis, inputs e outputs eram perdidos.\n",
    "\n",
    "Muitas vezes queremos que esses valores sejam armazenados, que os dados processados pelo programa sejam preservados. O termo para esta característica é **persistência de dados**.\n",
    "\n",
    "A persistência se dá através de **arquivos**: documentos criados para **armazenar dados em uma memória permanente**, como o **disco rígido**, um **USB** ou um **servidor web**."
   ]
  },
  {
   "cell_type": "markdown",
   "metadata": {},
   "source": [
    "O Python têm algumas funções padrão para a manipulação de arquivos. Vamos vê-las!"
   ]
  },
  {
   "cell_type": "markdown",
   "metadata": {},
   "source": [
    "A função `open()` é usada pra abrir arquivos existentes ou criar um arquivo novo. \n",
    "\n",
    "Ela possui 2 argumentos: o primeiro é o caminho do arquivo, com seu nome (se apenas o nome do arquivo for passado, isso é interpretado como o arquivo estando na mesma pasta que o código!); e o segundo é o modo de operação. Os modos são:\n",
    "\n",
    "- r -\tlê um arquivo existente\n",
    "- w -\tcria um novo arquivo\n",
    "- a -\tabre um arquivo existente para adicionar informações ao seu final\n",
    "- \\+ -\tao ser combinado com outros modos, permite alteração de arquivo já existente (ex: r+ abre um arquivo existente e permite modificá-lo)\n",
    "\n",
    "O terceiro argumento é o \"encoding\", que dá a codificação do arquivo. Pra evitar problemas, é legal sempre usar `encoding=\"utf-8\"`"
   ]
  },
  {
   "cell_type": "code",
   "execution_count": 1,
   "metadata": {},
   "outputs": [
    {
     "ename": "TypeError",
     "evalue": "open() missing 1 required positional argument: 'file'",
     "output_type": "error",
     "traceback": [
      "\u001b[1;31m---------------------------------------------------------------------------\u001b[0m",
      "\u001b[1;31mTypeError\u001b[0m                                 Traceback (most recent call last)",
      "Cell \u001b[1;32mIn[1], line 2\u001b[0m\n\u001b[0;32m      1\u001b[0m arquivo \u001b[38;5;241m=\u001b[39m \u001b[38;5;28mopen\u001b[39m(\u001b[38;5;124m\"\u001b[39m\u001b[38;5;124mola_mundo.txt\u001b[39m\u001b[38;5;124m\"\u001b[39m, \u001b[38;5;124m\"\u001b[39m\u001b[38;5;124mw\u001b[39m\u001b[38;5;124m\"\u001b[39m, encoding\u001b[38;5;241m=\u001b[39m\u001b[38;5;124m\"\u001b[39m\u001b[38;5;124mutf-8\u001b[39m\u001b[38;5;124m\"\u001b[39m)\n\u001b[1;32m----> 2\u001b[0m \u001b[38;5;28mopen\u001b[39m()\n",
      "\u001b[1;31mTypeError\u001b[0m: open() missing 1 required positional argument: 'file'"
     ]
    }
   ],
   "source": [
    "arquivo = open(\"ola_mundo.txt\", \"w\", encoding=\"utf-8\")\n",
    "open()"
   ]
  },
  {
   "cell_type": "markdown",
   "metadata": {},
   "source": [
    "Se analisarmos a variável \"arquivo\" (é o return da função `open()`), note que há algumas coisas estranhas... É assim que o python entende seu arquivo, mas não precisa se preocupar muito com isso"
   ]
  },
  {
   "cell_type": "code",
   "execution_count": 2,
   "metadata": {},
   "outputs": [
    {
     "data": {
      "text/plain": [
       "<_io.TextIOWrapper name='ola_mundo.txt' mode='w' encoding='utf-8'>"
      ]
     },
     "execution_count": 2,
     "metadata": {},
     "output_type": "execute_result"
    }
   ],
   "source": [
    "arquivo"
   ]
  },
  {
   "cell_type": "markdown",
   "metadata": {},
   "source": [
    "Uma vez aberto o arquivo, podemos escrever alguma coisa nele. Para isso, usamos o método `write()`\n",
    "\n",
    "Essa função aceita apenas um argumento, que é o que vc quer escrever no arquivo -- e **deve ser uma string**!"
   ]
  },
  {
   "cell_type": "code",
   "execution_count": 3,
   "metadata": {},
   "outputs": [
    {
     "data": {
      "text/plain": [
       "11"
      ]
     },
     "execution_count": 3,
     "metadata": {},
     "output_type": "execute_result"
    }
   ],
   "source": [
    "arquivo.write(\"olá, mundo!\")"
   ]
  },
  {
   "cell_type": "markdown",
   "metadata": {},
   "source": [
    "Após abrirmos (ou criarmos) um arquivo, e fazer as operações desejadas com ele, devemos fechá-lo usando o método `close()`. Essa etapa é importante por 2 motivos:\n",
    "\n",
    "- Se alteramos o arquivo mas não o fechamos, as alterações não serão salvas.\n",
    "- Se esquecermos de fechar um arquivo, outros programas podem ter problemas de acesso a ele.\n",
    "\n",
    "Por isso, **nunca se esqueca de fechar os arquivos abertos!**"
   ]
  },
  {
   "cell_type": "code",
   "execution_count": 4,
   "metadata": {},
   "outputs": [],
   "source": [
    "arquivo.close()"
   ]
  },
  {
   "cell_type": "markdown",
   "metadata": {},
   "source": [
    "__Fazendo todas as operações em uma única célula__"
   ]
  },
  {
   "cell_type": "code",
   "execution_count": 5,
   "metadata": {},
   "outputs": [],
   "source": [
    "f = open(\"ola_mundo2.txt\", \"w\", encoding=\"utf-8\")\n",
    "\n",
    "f.write(\"olá, mundo!\\nEsse é meu segundo arquivo!\")\n",
    "\n",
    "f.close()"
   ]
  },
  {
   "cell_type": "markdown",
   "metadata": {},
   "source": [
    "Apesar desta ser uma forma clara e direta, existe um procedimento mais robusto e mais seguro, que é utilizando o ambiente `with`.\n",
    "\n",
    "O `with` garante que, quando o bloco de código em seu interior for executado, todos os recursos que foram criados (indicados após o `as`) serão liberados!\n",
    "\n",
    "No nosso caso, o recurso é justamente um arquivo! Com o `with`, nós garantimos que **o arquivo será aberto e fechado**, independente se ocorra qualquer erro antes do arquivo ser fechado! Isso é muito importante, pois garante maior segurança e robustez a nosso código!"
   ]
  },
  {
   "cell_type": "code",
   "execution_count": 6,
   "metadata": {},
   "outputs": [],
   "source": [
    "with open(\"ola_mundo3.txt\", \"w\", encoding=\"utf-8\") as f:\n",
    "    \n",
    "    f.write(\"olá, mundo!\\nEsse é meu segundo arquivo!\\né UM TERCEIRO ARQUIVO, usando o with!\")"
   ]
  },
  {
   "cell_type": "markdown",
   "metadata": {},
   "source": [
    "Como essa maneira é mais robusta, bamos usá-la daqui pra frente. (Mas, lembre-se que a opção que apresentamos primeiro também é possível!)"
   ]
  },
  {
   "cell_type": "markdown",
   "metadata": {},
   "source": [
    "Vamos escrever mais algumas coisas no nosso arquivo...\n",
    "\n",
    "Como o arquivo já existe, vamos tentar usar o modo \"r\"..."
   ]
  },
  {
   "cell_type": "code",
   "execution_count": 7,
   "metadata": {},
   "outputs": [
    {
     "ename": "UnsupportedOperation",
     "evalue": "not writable",
     "output_type": "error",
     "traceback": [
      "\u001b[1;31m---------------------------------------------------------------------------\u001b[0m",
      "\u001b[1;31mUnsupportedOperation\u001b[0m                      Traceback (most recent call last)",
      "Cell \u001b[1;32mIn[7], line 3\u001b[0m\n\u001b[0;32m      1\u001b[0m \u001b[38;5;28;01mwith\u001b[39;00m \u001b[38;5;28mopen\u001b[39m(\u001b[38;5;124m\"\u001b[39m\u001b[38;5;124mola_mundo.txt\u001b[39m\u001b[38;5;124m\"\u001b[39m, \u001b[38;5;124m\"\u001b[39m\u001b[38;5;124mr\u001b[39m\u001b[38;5;124m\"\u001b[39m, encoding\u001b[38;5;241m=\u001b[39m\u001b[38;5;124m\"\u001b[39m\u001b[38;5;124mutf-8\u001b[39m\u001b[38;5;124m\"\u001b[39m) \u001b[38;5;28;01mas\u001b[39;00m f:\n\u001b[1;32m----> 3\u001b[0m     f\u001b[38;5;241m.\u001b[39mwrite(\u001b[38;5;124m\"\u001b[39m\u001b[38;5;124mescrevendo algo novo!\u001b[39m\u001b[38;5;124m\"\u001b[39m)\n",
      "\u001b[1;31mUnsupportedOperation\u001b[0m: not writable"
     ]
    }
   ],
   "source": [
    "with open(\"ola_mundo.txt\", \"r\", encoding=\"utf-8\") as f:\n",
    "    \n",
    "    f.write(\"escrevendo algo novo!\")"
   ]
  },
  {
   "cell_type": "markdown",
   "metadata": {},
   "source": [
    "Note que encontramos um erro, pois o modo \"r\" permite **apenas a leitura do arquivo**\n",
    "\n",
    "Se queremos escrever algo nele, usamos o \"r+\""
   ]
  },
  {
   "cell_type": "code",
   "execution_count": 8,
   "metadata": {},
   "outputs": [],
   "source": [
    "with open(\"ola_mundo.txt\", \"r+\", encoding=\"utf-8\") as f:\n",
    "    \n",
    "    f.write(\"escrevendo algo novo!\")"
   ]
  },
  {
   "cell_type": "code",
   "execution_count": 9,
   "metadata": {},
   "outputs": [],
   "source": [
    "with open(\"ola_mundo.txt\", \"r+\", encoding=\"utf-8\") as f:\n",
    "    \n",
    "    f.write(\"ada!!\")"
   ]
  },
  {
   "cell_type": "markdown",
   "metadata": {},
   "source": [
    "Note, no entanto, que se usarmos o modo \"r+\", o write substitui o conteúdo anterior da primeira linha do arquivo! Isso pq este modo equivale a colocar o cursor **no começo do arquivo** e escrever a partir dali (como se tivese com o `Insert` selecionado)."
   ]
  },
  {
   "cell_type": "markdown",
   "metadata": {},
   "source": [
    "Prra corrigir isso, usamos o modo \"a\", que permite escrever AO FIM do arquivo. Isso equivale a colocar o cursor **no último caractere escrito**, e começar a escrever a partir dali!"
   ]
  },
  {
   "cell_type": "code",
   "execution_count": 10,
   "metadata": {},
   "outputs": [],
   "source": [
    "with open(\"ola_mundo.txt\", \"a\", encoding=\"utf-8\") as f:\n",
    "    \n",
    "    f.write(\"escrevendo algo no fim!\")"
   ]
  },
  {
   "cell_type": "markdown",
   "metadata": {},
   "source": [
    "Se quisermos escrever em uma nova linha, usamos o \"\\n\":"
   ]
  },
  {
   "cell_type": "code",
   "execution_count": 11,
   "metadata": {},
   "outputs": [],
   "source": [
    "with open(\"ola_mundo.txt\", \"a\", encoding=\"utf-8\") as f:\n",
    "    \n",
    "    f.write(\"\\nisso vai na próxima linha!\")"
   ]
  },
  {
   "cell_type": "markdown",
   "metadata": {},
   "source": [
    "Caso queiramos escrever uma lista pro arquivo:"
   ]
  },
  {
   "cell_type": "code",
   "execution_count": 12,
   "metadata": {},
   "outputs": [],
   "source": [
    "lista = [\"ada\", \"python\", \"data science\", 1, 42.4, True, [\"a\", \"b\", \"c\"]]\n",
    "\n",
    "with open(\"ola_mundo.txt\", \"a\", encoding=\"utf-8\") as f:\n",
    "    \n",
    "    for elemento in lista:\n",
    "        \n",
    "        f.write(f\"\\n{elemento}\")"
   ]
  },
  {
   "cell_type": "markdown",
   "metadata": {},
   "source": [
    "O método `write()` pode apenas escrever strings ao arquivo!!"
   ]
  },
  {
   "cell_type": "code",
   "execution_count": 13,
   "metadata": {},
   "outputs": [
    {
     "ename": "TypeError",
     "evalue": "write() argument must be str, not list",
     "output_type": "error",
     "traceback": [
      "\u001b[1;31m---------------------------------------------------------------------------\u001b[0m",
      "\u001b[1;31mTypeError\u001b[0m                                 Traceback (most recent call last)",
      "Cell \u001b[1;32mIn[13], line 5\u001b[0m\n\u001b[0;32m      1\u001b[0m lista \u001b[38;5;241m=\u001b[39m [\u001b[38;5;124m\"\u001b[39m\u001b[38;5;124mada\u001b[39m\u001b[38;5;124m\"\u001b[39m, \u001b[38;5;124m\"\u001b[39m\u001b[38;5;124mpython\u001b[39m\u001b[38;5;124m\"\u001b[39m, \u001b[38;5;124m\"\u001b[39m\u001b[38;5;124mdata science\u001b[39m\u001b[38;5;124m\"\u001b[39m]\n\u001b[0;32m      3\u001b[0m \u001b[38;5;28;01mwith\u001b[39;00m \u001b[38;5;28mopen\u001b[39m(\u001b[38;5;124m\"\u001b[39m\u001b[38;5;124mola_mundo.txt\u001b[39m\u001b[38;5;124m\"\u001b[39m, \u001b[38;5;124m\"\u001b[39m\u001b[38;5;124ma\u001b[39m\u001b[38;5;124m\"\u001b[39m, encoding\u001b[38;5;241m=\u001b[39m\u001b[38;5;124m\"\u001b[39m\u001b[38;5;124mutf-8\u001b[39m\u001b[38;5;124m\"\u001b[39m) \u001b[38;5;28;01mas\u001b[39;00m f:\n\u001b[1;32m----> 5\u001b[0m     f\u001b[38;5;241m.\u001b[39mwrite(lista)\n",
      "\u001b[1;31mTypeError\u001b[0m: write() argument must be str, not list"
     ]
    }
   ],
   "source": [
    "lista = [\"ada\", \"python\", \"data science\"]\n",
    "\n",
    "with open(\"ola_mundo.txt\", \"a\", encoding=\"utf-8\") as f:\n",
    "    \n",
    "    f.write(lista)"
   ]
  },
  {
   "cell_type": "markdown",
   "metadata": {},
   "source": [
    "________\n",
    "\n",
    "Agora, imagina que queremos apenas **ler** o arquivo, sem intenção de modificá-lo.\n",
    "\n",
    "Nesse caso, utilizamos o modo \"r\" do open.\n",
    "\n",
    "Além disso, se quisermos de fato armazenar os dados do arquivo em uma variável do python, usamos o método `read()`"
   ]
  },
  {
   "cell_type": "markdown",
   "metadata": {},
   "source": [
    "Da mesma forma que o `write()` só pode escrever strings, o `read()` lê o arquivo como uma string! Veja:"
   ]
  },
  {
   "cell_type": "code",
   "execution_count": 14,
   "metadata": {},
   "outputs": [],
   "source": [
    "with open(\"ola_mundo.txt\", \"r\", encoding=\"utf-8\") as f:\n",
    "\n",
    "    conteudo = f.read()"
   ]
  },
  {
   "cell_type": "code",
   "execution_count": 15,
   "metadata": {},
   "outputs": [
    {
     "data": {
      "text/plain": [
       "\"ada!!vendo algo novo!escrevendo algo no fim!\\nisso vai na próxima linha!\\nada\\npython\\ndata science\\n1\\n42.4\\nTrue\\n['a', 'b', 'c']\""
      ]
     },
     "execution_count": 15,
     "metadata": {},
     "output_type": "execute_result"
    }
   ],
   "source": [
    "conteudo"
   ]
  },
  {
   "cell_type": "code",
   "execution_count": 16,
   "metadata": {},
   "outputs": [
    {
     "name": "stdout",
     "output_type": "stream",
     "text": [
      "ada!!vendo algo novo!escrevendo algo no fim!\n",
      "isso vai na próxima linha!\n",
      "ada\n",
      "python\n",
      "data science\n",
      "1\n",
      "42.4\n",
      "True\n",
      "['a', 'b', 'c']\n"
     ]
    }
   ],
   "source": [
    "print(conteudo)"
   ]
  },
  {
   "cell_type": "markdown",
   "metadata": {},
   "source": [
    "Como o `read()` lê o que estiver no arquivo em forma de uma string, temos que as quebras de linha serão, portanto, armazenadas como \"\\n\".\n",
    "\n",
    "A partir daí, dá pra pegar cada linha e colocar numa lista:"
   ]
  },
  {
   "cell_type": "code",
   "execution_count": 17,
   "metadata": {},
   "outputs": [],
   "source": [
    "lista_conteudo = conteudo.split(\"\\n\")"
   ]
  },
  {
   "cell_type": "code",
   "execution_count": 26,
   "metadata": {},
   "outputs": [
    {
     "data": {
      "text/plain": [
       "['ada!!vendo algo novo!escrevendo algo no fim!',\n",
       " 'isso vai na próxima linha!adapythondata science',\n",
       " 'ada',\n",
       " 'python',\n",
       " 'data science',\n",
       " 'ada',\n",
       " 'python',\n",
       " 'data science',\n",
       " '1',\n",
       " '42.4',\n",
       " 'True',\n",
       " \"['a', 'b', 'c']\"]"
      ]
     },
     "execution_count": 26,
     "metadata": {},
     "output_type": "execute_result"
    }
   ],
   "source": [
    "lista_conteudo"
   ]
  },
  {
   "cell_type": "code",
   "execution_count": 22,
   "metadata": {},
   "outputs": [
    {
     "data": {
      "text/plain": [
       "'42.4'"
      ]
     },
     "execution_count": 22,
     "metadata": {},
     "output_type": "execute_result"
    }
   ],
   "source": [
    "lista_conteudo[-3]"
   ]
  },
  {
   "cell_type": "code",
   "execution_count": 23,
   "metadata": {},
   "outputs": [
    {
     "data": {
      "text/plain": [
       "42.4"
      ]
     },
     "execution_count": 23,
     "metadata": {},
     "output_type": "execute_result"
    }
   ],
   "source": [
    "'''todo conteudo na lista é considerado como string. então para vocÊ utilizar algum dado numerico, você\n",
    "deve formata-lo. Exemplo a baixo... '''\n",
    "\n",
    "float(lista_conteudo[-3])"
   ]
  },
  {
   "cell_type": "markdown",
   "metadata": {},
   "source": [
    "Vamos para um outro exemplo... Imagine que eu quero armazenar uma lista, para depois lê-la novamente. Como faço isso?"
   ]
  },
  {
   "cell_type": "markdown",
   "metadata": {},
   "source": [
    "Lembre-se que só é possível escrever **strings** com o `write()`! "
   ]
  },
  {
   "cell_type": "code",
   "execution_count": 24,
   "metadata": {},
   "outputs": [],
   "source": [
    "notas = [8, 9, 8.5, 10, 10, 6, 7.5, 8.8]\n",
    "\n",
    "with open(\"notas.txt\", \"w\", encoding=\"utf-8\") as f:\n",
    "    \n",
    "    f.write(f\"{notas[0]}\") # sem essa linha de comando o laço for ignora o primeiro [0] conteúdo da lista NOTAS.\n",
    "    \n",
    "    for elemento in notas[1:]:\n",
    "        \n",
    "        f.write(f\"\\n{elemento}\")"
   ]
  },
  {
   "cell_type": "markdown",
   "metadata": {},
   "source": [
    "Agora, pra ler o arquivo, e já calcular a média das notas armazenadas - mas, pra isso, teremos que converter os dados!"
   ]
  },
  {
   "cell_type": "code",
   "execution_count": 25,
   "metadata": {},
   "outputs": [],
   "source": [
    "with open(\"notas.txt\", \"r\", encoding=\"utf-8\") as f:\n",
    "\n",
    "    conteudo = f.read()"
   ]
  },
  {
   "cell_type": "code",
   "execution_count": 26,
   "metadata": {},
   "outputs": [
    {
     "data": {
      "text/plain": [
       "['8', '9', '8.5', '10', '10', '6', '7.5', '8.8']"
      ]
     },
     "execution_count": 26,
     "metadata": {},
     "output_type": "execute_result"
    }
   ],
   "source": [
    "notas_lidas = conteudo.split(\"\\n\")\n",
    "\n",
    "notas_lidas"
   ]
  },
  {
   "cell_type": "code",
   "execution_count": 27,
   "metadata": {},
   "outputs": [
    {
     "data": {
      "text/plain": [
       "[8.0, 9.0, 8.5, 10.0, 10.0, 6.0, 7.5, 8.8]"
      ]
     },
     "execution_count": 27,
     "metadata": {},
     "output_type": "execute_result"
    }
   ],
   "source": [
    "notas_lidas_float = []\n",
    "\n",
    "for elemento in notas_lidas:\n",
    "    \n",
    "    notas_lidas_float.append(float(elemento))\n",
    "    \n",
    "notas_lidas_float"
   ]
  },
  {
   "cell_type": "code",
   "execution_count": 28,
   "metadata": {},
   "outputs": [
    {
     "data": {
      "text/plain": [
       "[8.0, 9.0, 8.5, 10.0, 10.0, 6.0, 7.5, 8.8]"
      ]
     },
     "execution_count": 28,
     "metadata": {},
     "output_type": "execute_result"
    }
   ],
   "source": [
    "notas_lidas_float = [float(elemento) for elemento in notas_lidas]\n",
    "\n",
    "notas_lidas_float"
   ]
  },
  {
   "cell_type": "code",
   "execution_count": 29,
   "metadata": {},
   "outputs": [
    {
     "data": {
      "text/plain": [
       "8.475"
      ]
     },
     "execution_count": 29,
     "metadata": {},
     "output_type": "execute_result"
    }
   ],
   "source": [
    "sum(notas_lidas_float)/len(notas_lidas_float)"
   ]
  },
  {
   "cell_type": "markdown",
   "metadata": {},
   "source": [
    "Apesar de termos tratado sobre as funções acima, existem **bibliotecas específicas** para a leitura/escrita de determinados tipos de arquivos.\n",
    "\n",
    "Na prática, é muito mais conveniente usarmos estas bibliotecas, a depender do tipo de arquivo que desejamos ler/escrever!"
   ]
  },
  {
   "cell_type": "markdown",
   "metadata": {},
   "source": [
    "____\n",
    "____\n",
    "___"
   ]
  },
  {
   "cell_type": "markdown",
   "metadata": {},
   "source": [
    "## 2) Arquivos CSV\n",
    "\n",
    "Um tipo de arquivo muito comum é o **csv**\n",
    "\n",
    "A sigla CSV significa **Comma-Separated Values**, ou **\"valores separados por vírgula\"**. \n",
    "\n",
    "Este formato é uma forma padrão de representar tabelas usando arquivos de texto simples: cada elemento é separado por uma vírgula (ou ponto-e-vírgula, ou, qualquer outro separador), e cada linha é separada por uma quebra de linha. "
   ]
  },
  {
   "cell_type": "markdown",
   "metadata": {},
   "source": [
    "Em Python, podemos entender um arquivo CSV como uma lista de listas. \n",
    "\n",
    "Imagine que queremos armazenar um arquivo csv. Começamos com uma lista de listas:"
   ]
  },
  {
   "cell_type": "code",
   "execution_count": 30,
   "metadata": {},
   "outputs": [],
   "source": [
    "tabela = [['Aluno', 'Nota 1', 'Nota 2', ' Presença'],\n",
    "          ['Luke', 7, 9, 75],\n",
    "          ['Han', 4, 7, 100],\n",
    "          ['Leia', 9, 9, 50]]"
   ]
  },
  {
   "cell_type": "code",
   "execution_count": 31,
   "metadata": {},
   "outputs": [
    {
     "data": {
      "text/plain": [
       "[['Aluno', 'Nota 1', 'Nota 2', ' Presença'],\n",
       " ['Luke', 7, 9, 75],\n",
       " ['Han', 4, 7, 100],\n",
       " ['Leia', 9, 9, 50]]"
      ]
     },
     "execution_count": 31,
     "metadata": {},
     "output_type": "execute_result"
    }
   ],
   "source": [
    "tabela"
   ]
  },
  {
   "cell_type": "markdown",
   "metadata": {},
   "source": [
    "Pode não ser tão simples escrever esta lista de listas em um arquivo usando o método write(), como vimos antes, né?\n",
    "\n",
    "Para trabalhar com arquivos csv, vamos utilizar a biblioteca `csv` do python!\n",
    "\n",
    "Desta biblioteca, vamo usar duas funções:\n",
    "\n",
    "- **método de escrita**: `csv.writer().writerows()`\n",
    "\n",
    "- **método de leitura**: `csv.reader()`"
   ]
  },
  {
   "cell_type": "code",
   "execution_count": 32,
   "metadata": {},
   "outputs": [],
   "source": [
    "import csv"
   ]
  },
  {
   "cell_type": "markdown",
   "metadata": {},
   "source": [
    "Como queremos escrer o arquivo, utilizamos o método `writer` da biblioteca `csv`, juntamente do método `writerows` para escrever a lista de listas ao arquivo:"
   ]
  },
  {
   "cell_type": "code",
   "execution_count": 33,
   "metadata": {},
   "outputs": [],
   "source": [
    "with open(\"alunos_star_wars.csv\", \"w\", encoding=\"utf-8\") as f:\n",
    "    \n",
    "    csv.writer(f, delimiter=\",\", lineterminator=\"\\n\").writerows(tabela)"
   ]
  },
  {
   "cell_type": "markdown",
   "metadata": {},
   "source": [
    "A primeira parte:\n",
    "\n",
    "```python\n",
    "csv.writer(arquivo, delimiter=';', lineterminator='\\n')\n",
    "```\n",
    "\n",
    "Indica:\n",
    "\n",
    "- em que arquivo você quer escrever\n",
    "- como que você vai separar os valores (neste caso, com \";\")\n",
    "- como vc vai separar as diferentes linhas do arquivo (neste caso, com \"\\n\")\n",
    "\n",
    "A segunda parte, indica quais os dados que você quer escrever no arquivo (no caso, a lista de listas \"tabela\"):\n",
    "\n",
    "```python\n",
    "writerows(tabela)\n",
    "```"
   ]
  },
  {
   "cell_type": "markdown",
   "metadata": {},
   "source": [
    "E como lemos este arquivo?"
   ]
  },
  {
   "cell_type": "markdown",
   "metadata": {},
   "source": [
    "Para isso, temos que utilizar a função `reader()` da biblioteca csv:\n",
    "\n",
    "```python\n",
    "csv.reader(f, delimiter=';', lineterminator='\\n')\n",
    "```\n",
    "\n",
    "Essa função tem como argumentos:\n",
    "\n",
    "- o arquivo aberto (no caso, a variável \"f\");\n",
    "- o separador entre os valores (no caso, \";\");\n",
    "- o separador de linhas (no caso, \"\\n\");\n",
    "\n",
    "Aí, basta iterar neste objeto com o for para popular a lista de listas \"tabela\":"
   ]
  },
  {
   "cell_type": "code",
   "execution_count": 34,
   "metadata": {},
   "outputs": [],
   "source": [
    "'''Caso você não saiba como está estruturado seu arquivo, basta utilizar esse \n",
    "    comando de linha logo a baixo para indicar sua delimitação e o final de cada linha\n",
    "    da tabela.'''\n",
    "\n",
    "with open(\"alunos_star_wars.csv\", \"r\", encoding=\"utf-8\") as f:\n",
    "    \n",
    "    primeira_linha = f.readline()"
   ]
  },
  {
   "cell_type": "code",
   "execution_count": 35,
   "metadata": {},
   "outputs": [
    {
     "data": {
      "text/plain": [
       "'Aluno,Nota 1,Nota 2, Presença\\n'"
      ]
     },
     "execution_count": 35,
     "metadata": {},
     "output_type": "execute_result"
    }
   ],
   "source": [
    "primeira_linha"
   ]
  },
  {
   "cell_type": "code",
   "execution_count": 36,
   "metadata": {},
   "outputs": [],
   "source": [
    "with open(\"alunos_star_wars.csv\", \"r\", encoding=\"utf-8\") as f:\n",
    "\n",
    "    tabela_lida = []\n",
    "    \n",
    "    '''Para poder ler o arquivo criado. Você deve informar os mesmos argumentos que\n",
    "        foram utilizados no momento da criação do arquivo, visto anteriormente!\n",
    "        \n",
    "        with open(\"alunos_star_wars.csv\", \"w\", encoding=\"utf-8\") as f:\n",
    "            csv.writer(f, delimiter=\",\", lineterminator=\"\\n\").writerows(tabela)'''\n",
    "    \n",
    "    leitor = csv.reader(f, delimiter=\",\", lineterminator=\"\\n\")\n",
    "    \n",
    "    for linha in leitor:\n",
    "        \n",
    "        tabela_lida.append(linha)"
   ]
  },
  {
   "cell_type": "code",
   "execution_count": 37,
   "metadata": {},
   "outputs": [
    {
     "data": {
      "text/plain": [
       "[['Aluno', 'Nota 1', 'Nota 2', ' Presença'],\n",
       " ['Luke', 7, 9, 75],\n",
       " ['Han', 4, 7, 100],\n",
       " ['Leia', 9, 9, 50]]"
      ]
     },
     "execution_count": 37,
     "metadata": {},
     "output_type": "execute_result"
    }
   ],
   "source": [
    "tabela"
   ]
  },
  {
   "cell_type": "code",
   "execution_count": 38,
   "metadata": {},
   "outputs": [
    {
     "data": {
      "text/plain": [
       "[['Aluno', 'Nota 1', 'Nota 2', ' Presença'],\n",
       " ['Luke', '7', '9', '75'],\n",
       " ['Han', '4', '7', '100'],\n",
       " ['Leia', '9', '9', '50']]"
      ]
     },
     "execution_count": 38,
     "metadata": {},
     "output_type": "execute_result"
    }
   ],
   "source": [
    "tabela_lida"
   ]
  },
  {
   "cell_type": "markdown",
   "metadata": {},
   "source": [
    "Com compreensão de listas:"
   ]
  },
  {
   "cell_type": "code",
   "execution_count": 39,
   "metadata": {},
   "outputs": [
    {
     "data": {
      "text/plain": [
       "[['Aluno', 'Nota 1', 'Nota 2', ' Presença'],\n",
       " ['Luke', '7', '9', '75'],\n",
       " ['Han', '4', '7', '100'],\n",
       " ['Leia', '9', '9', '50']]"
      ]
     },
     "execution_count": 39,
     "metadata": {},
     "output_type": "execute_result"
    }
   ],
   "source": [
    "with open(\"alunos_star_wars.csv\", \"r\", encoding=\"utf-8\") as f:\n",
    "\n",
    "    leitor = csv.reader(f, delimiter=\",\", lineterminator=\"\\n\")\n",
    "    \n",
    "    tabela_lida = [linha for linha in leitor]\n",
    "\n",
    "tabela_lida"
   ]
  },
  {
   "cell_type": "code",
   "execution_count": 40,
   "metadata": {},
   "outputs": [
    {
     "data": {
      "text/plain": [
       "[['Aluno', 'Nota 1', 'Nota 2', ' Presença'],\n",
       " ['Luke', '7', '9', '75'],\n",
       " ['Han', '4', '7', '100'],\n",
       " ['Leia', '9', '9', '50']]"
      ]
     },
     "execution_count": 40,
     "metadata": {},
     "output_type": "execute_result"
    }
   ],
   "source": [
    "with open(\"alunos_star_wars.csv\", \"r\", encoding=\"utf-8\") as f:\n",
    "\n",
    "    tabela_lida = [linha for linha in csv.reader(f, delimiter=\",\", lineterminator=\"\\n\")]\n",
    "\n",
    "tabela_lida"
   ]
  },
  {
   "cell_type": "markdown",
   "metadata": {},
   "source": [
    "__Vamos agora processar esse arquivo que acabamos de ler?__\n",
    "\n",
    "Imagina que queremos calcular qual é a média de determinado aluno, a partir do seu nome!\n",
    "\n",
    "Pra fazer isso, usamos **list comprehension** pra fazer uma lista com os nomes dos alunos:"
   ]
  },
  {
   "cell_type": "code",
   "execution_count": 41,
   "metadata": {},
   "outputs": [
    {
     "data": {
      "text/plain": [
       "['Aluno', 'Luke', 'Han', 'Leia']"
      ]
     },
     "execution_count": 41,
     "metadata": {},
     "output_type": "execute_result"
    }
   ],
   "source": [
    "lista_nome_alunos = [linha[0] for linha in tabela_lida]\n",
    "\n",
    "lista_nome_alunos"
   ]
  },
  {
   "cell_type": "markdown",
   "metadata": {},
   "source": [
    "Aí, usamos a função index() pra descobrir qual é o índice nesta lista referente a determinado aluno.\n",
    "\n",
    "Por exemplo, o aluno \"Han\", está na posição de índice 2:"
   ]
  },
  {
   "cell_type": "code",
   "execution_count": 42,
   "metadata": {},
   "outputs": [
    {
     "data": {
      "text/plain": [
       "2"
      ]
     },
     "execution_count": 42,
     "metadata": {},
     "output_type": "execute_result"
    }
   ],
   "source": [
    "lista_nome_alunos.index(\"Han\")"
   ]
  },
  {
   "cell_type": "markdown",
   "metadata": {},
   "source": [
    "Agora, basta passar esse índice para a lista de listas (que chamamos de \"planilha\"), pra acessarmos a linha correspondente ao Han:"
   ]
  },
  {
   "cell_type": "code",
   "execution_count": 43,
   "metadata": {},
   "outputs": [
    {
     "data": {
      "text/plain": [
       "['Han', '4', '7', '100']"
      ]
     },
     "execution_count": 43,
     "metadata": {},
     "output_type": "execute_result"
    }
   ],
   "source": [
    "tabela_lida[2]"
   ]
  },
  {
   "cell_type": "code",
   "execution_count": 44,
   "metadata": {},
   "outputs": [
    {
     "data": {
      "text/plain": [
       "[['Aluno', 'Nota 1', 'Nota 2', ' Presença'],\n",
       " ['Luke', '7', '9', '75'],\n",
       " ['Han', '4', '7', '100'],\n",
       " ['Leia', '9', '9', '50']]"
      ]
     },
     "execution_count": 44,
     "metadata": {},
     "output_type": "execute_result"
    }
   ],
   "source": [
    "tabela_lida"
   ]
  },
  {
   "cell_type": "markdown",
   "metadata": {},
   "source": [
    "Legal! Agora, sabemos que as posições de índice 1 e 2 **desta lista** são, respectivamente, a nota1 e a nota2! \n",
    "\n",
    "Ou seja, podemos capturar as notas (já as transformando para float!), e aí calcular a média "
   ]
  },
  {
   "cell_type": "code",
   "execution_count": 45,
   "metadata": {},
   "outputs": [
    {
     "name": "stdout",
     "output_type": "stream",
     "text": [
      "A média do(a) aluno(a) Luke é: 8.0\n"
     ]
    }
   ],
   "source": [
    "aluno=\"Luke\"\n",
    "\n",
    "dados_aluno = tabela_lida[[linha[0] for linha in tabela_lida].index(aluno)]\n",
    "\n",
    "nota1 = float(dados_aluno[1])\n",
    "nota2 = float(dados_aluno[2])\n",
    "\n",
    "media = (nota1 + nota2)/2\n",
    "\n",
    "print(f\"A média do(a) aluno(a) {aluno} é: {media}\")"
   ]
  },
  {
   "cell_type": "markdown",
   "metadata": {},
   "source": [
    "Vamos agora fazer todas as operações acima, mas solicitando ao usuário a média de qual aluno ele deseja:"
   ]
  },
  {
   "cell_type": "code",
   "execution_count": 46,
   "metadata": {},
   "outputs": [
    {
     "name": "stdout",
     "output_type": "stream",
     "text": [
      "Digite o nome do aluno cuja média vc quer saber.\n",
      "Opções: ['Luke', 'Han', 'Leia'] Luke\n",
      "\n",
      "A média do(a) aluno(a) Luke é: 8.0\n"
     ]
    }
   ],
   "source": [
    "# leitura do arquivo, na forma de tabela\n",
    "with open(\"alunos_star_wars.csv\", \"r\", encoding=\"utf-8\") as f:\n",
    "\n",
    "    tabela_lida = [linha for linha in csv.reader(f, delimiter=\",\", lineterminator=\"\\n\")]\n",
    "\n",
    "# processamento do arquivo\n",
    "nome_alunos = [linha[0] for linha in tabela_lida]\n",
    "\n",
    "aluno=input(f\"Digite o nome do aluno cuja média vc quer saber.\\nOpções: {nome_alunos[1:]} \")\n",
    "\n",
    "dados_aluno = tabela_lida[nome_alunos.index(aluno)]\n",
    "\n",
    "nota1 = float(dados_aluno[1])\n",
    "nota2 = float(dados_aluno[2])\n",
    "\n",
    "media = (nota1 + nota2)/2\n",
    "\n",
    "print(f\"\\nA média do(a) aluno(a) {aluno} é: {media}\")"
   ]
  },
  {
   "cell_type": "markdown",
   "metadata": {},
   "source": [
    "É possíver fazer o **processamento de arquivos** de forma muito mais simples e natural do que foi feito acima, ao utilizarmos uma biblioteca própria para isso: o [pandas](https://pandas.pydata.org/)! Vamos introduzi-la nas aulas seguintes!"
   ]
  },
  {
   "cell_type": "markdown",
   "metadata": {},
   "source": [
    "________"
   ]
  }
 ],
 "metadata": {
  "kernelspec": {
   "display_name": "Python 3 (ipykernel)",
   "language": "python",
   "name": "python3"
  },
  "language_info": {
   "codemirror_mode": {
    "name": "ipython",
    "version": 3
   },
   "file_extension": ".py",
   "mimetype": "text/x-python",
   "name": "python",
   "nbconvert_exporter": "python",
   "pygments_lexer": "ipython3",
   "version": "3.11.5"
  }
 },
 "nbformat": 4,
 "nbformat_minor": 4
}
