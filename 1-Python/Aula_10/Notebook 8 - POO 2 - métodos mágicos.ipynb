{
 "cells": [
  {
   "cell_type": "markdown",
   "metadata": {
    "id": "EHPYnUGwU5wH"
   },
   "source": [
    "# Aula 8  - programação orientada a objetos 2\n",
    "\n",
    "Na aula de hoje, vamos explorar os seguintes tópicos em Python:\n",
    "\n",
    "- 1) Métodos Mágicos\n",
    "\n",
    "_____________\n",
    "\n",
    "### Problema gerador: como operar com dados de horário?\n",
    "\n",
    "Vamos definir uma classe para representar horários. Mas, e se eu quiser somar tempo, como podemos fazer isso?"
   ]
  },
  {
   "cell_type": "markdown",
   "metadata": {
    "id": "OEE34CKsU5wM"
   },
   "source": [
    "____\n",
    "____\n",
    "____"
   ]
  },
  {
   "cell_type": "markdown",
   "metadata": {
    "id": "fAvs7yoFU5wN"
   },
   "source": [
    "## 1) Métodos mágicos\n",
    "\n",
    "Como o python entende que o sinal \"+\", quando aplicado à objetos da classe `str` deve **concatenar** as duas strings, ao invés de fazer alguma outra operação estranha de soma?\n",
    "\n",
    "Isso é feito a partir dos **métodos mágicos**!\n",
    "\n",
    "Para ilustrar os usos desses métodos, vamos criar uma classe de horário:"
   ]
  },
  {
   "cell_type": "code",
   "execution_count": null,
   "metadata": {
    "id": "ShIJ0PeiU5wO"
   },
   "outputs": [],
   "source": [
    "class Horario:\n",
    "\n",
    "  def __init__(self, hora, min, seg):\n",
    "\n",
    "    self.h = hora\n",
    "    self.m = min\n",
    "    self.s = seg"
   ]
  },
  {
   "cell_type": "code",
   "execution_count": null,
   "metadata": {
    "id": "LFdAKbHoX601"
   },
   "outputs": [],
   "source": [
    "agora = Horario(15, 12, 30)"
   ]
  },
  {
   "cell_type": "code",
   "execution_count": null,
   "metadata": {
    "colab": {
     "base_uri": "https://localhost:8080/"
    },
    "executionInfo": {
     "elapsed": 5,
     "status": "ok",
     "timestamp": 1675966354026,
     "user": {
      "displayName": "Andre Juan",
      "userId": "08529802346316693602"
     },
     "user_tz": 180
    },
    "id": "tBHcEubEYPs4",
    "outputId": "d7316dc5-d313-4dc7-9e30-a76fa8ba014b"
   },
   "outputs": [
    {
     "data": {
      "text/plain": [
       "{'h': 15, 'm': 12, 's': 30}"
      ]
     },
     "execution_count": 4,
     "metadata": {},
     "output_type": "execute_result"
    }
   ],
   "source": [
    "vars(agora)"
   ]
  },
  {
   "cell_type": "markdown",
   "metadata": {
    "id": "xPufwenPU5wP"
   },
   "source": [
    "### Método de representação\n",
    "\n",
    "O método `__repr__` é um método mágico que permite dar um \"print\" diretamente no objeto, segundo o formato estabelecido! Isto é, chamamos o objeto!\n",
    "\n",
    "Sem definir este método na classe, o print mostra apenas o endereço do método:"
   ]
  },
  {
   "cell_type": "code",
   "execution_count": null,
   "metadata": {
    "colab": {
     "base_uri": "https://localhost:8080/"
    },
    "executionInfo": {
     "elapsed": 335,
     "status": "ok",
     "timestamp": 1675966340126,
     "user": {
      "displayName": "Andre Juan",
      "userId": "08529802346316693602"
     },
     "user_tz": 180
    },
    "id": "SkX_SmTWYMs3",
    "outputId": "f6d5ee56-e484-429f-d059-1c923c596863"
   },
   "outputs": [
    {
     "data": {
      "text/plain": [
       "<__main__.Horario at 0x7f3bc6464c70>"
      ]
     },
     "execution_count": 3,
     "metadata": {},
     "output_type": "execute_result"
    }
   ],
   "source": [
    "agora"
   ]
  },
  {
   "cell_type": "code",
   "execution_count": null,
   "metadata": {
    "colab": {
     "base_uri": "https://localhost:8080/"
    },
    "executionInfo": {
     "elapsed": 265,
     "status": "ok",
     "timestamp": 1675966401224,
     "user": {
      "displayName": "Andre Juan",
      "userId": "08529802346316693602"
     },
     "user_tz": 180
    },
    "id": "n9XKdTOTU5wP",
    "outputId": "a22edf8a-8478-40b7-ef05-cebd44d8e9a3"
   },
   "outputs": [
    {
     "name": "stdout",
     "output_type": "stream",
     "text": [
      "<__main__.Horario object at 0x7f3bc6464c70>\n"
     ]
    }
   ],
   "source": [
    "print(agora)"
   ]
  },
  {
   "cell_type": "markdown",
   "metadata": {
    "id": "OfGk4WLkU5wP"
   },
   "source": [
    "Mas, se redefinirmos a classe com o método de representação:"
   ]
  },
  {
   "cell_type": "code",
   "execution_count": null,
   "metadata": {
    "id": "ppzEUM6bU5wQ"
   },
   "outputs": [],
   "source": [
    "\"15:12:30\""
   ]
  },
  {
   "cell_type": "code",
   "execution_count": null,
   "metadata": {
    "colab": {
     "base_uri": "https://localhost:8080/",
     "height": 36
    },
    "executionInfo": {
     "elapsed": 257,
     "status": "ok",
     "timestamp": 1675966715408,
     "user": {
      "displayName": "Andre Juan",
      "userId": "08529802346316693602"
     },
     "user_tz": 180
    },
    "id": "7NCfB8P7ZHcr",
    "outputId": "c8006e92-eb5f-4ed9-d76d-e3681df066ba"
   },
   "outputs": [
    {
     "data": {
      "application/vnd.google.colaboratory.intrinsic+json": {
       "type": "string"
      },
      "text/plain": [
       "'15:12:30'"
      ]
     },
     "execution_count": 11,
     "metadata": {},
     "output_type": "execute_result"
    }
   ],
   "source": [
    "f\"{agora.h}:{agora.m}:{agora.s}\""
   ]
  },
  {
   "cell_type": "code",
   "execution_count": null,
   "metadata": {
    "id": "wToLDvxSZ41E"
   },
   "outputs": [],
   "source": [
    "class Horario:\n",
    "\n",
    "  def __init__(self, hora, min, seg):\n",
    "\n",
    "    self.h = hora\n",
    "    self.m = min\n",
    "    self.s = seg\n",
    "\n",
    "  def __repr__(self):\n",
    "\n",
    "    return f\"{self.h:02d}:{self.m:02d}:{self.s:02d}\""
   ]
  },
  {
   "cell_type": "code",
   "execution_count": null,
   "metadata": {
    "id": "qT-LWhggalPR"
   },
   "outputs": [],
   "source": [
    "agora = Horario(15, 12, 30)"
   ]
  },
  {
   "cell_type": "code",
   "execution_count": null,
   "metadata": {
    "colab": {
     "base_uri": "https://localhost:8080/"
    },
    "executionInfo": {
     "elapsed": 9,
     "status": "ok",
     "timestamp": 1675967174854,
     "user": {
      "displayName": "Andre Juan",
      "userId": "08529802346316693602"
     },
     "user_tz": 180
    },
    "id": "33BSbvSlanmh",
    "outputId": "ee9d4636-4c05-47e1-b995-c9b17fa2550c"
   },
   "outputs": [
    {
     "data": {
      "text/plain": [
       "15:12:30"
      ]
     },
     "execution_count": 20,
     "metadata": {},
     "output_type": "execute_result"
    }
   ],
   "source": [
    "agora"
   ]
  },
  {
   "cell_type": "code",
   "execution_count": null,
   "metadata": {
    "id": "wLlr-ES5a0jW"
   },
   "outputs": [],
   "source": [
    "h1 = Horario(15, 7, 3)"
   ]
  },
  {
   "cell_type": "code",
   "execution_count": null,
   "metadata": {
    "colab": {
     "base_uri": "https://localhost:8080/"
    },
    "executionInfo": {
     "elapsed": 504,
     "status": "ok",
     "timestamp": 1675967184939,
     "user": {
      "displayName": "Andre Juan",
      "userId": "08529802346316693602"
     },
     "user_tz": 180
    },
    "id": "E-HA3Xu_bBsY",
    "outputId": "56cd6e3f-8cbb-4178-cb72-c13c4059a4a1"
   },
   "outputs": [
    {
     "data": {
      "text/plain": [
       "15:07:03"
      ]
     },
     "execution_count": 22,
     "metadata": {},
     "output_type": "execute_result"
    }
   ],
   "source": [
    "h1"
   ]
  },
  {
   "cell_type": "markdown",
   "metadata": {
    "id": "cIBdhcsaU5wQ"
   },
   "source": [
    "____________\n",
    "\n",
    "Um método mágico parecido com o \\_\\_repr\\_\\_ é o \\_\\_str\\_\\_. Na prática, este método determina o que será exibido PELO PRINT!\n",
    "\n",
    "Se não definir o \\_\\_str\\_\\_, o print vai exibir exatamente o que tá no \\_\\_repr\\_\\_.\n",
    "\n",
    "Mas, se tiver ambos definidos, temos:\n",
    "\n",
    "- \\_\\_repr\\_\\_ : exibe a \"chamada\";\n",
    "- \\_\\_str\\_\\_ : exibe o print()."
   ]
  },
  {
   "cell_type": "code",
   "execution_count": null,
   "metadata": {
    "id": "A1FrHU73U5wR"
   },
   "outputs": [],
   "source": [
    "class Horario:\n",
    "\n",
    "  def __init__(self, hora, min, seg):\n",
    "\n",
    "    self.h = hora\n",
    "    self.m = min\n",
    "    self.s = seg\n",
    "\n",
    "  def __repr__(self):\n",
    "\n",
    "    return f\"{self.h:02d}:{self.m:02d}:{self.s:02d}\"\n",
    "\n",
    "\n",
    "  def __str__(self):\n",
    "\n",
    "    return f\"O horário é: {self.h:02d}:{self.m:02d}:{self.s:02d}\""
   ]
  },
  {
   "cell_type": "code",
   "execution_count": null,
   "metadata": {
    "id": "E9e64LdUcTSS"
   },
   "outputs": [],
   "source": [
    "h1 = Horario(15, 7, 3)"
   ]
  },
  {
   "cell_type": "code",
   "execution_count": null,
   "metadata": {
    "colab": {
     "base_uri": "https://localhost:8080/"
    },
    "executionInfo": {
     "elapsed": 324,
     "status": "ok",
     "timestamp": 1675967422769,
     "user": {
      "displayName": "Andre Juan",
      "userId": "08529802346316693602"
     },
     "user_tz": 180
    },
    "id": "1L6UBXMocUMv",
    "outputId": "220b80b2-cb34-42cd-bcac-4a457ca51646"
   },
   "outputs": [
    {
     "data": {
      "text/plain": [
       "15:07:03"
      ]
     },
     "execution_count": 25,
     "metadata": {},
     "output_type": "execute_result"
    }
   ],
   "source": [
    "h1"
   ]
  },
  {
   "cell_type": "code",
   "execution_count": null,
   "metadata": {
    "colab": {
     "base_uri": "https://localhost:8080/"
    },
    "executionInfo": {
     "elapsed": 328,
     "status": "ok",
     "timestamp": 1675967469250,
     "user": {
      "displayName": "Andre Juan",
      "userId": "08529802346316693602"
     },
     "user_tz": 180
    },
    "id": "3vZaOYSgcfY0",
    "outputId": "3ad30228-5625-4e05-bfc1-11fd0c22f3c3"
   },
   "outputs": [
    {
     "name": "stdout",
     "output_type": "stream",
     "text": [
      "O horário é: 15:07:03\n"
     ]
    }
   ],
   "source": [
    "print(h1)"
   ]
  },
  {
   "cell_type": "markdown",
   "metadata": {
    "id": "-lJZDs89U5wR"
   },
   "source": [
    "Assim conseguimos melhorar muito a representação visual dos nossos objetos! Muito legal, não é mesmo?"
   ]
  },
  {
   "cell_type": "code",
   "execution_count": null,
   "metadata": {
    "id": "XrobJiEPc-Mc"
   },
   "outputs": [],
   "source": [
    "import pandas as pd\n",
    "\n",
    "df = pd.DataFrame({\"a\" : [1, 2, 3, 4, 5],\n",
    "                   \"b\" : [5, 6, 7, 8, 9]})"
   ]
  },
  {
   "cell_type": "code",
   "execution_count": null,
   "metadata": {
    "colab": {
     "base_uri": "https://localhost:8080/",
     "height": 206
    },
    "executionInfo": {
     "elapsed": 266,
     "status": "ok",
     "timestamp": 1675967709185,
     "user": {
      "displayName": "Andre Juan",
      "userId": "08529802346316693602"
     },
     "user_tz": 180
    },
    "id": "g90GHLDVdZtP",
    "outputId": "b0572cef-e02c-4566-d18e-13dedce4c928"
   },
   "outputs": [
    {
     "data": {
      "text/html": [
       "\n",
       "  <div id=\"df-791439a8-936d-4296-a067-90b384e6958e\">\n",
       "    <div class=\"colab-df-container\">\n",
       "      <div>\n",
       "<style scoped>\n",
       "    .dataframe tbody tr th:only-of-type {\n",
       "        vertical-align: middle;\n",
       "    }\n",
       "\n",
       "    .dataframe tbody tr th {\n",
       "        vertical-align: top;\n",
       "    }\n",
       "\n",
       "    .dataframe thead th {\n",
       "        text-align: right;\n",
       "    }\n",
       "</style>\n",
       "<table border=\"1\" class=\"dataframe\">\n",
       "  <thead>\n",
       "    <tr style=\"text-align: right;\">\n",
       "      <th></th>\n",
       "      <th>a</th>\n",
       "      <th>b</th>\n",
       "    </tr>\n",
       "  </thead>\n",
       "  <tbody>\n",
       "    <tr>\n",
       "      <th>0</th>\n",
       "      <td>1</td>\n",
       "      <td>5</td>\n",
       "    </tr>\n",
       "    <tr>\n",
       "      <th>1</th>\n",
       "      <td>2</td>\n",
       "      <td>6</td>\n",
       "    </tr>\n",
       "    <tr>\n",
       "      <th>2</th>\n",
       "      <td>3</td>\n",
       "      <td>7</td>\n",
       "    </tr>\n",
       "    <tr>\n",
       "      <th>3</th>\n",
       "      <td>4</td>\n",
       "      <td>8</td>\n",
       "    </tr>\n",
       "    <tr>\n",
       "      <th>4</th>\n",
       "      <td>5</td>\n",
       "      <td>9</td>\n",
       "    </tr>\n",
       "  </tbody>\n",
       "</table>\n",
       "</div>\n",
       "      <button class=\"colab-df-convert\" onclick=\"convertToInteractive('df-791439a8-936d-4296-a067-90b384e6958e')\"\n",
       "              title=\"Convert this dataframe to an interactive table.\"\n",
       "              style=\"display:none;\">\n",
       "        \n",
       "  <svg xmlns=\"http://www.w3.org/2000/svg\" height=\"24px\"viewBox=\"0 0 24 24\"\n",
       "       width=\"24px\">\n",
       "    <path d=\"M0 0h24v24H0V0z\" fill=\"none\"/>\n",
       "    <path d=\"M18.56 5.44l.94 2.06.94-2.06 2.06-.94-2.06-.94-.94-2.06-.94 2.06-2.06.94zm-11 1L8.5 8.5l.94-2.06 2.06-.94-2.06-.94L8.5 2.5l-.94 2.06-2.06.94zm10 10l.94 2.06.94-2.06 2.06-.94-2.06-.94-.94-2.06-.94 2.06-2.06.94z\"/><path d=\"M17.41 7.96l-1.37-1.37c-.4-.4-.92-.59-1.43-.59-.52 0-1.04.2-1.43.59L10.3 9.45l-7.72 7.72c-.78.78-.78 2.05 0 2.83L4 21.41c.39.39.9.59 1.41.59.51 0 1.02-.2 1.41-.59l7.78-7.78 2.81-2.81c.8-.78.8-2.07 0-2.86zM5.41 20L4 18.59l7.72-7.72 1.47 1.35L5.41 20z\"/>\n",
       "  </svg>\n",
       "      </button>\n",
       "      \n",
       "  <style>\n",
       "    .colab-df-container {\n",
       "      display:flex;\n",
       "      flex-wrap:wrap;\n",
       "      gap: 12px;\n",
       "    }\n",
       "\n",
       "    .colab-df-convert {\n",
       "      background-color: #E8F0FE;\n",
       "      border: none;\n",
       "      border-radius: 50%;\n",
       "      cursor: pointer;\n",
       "      display: none;\n",
       "      fill: #1967D2;\n",
       "      height: 32px;\n",
       "      padding: 0 0 0 0;\n",
       "      width: 32px;\n",
       "    }\n",
       "\n",
       "    .colab-df-convert:hover {\n",
       "      background-color: #E2EBFA;\n",
       "      box-shadow: 0px 1px 2px rgba(60, 64, 67, 0.3), 0px 1px 3px 1px rgba(60, 64, 67, 0.15);\n",
       "      fill: #174EA6;\n",
       "    }\n",
       "\n",
       "    [theme=dark] .colab-df-convert {\n",
       "      background-color: #3B4455;\n",
       "      fill: #D2E3FC;\n",
       "    }\n",
       "\n",
       "    [theme=dark] .colab-df-convert:hover {\n",
       "      background-color: #434B5C;\n",
       "      box-shadow: 0px 1px 3px 1px rgba(0, 0, 0, 0.15);\n",
       "      filter: drop-shadow(0px 1px 2px rgba(0, 0, 0, 0.3));\n",
       "      fill: #FFFFFF;\n",
       "    }\n",
       "  </style>\n",
       "\n",
       "      <script>\n",
       "        const buttonEl =\n",
       "          document.querySelector('#df-791439a8-936d-4296-a067-90b384e6958e button.colab-df-convert');\n",
       "        buttonEl.style.display =\n",
       "          google.colab.kernel.accessAllowed ? 'block' : 'none';\n",
       "\n",
       "        async function convertToInteractive(key) {\n",
       "          const element = document.querySelector('#df-791439a8-936d-4296-a067-90b384e6958e');\n",
       "          const dataTable =\n",
       "            await google.colab.kernel.invokeFunction('convertToInteractive',\n",
       "                                                     [key], {});\n",
       "          if (!dataTable) return;\n",
       "\n",
       "          const docLinkHtml = 'Like what you see? Visit the ' +\n",
       "            '<a target=\"_blank\" href=https://colab.research.google.com/notebooks/data_table.ipynb>data table notebook</a>'\n",
       "            + ' to learn more about interactive tables.';\n",
       "          element.innerHTML = '';\n",
       "          dataTable['output_type'] = 'display_data';\n",
       "          await google.colab.output.renderOutput(dataTable, element);\n",
       "          const docLink = document.createElement('div');\n",
       "          docLink.innerHTML = docLinkHtml;\n",
       "          element.appendChild(docLink);\n",
       "        }\n",
       "      </script>\n",
       "    </div>\n",
       "  </div>\n",
       "  "
      ],
      "text/plain": [
       "   a  b\n",
       "0  1  5\n",
       "1  2  6\n",
       "2  3  7\n",
       "3  4  8\n",
       "4  5  9"
      ]
     },
     "execution_count": 29,
     "metadata": {},
     "output_type": "execute_result"
    }
   ],
   "source": [
    "df"
   ]
  },
  {
   "cell_type": "code",
   "execution_count": null,
   "metadata": {
    "colab": {
     "base_uri": "https://localhost:8080/"
    },
    "executionInfo": {
     "elapsed": 241,
     "status": "ok",
     "timestamp": 1675967763761,
     "user": {
      "displayName": "Andre Juan",
      "userId": "08529802346316693602"
     },
     "user_tz": 180
    },
    "id": "wHyWX4W0dncw",
    "outputId": "55467c32-5b20-4e99-f116-626c85ac8d3f"
   },
   "outputs": [
    {
     "name": "stdout",
     "output_type": "stream",
     "text": [
      "   a  b\n",
      "0  1  5\n",
      "1  2  6\n",
      "2  3  7\n",
      "3  4  8\n",
      "4  5  9\n"
     ]
    }
   ],
   "source": [
    "print(df)"
   ]
  },
  {
   "cell_type": "markdown",
   "metadata": {
    "id": "O9MMt8qeU5wR"
   },
   "source": [
    "Agora vamos conhecer uma outra classe de métodos mágicos, que são importantíssimos!"
   ]
  },
  {
   "cell_type": "markdown",
   "metadata": {
    "id": "L1KwC6PiU5wS"
   },
   "source": [
    "### Métodos aritméticos\n",
    "\n",
    "Essas operações são triviais, quando feita entre números:"
   ]
  },
  {
   "cell_type": "code",
   "execution_count": null,
   "metadata": {
    "colab": {
     "base_uri": "https://localhost:8080/"
    },
    "executionInfo": {
     "elapsed": 270,
     "status": "ok",
     "timestamp": 1675967890530,
     "user": {
      "displayName": "Andre Juan",
      "userId": "08529802346316693602"
     },
     "user_tz": 180
    },
    "id": "p0rkwVo0U5wS",
    "outputId": "fdd3b24e-6e59-42e9-bdc4-9ea629e8fdba"
   },
   "outputs": [
    {
     "data": {
      "text/plain": [
       "3"
      ]
     },
     "execution_count": 31,
     "metadata": {},
     "output_type": "execute_result"
    }
   ],
   "source": [
    "1 + 2"
   ]
  },
  {
   "cell_type": "markdown",
   "metadata": {
    "id": "A14IBN30U5wS"
   },
   "source": [
    "Mas o fato é que os operadores aritméticos são meramente simbolos: + - * / \n",
    "\n",
    "Na realidade, estes símbolos são apenas \"atalhos\" para **métodos que operam com dois objetos**, um à esquerda, e outro à direita, retornando o valor correspondente à operação desejada.\n",
    "\n",
    "Esses métodos são chamados de __métodos mágicos aritméticos__, que substituem os símbolos aritméticos pelas operações que forem definidas dentro da classe!\n",
    "\n",
    "Temos os seguintes métodos mágicos aritméticos:\n",
    "\n",
    "- \\_\\_add\\_\\_:  soma: +\n",
    "- \\_\\_sub\\_\\_:  subtração: -\n",
    "- \\_\\_mul\\_\\_:  multiplicação: *\n",
    "- \\_\\_truediv\\_\\_:  divisão: /\n",
    "- \\_\\_floordiv\\_\\_:  divisão inteira: //\n",
    "- \\_\\_mod\\_\\_:  resto de divisão: %\n",
    "- \\_\\_pow\\_\\_:  potência: **\n",
    "\n"
   ]
  },
  {
   "cell_type": "markdown",
   "metadata": {
    "id": "URzwnj5HU5wT"
   },
   "source": [
    "Então, temos a seguinte equivalência:"
   ]
  },
  {
   "cell_type": "code",
   "execution_count": null,
   "metadata": {
    "id": "bcAeojF4U5wT"
   },
   "outputs": [],
   "source": [
    "n1 = 2\n",
    "n2 = 4"
   ]
  },
  {
   "cell_type": "code",
   "execution_count": null,
   "metadata": {
    "colab": {
     "base_uri": "https://localhost:8080/"
    },
    "executionInfo": {
     "elapsed": 322,
     "status": "ok",
     "timestamp": 1675968291535,
     "user": {
      "displayName": "Andre Juan",
      "userId": "08529802346316693602"
     },
     "user_tz": 180
    },
    "id": "wppxcGcBfEky",
    "outputId": "7f91088e-6d25-46b3-f2a2-9f28b1fd63da"
   },
   "outputs": [
    {
     "data": {
      "text/plain": [
       "6"
      ]
     },
     "execution_count": 38,
     "metadata": {},
     "output_type": "execute_result"
    }
   ],
   "source": [
    "n1 + n2"
   ]
  },
  {
   "cell_type": "code",
   "execution_count": null,
   "metadata": {
    "colab": {
     "base_uri": "https://localhost:8080/"
    },
    "executionInfo": {
     "elapsed": 252,
     "status": "ok",
     "timestamp": 1675968334315,
     "user": {
      "displayName": "Andre Juan",
      "userId": "08529802346316693602"
     },
     "user_tz": 180
    },
    "id": "hfuaudVvfiv1",
    "outputId": "195b0a18-99e3-4937-8780-cbf2bcf4b2f3"
   },
   "outputs": [
    {
     "data": {
      "text/plain": [
       "6"
      ]
     },
     "execution_count": 39,
     "metadata": {},
     "output_type": "execute_result"
    }
   ],
   "source": [
    "n1.__add__(n2)"
   ]
  },
  {
   "cell_type": "markdown",
   "metadata": {
    "id": "Ms1HlSafU5wT"
   },
   "source": [
    "Agora, o uso desses operadores com dados não numéricos não é trivial, mas o Python **definiu** o funcionamento destes símbolos entre instâncias de diferentes classes!"
   ]
  },
  {
   "cell_type": "code",
   "execution_count": null,
   "metadata": {
    "colab": {
     "base_uri": "https://localhost:8080/",
     "height": 36
    },
    "executionInfo": {
     "elapsed": 252,
     "status": "ok",
     "timestamp": 1675967990127,
     "user": {
      "displayName": "Andre Juan",
      "userId": "08529802346316693602"
     },
     "user_tz": 180
    },
    "id": "RK_HIMXtU5wT",
    "outputId": "a32970c1-5092-4a0f-c6df-60afa6c7ec1a"
   },
   "outputs": [
    {
     "data": {
      "application/vnd.google.colaboratory.intrinsic+json": {
       "type": "string"
      },
      "text/plain": [
       "'abacateabacaxi'"
      ]
     },
     "execution_count": 34,
     "metadata": {},
     "output_type": "execute_result"
    }
   ],
   "source": [
    "\"abacate\" + \"abacaxi\""
   ]
  },
  {
   "cell_type": "code",
   "execution_count": null,
   "metadata": {
    "colab": {
     "base_uri": "https://localhost:8080/",
     "height": 36
    },
    "executionInfo": {
     "elapsed": 258,
     "status": "ok",
     "timestamp": 1675968417899,
     "user": {
      "displayName": "Andre Juan",
      "userId": "08529802346316693602"
     },
     "user_tz": 180
    },
    "id": "DttcMWx_gAQg",
    "outputId": "66c41ae6-7267-442b-a45f-8e0dd46d56c2"
   },
   "outputs": [
    {
     "data": {
      "application/vnd.google.colaboratory.intrinsic+json": {
       "type": "string"
      },
      "text/plain": [
       "'abacateabacaxi'"
      ]
     },
     "execution_count": 40,
     "metadata": {},
     "output_type": "execute_result"
    }
   ],
   "source": [
    "\"abacate\".__add__(\"abacaxi\")"
   ]
  },
  {
   "cell_type": "markdown",
   "metadata": {
    "id": "EfCrh5uYU5wU"
   },
   "source": [
    "E, claro, as operações podem não estar definidas entre instâncias de classes diferentes:"
   ]
  },
  {
   "cell_type": "code",
   "execution_count": null,
   "metadata": {
    "colab": {
     "base_uri": "https://localhost:8080/",
     "height": 165
    },
    "executionInfo": {
     "elapsed": 335,
     "status": "error",
     "timestamp": 1675968452282,
     "user": {
      "displayName": "Andre Juan",
      "userId": "08529802346316693602"
     },
     "user_tz": 180
    },
    "id": "A4diWclIU5wU",
    "outputId": "5124fc63-b4b6-462b-e9cf-61f7798fe03a"
   },
   "outputs": [
    {
     "ename": "TypeError",
     "evalue": "ignored",
     "output_type": "error",
     "traceback": [
      "\u001b[0;31m---------------------------------------------------------------------------\u001b[0m",
      "\u001b[0;31mTypeError\u001b[0m                                 Traceback (most recent call last)",
      "\u001b[0;32m<ipython-input-41-eb21d156b5fb>\u001b[0m in \u001b[0;36m<module>\u001b[0;34m\u001b[0m\n\u001b[0;32m----> 1\u001b[0;31m \u001b[0;34m\"ada\"\u001b[0m \u001b[0;34m+\u001b[0m \u001b[0;36m2\u001b[0m\u001b[0;34m\u001b[0m\u001b[0;34m\u001b[0m\u001b[0m\n\u001b[0m",
      "\u001b[0;31mTypeError\u001b[0m: can only concatenate str (not \"int\") to str"
     ]
    }
   ],
   "source": [
    "\"ada\" + 2"
   ]
  },
  {
   "cell_type": "code",
   "execution_count": null,
   "metadata": {
    "colab": {
     "base_uri": "https://localhost:8080/",
     "height": 165
    },
    "executionInfo": {
     "elapsed": 14,
     "status": "error",
     "timestamp": 1675968517920,
     "user": {
      "displayName": "Andre Juan",
      "userId": "08529802346316693602"
     },
     "user_tz": 180
    },
    "id": "Wy3TE4Ibgbe_",
    "outputId": "dfb7d907-cd10-4d82-abf2-59d83d8250a0"
   },
   "outputs": [
    {
     "ename": "TypeError",
     "evalue": "ignored",
     "output_type": "error",
     "traceback": [
      "\u001b[0;31m---------------------------------------------------------------------------\u001b[0m",
      "\u001b[0;31mTypeError\u001b[0m                                 Traceback (most recent call last)",
      "\u001b[0;32m<ipython-input-42-5b1a9a78a02c>\u001b[0m in \u001b[0;36m<module>\u001b[0;34m\u001b[0m\n\u001b[0;32m----> 1\u001b[0;31m \u001b[0;34m\"ada\"\u001b[0m\u001b[0;34m.\u001b[0m\u001b[0m__add__\u001b[0m\u001b[0;34m(\u001b[0m\u001b[0;36m2\u001b[0m\u001b[0;34m)\u001b[0m\u001b[0;34m\u001b[0m\u001b[0;34m\u001b[0m\u001b[0m\n\u001b[0m",
      "\u001b[0;31mTypeError\u001b[0m: can only concatenate str (not \"int\") to str"
     ]
    }
   ],
   "source": [
    "\"ada\".__add__(2)"
   ]
  },
  {
   "cell_type": "code",
   "execution_count": null,
   "metadata": {
    "colab": {
     "base_uri": "https://localhost:8080/",
     "height": 36
    },
    "executionInfo": {
     "elapsed": 249,
     "status": "ok",
     "timestamp": 1675968548844,
     "user": {
      "displayName": "Andre Juan",
      "userId": "08529802346316693602"
     },
     "user_tz": 180
    },
    "id": "SccLQosfgl9M",
    "outputId": "02d8a5ca-7e01-4678-9040-ee811633f5e4"
   },
   "outputs": [
    {
     "data": {
      "application/vnd.google.colaboratory.intrinsic+json": {
       "type": "string"
      },
      "text/plain": [
       "'adaadaada'"
      ]
     },
     "execution_count": 43,
     "metadata": {},
     "output_type": "execute_result"
    }
   ],
   "source": [
    "\"ada\" * 3"
   ]
  },
  {
   "cell_type": "code",
   "execution_count": null,
   "metadata": {
    "colab": {
     "base_uri": "https://localhost:8080/",
     "height": 36
    },
    "executionInfo": {
     "elapsed": 250,
     "status": "ok",
     "timestamp": 1675968586591,
     "user": {
      "displayName": "Andre Juan",
      "userId": "08529802346316693602"
     },
     "user_tz": 180
    },
    "id": "IHJJVUX4grGR",
    "outputId": "7e249d5d-1e88-4608-b53b-638e8d9ef980"
   },
   "outputs": [
    {
     "data": {
      "application/vnd.google.colaboratory.intrinsic+json": {
       "type": "string"
      },
      "text/plain": [
       "'adaadaada'"
      ]
     },
     "execution_count": 44,
     "metadata": {},
     "output_type": "execute_result"
    }
   ],
   "source": [
    "\"ada\".__mul__(3)"
   ]
  },
  {
   "cell_type": "markdown",
   "metadata": {
    "id": "M8HCHJ7bU5wU"
   },
   "source": [
    "A definição destes métodos mágicos para os tipos nativos do Python é feita nativamente.\n",
    "\n",
    "Mas a boa notícia é que podemos implementar métodos mágicos para qualquer classe que venhamos a criar!"
   ]
  },
  {
   "cell_type": "markdown",
   "metadata": {
    "id": "jq0axUnXU5wU"
   },
   "source": [
    "Vamos, a seguir, definir um método de soma de horas na nossa classe, que vai ser chamado pelo operador aritmético \"+\" (ou seja, será o método `__add__`)"
   ]
  },
  {
   "cell_type": "code",
   "execution_count": 1,
   "metadata": {
    "id": "Pjvc4NOjU5wU"
   },
   "outputs": [],
   "source": [
    "class Horario:\n",
    "\n",
    "  def __init__(self, hora, min, seg):\n",
    "\n",
    "    self.h = hora\n",
    "    self.m = min\n",
    "    self.s = seg\n",
    "\n",
    "  def __repr__(self):\n",
    "\n",
    "    return f\"{self.h:02d}:{self.m:02d}:{self.s:02d}\"\n",
    "\n",
    "\n",
    "  def __str__(self):\n",
    "\n",
    "    return f\"{self.h:02d}:{self.m:02d}:{self.s:02d}\"\n",
    "\n",
    "  def __add__(self, other):  # other é o argumento que vai a esquerda da operação soma (+)\n",
    "\n",
    "    se = self.s + other.s\n",
    "    mi = self.m + other.m\n",
    "    ho = self.h + other.h\n",
    "\n",
    "    if se >= 60:\n",
    "      mi += 1\n",
    "      # mi = mi + 1\n",
    "      \n",
    "      se -= 60\n",
    "      # se = se - 60\n",
    "\n",
    "    if mi >= 60:\n",
    "      ho += 1\n",
    "      mi -= 60\n",
    "\n",
    "    if ho >= 24:\n",
    "      ho -= 24\n",
    "\n",
    "    return Horario(ho, mi, se)\n"
   ]
  },
  {
   "cell_type": "code",
   "execution_count": 2,
   "metadata": {
    "id": "r01oyk7LhgQ5"
   },
   "outputs": [],
   "source": [
    "h1 = Horario(9, 27, 42)\n",
    "h2 = Horario(7, 38, 41)"
   ]
  },
  {
   "cell_type": "code",
   "execution_count": 3,
   "metadata": {
    "colab": {
     "base_uri": "https://localhost:8080/"
    },
    "executionInfo": {
     "elapsed": 3,
     "status": "ok",
     "timestamp": 1675968964826,
     "user": {
      "displayName": "Andre Juan",
      "userId": "08529802346316693602"
     },
     "user_tz": 180
    },
    "id": "OLYAw_Xghm0m",
    "outputId": "52c601b7-0dc2-4338-859a-1386de86a6bf"
   },
   "outputs": [
    {
     "data": {
      "text/plain": [
       "09:27:42"
      ]
     },
     "execution_count": 3,
     "metadata": {},
     "output_type": "execute_result"
    }
   ],
   "source": [
    "h1"
   ]
  },
  {
   "cell_type": "code",
   "execution_count": 4,
   "metadata": {
    "colab": {
     "base_uri": "https://localhost:8080/"
    },
    "executionInfo": {
     "elapsed": 2,
     "status": "ok",
     "timestamp": 1675968965143,
     "user": {
      "displayName": "Andre Juan",
      "userId": "08529802346316693602"
     },
     "user_tz": 180
    },
    "id": "v9KMLZAKho2B",
    "outputId": "3d1d12f7-fa98-47cb-b9cd-e87143cbb736"
   },
   "outputs": [
    {
     "data": {
      "text/plain": [
       "07:38:41"
      ]
     },
     "execution_count": 4,
     "metadata": {},
     "output_type": "execute_result"
    }
   ],
   "source": [
    "h2"
   ]
  },
  {
   "cell_type": "code",
   "execution_count": 5,
   "metadata": {
    "colab": {
     "base_uri": "https://localhost:8080/",
     "height": 36
    },
    "executionInfo": {
     "elapsed": 12,
     "status": "ok",
     "timestamp": 1675968970150,
     "user": {
      "displayName": "Andre Juan",
      "userId": "08529802346316693602"
     },
     "user_tz": 180
    },
    "id": "b8CbQXIihqkK",
    "outputId": "fac62d48-3ea7-4926-b073-188a97cb451e"
   },
   "outputs": [
    {
     "data": {
      "text/plain": [
       "'17:65:83'"
      ]
     },
     "execution_count": 5,
     "metadata": {},
     "output_type": "execute_result"
    }
   ],
   "source": [
    "f\"{9+8}:{27+38}:{42+41}\""
   ]
  },
  {
   "cell_type": "code",
   "execution_count": 6,
   "metadata": {
    "id": "Y1yLKNr4iWNq"
   },
   "outputs": [
    {
     "ename": "SyntaxError",
     "evalue": "invalid decimal literal (1188053701.py, line 1)",
     "output_type": "error",
     "traceback": [
      "\u001b[1;36m  Cell \u001b[1;32mIn[6], line 1\u001b[1;36m\u001b[0m\n\u001b[1;33m    83s = 60s + 23s = 1min + 23s\u001b[0m\n\u001b[1;37m     ^\u001b[0m\n\u001b[1;31mSyntaxError\u001b[0m\u001b[1;31m:\u001b[0m invalid decimal literal\n"
     ]
    }
   ],
   "source": [
    "83s = 60s + 23s = 1min + 23s"
   ]
  },
  {
   "cell_type": "code",
   "execution_count": 7,
   "metadata": {
    "id": "OQoo13RtigUX"
   },
   "outputs": [
    {
     "ename": "SyntaxError",
     "evalue": "invalid decimal literal (2110288671.py, line 1)",
     "output_type": "error",
     "traceback": [
      "\u001b[1;36m  Cell \u001b[1;32mIn[7], line 1\u001b[1;36m\u001b[0m\n\u001b[1;33m    66m = 60m + 6m = 1h + 6m\u001b[0m\n\u001b[1;37m     ^\u001b[0m\n\u001b[1;31mSyntaxError\u001b[0m\u001b[1;31m:\u001b[0m invalid decimal literal\n"
     ]
    }
   ],
   "source": [
    "66m = 60m + 6m = 1h + 6m"
   ]
  },
  {
   "cell_type": "code",
   "execution_count": 8,
   "metadata": {
    "colab": {
     "base_uri": "https://localhost:8080/",
     "height": 36
    },
    "executionInfo": {
     "elapsed": 637,
     "status": "ok",
     "timestamp": 1675969628618,
     "user": {
      "displayName": "Andre Juan",
      "userId": "08529802346316693602"
     },
     "user_tz": 180
    },
    "id": "_xt2DrSAiLlj",
    "outputId": "d75fbcc2-6ba4-408a-de01-82f3fbb32016"
   },
   "outputs": [
    {
     "data": {
      "text/plain": [
       "'17:6:23'"
      ]
     },
     "execution_count": 8,
     "metadata": {},
     "output_type": "execute_result"
    }
   ],
   "source": [
    "f\"{9+7+1}:{6}:{23}\""
   ]
  },
  {
   "cell_type": "code",
   "execution_count": 9,
   "metadata": {
    "colab": {
     "base_uri": "https://localhost:8080/"
    },
    "executionInfo": {
     "elapsed": 9,
     "status": "ok",
     "timestamp": 1675969594448,
     "user": {
      "displayName": "Andre Juan",
      "userId": "08529802346316693602"
     },
     "user_tz": 180
    },
    "id": "jJbMrVN8hMBn",
    "outputId": "1c8ccda9-e134-4c2b-ee44-c171bf9f3faf"
   },
   "outputs": [
    {
     "name": "stdout",
     "output_type": "stream",
     "text": [
      "Entrei às 09:27:42\n",
      "Trabalhei por 07:38:41\n",
      "Vou sair às 17:06:23\n"
     ]
    }
   ],
   "source": [
    "h1 = Horario(9, 27, 42)\n",
    "h2 = Horario(7, 38, 41)\n",
    "\n",
    "h3 = h1 + h2\n",
    "\n",
    "print(f\"Entrei às {h1}\\nTrabalhei por {h2}\\nVou sair às {h3}\")"
   ]
  },
  {
   "cell_type": "markdown",
   "metadata": {
    "id": "24lFzwGYU5wV"
   },
   "source": [
    "### Métodos lógicos\n",
    "\n",
    "Da mesma forma que há metódos mágicos para operações aritméticas, há também para **operações lógicas!**\n",
    "\n",
    "Conhecemos alguns exemplos implementados pros tipos nativos:"
   ]
  },
  {
   "cell_type": "code",
   "execution_count": null,
   "metadata": {
    "colab": {
     "base_uri": "https://localhost:8080/"
    },
    "executionInfo": {
     "elapsed": 4,
     "status": "ok",
     "timestamp": 1675969765918,
     "user": {
      "displayName": "Andre Juan",
      "userId": "08529802346316693602"
     },
     "user_tz": 180
    },
    "id": "fRvhLZGTU5wV",
    "outputId": "907ef715-b9b8-4fd0-99cb-fd8ecf7ff101"
   },
   "outputs": [
    {
     "data": {
      "text/plain": [
       "False"
      ]
     },
     "execution_count": 72,
     "metadata": {},
     "output_type": "execute_result"
    }
   ],
   "source": [
    "2 > 3"
   ]
  },
  {
   "cell_type": "code",
   "execution_count": null,
   "metadata": {
    "colab": {
     "base_uri": "https://localhost:8080/"
    },
    "executionInfo": {
     "elapsed": 272,
     "status": "ok",
     "timestamp": 1675969816911,
     "user": {
      "displayName": "Andre Juan",
      "userId": "08529802346316693602"
     },
     "user_tz": 180
    },
    "id": "VBUK1Qg1lVDE",
    "outputId": "b6013cb1-7a10-4acf-ebd0-87dc6e47d86d"
   },
   "outputs": [
    {
     "data": {
      "text/plain": [
       "False"
      ]
     },
     "execution_count": 73,
     "metadata": {},
     "output_type": "execute_result"
    }
   ],
   "source": [
    "\"abacate\" > \"abacaxi\""
   ]
  },
  {
   "cell_type": "markdown",
   "metadata": {
    "id": "JzOGY9YQU5wV"
   },
   "source": [
    "Os métodos lógicos correspondentes a estes operadores são:\n",
    "\n",
    "- \\_\\_gt\\__: maior que (greater than): >\n",
    "- \\_\\_ge\\__: maior ou igual (greater or equal): >=\n",
    "- \\_\\_lt\\__: menor que (less than): <\n",
    "- \\_\\_le\\__: menor ou igual (less or equal): <=\n",
    "- \\_\\_eq\\__: igual (equal): ==\n",
    "- \\_\\_ne\\__: diferente (not equal): !=\n",
    "\n",
    "Ou seja, temos a equivalência, por exemplo:"
   ]
  },
  {
   "cell_type": "code",
   "execution_count": null,
   "metadata": {
    "colab": {
     "base_uri": "https://localhost:8080/"
    },
    "executionInfo": {
     "elapsed": 9,
     "status": "ok",
     "timestamp": 1675969857056,
     "user": {
      "displayName": "Andre Juan",
      "userId": "08529802346316693602"
     },
     "user_tz": 180
    },
    "id": "XlOvtVO7U5wV",
    "outputId": "3abac976-d30f-4938-e4fc-ea57676b81e8"
   },
   "outputs": [
    {
     "data": {
      "text/plain": [
       "False"
      ]
     },
     "execution_count": 74,
     "metadata": {},
     "output_type": "execute_result"
    }
   ],
   "source": [
    "\"abacate\".__gt__(\"abacaxi\")"
   ]
  },
  {
   "cell_type": "markdown",
   "metadata": {
    "id": "KYt_ITdYU5wV"
   },
   "source": [
    "Como fazer um método para comparar dois horários?"
   ]
  },
  {
   "cell_type": "code",
   "execution_count": null,
   "metadata": {
    "id": "l_48mnaxU5wV"
   },
   "outputs": [],
   "source": [
    "class Horario:\n",
    "\n",
    "  def __init__(self, hora, min, seg):\n",
    "\n",
    "    self.h = hora\n",
    "    self.m = min\n",
    "    self.s = seg\n",
    "\n",
    "  def __repr__(self):\n",
    "\n",
    "    return f\"{self.h:02d}:{self.m:02d}:{self.s:02d}\"\n",
    "\n",
    "\n",
    "  def __str__(self):\n",
    "\n",
    "    return f\"{self.h:02d}:{self.m:02d}:{self.s:02d}\"\n",
    "\n",
    "  def __add__(self, other):\n",
    "\n",
    "    se = self.s + other.s\n",
    "    mi = self.m + other.m\n",
    "    ho = self.h + other.h\n",
    "\n",
    "    if se >= 60:\n",
    "      mi += 1\n",
    "      # mi = mi + 1\n",
    "      \n",
    "      se -= 60\n",
    "      # se = se - 60\n",
    "\n",
    "    if mi >= 60:\n",
    "      ho += 1\n",
    "      mi -= 60\n",
    "\n",
    "    if ho >= 24:\n",
    "      ho -= 24\n",
    "\n",
    "    return Horario(ho, mi, se)\n",
    "\n",
    "  def __gt__(self, other):\n",
    "\n",
    "    if self.h > other.h:\n",
    "      return True\n",
    "    elif self.h == other.h and self.m > other.m:\n",
    "      return True\n",
    "    elif self.h == other.h and self.m == other.m and self.s > other.s:\n",
    "      return True\n",
    "\n",
    "    return False\n",
    "\n"
   ]
  },
  {
   "cell_type": "code",
   "execution_count": null,
   "metadata": {
    "colab": {
     "base_uri": "https://localhost:8080/"
    },
    "executionInfo": {
     "elapsed": 255,
     "status": "ok",
     "timestamp": 1675970172513,
     "user": {
      "displayName": "Andre Juan",
      "userId": "08529802346316693602"
     },
     "user_tz": 180
    },
    "id": "B_ao_eEXl5B3",
    "outputId": "b708ef6f-d66c-4faf-917a-d9e50687a055"
   },
   "outputs": [
    {
     "data": {
      "text/plain": [
       "True"
      ]
     },
     "execution_count": 79,
     "metadata": {},
     "output_type": "execute_result"
    }
   ],
   "source": [
    "h1 = Horario(9, 27, 42)\n",
    "h2 = Horario(9, 27, 36)\n",
    "\n",
    "h1 > h2"
   ]
  },
  {
   "cell_type": "code",
   "execution_count": null,
   "metadata": {
    "colab": {
     "base_uri": "https://localhost:8080/"
    },
    "executionInfo": {
     "elapsed": 8,
     "status": "ok",
     "timestamp": 1675970182530,
     "user": {
      "displayName": "Andre Juan",
      "userId": "08529802346316693602"
     },
     "user_tz": 180
    },
    "id": "eLzWuuq-mx0O",
    "outputId": "c040c39d-3ca6-4070-a790-c0a5021971f4"
   },
   "outputs": [
    {
     "data": {
      "text/plain": [
       "False"
      ]
     },
     "execution_count": 80,
     "metadata": {},
     "output_type": "execute_result"
    }
   ],
   "source": [
    "h1 = Horario(9, 27, 42)\n",
    "h2 = Horario(9, 38, 36)\n",
    "\n",
    "h1 > h2"
   ]
  },
  {
   "cell_type": "markdown",
   "metadata": {
    "id": "tY5zZijKU5wW"
   },
   "source": [
    "E, ao definirmos um método mágico, alguns outros também são automaticamente definidos:"
   ]
  },
  {
   "cell_type": "code",
   "execution_count": null,
   "metadata": {
    "colab": {
     "base_uri": "https://localhost:8080/"
    },
    "executionInfo": {
     "elapsed": 6,
     "status": "ok",
     "timestamp": 1675970215339,
     "user": {
      "displayName": "Andre Juan",
      "userId": "08529802346316693602"
     },
     "user_tz": 180
    },
    "id": "Oyhoe6D8U5wW",
    "outputId": "c4d26b1b-be73-48de-e223-08c21682b121"
   },
   "outputs": [
    {
     "data": {
      "text/plain": [
       "True"
      ]
     },
     "execution_count": 81,
     "metadata": {},
     "output_type": "execute_result"
    }
   ],
   "source": [
    "h1 < h2"
   ]
  },
  {
   "cell_type": "code",
   "execution_count": 10,
   "metadata": {},
   "outputs": [
    {
     "name": "stdout",
     "output_type": "stream",
     "text": [
      "True False\n"
     ]
    }
   ],
   "source": [
    "class A:\n",
    "    def __init__(self, x, y):\n",
    "        self.x = x\n",
    "        self.y = y \n",
    "    def __eq__(self, outro):\n",
    "        return self.x == outro.x\n",
    "\n",
    "class B:\n",
    "    def __init__(self, x, y):\n",
    "        self.x = x\n",
    "        self.y = y \n",
    "    def __eq__(self, outro):\n",
    "        return self.y == outro.y\n",
    "\n",
    "a = A(x=1, y=2)\n",
    "b = B(x=1, y=3)\n",
    "print(a==b, b==a)"
   ]
  },
  {
   "cell_type": "markdown",
   "metadata": {
    "id": "I2-Nl4ucU5wW"
   },
   "source": [
    "___\n",
    "___\n",
    "___"
   ]
  },
  {
   "cell_type": "code",
   "execution_count": 11,
   "metadata": {},
   "outputs": [
    {
     "name": "stdout",
     "output_type": "stream",
     "text": [
      "False False\n"
     ]
    }
   ],
   "source": [
    "class Tolerancia:\n",
    "    def __init__(self, x, tol_minima=3, tol_maxima=6):\n",
    "        self.x = x\n",
    "        self.tol_minima = tol_minima\n",
    "        self.tol_maxima = tol_maxima\n",
    "    def __eq__(self, outro):\n",
    "        return abs(self.x - outro.x) <= self.tol_minima\n",
    "    def __ne__(self, outro):\n",
    "        return abs(self.x - outro.x) >= self.tol_maxima\n",
    "a = Tolerancia(x=10)\n",
    "b = Tolerancia(x=15)\n",
    "print(a==b, a!=b)"
   ]
  },
  {
   "cell_type": "code",
   "execution_count": null,
   "metadata": {},
   "outputs": [],
   "source": []
  }
 ],
 "metadata": {
  "colab": {
   "provenance": []
  },
  "kernelspec": {
   "display_name": "Python 3 (ipykernel)",
   "language": "python",
   "name": "python3"
  },
  "language_info": {
   "codemirror_mode": {
    "name": "ipython",
    "version": 3
   },
   "file_extension": ".py",
   "mimetype": "text/x-python",
   "name": "python",
   "nbconvert_exporter": "python",
   "pygments_lexer": "ipython3",
   "version": "3.11.5"
  }
 },
 "nbformat": 4,
 "nbformat_minor": 1
}
